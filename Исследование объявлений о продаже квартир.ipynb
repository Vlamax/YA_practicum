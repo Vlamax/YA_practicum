{
 "cells": [
  {
   "cell_type": "markdown",
   "metadata": {},
   "source": [
    "# Исследование объявлений о продаже квартир\n",
    "\n",
    "В вашем распоряжении данные сервиса Яндекс.Недвижимость — архив объявлений о продаже квартир в Санкт-Петербурге и соседних населённых пунктов за несколько лет. Нужно научиться определять рыночную стоимость объектов недвижимости. Ваша задача — установить параметры. Это позволит построить автоматизированную систему: она отследит аномалии и мошенническую деятельность. \n",
    "\n",
    "По каждой квартире на продажу доступны два вида данных. Первые вписаны пользователем, вторые — получены автоматически на основе картографических данных. Например, расстояние до центра, аэропорта, ближайшего парка и водоёма. "
   ]
  },
  {
   "cell_type": "markdown",
   "metadata": {},
   "source": [
    "### Откройте файл с данными и изучите общую информацию. "
   ]
  },
  {
   "cell_type": "code",
   "execution_count": 2,
   "metadata": {},
   "outputs": [],
   "source": [
    "import pandas as pd\n",
    "import matplotlib.pyplot as plt\n",
    "import numpy as np\n",
    "import math\n"
   ]
  },
  {
   "cell_type": "code",
   "execution_count": 3,
   "metadata": {},
   "outputs": [
    {
     "data": {
      "text/html": [
       "<div>\n",
       "<style scoped>\n",
       "    .dataframe tbody tr th:only-of-type {\n",
       "        vertical-align: middle;\n",
       "    }\n",
       "\n",
       "    .dataframe tbody tr th {\n",
       "        vertical-align: top;\n",
       "    }\n",
       "\n",
       "    .dataframe thead th {\n",
       "        text-align: right;\n",
       "    }\n",
       "</style>\n",
       "<table border=\"1\" class=\"dataframe\">\n",
       "  <thead>\n",
       "    <tr style=\"text-align: right;\">\n",
       "      <th></th>\n",
       "      <th>total_images</th>\n",
       "      <th>last_price</th>\n",
       "      <th>total_area</th>\n",
       "      <th>first_day_exposition</th>\n",
       "      <th>rooms</th>\n",
       "      <th>ceiling_height</th>\n",
       "      <th>floors_total</th>\n",
       "      <th>living_area</th>\n",
       "      <th>floor</th>\n",
       "      <th>is_apartment</th>\n",
       "      <th>...</th>\n",
       "      <th>kitchen_area</th>\n",
       "      <th>balcony</th>\n",
       "      <th>locality_name</th>\n",
       "      <th>airports_nearest</th>\n",
       "      <th>cityCenters_nearest</th>\n",
       "      <th>parks_around3000</th>\n",
       "      <th>parks_nearest</th>\n",
       "      <th>ponds_around3000</th>\n",
       "      <th>ponds_nearest</th>\n",
       "      <th>days_exposition</th>\n",
       "    </tr>\n",
       "  </thead>\n",
       "  <tbody>\n",
       "    <tr>\n",
       "      <th>0</th>\n",
       "      <td>20</td>\n",
       "      <td>13000000.0</td>\n",
       "      <td>108.0</td>\n",
       "      <td>2019-03-07T00:00:00</td>\n",
       "      <td>3</td>\n",
       "      <td>2.70</td>\n",
       "      <td>16.0</td>\n",
       "      <td>51.0</td>\n",
       "      <td>8</td>\n",
       "      <td>NaN</td>\n",
       "      <td>...</td>\n",
       "      <td>25.0</td>\n",
       "      <td>NaN</td>\n",
       "      <td>Санкт-Петербург</td>\n",
       "      <td>18863.0</td>\n",
       "      <td>16028.0</td>\n",
       "      <td>1.0</td>\n",
       "      <td>482.0</td>\n",
       "      <td>2.0</td>\n",
       "      <td>755.0</td>\n",
       "      <td>NaN</td>\n",
       "    </tr>\n",
       "    <tr>\n",
       "      <th>1</th>\n",
       "      <td>7</td>\n",
       "      <td>3350000.0</td>\n",
       "      <td>40.4</td>\n",
       "      <td>2018-12-04T00:00:00</td>\n",
       "      <td>1</td>\n",
       "      <td>NaN</td>\n",
       "      <td>11.0</td>\n",
       "      <td>18.6</td>\n",
       "      <td>1</td>\n",
       "      <td>NaN</td>\n",
       "      <td>...</td>\n",
       "      <td>11.0</td>\n",
       "      <td>2.0</td>\n",
       "      <td>посёлок Шушары</td>\n",
       "      <td>12817.0</td>\n",
       "      <td>18603.0</td>\n",
       "      <td>0.0</td>\n",
       "      <td>NaN</td>\n",
       "      <td>0.0</td>\n",
       "      <td>NaN</td>\n",
       "      <td>81.0</td>\n",
       "    </tr>\n",
       "    <tr>\n",
       "      <th>2</th>\n",
       "      <td>10</td>\n",
       "      <td>5196000.0</td>\n",
       "      <td>56.0</td>\n",
       "      <td>2015-08-20T00:00:00</td>\n",
       "      <td>2</td>\n",
       "      <td>NaN</td>\n",
       "      <td>5.0</td>\n",
       "      <td>34.3</td>\n",
       "      <td>4</td>\n",
       "      <td>NaN</td>\n",
       "      <td>...</td>\n",
       "      <td>8.3</td>\n",
       "      <td>0.0</td>\n",
       "      <td>Санкт-Петербург</td>\n",
       "      <td>21741.0</td>\n",
       "      <td>13933.0</td>\n",
       "      <td>1.0</td>\n",
       "      <td>90.0</td>\n",
       "      <td>2.0</td>\n",
       "      <td>574.0</td>\n",
       "      <td>558.0</td>\n",
       "    </tr>\n",
       "    <tr>\n",
       "      <th>3</th>\n",
       "      <td>0</td>\n",
       "      <td>64900000.0</td>\n",
       "      <td>159.0</td>\n",
       "      <td>2015-07-24T00:00:00</td>\n",
       "      <td>3</td>\n",
       "      <td>NaN</td>\n",
       "      <td>14.0</td>\n",
       "      <td>NaN</td>\n",
       "      <td>9</td>\n",
       "      <td>NaN</td>\n",
       "      <td>...</td>\n",
       "      <td>NaN</td>\n",
       "      <td>0.0</td>\n",
       "      <td>Санкт-Петербург</td>\n",
       "      <td>28098.0</td>\n",
       "      <td>6800.0</td>\n",
       "      <td>2.0</td>\n",
       "      <td>84.0</td>\n",
       "      <td>3.0</td>\n",
       "      <td>234.0</td>\n",
       "      <td>424.0</td>\n",
       "    </tr>\n",
       "    <tr>\n",
       "      <th>4</th>\n",
       "      <td>2</td>\n",
       "      <td>10000000.0</td>\n",
       "      <td>100.0</td>\n",
       "      <td>2018-06-19T00:00:00</td>\n",
       "      <td>2</td>\n",
       "      <td>3.03</td>\n",
       "      <td>14.0</td>\n",
       "      <td>32.0</td>\n",
       "      <td>13</td>\n",
       "      <td>NaN</td>\n",
       "      <td>...</td>\n",
       "      <td>41.0</td>\n",
       "      <td>NaN</td>\n",
       "      <td>Санкт-Петербург</td>\n",
       "      <td>31856.0</td>\n",
       "      <td>8098.0</td>\n",
       "      <td>2.0</td>\n",
       "      <td>112.0</td>\n",
       "      <td>1.0</td>\n",
       "      <td>48.0</td>\n",
       "      <td>121.0</td>\n",
       "    </tr>\n",
       "  </tbody>\n",
       "</table>\n",
       "<p>5 rows × 22 columns</p>\n",
       "</div>"
      ],
      "text/plain": [
       "   total_images  last_price  total_area first_day_exposition  rooms  \\\n",
       "0            20  13000000.0       108.0  2019-03-07T00:00:00      3   \n",
       "1             7   3350000.0        40.4  2018-12-04T00:00:00      1   \n",
       "2            10   5196000.0        56.0  2015-08-20T00:00:00      2   \n",
       "3             0  64900000.0       159.0  2015-07-24T00:00:00      3   \n",
       "4             2  10000000.0       100.0  2018-06-19T00:00:00      2   \n",
       "\n",
       "   ceiling_height  floors_total  living_area  floor is_apartment  ...  \\\n",
       "0            2.70          16.0         51.0      8          NaN  ...   \n",
       "1             NaN          11.0         18.6      1          NaN  ...   \n",
       "2             NaN           5.0         34.3      4          NaN  ...   \n",
       "3             NaN          14.0          NaN      9          NaN  ...   \n",
       "4            3.03          14.0         32.0     13          NaN  ...   \n",
       "\n",
       "   kitchen_area  balcony    locality_name  airports_nearest  \\\n",
       "0          25.0      NaN  Санкт-Петербург           18863.0   \n",
       "1          11.0      2.0   посёлок Шушары           12817.0   \n",
       "2           8.3      0.0  Санкт-Петербург           21741.0   \n",
       "3           NaN      0.0  Санкт-Петербург           28098.0   \n",
       "4          41.0      NaN  Санкт-Петербург           31856.0   \n",
       "\n",
       "  cityCenters_nearest  parks_around3000  parks_nearest  ponds_around3000  \\\n",
       "0             16028.0               1.0          482.0               2.0   \n",
       "1             18603.0               0.0            NaN               0.0   \n",
       "2             13933.0               1.0           90.0               2.0   \n",
       "3              6800.0               2.0           84.0               3.0   \n",
       "4              8098.0               2.0          112.0               1.0   \n",
       "\n",
       "   ponds_nearest  days_exposition  \n",
       "0          755.0              NaN  \n",
       "1            NaN             81.0  \n",
       "2          574.0            558.0  \n",
       "3          234.0            424.0  \n",
       "4           48.0            121.0  \n",
       "\n",
       "[5 rows x 22 columns]"
      ]
     },
     "metadata": {},
     "output_type": "display_data"
    }
   ],
   "source": [
    "try: \n",
    "    data = pd.read_csv('/datasets/real_estate_data.csv', sep='\\t')\n",
    "    display(data.head()) #просмотр первых строк таблицы\n",
    "except ConnectionError: \n",
    "    print('Try again later please')"
   ]
  },
  {
   "cell_type": "markdown",
   "metadata": {},
   "source": [
    "### Предобработка данных"
   ]
  },
  {
   "cell_type": "code",
   "execution_count": 4,
   "metadata": {},
   "outputs": [
    {
     "name": "stdout",
     "output_type": "stream",
     "text": [
      "<class 'pandas.core.frame.DataFrame'>\n",
      "RangeIndex: 23699 entries, 0 to 23698\n",
      "Data columns (total 22 columns):\n",
      " #   Column                Non-Null Count  Dtype  \n",
      "---  ------                --------------  -----  \n",
      " 0   total_images          23699 non-null  int64  \n",
      " 1   last_price            23699 non-null  float64\n",
      " 2   total_area            23699 non-null  float64\n",
      " 3   first_day_exposition  23699 non-null  object \n",
      " 4   rooms                 23699 non-null  int64  \n",
      " 5   ceiling_height        14504 non-null  float64\n",
      " 6   floors_total          23613 non-null  float64\n",
      " 7   living_area           21796 non-null  float64\n",
      " 8   floor                 23699 non-null  int64  \n",
      " 9   is_apartment          2775 non-null   object \n",
      " 10  studio                23699 non-null  bool   \n",
      " 11  open_plan             23699 non-null  bool   \n",
      " 12  kitchen_area          21421 non-null  float64\n",
      " 13  balcony               12180 non-null  float64\n",
      " 14  locality_name         23650 non-null  object \n",
      " 15  airports_nearest      18157 non-null  float64\n",
      " 16  cityCenters_nearest   18180 non-null  float64\n",
      " 17  parks_around3000      18181 non-null  float64\n",
      " 18  parks_nearest         8079 non-null   float64\n",
      " 19  ponds_around3000      18181 non-null  float64\n",
      " 20  ponds_nearest         9110 non-null   float64\n",
      " 21  days_exposition       20518 non-null  float64\n",
      "dtypes: bool(2), float64(14), int64(3), object(3)\n",
      "memory usage: 3.7+ MB\n"
     ]
    }
   ],
   "source": [
    "data.info()"
   ]
  },
  {
   "cell_type": "code",
   "execution_count": 5,
   "metadata": {},
   "outputs": [
    {
     "data": {
      "text/html": [
       "<div>\n",
       "<style scoped>\n",
       "    .dataframe tbody tr th:only-of-type {\n",
       "        vertical-align: middle;\n",
       "    }\n",
       "\n",
       "    .dataframe tbody tr th {\n",
       "        vertical-align: top;\n",
       "    }\n",
       "\n",
       "    .dataframe thead th {\n",
       "        text-align: right;\n",
       "    }\n",
       "</style>\n",
       "<table border=\"1\" class=\"dataframe\">\n",
       "  <thead>\n",
       "    <tr style=\"text-align: right;\">\n",
       "      <th></th>\n",
       "      <th>total_images</th>\n",
       "      <th>last_price</th>\n",
       "      <th>total_area</th>\n",
       "      <th>rooms</th>\n",
       "      <th>ceiling_height</th>\n",
       "      <th>floors_total</th>\n",
       "      <th>living_area</th>\n",
       "      <th>floor</th>\n",
       "      <th>kitchen_area</th>\n",
       "      <th>balcony</th>\n",
       "      <th>airports_nearest</th>\n",
       "      <th>cityCenters_nearest</th>\n",
       "      <th>parks_around3000</th>\n",
       "      <th>parks_nearest</th>\n",
       "      <th>ponds_around3000</th>\n",
       "      <th>ponds_nearest</th>\n",
       "      <th>days_exposition</th>\n",
       "    </tr>\n",
       "  </thead>\n",
       "  <tbody>\n",
       "    <tr>\n",
       "      <th>count</th>\n",
       "      <td>23699.000000</td>\n",
       "      <td>2.369900e+04</td>\n",
       "      <td>23699.000000</td>\n",
       "      <td>23699.000000</td>\n",
       "      <td>14504.000000</td>\n",
       "      <td>23613.000000</td>\n",
       "      <td>21796.000000</td>\n",
       "      <td>23699.000000</td>\n",
       "      <td>21421.000000</td>\n",
       "      <td>12180.000000</td>\n",
       "      <td>18157.000000</td>\n",
       "      <td>18180.000000</td>\n",
       "      <td>18181.000000</td>\n",
       "      <td>8079.000000</td>\n",
       "      <td>18181.000000</td>\n",
       "      <td>9110.000000</td>\n",
       "      <td>20518.000000</td>\n",
       "    </tr>\n",
       "    <tr>\n",
       "      <th>mean</th>\n",
       "      <td>9.858475</td>\n",
       "      <td>6.541549e+06</td>\n",
       "      <td>60.348651</td>\n",
       "      <td>2.070636</td>\n",
       "      <td>2.771499</td>\n",
       "      <td>10.673824</td>\n",
       "      <td>34.457852</td>\n",
       "      <td>5.892358</td>\n",
       "      <td>10.569807</td>\n",
       "      <td>1.150082</td>\n",
       "      <td>28793.672193</td>\n",
       "      <td>14191.277833</td>\n",
       "      <td>0.611408</td>\n",
       "      <td>490.804555</td>\n",
       "      <td>0.770255</td>\n",
       "      <td>517.980900</td>\n",
       "      <td>180.888634</td>\n",
       "    </tr>\n",
       "    <tr>\n",
       "      <th>std</th>\n",
       "      <td>5.682529</td>\n",
       "      <td>1.088701e+07</td>\n",
       "      <td>35.654083</td>\n",
       "      <td>1.078405</td>\n",
       "      <td>1.261056</td>\n",
       "      <td>6.597173</td>\n",
       "      <td>22.030445</td>\n",
       "      <td>4.885249</td>\n",
       "      <td>5.905438</td>\n",
       "      <td>1.071300</td>\n",
       "      <td>12630.880622</td>\n",
       "      <td>8608.386210</td>\n",
       "      <td>0.802074</td>\n",
       "      <td>342.317995</td>\n",
       "      <td>0.938346</td>\n",
       "      <td>277.720643</td>\n",
       "      <td>219.727988</td>\n",
       "    </tr>\n",
       "    <tr>\n",
       "      <th>min</th>\n",
       "      <td>0.000000</td>\n",
       "      <td>1.219000e+04</td>\n",
       "      <td>12.000000</td>\n",
       "      <td>0.000000</td>\n",
       "      <td>1.000000</td>\n",
       "      <td>1.000000</td>\n",
       "      <td>2.000000</td>\n",
       "      <td>1.000000</td>\n",
       "      <td>1.300000</td>\n",
       "      <td>0.000000</td>\n",
       "      <td>0.000000</td>\n",
       "      <td>181.000000</td>\n",
       "      <td>0.000000</td>\n",
       "      <td>1.000000</td>\n",
       "      <td>0.000000</td>\n",
       "      <td>13.000000</td>\n",
       "      <td>1.000000</td>\n",
       "    </tr>\n",
       "    <tr>\n",
       "      <th>25%</th>\n",
       "      <td>6.000000</td>\n",
       "      <td>3.400000e+06</td>\n",
       "      <td>40.000000</td>\n",
       "      <td>1.000000</td>\n",
       "      <td>2.520000</td>\n",
       "      <td>5.000000</td>\n",
       "      <td>18.600000</td>\n",
       "      <td>2.000000</td>\n",
       "      <td>7.000000</td>\n",
       "      <td>0.000000</td>\n",
       "      <td>18585.000000</td>\n",
       "      <td>9238.000000</td>\n",
       "      <td>0.000000</td>\n",
       "      <td>288.000000</td>\n",
       "      <td>0.000000</td>\n",
       "      <td>294.000000</td>\n",
       "      <td>45.000000</td>\n",
       "    </tr>\n",
       "    <tr>\n",
       "      <th>50%</th>\n",
       "      <td>9.000000</td>\n",
       "      <td>4.650000e+06</td>\n",
       "      <td>52.000000</td>\n",
       "      <td>2.000000</td>\n",
       "      <td>2.650000</td>\n",
       "      <td>9.000000</td>\n",
       "      <td>30.000000</td>\n",
       "      <td>4.000000</td>\n",
       "      <td>9.100000</td>\n",
       "      <td>1.000000</td>\n",
       "      <td>26726.000000</td>\n",
       "      <td>13098.500000</td>\n",
       "      <td>0.000000</td>\n",
       "      <td>455.000000</td>\n",
       "      <td>1.000000</td>\n",
       "      <td>502.000000</td>\n",
       "      <td>95.000000</td>\n",
       "    </tr>\n",
       "    <tr>\n",
       "      <th>75%</th>\n",
       "      <td>14.000000</td>\n",
       "      <td>6.800000e+06</td>\n",
       "      <td>69.900000</td>\n",
       "      <td>3.000000</td>\n",
       "      <td>2.800000</td>\n",
       "      <td>16.000000</td>\n",
       "      <td>42.300000</td>\n",
       "      <td>8.000000</td>\n",
       "      <td>12.000000</td>\n",
       "      <td>2.000000</td>\n",
       "      <td>37273.000000</td>\n",
       "      <td>16293.000000</td>\n",
       "      <td>1.000000</td>\n",
       "      <td>612.000000</td>\n",
       "      <td>1.000000</td>\n",
       "      <td>729.000000</td>\n",
       "      <td>232.000000</td>\n",
       "    </tr>\n",
       "    <tr>\n",
       "      <th>max</th>\n",
       "      <td>50.000000</td>\n",
       "      <td>7.630000e+08</td>\n",
       "      <td>900.000000</td>\n",
       "      <td>19.000000</td>\n",
       "      <td>100.000000</td>\n",
       "      <td>60.000000</td>\n",
       "      <td>409.700000</td>\n",
       "      <td>33.000000</td>\n",
       "      <td>112.000000</td>\n",
       "      <td>5.000000</td>\n",
       "      <td>84869.000000</td>\n",
       "      <td>65968.000000</td>\n",
       "      <td>3.000000</td>\n",
       "      <td>3190.000000</td>\n",
       "      <td>3.000000</td>\n",
       "      <td>1344.000000</td>\n",
       "      <td>1580.000000</td>\n",
       "    </tr>\n",
       "  </tbody>\n",
       "</table>\n",
       "</div>"
      ],
      "text/plain": [
       "       total_images    last_price    total_area         rooms  ceiling_height  \\\n",
       "count  23699.000000  2.369900e+04  23699.000000  23699.000000    14504.000000   \n",
       "mean       9.858475  6.541549e+06     60.348651      2.070636        2.771499   \n",
       "std        5.682529  1.088701e+07     35.654083      1.078405        1.261056   \n",
       "min        0.000000  1.219000e+04     12.000000      0.000000        1.000000   \n",
       "25%        6.000000  3.400000e+06     40.000000      1.000000        2.520000   \n",
       "50%        9.000000  4.650000e+06     52.000000      2.000000        2.650000   \n",
       "75%       14.000000  6.800000e+06     69.900000      3.000000        2.800000   \n",
       "max       50.000000  7.630000e+08    900.000000     19.000000      100.000000   \n",
       "\n",
       "       floors_total   living_area         floor  kitchen_area       balcony  \\\n",
       "count  23613.000000  21796.000000  23699.000000  21421.000000  12180.000000   \n",
       "mean      10.673824     34.457852      5.892358     10.569807      1.150082   \n",
       "std        6.597173     22.030445      4.885249      5.905438      1.071300   \n",
       "min        1.000000      2.000000      1.000000      1.300000      0.000000   \n",
       "25%        5.000000     18.600000      2.000000      7.000000      0.000000   \n",
       "50%        9.000000     30.000000      4.000000      9.100000      1.000000   \n",
       "75%       16.000000     42.300000      8.000000     12.000000      2.000000   \n",
       "max       60.000000    409.700000     33.000000    112.000000      5.000000   \n",
       "\n",
       "       airports_nearest  cityCenters_nearest  parks_around3000  parks_nearest  \\\n",
       "count      18157.000000         18180.000000      18181.000000    8079.000000   \n",
       "mean       28793.672193         14191.277833          0.611408     490.804555   \n",
       "std        12630.880622          8608.386210          0.802074     342.317995   \n",
       "min            0.000000           181.000000          0.000000       1.000000   \n",
       "25%        18585.000000          9238.000000          0.000000     288.000000   \n",
       "50%        26726.000000         13098.500000          0.000000     455.000000   \n",
       "75%        37273.000000         16293.000000          1.000000     612.000000   \n",
       "max        84869.000000         65968.000000          3.000000    3190.000000   \n",
       "\n",
       "       ponds_around3000  ponds_nearest  days_exposition  \n",
       "count      18181.000000    9110.000000     20518.000000  \n",
       "mean           0.770255     517.980900       180.888634  \n",
       "std            0.938346     277.720643       219.727988  \n",
       "min            0.000000      13.000000         1.000000  \n",
       "25%            0.000000     294.000000        45.000000  \n",
       "50%            1.000000     502.000000        95.000000  \n",
       "75%            1.000000     729.000000       232.000000  \n",
       "max            3.000000    1344.000000      1580.000000  "
      ]
     },
     "execution_count": 5,
     "metadata": {},
     "output_type": "execute_result"
    }
   ],
   "source": [
    "data.describe()"
   ]
  },
  {
   "cell_type": "code",
   "execution_count": 6,
   "metadata": {},
   "outputs": [
    {
     "data": {
      "image/png": "[encoded data removed]",
      "text/plain": [
       "<Figure size 1080x1440 with 20 Axes>"
      ]
     },
     "metadata": {
      "needs_background": "light"
     },
     "output_type": "display_data"
    }
   ],
   "source": [
    "#Построим общую гистограмму для всех числовых столбцов таблицы\n",
    "data.hist(figsize=(15, 20))\n",
    "plt.show()"
   ]
  },
  {
   "cell_type": "code",
   "execution_count": 7,
   "metadata": {},
   "outputs": [],
   "source": [
    "#Переименуем столбец для лучшей читабельности и по стандартам\n",
    "data.rename(columns={'cityCenters_nearest' : 'city_centers_nearest'}, inplace=True)"
   ]
  },
  {
   "cell_type": "markdown",
   "metadata": {},
   "source": [
    "После просмотра полученных данных можно выделить следующее:\n",
    "\n",
    "- Всего в файле содержится - 23 669 строк.\n",
    "- В данных столбцах отсутствуют какие-либо пропуски: total_images, last_price, total_area, rooms, floor, studio, open_plan, living_area.\n",
    "- Столбцы floors_total и locality_name заполнены информацией на более 98% строк, в последствии можно будет удалить малозначимые строки.\n",
    "- В столбце balcony  пропусков - 12 180, предположительно в квартирах балконы отсутствуют и эти пропуски можно олбозначить нулем.\n"
   ]
  },
  {
   "cell_type": "code",
   "execution_count": 8,
   "metadata": {},
   "outputs": [
    {
     "name": "stdout",
     "output_type": "stream",
     "text": [
      "0\n"
     ]
    }
   ],
   "source": [
    "#проверяем датасет на наличие дубликатов\n",
    "print(data.duplicated().sum())\n"
   ]
  },
  {
   "cell_type": "code",
   "execution_count": 9,
   "metadata": {},
   "outputs": [],
   "source": [
    "#также нужно преобразовать нули в балконах к целочисленным значениям, так как python их запишет по умолчанию в вещественные\n",
    "data['balcony'] = data['balcony'].fillna(0).astype(int)"
   ]
  },
  {
   "cell_type": "markdown",
   "metadata": {},
   "source": [
    "    В столбце \"floors_total\" из 23 699 строк заполнено 23 613, не заполнено – 86. Максимальный этаж – 60, количество квартир с этажностью более 30 этажей – 32. Удалить нужно 86, в которых не было заполнено количество этажей."
   ]
  },
  {
   "cell_type": "code",
   "execution_count": 10,
   "metadata": {},
   "outputs": [],
   "source": [
    "data=data.dropna(subset=['floors_total'])"
   ]
  },
  {
   "cell_type": "markdown",
   "metadata": {},
   "source": [
    "    В столбце \"ceiling_height\" из 23 699 строк заполнено 14 504. Кол-во квартир с высотой потолка более чем 10 м. – 25, предположительно это ошибки, так как особой роли они не играют - не будем их трогать, но в данных есть строка “ nan”, которую нужно удалить.\n",
    "    Пропуски в столбце \"ceiling_height\" можно заменить на медианы значений высот потолков по каждому этажу. Для этого можно написать цикл. "
   ]
  },
  {
   "cell_type": "code",
   "execution_count": 11,
   "metadata": {},
   "outputs": [
    {
     "name": "stdout",
     "output_type": "stream",
     "text": [
      "[  2.7     nan   3.03   2.5    2.67   2.56   3.05   2.75   2.6    2.9\n",
      "   2.8    2.55   3.     2.65   3.2    2.61   3.25   3.45   2.77   2.85\n",
      "   2.64   2.57   4.15   3.5    3.3    2.71   4.     2.47   2.73   2.84\n",
      "   3.1    2.34   3.4    3.06   2.72   2.54   2.51   2.78   2.76  25.\n",
      "   2.58   3.7    2.52   5.2    2.87   2.66   2.59   2.     2.45   3.6\n",
      "   2.92   3.11   3.13   3.8    3.15   3.55   3.16   3.62   3.12   2.53\n",
      "   2.74   2.96   2.46   5.3    5.     2.79   2.95   4.06   2.94   3.82\n",
      "   3.54   3.53   2.83   4.7    2.4    3.38   3.01   5.6    3.65   3.9\n",
      "   3.18   3.35   2.3    3.57   2.48   2.62   2.82   3.98   2.63   3.83\n",
      "   3.52   3.95   3.75   2.88   3.67   3.87   3.66   3.85   3.86   4.19\n",
      "   3.24   4.8    4.5    4.2    3.36  32.     3.08   3.68   3.07   3.37\n",
      "   3.09   8.     3.26   3.34   2.81   3.44   2.97   3.14   4.37   2.68\n",
      "   3.22   3.27  27.     4.1    2.93   3.46  24.     3.47   3.33   3.63\n",
      "   3.32  26.     1.2    8.3    2.98   2.86   3.17   4.4    3.28   3.04\n",
      "   4.45   5.5    3.84   3.23   3.02   3.21   3.43   3.78   4.3    3.39\n",
      "   2.69   3.31   4.65   3.56   2.2    3.51   3.93   3.42   2.99   3.49\n",
      "  14.     4.14   2.91   3.88   1.75   4.25   3.29  20.     2.25   3.76\n",
      "   3.69   6.    22.6    2.89   3.58   5.8   27.5    2.49   4.9    3.48\n",
      "  10.3    1.   100.     3.59]\n"
     ]
    }
   ],
   "source": [
    "print(data['ceiling_height'].unique())"
   ]
  },
  {
   "cell_type": "code",
   "execution_count": 12,
   "metadata": {},
   "outputs": [
    {
     "name": "stdout",
     "output_type": "stream",
     "text": [
      "0\n",
      "<class 'pandas.core.frame.DataFrame'>\n",
      "Int64Index: 23586 entries, 0 to 23698\n",
      "Data columns (total 22 columns):\n",
      " #   Column                Non-Null Count  Dtype  \n",
      "---  ------                --------------  -----  \n",
      " 0   total_images          23586 non-null  int64  \n",
      " 1   last_price            23586 non-null  float64\n",
      " 2   total_area            23586 non-null  float64\n",
      " 3   first_day_exposition  23586 non-null  object \n",
      " 4   rooms                 23586 non-null  int64  \n",
      " 5   ceiling_height        23586 non-null  float64\n",
      " 6   floors_total          23586 non-null  float64\n",
      " 7   living_area           21716 non-null  float64\n",
      " 8   floor                 23586 non-null  int64  \n",
      " 9   is_apartment          2762 non-null   object \n",
      " 10  studio                23586 non-null  bool   \n",
      " 11  open_plan             23586 non-null  bool   \n",
      " 12  kitchen_area          21360 non-null  float64\n",
      " 13  balcony               23586 non-null  int64  \n",
      " 14  locality_name         23538 non-null  object \n",
      " 15  airports_nearest      18063 non-null  float64\n",
      " 16  city_centers_nearest  18086 non-null  float64\n",
      " 17  parks_around3000      18087 non-null  float64\n",
      " 18  parks_nearest         8037 non-null   float64\n",
      " 19  ponds_around3000      18087 non-null  float64\n",
      " 20  ponds_nearest         9051 non-null   float64\n",
      " 21  days_exposition       20420 non-null  float64\n",
      "dtypes: bool(2), float64(13), int64(4), object(3)\n",
      "memory usage: 3.8+ MB\n"
     ]
    },
    {
     "data": {
      "text/plain": [
       "array([2.7 , 2.75, 2.55, 2.6 , 3.03, 2.65, 2.66, 2.5 , 2.67, 2.56, 3.  ,\n",
       "       3.05, 2.8 , 2.9 , 3.2 , 2.61, 3.25, 3.45, 2.77, 2.85, 2.64, 2.57,\n",
       "       4.15, 3.5 , 3.3 , 2.71, 4.  , 2.47, 2.73, 2.84, 3.1 , 2.34, 3.4 ,\n",
       "       3.06, 2.72, 2.54, 2.51, 2.78, 2.76, 2.58, 3.7 , 2.52, 5.2 , 2.87,\n",
       "       2.59, 2.  , 2.45, 3.6 , 2.92, 3.11, 3.13, 3.8 , 3.15, 3.55, 3.16,\n",
       "       3.62, 3.12, 2.53, 2.74, 2.96, 2.46, 5.3 , 5.  , 2.79, 2.95, 4.06,\n",
       "       2.94, 3.82, 3.54, 3.53, 2.83, 4.7 , 2.4 , 3.38, 3.01, 5.6 , 3.65,\n",
       "       3.9 , 3.18, 3.35, 2.3 , 3.57, 2.48, 2.62, 2.82, 3.98, 2.63, 3.83,\n",
       "       3.52, 3.95, 3.75, 2.88, 3.67, 3.87, 3.66, 3.85, 3.86, 4.19, 3.24,\n",
       "       4.8 , 4.5 , 4.2 , 3.36, 3.08, 3.68, 3.07, 3.37, 3.09, 8.  , 3.26,\n",
       "       3.34, 2.81, 3.44, 2.97, 3.14, 4.37, 2.68, 3.22, 3.27, 4.1 , 2.93,\n",
       "       3.46, 3.47, 3.33, 3.63, 3.32, 1.2 , 8.3 , 2.98, 2.86, 3.17, 4.4 ,\n",
       "       3.28, 3.04, 4.45, 5.5 , 3.84, 3.23, 3.02, 3.21, 3.43, 3.78, 4.3 ,\n",
       "       3.39, 2.69, 3.31, 4.65, 3.56, 2.2 , 3.51, 3.93, 3.42, 2.99, 3.49,\n",
       "       4.14, 2.91, 3.88, 1.75, 4.25, 3.29, 2.25, 3.76, 3.69, 6.  , 2.89,\n",
       "       3.58, 5.8 , 2.49, 4.9 , 3.48, 1.  , 3.59])"
      ]
     },
     "metadata": {},
     "output_type": "display_data"
    }
   ],
   "source": [
    "med_replace = data.groupby('floors_total')['ceiling_height'].median()\n",
    "for floor in data['floors_total'].unique():\n",
    "    data.loc[(data['floors_total'] == floor) & (data['ceiling_height'].isna()), 'ceiling_height'] = med_replace[floor]\n",
    "\n",
    "#Также нужно исключить строки с высотой потолков более 10 м,чтобы не было ошибок\n",
    "data.loc[data['ceiling_height'] > 10,'ceiling_height'] = None\n",
    "data = data.dropna(subset=['ceiling_height'])\n",
    "print(data['ceiling_height'][data['ceiling_height'] > 10].count())\n",
    "data.info()\n",
    "display(data['ceiling_height'].unique())"
   ]
  },
  {
   "cell_type": "markdown",
   "metadata": {},
   "source": [
    "Пропуски в столбце \"kitchen_area\" нужно заменить на медианы значений площади кухни по каждому значению кол-ва комнат столбца \"rooms\". Для пишется цикл, перебирающий уникальные значения столбца 'rooms' и в случае пропуска в столбце 'kitchen_area', заменит на медианное значение площади кухни."
   ]
  },
  {
   "cell_type": "code",
   "execution_count": 13,
   "metadata": {},
   "outputs": [
    {
     "data": {
      "text/plain": [
       "9.00     1908\n",
       "6.00     1300\n",
       "10.00    1261\n",
       "8.00     1108\n",
       "7.00     1060\n",
       "         ... \n",
       "7.78        1\n",
       "7.12        1\n",
       "13.73       1\n",
       "14.74       1\n",
       "16.74       1\n",
       "Name: kitchen_area, Length: 967, dtype: int64"
      ]
     },
     "metadata": {},
     "output_type": "display_data"
    },
    {
     "data": {
      "text/plain": [
       "array([ 25.  ,  11.  ,   8.3 ,   9.5 ,  41.  ,   9.1 ,  14.4 ,  18.9 ,\n",
       "         8.81,   6.5 ,   8.5 ,   6.  ,   9.  ,   5.2 ,   8.  ,   7.6 ,\n",
       "         5.6 ,  12.  ,   5.7 ,   6.1 ,  19.6 ,  15.  ,   7.  ,   9.2 ,\n",
       "        11.7 ,  13.4 ,  17.  ,   6.3 ,   8.7 ,  11.6 ,   8.8 ,  10.  ,\n",
       "        17.6 ,   7.5 ,  50.  ,  15.5 ,  10.7 ,  11.1 ,  20.  ,  11.9 ,\n",
       "        16.  ,   5.3 ,  11.5 ,   7.2 ,   6.2 ,  10.4 ,   7.1 ,   4.9 ,\n",
       "         7.3 ,  11.95,  10.2 ,   6.4 ,   5.5 ,  13.  ,   8.4 ,  23.6 ,\n",
       "        10.8 ,  18.3 ,   5.  ,   8.2 ,  24.  ,  23.8 ,   6.6 ,  26.85,\n",
       "        15.4 ,   7.8 ,  33.8 ,   5.4 ,  12.72,  12.2 ,  19.  ,  12.4 ,\n",
       "         7.9 ,  10.3 ,   9.8 ,  17.5 ,  14.7 ,  20.91,  21.3 ,  10.6 ,\n",
       "        10.9 ,   9.7 ,   7.7 ,  12.5 ,  11.4 ,   8.6 ,  11.24,  14.1 ,\n",
       "        15.7 ,  13.29,  14.  ,  12.9 ,  12.7 ,  16.5 ,   9.36,  21.5 ,\n",
       "        35.  ,  10.5 ,  19.3 ,  21.4 ,  40.  ,  49.2 ,  11.52,   8.9 ,\n",
       "         9.6 ,  30.  ,  14.2 ,   8.1 ,  10.44,   4.5 ,  16.3 ,  11.2 ,\n",
       "        18.4 ,   7.4 ,  11.3 ,   9.4 ,  13.1 ,  10.19,   7.06,  22.  ,\n",
       "        36.  ,   5.1 ,   9.9 ,  14.3 ,  18.  ,  23.  ,  19.4 ,  11.8 ,\n",
       "        13.3 ,  17.7 ,  23.1 ,  21.1 ,  11.33,  13.5 ,  19.5 ,  13.2 ,\n",
       "        17.2 ,  77.  ,  13.8 ,  12.3 ,   9.3 ,   5.8 ,  26.1 ,  12.88,\n",
       "         9.28,  16.1 ,  14.5 ,  31.  ,   5.9 ,  10.1 ,  23.4 ,  16.2 ,\n",
       "        19.2 ,  28.6 ,  15.1 ,  26.4 ,   8.98,  10.59,  17.9 ,  11.27,\n",
       "        16.74,   9.57,  23.43,  15.2 ,   8.07,  12.24,  13.39,  36.6 ,\n",
       "        10.84,  15.3 ,  18.5 ,  23.9 ,  19.7 ,  19.9 ,  22.1 ,  10.35,\n",
       "        10.69,  16.9 ,   5.49,  31.2 ,   6.8 ,   8.29,   6.7 ,  13.6 ,\n",
       "        16.6 ,  10.75,  18.8 ,  17.8 ,   2.  ,   6.77,  11.06,  12.6 ,\n",
       "         7.71,  27.  ,  11.35,  13.31,  63.  ,  21.  ,  20.6 ,  11.78,\n",
       "        20.5 ,  13.79,  20.52,   5.75,  66.  ,  18.78,  23.5 ,  24.3 ,\n",
       "         6.9 ,  14.8 ,   8.87,  14.9 ,   8.71,   9.95,  17.53,  42.6 ,\n",
       "        25.2 ,   8.31,   9.67,  16.7 ,  14.61,  32.  ,  22.4 ,  16.4 ,\n",
       "         6.36,  17.1 ,  13.14,  18.2 ,   9.18,  13.7 ,  15.61,  22.31,\n",
       "         9.45,  29.  ,  14.49,   5.35,  29.9 ,  25.1 ,   8.08,  13.11,\n",
       "         6.25,  26.  ,  35.35,  12.8 ,  30.2 ,  10.09,  46.  ,  32.1 ,\n",
       "        11.29,  14.56,  11.11,  11.49,  13.67,  16.72,  24.5 ,  11.14,\n",
       "        20.9 ,  11.05,   4.  ,  14.84,   8.21,  12.18,  25.34,   9.25,\n",
       "         8.65,  13.9 ,  13.53,  15.09,   9.39,  18.6 ,  15.9 ,  24.7 ,\n",
       "        12.35,  20.8 ,  27.4 ,   7.17,   3.  ,   8.23,  24.03,   9.17,\n",
       "        43.  ,  10.45,  11.39,  19.92,  20.2 ,  10.72,  20.07,  11.81,\n",
       "        18.45,  10.51,  39.  ,  10.91,   6.73,  11.85,  37.8 ,   4.8 ,\n",
       "       100.7 ,  21.6 ,   5.78,  12.1 ,  11.28,   9.97,  10.68,  21.2 ,\n",
       "        10.56,   9.68,   8.25,   4.7 ,  17.4 ,  19.75,  10.02,  40.2 ,\n",
       "        11.62,  14.6 ,  11.71,  13.69,  18.1 ,  22.22,  17.3 ,   6.35,\n",
       "        23.3 ,  10.88,   6.76,  16.8 ,  28.  ,  10.29,  11.63,  25.6 ,\n",
       "        19.1 ,  15.6 ,  21.87,   3.2 ,  12.27,  10.39,  10.89,  60.  ,\n",
       "        11.53,   5.68,  10.55,  33.  ,   3.8 ,  36.2 ,   9.22,   5.62,\n",
       "        38.  ,  21.9 ,  12.17,  19.8 ,  37.  ,   4.2 ,  21.7 ,  12.38,\n",
       "        11.46,   7.89,  31.7 ,  24.4 ,  14.57,  30.9 ,  10.15,  12.05,\n",
       "         9.27,  15.33,   6.58,   9.93,  35.05,  25.3 ,  28.8 ,  13.05,\n",
       "        18.7 ,  29.4 ,  36.5 ,   7.92,  15.8 ,  15.69,  42.  ,   7.85,\n",
       "        13.16,  12.86,  48.  ,  30.5 ,  29.3 ,  45.  ,   9.32,  44.  ,\n",
       "         5.74,  11.26,  13.38,  14.31,  26.6 ,   6.55,  10.52,   6.72,\n",
       "        13.02,  11.17,  56.2 ,  12.52,  28.2 ,  12.29,  11.59,   8.38,\n",
       "         5.47,  10.18,  10.64,  18.88,   9.89,  36.3 ,  12.92,  23.53,\n",
       "        37.7 ,  10.36,  14.05,   9.04,  10.78,  14.24,  13.42,  32.8 ,\n",
       "        20.16,  10.12,   7.12,  17.64,  23.25,  11.41,  11.42,  40.4 ,\n",
       "        31.47,  13.55,  13.28,  14.55,   9.38,   8.32,  11.55,  13.81,\n",
       "        24.1 ,  11.51,   7.65,   9.91,  16.83,  11.34, 100.  ,  11.16,\n",
       "        18.34,  34.19,   6.02,  18.07,  20.1 ,  12.08,   7.18,   8.11,\n",
       "         8.05,   8.06,  12.96,  42.4 ,   8.93,  44.9 ,  10.62,   9.72,\n",
       "        22.5 ,  11.18,  10.22,  51.  ,  21.8 ,  10.94,  13.49,  31.73,\n",
       "        70.  ,  25.7 ,   5.86,   7.63,  11.47,  13.25,  22.2 ,  19.35,\n",
       "        17.28,  14.04,  39.9 ,  21.76,   4.3 ,  10.06,   8.19,  28.4 ,\n",
       "        22.7 ,  14.74,  11.12,  25.11,  14.02,  13.06,   8.01,  20.38,\n",
       "         5.53,  46.8 ,  11.31,  17.85,  20.7 ,  34.78,   9.46,   6.31,\n",
       "        42.5 ,   9.48,  43.4 ,  11.57,  12.44,  14.46,  12.58,  12.47,\n",
       "         7.95,  16.32,  15.26,  12.23,  11.37,  27.9 ,   8.58,  19.51,\n",
       "        12.39,   9.65,   9.05,   6.84,  20.3 ,  26.5 ,  63.4 ,  41.9 ,\n",
       "         6.82,  11.36,  10.08,  10.54,   9.16,  14.95,  12.84,  22.9 ,\n",
       "         8.76,  10.03,   9.35,   7.87,   2.89,  45.5 ,   7.36,  24.9 ,\n",
       "         9.59,   7.97,   9.85,  33.9 ,  42.8 ,   7.86,   5.25,  10.26,\n",
       "         5.33,  12.85,   9.51,  58.4 ,  10.34,  23.71,  19.42,   6.83,\n",
       "        11.92,  13.17,  11.84,  12.56,  53.1 ,  20.56,  41.3 ,   9.01,\n",
       "         8.73,   5.82,   3.7 ,   2.4 ,  31.8 ,  42.7 ,  40.5 ,  12.02,\n",
       "         8.57,  12.76,   8.66,  11.04,  40.3 ,  15.83,  18.59,   9.37,\n",
       "        23.38,  10.42,  13.93,   7.54,  23.42,  13.64,   5.61,  19.45,\n",
       "        17.59,  29.1 ,   5.65,  15.42,  11.09,  11.73,  15.72,  25.4 ,\n",
       "        10.25,  10.38,  13.41,   5.23,   9.09,  11.45,  11.74,  14.64,\n",
       "        12.14,   8.84,  16.66,  10.27,  12.55,  32.55,  16.26,   6.62,\n",
       "        10.33,  13.26,  32.3 ,  23.2 ,  14.14,   9.62,  34.  ,  10.92,\n",
       "        10.58,  22.8 ,  15.85,   7.78,   8.94,   9.82,  34.7 ,   8.45,\n",
       "        15.62,  22.3 ,  14.17,  15.39,  56.  ,   8.43,  87.2 ,  12.66,\n",
       "         8.35,   8.47,  22.72,   9.52,  28.1 ,  14.97,   4.6 ,   5.29,\n",
       "        10.49,  15.07,  20.31,  23.28,   8.54,  30.59,  27.57,   9.71,\n",
       "        28.63,   9.98,  37.9 ,   6.91,  25.9 ,  47.  ,  51.8 ,  14.27,\n",
       "        40.7 ,  19.61,   9.44,  27.76,  25.86,  36.4 ,  15.78,  10.05,\n",
       "        26.2 ,  10.32,  19.39,   9.77,  29.5 ,  13.73,  10.71,  10.73,\n",
       "         3.5 ,  13.84,   6.19,  28.5 ,  16.25,  13.47,   4.4 ,  43.2 ,\n",
       "        27.5 ,  11.67,  44.7 ,  12.57,  16.27,   6.28,  12.01,  37.6 ,\n",
       "        13.35,   3.4 ,   8.61,   8.96,  34.8 ,  27.3 ,  10.24,   8.15,\n",
       "        35.5 ,   4.1 ,  10.43,  16.46,   7.19,  62.  ,  34.3 ,  48.5 ,\n",
       "        30.6 ,  17.55,  10.74,  13.24,   5.91,   9.43,  20.92,   8.13,\n",
       "        33.1 ,  10.37,  16.77,   6.27,  26.8 ,  12.37,  22.6 ,  33.6 ,\n",
       "        16.92,  15.54,   6.23,  15.35,  37.5 ,  21.82,   7.94,  34.1 ,\n",
       "         9.76,   6.03,  15.55,   8.44,  43.8 ,  29.09,  18.93,  12.75,\n",
       "         6.33,  24.8 ,   5.64,  22.43,  39.1 ,  27.6 ,   7.48,  32.7 ,\n",
       "         5.44,   6.22,   7.41,  27.1 ,  17.06,  75.  ,  34.51,   6.26,\n",
       "        35.6 ,   9.83,  54.3 ,  28.7 ,   3.3 ,  13.63,  62.5 ,  10.47,\n",
       "        11.87,  28.3 ,  11.25,   5.42,  18.25,   8.82,   9.58,   5.04,\n",
       "        13.52,  11.44,   8.48,  13.21,   8.03,  16.89,  26.9 ,  35.4 ,\n",
       "        13.95,  14.72,   9.34,  64.  ,  37.78,  23.7 ,  29.8 ,   6.95,\n",
       "        16.05,  11.65,  38.1 ,  10.99,  10.86,   8.85,  14.65,   9.24,\n",
       "        16.45,   7.84,  93.2 ,   9.79,   7.03,  17.12,   5.28,  12.53,\n",
       "        14.51,   9.31,  31.6 ,  72.  ,   6.86,  11.07,  14.06,  93.  ,\n",
       "         6.93,  15.15,  32.9 ,   8.34,  55.7 ,  24.89,  35.9 ,  22.78,\n",
       "        16.47,  38.86,  18.16,   8.69,  25.5 ,  22.46,  13.74,  54.2 ,\n",
       "        19.21,  31.5 ,  12.11,  11.98,  10.17,  10.63,  35.7 ,  12.71,\n",
       "         2.3 ,  16.07,   9.42,  20.77,  28.64,  13.86,  10.01,  24.2 ,\n",
       "        12.45,  12.87,  14.33,  12.15,  39.7 ,  65.  ,   5.06,  14.29,\n",
       "        14.43,  25.02,   8.52,  11.56,  12.89,   8.63,  13.32,  16.42,\n",
       "         5.31,  27.2 ,   9.26,  14.93,  31.4 ,   9.06,   6.61,  20.4 ,\n",
       "         6.65,  19.19,  20.24,  13.77,   6.37,  53.  ,  14.58,   9.19,\n",
       "         8.67,  21.22, 112.  ,  13.58,  12.03,  10.87,  19.28,  16.48,\n",
       "        32.6 ,   9.08,  12.69,   8.09,   5.21,  12.83,  54.  ,  11.64,\n",
       "       107.  ,   1.3 ,  55.5 ,  48.3 ,   9.11,  21.53,  29.86,  28.52,\n",
       "        15.43,  15.57,  13.43,  19.94,   8.77,  50.2 ,  15.03,  16.38,\n",
       "        13.33,  12.43,  17.61,   9.66,  12.32,  58.  ,  24.6 ,   6.47,\n",
       "        41.1 ,   8.12,  21.25,  41.6 ,  49.4 ,  12.25,  28.56,  11.69,\n",
       "        14.85,  15.18,   8.02,  11.22,   8.95,  34.6 ,  29.2 ,   9.73,\n",
       "        10.46,  26.7 ,  29.7 ,  32.4 ,  12.93,  12.63,  15.24,   8.18,\n",
       "        22.15,  11.43,   7.02,  11.93,   7.09,   6.16,   7.15,  13.65,\n",
       "        10.79,  14.98,  34.4 ,   5.14,   9.75,   5.59,  35.1 ,  13.04,\n",
       "        10.95,  16.03,   9.13,  17.44,  40.1 ,   5.85,   6.24,  21.74,\n",
       "        31.3 ,  30.8 ,  16.88,  21.55,  18.55,  17.87,  13.83])"
      ]
     },
     "metadata": {},
     "output_type": "display_data"
    }
   ],
   "source": [
    "med_replace_kitchen = data.groupby('rooms')['kitchen_area'].median()\n",
    "for room in data['rooms'].unique():\n",
    "    data.loc[(data['rooms'] == room) & (data['kitchen_area'].isna()), 'kitchen_area'] = med_replace_kitchen[room]\n",
    "display(data['kitchen_area'].value_counts())\n",
    "\n",
    "# Исключим 193 строки с записью \"  nan\", как вероятные ошибки данных.\n",
    "data.loc[data['kitchen_area'] == '  nan','kitchen_area'] = None\n",
    "data = data.dropna(subset=['kitchen_area'])\n",
    "display(data['kitchen_area'].unique())"
   ]
  },
  {
   "cell_type": "markdown",
   "metadata": {},
   "source": [
    "Подобные действия проделаем и со столбцом \"living_area\""
   ]
  },
  {
   "cell_type": "code",
   "execution_count": 14,
   "metadata": {},
   "outputs": [],
   "source": [
    "med_replace_rooms = data.groupby('rooms')['living_area'].median()\n",
    "for room in data['rooms'].unique():\n",
    "    data.loc[(data['rooms'] == room) & (data['living_area'].isna()), 'living_area'] = med_replace_rooms[room]"
   ]
  },
  {
   "cell_type": "code",
   "execution_count": 15,
   "metadata": {},
   "outputs": [],
   "source": [
    "# добавим в таблицу столбец \"living_total\" соотношение жилой и общей площади\n",
    "data['living_total'] = data['living_area'] / data['total_area']\n",
    "#display(data.head())"
   ]
  },
  {
   "cell_type": "code",
   "execution_count": 16,
   "metadata": {},
   "outputs": [
    {
     "data": {
      "text/html": [
       "<div>\n",
       "<style scoped>\n",
       "    .dataframe tbody tr th:only-of-type {\n",
       "        vertical-align: middle;\n",
       "    }\n",
       "\n",
       "    .dataframe tbody tr th {\n",
       "        vertical-align: top;\n",
       "    }\n",
       "\n",
       "    .dataframe thead th {\n",
       "        text-align: right;\n",
       "    }\n",
       "</style>\n",
       "<table border=\"1\" class=\"dataframe\">\n",
       "  <thead>\n",
       "    <tr style=\"text-align: right;\">\n",
       "      <th></th>\n",
       "      <th>total_images</th>\n",
       "      <th>last_price</th>\n",
       "      <th>total_area</th>\n",
       "      <th>first_day_exposition</th>\n",
       "      <th>rooms</th>\n",
       "      <th>ceiling_height</th>\n",
       "      <th>floors_total</th>\n",
       "      <th>living_area</th>\n",
       "      <th>floor</th>\n",
       "      <th>is_apartment</th>\n",
       "      <th>...</th>\n",
       "      <th>locality_name</th>\n",
       "      <th>airports_nearest</th>\n",
       "      <th>city_centers_nearest</th>\n",
       "      <th>parks_around3000</th>\n",
       "      <th>parks_nearest</th>\n",
       "      <th>ponds_around3000</th>\n",
       "      <th>ponds_nearest</th>\n",
       "      <th>days_exposition</th>\n",
       "      <th>living_total</th>\n",
       "      <th>kitchen_total</th>\n",
       "    </tr>\n",
       "  </thead>\n",
       "  <tbody>\n",
       "    <tr>\n",
       "      <th>0</th>\n",
       "      <td>20</td>\n",
       "      <td>13000000.0</td>\n",
       "      <td>108.0</td>\n",
       "      <td>2019-03-07T00:00:00</td>\n",
       "      <td>3</td>\n",
       "      <td>2.70</td>\n",
       "      <td>16.0</td>\n",
       "      <td>51.0</td>\n",
       "      <td>8</td>\n",
       "      <td>NaN</td>\n",
       "      <td>...</td>\n",
       "      <td>Санкт-Петербург</td>\n",
       "      <td>18863.0</td>\n",
       "      <td>16028.0</td>\n",
       "      <td>1.0</td>\n",
       "      <td>482.0</td>\n",
       "      <td>2.0</td>\n",
       "      <td>755.0</td>\n",
       "      <td>NaN</td>\n",
       "      <td>0.472222</td>\n",
       "      <td>0.231481</td>\n",
       "    </tr>\n",
       "    <tr>\n",
       "      <th>1</th>\n",
       "      <td>7</td>\n",
       "      <td>3350000.0</td>\n",
       "      <td>40.4</td>\n",
       "      <td>2018-12-04T00:00:00</td>\n",
       "      <td>1</td>\n",
       "      <td>2.75</td>\n",
       "      <td>11.0</td>\n",
       "      <td>18.6</td>\n",
       "      <td>1</td>\n",
       "      <td>NaN</td>\n",
       "      <td>...</td>\n",
       "      <td>посёлок Шушары</td>\n",
       "      <td>12817.0</td>\n",
       "      <td>18603.0</td>\n",
       "      <td>0.0</td>\n",
       "      <td>NaN</td>\n",
       "      <td>0.0</td>\n",
       "      <td>NaN</td>\n",
       "      <td>81.0</td>\n",
       "      <td>0.460396</td>\n",
       "      <td>0.272277</td>\n",
       "    </tr>\n",
       "    <tr>\n",
       "      <th>2</th>\n",
       "      <td>10</td>\n",
       "      <td>5196000.0</td>\n",
       "      <td>56.0</td>\n",
       "      <td>2015-08-20T00:00:00</td>\n",
       "      <td>2</td>\n",
       "      <td>2.55</td>\n",
       "      <td>5.0</td>\n",
       "      <td>34.3</td>\n",
       "      <td>4</td>\n",
       "      <td>NaN</td>\n",
       "      <td>...</td>\n",
       "      <td>Санкт-Петербург</td>\n",
       "      <td>21741.0</td>\n",
       "      <td>13933.0</td>\n",
       "      <td>1.0</td>\n",
       "      <td>90.0</td>\n",
       "      <td>2.0</td>\n",
       "      <td>574.0</td>\n",
       "      <td>558.0</td>\n",
       "      <td>0.612500</td>\n",
       "      <td>0.148214</td>\n",
       "    </tr>\n",
       "    <tr>\n",
       "      <th>3</th>\n",
       "      <td>0</td>\n",
       "      <td>64900000.0</td>\n",
       "      <td>159.0</td>\n",
       "      <td>2015-07-24T00:00:00</td>\n",
       "      <td>3</td>\n",
       "      <td>2.60</td>\n",
       "      <td>14.0</td>\n",
       "      <td>45.0</td>\n",
       "      <td>9</td>\n",
       "      <td>NaN</td>\n",
       "      <td>...</td>\n",
       "      <td>Санкт-Петербург</td>\n",
       "      <td>28098.0</td>\n",
       "      <td>6800.0</td>\n",
       "      <td>2.0</td>\n",
       "      <td>84.0</td>\n",
       "      <td>3.0</td>\n",
       "      <td>234.0</td>\n",
       "      <td>424.0</td>\n",
       "      <td>0.283019</td>\n",
       "      <td>0.059748</td>\n",
       "    </tr>\n",
       "    <tr>\n",
       "      <th>4</th>\n",
       "      <td>2</td>\n",
       "      <td>10000000.0</td>\n",
       "      <td>100.0</td>\n",
       "      <td>2018-06-19T00:00:00</td>\n",
       "      <td>2</td>\n",
       "      <td>3.03</td>\n",
       "      <td>14.0</td>\n",
       "      <td>32.0</td>\n",
       "      <td>13</td>\n",
       "      <td>NaN</td>\n",
       "      <td>...</td>\n",
       "      <td>Санкт-Петербург</td>\n",
       "      <td>31856.0</td>\n",
       "      <td>8098.0</td>\n",
       "      <td>2.0</td>\n",
       "      <td>112.0</td>\n",
       "      <td>1.0</td>\n",
       "      <td>48.0</td>\n",
       "      <td>121.0</td>\n",
       "      <td>0.320000</td>\n",
       "      <td>0.410000</td>\n",
       "    </tr>\n",
       "  </tbody>\n",
       "</table>\n",
       "<p>5 rows × 24 columns</p>\n",
       "</div>"
      ],
      "text/plain": [
       "   total_images  last_price  total_area first_day_exposition  rooms  \\\n",
       "0            20  13000000.0       108.0  2019-03-07T00:00:00      3   \n",
       "1             7   3350000.0        40.4  2018-12-04T00:00:00      1   \n",
       "2            10   5196000.0        56.0  2015-08-20T00:00:00      2   \n",
       "3             0  64900000.0       159.0  2015-07-24T00:00:00      3   \n",
       "4             2  10000000.0       100.0  2018-06-19T00:00:00      2   \n",
       "\n",
       "   ceiling_height  floors_total  living_area  floor is_apartment  ...  \\\n",
       "0            2.70          16.0         51.0      8          NaN  ...   \n",
       "1            2.75          11.0         18.6      1          NaN  ...   \n",
       "2            2.55           5.0         34.3      4          NaN  ...   \n",
       "3            2.60          14.0         45.0      9          NaN  ...   \n",
       "4            3.03          14.0         32.0     13          NaN  ...   \n",
       "\n",
       "     locality_name  airports_nearest  city_centers_nearest  parks_around3000  \\\n",
       "0  Санкт-Петербург           18863.0               16028.0               1.0   \n",
       "1   посёлок Шушары           12817.0               18603.0               0.0   \n",
       "2  Санкт-Петербург           21741.0               13933.0               1.0   \n",
       "3  Санкт-Петербург           28098.0                6800.0               2.0   \n",
       "4  Санкт-Петербург           31856.0                8098.0               2.0   \n",
       "\n",
       "  parks_nearest  ponds_around3000  ponds_nearest  days_exposition  \\\n",
       "0         482.0               2.0          755.0              NaN   \n",
       "1           NaN               0.0            NaN             81.0   \n",
       "2          90.0               2.0          574.0            558.0   \n",
       "3          84.0               3.0          234.0            424.0   \n",
       "4         112.0               1.0           48.0            121.0   \n",
       "\n",
       "   living_total  kitchen_total  \n",
       "0      0.472222       0.231481  \n",
       "1      0.460396       0.272277  \n",
       "2      0.612500       0.148214  \n",
       "3      0.283019       0.059748  \n",
       "4      0.320000       0.410000  \n",
       "\n",
       "[5 rows x 24 columns]"
      ]
     },
     "metadata": {},
     "output_type": "display_data"
    }
   ],
   "source": [
    "# добавим в таблицу столбец \"kitchen_total\" отношение площади кухни к общей\n",
    "data['kitchen_total'] = data['kitchen_area'] / data['total_area']\n",
    "display(data.head())"
   ]
  },
  {
   "cell_type": "code",
   "execution_count": 17,
   "metadata": {},
   "outputs": [
    {
     "data": {
      "text/plain": [
       "5     5771\n",
       "9     3747\n",
       "16    1357\n",
       "12    1355\n",
       "4     1194\n",
       "10    1168\n",
       "25    1048\n",
       "6      910\n",
       "17     814\n",
       "3      661\n",
       "7      589\n",
       "14     543\n",
       "18     492\n",
       "24     453\n",
       "8      388\n",
       "2      381\n",
       "15     361\n",
       "23     346\n",
       "19     330\n",
       "22     282\n",
       "20     265\n",
       "13     229\n",
       "11     200\n",
       "27     162\n",
       "21     151\n",
       "26     122\n",
       "1       25\n",
       "35      22\n",
       "28      21\n",
       "36       1\n",
       "37       1\n",
       "52       1\n",
       "60       1\n",
       "29       1\n",
       "34       1\n",
       "Name: floors_total, dtype: int64"
      ]
     },
     "metadata": {},
     "output_type": "display_data"
    }
   ],
   "source": [
    "#Столбец 'floors_total' нужно преобразовать к целочисленному типу данных 'int'\n",
    "data['floors_total'] = data['floors_total'].astype(int)\n",
    "display(data['floors_total'].value_counts())"
   ]
  },
  {
   "cell_type": "code",
   "execution_count": 18,
   "metadata": {},
   "outputs": [
    {
     "name": "stdout",
     "output_type": "stream",
     "text": [
      "['Санкт-Петербург' 'посёлок Шушары' 'городской посёлок Янино-1'\n",
      " 'посёлок Парголово' 'посёлок Мурино' 'Ломоносов' 'Сертолово' 'Петергоф'\n",
      " 'Пушкин' 'деревня Кудрово' 'Коммунар' 'Колпино'\n",
      " 'поселок городского типа Красный Бор' 'Гатчина' 'поселок Мурино'\n",
      " 'деревня Фёдоровское' 'Выборг' 'Кронштадт' 'Кировск'\n",
      " 'деревня Новое Девяткино' 'посёлок Металлострой'\n",
      " 'посёлок городского типа Лебяжье' 'посёлок городского типа Сиверский'\n",
      " 'поселок Молодцово' 'поселок городского типа Кузьмоловский'\n",
      " 'садовое товарищество Новая Ропша' 'Павловск' 'деревня Пикколово'\n",
      " 'Всеволожск' 'Волхов' 'Кингисепп' 'Приозерск' 'Сестрорецк'\n",
      " 'деревня Куттузи' 'посёлок Аннино' 'поселок городского типа Ефимовский'\n",
      " 'посёлок Плодовое' 'деревня Заклинье' 'поселок Торковичи'\n",
      " 'поселок Первомайское' 'Красное Село' 'посёлок Понтонный' 'Сясьстрой'\n",
      " 'деревня Старая' 'деревня Лесколово' 'посёлок Новый Свет' 'Сланцы'\n",
      " 'село Путилово' 'Ивангород' 'Мурино' 'Шлиссельбург' 'Никольское'\n",
      " 'Зеленогорск' 'Сосновый Бор' 'поселок Новый Свет' 'деревня Оржицы'\n",
      " 'деревня Кальтино' 'Кудрово' 'поселок Романовка' 'посёлок Бугры'\n",
      " 'поселок Бугры' 'поселок городского типа Рощино' 'Кириши' 'Луга'\n",
      " 'Волосово' 'Отрадное' 'село Павлово' 'поселок Оредеж' 'село Копорье'\n",
      " 'посёлок городского типа Красный Бор' 'посёлок Молодёжное' 'Тихвин'\n",
      " 'посёлок Победа' 'деревня Нурма' 'поселок городского типа Синявино'\n",
      " 'Тосно' 'посёлок городского типа Кузьмоловский' 'посёлок Стрельна'\n",
      " 'Бокситогорск' 'посёлок Александровская' 'деревня Лопухинка' 'Пикалёво'\n",
      " 'поселок Терволово' 'поселок городского типа Советский' 'Подпорожье'\n",
      " 'посёлок Петровское' 'посёлок городского типа Токсово' 'поселок Сельцо'\n",
      " 'посёлок городского типа Вырица' 'деревня Кипень' 'деревня Келози'\n",
      " 'деревня Вартемяги' 'посёлок Тельмана' 'поселок Севастьяново'\n",
      " 'городской поселок Большая Ижора' nan 'городской посёлок Павлово'\n",
      " 'деревня Агалатово' 'посёлок Новогорелово'\n",
      " 'городской посёлок Лесогорский' 'деревня Лаголово' 'поселок Цвелодубово'\n",
      " 'поселок городского типа Рахья' 'поселок городского типа Вырица'\n",
      " 'деревня Белогорка' 'поселок Заводской' 'городской посёлок Новоселье'\n",
      " 'деревня Большие Колпаны' 'деревня Горбунки' 'деревня Батово'\n",
      " 'деревня Заневка' 'деревня Иссад' 'Приморск'\n",
      " 'городской посёлок Фёдоровское' 'деревня Мистолово' 'Новая Ладога'\n",
      " 'поселок Зимитицы' 'поселок Барышево' 'деревня Разметелево'\n",
      " 'поселок городского типа имени Свердлова' 'деревня Пеники'\n",
      " 'поселок Рябово' 'деревня Пудомяги' 'деревня Низино' 'деревня Бегуницы'\n",
      " 'посёлок Поляны' 'городской посёлок Мга' 'поселок Елизаветино'\n",
      " 'посёлок городского типа Кузнечное' 'деревня Колтуши'\n",
      " 'поселок Запорожское' 'посёлок городского типа Рощино'\n",
      " 'деревня Гостилицы' 'деревня Малое Карлино' 'посёлок Мичуринское'\n",
      " 'посёлок городского типа имени Морозова' 'посёлок Песочный'\n",
      " 'посёлок Сосново' 'деревня Аро' 'поселок Ильичёво'\n",
      " 'посёлок городского типа Тайцы' 'деревня Малое Верево' 'деревня Извара'\n",
      " 'поселок станции Вещево' 'село Паша' 'деревня Калитино'\n",
      " 'посёлок городского типа Ульяновка' 'деревня Чудской Бор'\n",
      " 'поселок городского типа Дубровка' 'деревня Мины' 'поселок Войсковицы'\n",
      " 'посёлок городского типа имени Свердлова' 'деревня Коркино'\n",
      " 'посёлок Ропша' 'поселок городского типа Приладожский' 'посёлок Щеглово'\n",
      " 'посёлок Гаврилово' 'Лодейное Поле' 'деревня Рабитицы'\n",
      " 'поселок городского типа Никольский' 'деревня Кузьмолово'\n",
      " 'деревня Малые Колпаны' 'поселок Тельмана' 'городской посёлок Назия'\n",
      " 'посёлок Репино' 'посёлок Ильичёво' 'поселок Углово'\n",
      " 'поселок Старая Малукса' 'садовое товарищество Рахья' 'поселок Аннино'\n",
      " 'поселок Победа' 'деревня Меньково' 'деревня Старые Бегуницы'\n",
      " 'посёлок Сапёрный' 'поселок Семрино' 'поселок Гаврилово'\n",
      " 'поселок Глажево' 'поселок Кобринское' 'деревня Гарболово' 'деревня Юкки'\n",
      " 'поселок станции Приветнинское' 'деревня Мануйлово' 'деревня Пчева'\n",
      " 'поселок Поляны' 'поселок Цвылёво' 'поселок Мельниково' 'посёлок Пудость'\n",
      " 'посёлок Усть-Луга' 'Светогорск' 'Любань' 'поселок Селезнёво'\n",
      " 'поселок городского типа Рябово' 'Каменногорск' 'деревня Кривко'\n",
      " 'поселок Глебычево' 'деревня Парицы' 'поселок Жилпосёлок'\n",
      " 'посёлок городского типа Мга' 'городской поселок Янино-1'\n",
      " 'посёлок Войскорово' 'село Никольское' 'посёлок Терволово'\n",
      " 'поселок Стеклянный' 'посёлок городского типа Важины'\n",
      " 'посёлок Мыза-Ивановка' 'село Русско-Высоцкое'\n",
      " 'поселок городского типа Лебяжье' 'поселок городского типа Форносово'\n",
      " 'село Старая Ладога' 'поселок Житково' 'городской посёлок Виллози'\n",
      " 'деревня Лампово' 'деревня Шпаньково' 'деревня Лаврики' 'посёлок Сумино'\n",
      " 'посёлок Возрождение' 'деревня Старосиверская' 'посёлок Кикерино'\n",
      " 'поселок Возрождение' 'деревня Старое Хинколово' 'посёлок Пригородный'\n",
      " 'посёлок Торфяное' 'городской посёлок Будогощь' 'поселок Суходолье'\n",
      " 'поселок Красная Долина' 'деревня Хапо-Ое'\n",
      " 'поселок городского типа Дружная Горка' 'поселок Лисий Нос'\n",
      " 'деревня Яльгелево' 'посёлок Стеклянный' 'село Рождествено'\n",
      " 'деревня Старополье' 'посёлок Левашово' 'деревня Сяськелево'\n",
      " 'деревня Камышовка'\n",
      " 'садоводческое некоммерческое товарищество Лесная Поляна'\n",
      " 'деревня Хязельки' 'поселок Жилгородок' 'посёлок городского типа Павлово'\n",
      " 'деревня Ялгино' 'поселок Новый Учхоз' 'городской посёлок Рощино'\n",
      " 'поселок Гончарово' 'поселок Почап' 'посёлок Сапёрное'\n",
      " 'посёлок Платформа 69-й километр' 'поселок Каложицы' 'деревня Фалилеево'\n",
      " 'деревня Пельгора' 'поселок городского типа Лесогорский'\n",
      " 'деревня Торошковичи' 'посёлок Белоостров' 'посёлок Алексеевка'\n",
      " 'поселок Серебрянский' 'поселок Лукаши' 'поселок Петровское'\n",
      " 'деревня Щеглово' 'поселок Мичуринское' 'деревня Тарасово'\n",
      " 'поселок Кингисеппский' 'посёлок при железнодорожной станции Вещево'\n",
      " 'поселок Ушаки' 'деревня Котлы' 'деревня Сижно' 'деревня Торосово'\n",
      " 'посёлок Форт Красная Горка' 'деревня Новолисино'\n",
      " 'посёлок станции Громово' 'деревня Глинка' 'посёлок Мельниково'\n",
      " 'поселок городского типа Назия' 'деревня Старая Пустошь'\n",
      " 'поселок Коммунары' 'поселок Починок'\n",
      " 'посёлок городского типа Вознесенье' 'деревня Разбегаево'\n",
      " 'посёлок городского типа Рябово' 'поселок Гладкое'\n",
      " 'посёлок при железнодорожной станции Приветнинское' 'поселок Тёсово-4'\n",
      " 'посёлок Жилгородок' 'деревня Бор' 'посёлок Коробицыно'\n",
      " 'деревня Большая Вруда' 'деревня Курковицы' 'посёлок Лисий Нос'\n",
      " 'городской посёлок Советский' 'посёлок Кобралово' 'деревня Суоранда'\n",
      " 'поселок Кобралово' 'поселок городского типа Кондратьево'\n",
      " 'коттеджный поселок Счастье' 'поселок Любань' 'деревня Реброво'\n",
      " 'деревня Зимитицы' 'деревня Тойворово' 'поселок Семиозерье'\n",
      " 'поселок Лесное' 'поселок Совхозный' 'поселок Усть-Луга'\n",
      " 'посёлок Ленинское' 'посёлок Суйда' 'посёлок городского типа Форносово'\n",
      " 'деревня Нижние Осельки' 'посёлок станции Свирь' 'поселок Перово'\n",
      " 'Высоцк' 'поселок Гарболово' 'село Шум' 'поселок Котельский'\n",
      " 'поселок станции Лужайка' 'деревня Большая Пустомержа'\n",
      " 'поселок Красносельское' 'деревня Вахнова Кара' 'деревня Пижма'\n",
      " 'коттеджный поселок Кивеннапа Север' 'поселок Коробицыно'\n",
      " 'поселок Ромашки' 'посёлок Перово' 'деревня Каськово' 'деревня Куровицы'\n",
      " 'посёлок Плоское' 'поселок Сумино'\n",
      " 'поселок городского типа Большая Ижора' 'поселок Кирпичное'\n",
      " 'деревня Ям-Тесово' 'деревня Раздолье' 'деревня Терпилицы'\n",
      " 'поселок городского типа Токсово' 'посёлок Шугозеро' 'деревня Ваганово'\n",
      " 'поселок Пушное' 'садовое товарищество Садко' 'посёлок Усть-Ижора'\n",
      " 'деревня Выскатка' 'городской посёлок Свирьстрой' 'поселок Громово'\n",
      " 'деревня Кисельня' 'посёлок Старая Малукса' 'деревня Трубников Бор'\n",
      " 'поселок Калитино' 'посёлок Высокоключевой'\n",
      " 'садовое товарищество Приладожский' 'посёлок Пансионат Зелёный Бор'\n",
      " 'деревня Ненимяки' 'поселок Пансионат Зелёный Бор' 'деревня Снегирёвка'\n",
      " 'деревня Рапполово' 'деревня Пустынка' 'поселок Рабитицы'\n",
      " 'деревня Большой Сабск' 'деревня Русско' 'деревня Лупполово'\n",
      " 'деревня Большое Рейзино' 'деревня Малая Романовка' 'поселок Дружноселье'\n",
      " 'поселок Пчевжа' 'поселок Володарское' 'коттеджный посёлок Лесное'\n",
      " 'деревня Тихковицы' 'деревня Борисова Грива' 'посёлок Дзержинского']\n"
     ]
    }
   ],
   "source": [
    "print(data['locality_name'].unique())"
   ]
  },
  {
   "cell_type": "code",
   "execution_count": 19,
   "metadata": {},
   "outputs": [],
   "source": [
    "# приведем к нижнему регистру\n",
    "data['locality_name'] = data['locality_name'].str.lower()"
   ]
  },
  {
   "cell_type": "code",
   "execution_count": 20,
   "metadata": {},
   "outputs": [],
   "source": [
    "data['locality_name'] = data['locality_name'].str.replace('городской поселок','поселок городского типа')\n"
   ]
  },
  {
   "cell_type": "code",
   "execution_count": 21,
   "metadata": {},
   "outputs": [
    {
     "name": "stdout",
     "output_type": "stream",
     "text": [
      "санкт-петербург        15525\n",
      "поселок мурино           525\n",
      "поселок шушары           435\n",
      "всеволожск               392\n",
      "пушкин                   369\n",
      "                       ...  \n",
      "поселок володарское        1\n",
      "поселок ромашки            1\n",
      "деревня лаврики            1\n",
      "поселок кирпичное          1\n",
      "деревня ялгино             1\n",
      "Name: locality_name, Length: 327, dtype: int64\n"
     ]
    }
   ],
   "source": [
    "# Заменяем все \"ё\" на \"е\"\n",
    "data['locality_name'] = data['locality_name'].str.replace('ё', 'е')\n",
    "print(data['locality_name'].value_counts())"
   ]
  },
  {
   "cell_type": "markdown",
   "metadata": {},
   "source": [
    "Устранение выбросов"
   ]
  },
  {
   "cell_type": "code",
   "execution_count": 22,
   "metadata": {
    "scrolled": true
   },
   "outputs": [
    {
     "data": {
      "text/html": [
       "<div>\n",
       "<style scoped>\n",
       "    .dataframe tbody tr th:only-of-type {\n",
       "        vertical-align: middle;\n",
       "    }\n",
       "\n",
       "    .dataframe tbody tr th {\n",
       "        vertical-align: top;\n",
       "    }\n",
       "\n",
       "    .dataframe thead th {\n",
       "        text-align: right;\n",
       "    }\n",
       "</style>\n",
       "<table border=\"1\" class=\"dataframe\">\n",
       "  <thead>\n",
       "    <tr style=\"text-align: right;\">\n",
       "      <th></th>\n",
       "      <th>total_images</th>\n",
       "      <th>last_price</th>\n",
       "      <th>total_area</th>\n",
       "      <th>rooms</th>\n",
       "      <th>ceiling_height</th>\n",
       "      <th>floors_total</th>\n",
       "      <th>living_area</th>\n",
       "      <th>floor</th>\n",
       "      <th>kitchen_area</th>\n",
       "      <th>balcony</th>\n",
       "      <th>airports_nearest</th>\n",
       "      <th>city_centers_nearest</th>\n",
       "      <th>parks_around3000</th>\n",
       "      <th>parks_nearest</th>\n",
       "      <th>ponds_around3000</th>\n",
       "      <th>ponds_nearest</th>\n",
       "      <th>days_exposition</th>\n",
       "      <th>living_total</th>\n",
       "      <th>kitchen_total</th>\n",
       "    </tr>\n",
       "  </thead>\n",
       "  <tbody>\n",
       "    <tr>\n",
       "      <th>count</th>\n",
       "      <td>23393.000000</td>\n",
       "      <td>2.339300e+04</td>\n",
       "      <td>23393.000000</td>\n",
       "      <td>23393.000000</td>\n",
       "      <td>23393.000000</td>\n",
       "      <td>23393.000000</td>\n",
       "      <td>23393.000000</td>\n",
       "      <td>23393.000000</td>\n",
       "      <td>23393.000000</td>\n",
       "      <td>23393.000000</td>\n",
       "      <td>17946.000000</td>\n",
       "      <td>17969.000000</td>\n",
       "      <td>17970.000000</td>\n",
       "      <td>8009.000000</td>\n",
       "      <td>17970.000000</td>\n",
       "      <td>8983.000000</td>\n",
       "      <td>20241.000000</td>\n",
       "      <td>23393.000000</td>\n",
       "      <td>23393.000000</td>\n",
       "    </tr>\n",
       "    <tr>\n",
       "      <th>mean</th>\n",
       "      <td>9.891250</td>\n",
       "      <td>6.568523e+06</td>\n",
       "      <td>60.602541</td>\n",
       "      <td>2.088403</td>\n",
       "      <td>2.708270</td>\n",
       "      <td>10.621895</td>\n",
       "      <td>34.461493</td>\n",
       "      <td>5.853717</td>\n",
       "      <td>10.457786</td>\n",
       "      <td>0.588381</td>\n",
       "      <td>28817.576674</td>\n",
       "      <td>14189.928488</td>\n",
       "      <td>0.613523</td>\n",
       "      <td>490.217131</td>\n",
       "      <td>0.769226</td>\n",
       "      <td>518.444729</td>\n",
       "      <td>181.554567</td>\n",
       "      <td>0.562996</td>\n",
       "      <td>0.188085</td>\n",
       "    </tr>\n",
       "    <tr>\n",
       "      <th>std</th>\n",
       "      <td>5.681502</td>\n",
       "      <td>1.093870e+07</td>\n",
       "      <td>35.618275</td>\n",
       "      <td>1.066432</td>\n",
       "      <td>0.245754</td>\n",
       "      <td>6.564979</td>\n",
       "      <td>21.755603</td>\n",
       "      <td>4.848894</td>\n",
       "      <td>5.670732</td>\n",
       "      <td>0.958339</td>\n",
       "      <td>12621.695833</td>\n",
       "      <td>8630.788469</td>\n",
       "      <td>0.803081</td>\n",
       "      <td>341.528487</td>\n",
       "      <td>0.938832</td>\n",
       "      <td>277.855482</td>\n",
       "      <td>220.099855</td>\n",
       "      <td>0.110194</td>\n",
       "      <td>0.074083</td>\n",
       "    </tr>\n",
       "    <tr>\n",
       "      <th>min</th>\n",
       "      <td>0.000000</td>\n",
       "      <td>1.219000e+04</td>\n",
       "      <td>12.000000</td>\n",
       "      <td>1.000000</td>\n",
       "      <td>1.000000</td>\n",
       "      <td>1.000000</td>\n",
       "      <td>2.000000</td>\n",
       "      <td>1.000000</td>\n",
       "      <td>1.300000</td>\n",
       "      <td>0.000000</td>\n",
       "      <td>0.000000</td>\n",
       "      <td>181.000000</td>\n",
       "      <td>0.000000</td>\n",
       "      <td>1.000000</td>\n",
       "      <td>0.000000</td>\n",
       "      <td>13.000000</td>\n",
       "      <td>1.000000</td>\n",
       "      <td>0.021583</td>\n",
       "      <td>0.018215</td>\n",
       "    </tr>\n",
       "    <tr>\n",
       "      <th>25%</th>\n",
       "      <td>6.000000</td>\n",
       "      <td>3.450000e+06</td>\n",
       "      <td>40.200000</td>\n",
       "      <td>1.000000</td>\n",
       "      <td>2.550000</td>\n",
       "      <td>5.000000</td>\n",
       "      <td>18.500000</td>\n",
       "      <td>2.000000</td>\n",
       "      <td>7.300000</td>\n",
       "      <td>0.000000</td>\n",
       "      <td>18590.000000</td>\n",
       "      <td>9229.000000</td>\n",
       "      <td>0.000000</td>\n",
       "      <td>288.000000</td>\n",
       "      <td>0.000000</td>\n",
       "      <td>294.000000</td>\n",
       "      <td>45.000000</td>\n",
       "      <td>0.489796</td>\n",
       "      <td>0.133333</td>\n",
       "    </tr>\n",
       "    <tr>\n",
       "      <th>50%</th>\n",
       "      <td>9.000000</td>\n",
       "      <td>4.650000e+06</td>\n",
       "      <td>52.000000</td>\n",
       "      <td>2.000000</td>\n",
       "      <td>2.650000</td>\n",
       "      <td>9.000000</td>\n",
       "      <td>30.500000</td>\n",
       "      <td>4.000000</td>\n",
       "      <td>9.000000</td>\n",
       "      <td>0.000000</td>\n",
       "      <td>26760.500000</td>\n",
       "      <td>13083.000000</td>\n",
       "      <td>0.000000</td>\n",
       "      <td>454.000000</td>\n",
       "      <td>0.000000</td>\n",
       "      <td>503.000000</td>\n",
       "      <td>96.000000</td>\n",
       "      <td>0.565909</td>\n",
       "      <td>0.172805</td>\n",
       "    </tr>\n",
       "    <tr>\n",
       "      <th>75%</th>\n",
       "      <td>14.000000</td>\n",
       "      <td>6.800000e+06</td>\n",
       "      <td>70.000000</td>\n",
       "      <td>3.000000</td>\n",
       "      <td>2.750000</td>\n",
       "      <td>16.000000</td>\n",
       "      <td>42.900000</td>\n",
       "      <td>8.000000</td>\n",
       "      <td>11.500000</td>\n",
       "      <td>1.000000</td>\n",
       "      <td>37273.000000</td>\n",
       "      <td>16285.000000</td>\n",
       "      <td>1.000000</td>\n",
       "      <td>612.000000</td>\n",
       "      <td>1.000000</td>\n",
       "      <td>730.000000</td>\n",
       "      <td>232.000000</td>\n",
       "      <td>0.636778</td>\n",
       "      <td>0.232877</td>\n",
       "    </tr>\n",
       "    <tr>\n",
       "      <th>max</th>\n",
       "      <td>50.000000</td>\n",
       "      <td>7.630000e+08</td>\n",
       "      <td>900.000000</td>\n",
       "      <td>19.000000</td>\n",
       "      <td>8.300000</td>\n",
       "      <td>60.000000</td>\n",
       "      <td>409.700000</td>\n",
       "      <td>33.000000</td>\n",
       "      <td>112.000000</td>\n",
       "      <td>5.000000</td>\n",
       "      <td>84869.000000</td>\n",
       "      <td>65968.000000</td>\n",
       "      <td>3.000000</td>\n",
       "      <td>3190.000000</td>\n",
       "      <td>3.000000</td>\n",
       "      <td>1344.000000</td>\n",
       "      <td>1580.000000</td>\n",
       "      <td>1.511905</td>\n",
       "      <td>0.787879</td>\n",
       "    </tr>\n",
       "  </tbody>\n",
       "</table>\n",
       "</div>"
      ],
      "text/plain": [
       "       total_images    last_price    total_area         rooms  ceiling_height  \\\n",
       "count  23393.000000  2.339300e+04  23393.000000  23393.000000    23393.000000   \n",
       "mean       9.891250  6.568523e+06     60.602541      2.088403        2.708270   \n",
       "std        5.681502  1.093870e+07     35.618275      1.066432        0.245754   \n",
       "min        0.000000  1.219000e+04     12.000000      1.000000        1.000000   \n",
       "25%        6.000000  3.450000e+06     40.200000      1.000000        2.550000   \n",
       "50%        9.000000  4.650000e+06     52.000000      2.000000        2.650000   \n",
       "75%       14.000000  6.800000e+06     70.000000      3.000000        2.750000   \n",
       "max       50.000000  7.630000e+08    900.000000     19.000000        8.300000   \n",
       "\n",
       "       floors_total   living_area         floor  kitchen_area       balcony  \\\n",
       "count  23393.000000  23393.000000  23393.000000  23393.000000  23393.000000   \n",
       "mean      10.621895     34.461493      5.853717     10.457786      0.588381   \n",
       "std        6.564979     21.755603      4.848894      5.670732      0.958339   \n",
       "min        1.000000      2.000000      1.000000      1.300000      0.000000   \n",
       "25%        5.000000     18.500000      2.000000      7.300000      0.000000   \n",
       "50%        9.000000     30.500000      4.000000      9.000000      0.000000   \n",
       "75%       16.000000     42.900000      8.000000     11.500000      1.000000   \n",
       "max       60.000000    409.700000     33.000000    112.000000      5.000000   \n",
       "\n",
       "       airports_nearest  city_centers_nearest  parks_around3000  \\\n",
       "count      17946.000000          17969.000000      17970.000000   \n",
       "mean       28817.576674          14189.928488          0.613523   \n",
       "std        12621.695833           8630.788469          0.803081   \n",
       "min            0.000000            181.000000          0.000000   \n",
       "25%        18590.000000           9229.000000          0.000000   \n",
       "50%        26760.500000          13083.000000          0.000000   \n",
       "75%        37273.000000          16285.000000          1.000000   \n",
       "max        84869.000000          65968.000000          3.000000   \n",
       "\n",
       "       parks_nearest  ponds_around3000  ponds_nearest  days_exposition  \\\n",
       "count    8009.000000      17970.000000    8983.000000     20241.000000   \n",
       "mean      490.217131          0.769226     518.444729       181.554567   \n",
       "std       341.528487          0.938832     277.855482       220.099855   \n",
       "min         1.000000          0.000000      13.000000         1.000000   \n",
       "25%       288.000000          0.000000     294.000000        45.000000   \n",
       "50%       454.000000          0.000000     503.000000        96.000000   \n",
       "75%       612.000000          1.000000     730.000000       232.000000   \n",
       "max      3190.000000          3.000000    1344.000000      1580.000000   \n",
       "\n",
       "       living_total  kitchen_total  \n",
       "count  23393.000000   23393.000000  \n",
       "mean       0.562996       0.188085  \n",
       "std        0.110194       0.074083  \n",
       "min        0.021583       0.018215  \n",
       "25%        0.489796       0.133333  \n",
       "50%        0.565909       0.172805  \n",
       "75%        0.636778       0.232877  \n",
       "max        1.511905       0.787879  "
      ]
     },
     "execution_count": 22,
     "metadata": {},
     "output_type": "execute_result"
    }
   ],
   "source": [
    "data.describe()"
   ]
  },
  {
   "cell_type": "code",
   "execution_count": 23,
   "metadata": {},
   "outputs": [
    {
     "name": "stdout",
     "output_type": "stream",
     "text": [
      "Квартир по цене 0: 0\n",
      "Квартир по цене меньше 100.000: 1\n",
      "Квартир по цене больше 100.000.000: 37\n",
      "Квартир по цене больше 100.000.000: 37\n"
     ]
    }
   ],
   "source": [
    "print('Квартир по цене 0:', data.query('last_price == 0')['last_price'].count())\n",
    "print('Квартир по цене меньше 100.000:', data.query('last_price < 1e+05')['last_price'].count())\n",
    "print('Квартир по цене больше 100.000.000:', data.query('last_price > 1e+08')['last_price'].count())\n",
    "\n",
    "print('Квартир по цене больше 100.000.000:', data.query('last_price > 1e+08')['last_price'].count())\n",
    "data.drop(index=data.query('last_price > 1e+08').index,inplace=True)"
   ]
  },
  {
   "cell_type": "code",
   "execution_count": 24,
   "metadata": {},
   "outputs": [
    {
     "name": "stdout",
     "output_type": "stream",
     "text": [
      "Квартир с площадью менее 10 м2: 0\n",
      "Квартир с площадью более 500 м2: 3\n"
     ]
    },
    {
     "data": {
      "text/plain": [
       "array([[<AxesSubplot:title={'center':'total_area'}>]], dtype=object)"
      ]
     },
     "execution_count": 24,
     "metadata": {},
     "output_type": "execute_result"
    },
    {
     "data": {
      "image/png": "[encoded data removed]",
      "text/plain": [
       "<Figure size 432x288 with 1 Axes>"
      ]
     },
     "metadata": {
      "needs_background": "light"
     },
     "output_type": "display_data"
    },
    {
     "data": {
      "image/png": "[encoded data removed]",
      "text/plain": [
       "<Figure size 432x288 with 1 Axes>"
      ]
     },
     "metadata": {
      "needs_background": "light"
     },
     "output_type": "display_data"
    }
   ],
   "source": [
    "# Рассмотрим площади квартир на аномалии\n",
    "print('Квартир с площадью менее 10 м2:',data.query('total_area < 10')['total_area'].count()) \n",
    "print('Квартир с площадью более 500 м2:',data.query('total_area > 500')['total_area'].count())\n",
    "\n",
    "data.drop(index=data.query('total_area > 500').index,inplace=True)\n",
    "\n",
    "data.hist('total_area', bins=50, range=(0,900))\n",
    "data.hist('total_area', bins=50, range=(0,100))"
   ]
  },
  {
   "cell_type": "code",
   "execution_count": 25,
   "metadata": {},
   "outputs": [
    {
     "name": "stdout",
     "output_type": "stream",
     "text": [
      "Квартиры с отсутствием комнат: 0\n",
      "Квартиры с отсутствием комнат и студии: 0\n",
      "Квартиры с отсутствием комнат и апартаменты: 0\n",
      "Квартиры с отсутствием комнат и свободная планировка: 0\n",
      "Квартиры с отсутствием комнат, не апартаменты и не свободная планировка: 0\n"
     ]
    }
   ],
   "source": [
    "# Рассмотрим комнаты квартир на аномалии\n",
    "print('Квартиры с отсутствием комнат:',data.query('rooms == 0')['rooms'].count())\n",
    "\n",
    "print('Квартиры с отсутствием комнат и студии:',data.query('rooms == 0 and studio')['rooms'].count()) \n",
    "\n",
    "print('Квартиры с отсутствием комнат и апартаменты:',data.query('rooms == 0 and is_apartment')['rooms'].count()) \n",
    "\n",
    "print('Квартиры с отсутствием комнат и свободная планировка:',data.query('rooms == 0 and open_plan')['rooms'].count())\n",
    "\n",
    "print('Квартиры с отсутствием комнат, не апартаменты и не свободная планировка:',data.query('rooms == 0 and ~open_plan and ~studio')['rooms'].count())\n",
    "\n",
    "data.drop(index=data.query('rooms > 7').index,inplace=True)"
   ]
  },
  {
   "cell_type": "code",
   "execution_count": 26,
   "metadata": {},
   "outputs": [
    {
     "name": "stdout",
     "output_type": "stream",
     "text": [
      "Жилая площадь менее 10 кв.м.:  23\n",
      "Жилая площадь более общей:  29\n",
      "Жилая площадь более 200:  14\n"
     ]
    },
    {
     "data": {
      "text/plain": [
       "array([[<AxesSubplot:title={'center':'living_area'}>]], dtype=object)"
      ]
     },
     "execution_count": 26,
     "metadata": {},
     "output_type": "execute_result"
    },
    {
     "data": {
      "image/png": "[encoded data removed]",
      "text/plain": [
       "<Figure size 432x288 with 1 Axes>"
      ]
     },
     "metadata": {
      "needs_background": "light"
     },
     "output_type": "display_data"
    },
    {
     "data": {
      "image/png": "[encoded data removed]",
      "text/plain": [
       "<Figure size 432x288 with 1 Axes>"
      ]
     },
     "metadata": {
      "needs_background": "light"
     },
     "output_type": "display_data"
    }
   ],
   "source": [
    "# Рассмотрим жилые площади квартир на аномалии\n",
    "print('Жилая площадь менее 10 кв.м.: ',data.query('living_area < 10')['living_area'].count())\n",
    "print('Жилая площадь более общей: ',data.query('living_area > total_area')['living_area'].count())\n",
    "print('Жилая площадь более 200: ',data.query('living_area > 200')['living_area'].count())\n",
    "\n",
    "data.drop(index=data.query('living_area < 10').index,inplace=True)\n",
    "data.drop(index=data.query('living_area > 200').index,inplace=True)\n",
    "\n",
    "data.hist('living_area', bins=30)\n",
    "data.hist('living_area', bins=60, range=(0,60))"
   ]
  },
  {
   "cell_type": "code",
   "execution_count": 27,
   "metadata": {},
   "outputs": [
    {
     "name": "stdout",
     "output_type": "stream",
     "text": [
      "3\n",
      "0\n"
     ]
    }
   ],
   "source": [
    "#Удалим квартиры с высотой потолка менее 2м.\n",
    "print(data['ceiling_height'][data['ceiling_height'] < 2].count())\n",
    "data.loc[data['ceiling_height'] < 2,'ceiling_height'] = None\n",
    "data = data.dropna(subset=['ceiling_height'])\n",
    "# проверка после удаления\n",
    "print(data['ceiling_height'][data['ceiling_height'] < 2].count()) "
   ]
  },
  {
   "cell_type": "code",
   "execution_count": 28,
   "metadata": {},
   "outputs": [
    {
     "data": {
      "text/plain": [
       "0"
      ]
     },
     "execution_count": 28,
     "metadata": {},
     "output_type": "execute_result"
    }
   ],
   "source": [
    "#Исключим значения с наименьшей ценой квартиры\n",
    "data['last_price'][data['last_price'] < 100000].count()\n",
    "data.loc[data['last_price'] < 100000,'last_price'] = None\n",
    "data = data.dropna(subset=['last_price'])\n",
    "data['last_price'][data['last_price'] < 100000].count()"
   ]
  },
  {
   "cell_type": "code",
   "execution_count": 29,
   "metadata": {},
   "outputs": [
    {
     "data": {
      "text/plain": [
       "False    23239\n",
       "True        46\n",
       "Name: is_apartment, dtype: int64"
      ]
     },
     "metadata": {},
     "output_type": "display_data"
    }
   ],
   "source": [
    "#В столбце \"is_apartment\" нужно заменить пропуски на False, где таковые имеются\n",
    "data['is_apartment'] = data['is_apartment'].fillna(False)\n",
    "display(data['is_apartment'].value_counts())"
   ]
  },
  {
   "cell_type": "code",
   "execution_count": 30,
   "metadata": {},
   "outputs": [],
   "source": [
    "# удалим такие же пропуски в столбце \"locality_name\"\n",
    "data = data.dropna(subset=['locality_name'])"
   ]
  },
  {
   "cell_type": "markdown",
   "metadata": {},
   "source": [
    "### Посчитайте и добавьте в таблицу новые столбцы"
   ]
  },
  {
   "cell_type": "code",
   "execution_count": 31,
   "metadata": {},
   "outputs": [
    {
     "name": "stdout",
     "output_type": "stream",
     "text": [
      "0        120370.370370\n",
      "1         82920.792079\n",
      "2         92785.714286\n",
      "3        408176.100629\n",
      "4        100000.000000\n",
      "             ...      \n",
      "23694     72490.845228\n",
      "23695     52542.372881\n",
      "23696     44091.710758\n",
      "23697    149511.400651\n",
      "23698     41795.665635\n",
      "Name: price_area, Length: 23237, dtype: float64\n"
     ]
    }
   ],
   "source": [
    "#Считаем цену одного квадратного метра\n",
    "data['price_area'] = data['last_price'] / data['total_area']\n",
    "print(data['price_area'])"
   ]
  },
  {
   "cell_type": "code",
   "execution_count": 32,
   "metadata": {},
   "outputs": [],
   "source": [
    "# столбец \"first_day_exposition\" сделаем более удобным для просмотра - оставим год, месяц, день\n",
    "data['first_day_exposition'] = pd.to_datetime(data['first_day_exposition'], format='%Y-%m-%dT%H:%M:%S')"
   ]
  },
  {
   "cell_type": "code",
   "execution_count": 33,
   "metadata": {},
   "outputs": [
    {
     "data": {
      "text/html": [
       "<div>\n",
       "<style scoped>\n",
       "    .dataframe tbody tr th:only-of-type {\n",
       "        vertical-align: middle;\n",
       "    }\n",
       "\n",
       "    .dataframe tbody tr th {\n",
       "        vertical-align: top;\n",
       "    }\n",
       "\n",
       "    .dataframe thead th {\n",
       "        text-align: right;\n",
       "    }\n",
       "</style>\n",
       "<table border=\"1\" class=\"dataframe\">\n",
       "  <thead>\n",
       "    <tr style=\"text-align: right;\">\n",
       "      <th></th>\n",
       "      <th>total_images</th>\n",
       "      <th>last_price</th>\n",
       "      <th>total_area</th>\n",
       "      <th>first_day_exposition</th>\n",
       "      <th>rooms</th>\n",
       "      <th>ceiling_height</th>\n",
       "      <th>floors_total</th>\n",
       "      <th>living_area</th>\n",
       "      <th>floor</th>\n",
       "      <th>is_apartment</th>\n",
       "      <th>...</th>\n",
       "      <th>parks_nearest</th>\n",
       "      <th>ponds_around3000</th>\n",
       "      <th>ponds_nearest</th>\n",
       "      <th>days_exposition</th>\n",
       "      <th>living_total</th>\n",
       "      <th>kitchen_total</th>\n",
       "      <th>price_area</th>\n",
       "      <th>day_weekday</th>\n",
       "      <th>day_month</th>\n",
       "      <th>day_year</th>\n",
       "    </tr>\n",
       "  </thead>\n",
       "  <tbody>\n",
       "    <tr>\n",
       "      <th>0</th>\n",
       "      <td>20</td>\n",
       "      <td>13000000.0</td>\n",
       "      <td>108.0</td>\n",
       "      <td>2019-03-07</td>\n",
       "      <td>3</td>\n",
       "      <td>2.70</td>\n",
       "      <td>16</td>\n",
       "      <td>51.0</td>\n",
       "      <td>8</td>\n",
       "      <td>False</td>\n",
       "      <td>...</td>\n",
       "      <td>482.0</td>\n",
       "      <td>2.0</td>\n",
       "      <td>755.0</td>\n",
       "      <td>NaN</td>\n",
       "      <td>0.472222</td>\n",
       "      <td>0.231481</td>\n",
       "      <td>120370.370370</td>\n",
       "      <td>3</td>\n",
       "      <td>3</td>\n",
       "      <td>2019</td>\n",
       "    </tr>\n",
       "    <tr>\n",
       "      <th>1</th>\n",
       "      <td>7</td>\n",
       "      <td>3350000.0</td>\n",
       "      <td>40.4</td>\n",
       "      <td>2018-12-04</td>\n",
       "      <td>1</td>\n",
       "      <td>2.75</td>\n",
       "      <td>11</td>\n",
       "      <td>18.6</td>\n",
       "      <td>1</td>\n",
       "      <td>False</td>\n",
       "      <td>...</td>\n",
       "      <td>NaN</td>\n",
       "      <td>0.0</td>\n",
       "      <td>NaN</td>\n",
       "      <td>81.0</td>\n",
       "      <td>0.460396</td>\n",
       "      <td>0.272277</td>\n",
       "      <td>82920.792079</td>\n",
       "      <td>1</td>\n",
       "      <td>12</td>\n",
       "      <td>2018</td>\n",
       "    </tr>\n",
       "    <tr>\n",
       "      <th>2</th>\n",
       "      <td>10</td>\n",
       "      <td>5196000.0</td>\n",
       "      <td>56.0</td>\n",
       "      <td>2015-08-20</td>\n",
       "      <td>2</td>\n",
       "      <td>2.55</td>\n",
       "      <td>5</td>\n",
       "      <td>34.3</td>\n",
       "      <td>4</td>\n",
       "      <td>False</td>\n",
       "      <td>...</td>\n",
       "      <td>90.0</td>\n",
       "      <td>2.0</td>\n",
       "      <td>574.0</td>\n",
       "      <td>558.0</td>\n",
       "      <td>0.612500</td>\n",
       "      <td>0.148214</td>\n",
       "      <td>92785.714286</td>\n",
       "      <td>3</td>\n",
       "      <td>8</td>\n",
       "      <td>2015</td>\n",
       "    </tr>\n",
       "    <tr>\n",
       "      <th>3</th>\n",
       "      <td>0</td>\n",
       "      <td>64900000.0</td>\n",
       "      <td>159.0</td>\n",
       "      <td>2015-07-24</td>\n",
       "      <td>3</td>\n",
       "      <td>2.60</td>\n",
       "      <td>14</td>\n",
       "      <td>45.0</td>\n",
       "      <td>9</td>\n",
       "      <td>False</td>\n",
       "      <td>...</td>\n",
       "      <td>84.0</td>\n",
       "      <td>3.0</td>\n",
       "      <td>234.0</td>\n",
       "      <td>424.0</td>\n",
       "      <td>0.283019</td>\n",
       "      <td>0.059748</td>\n",
       "      <td>408176.100629</td>\n",
       "      <td>4</td>\n",
       "      <td>7</td>\n",
       "      <td>2015</td>\n",
       "    </tr>\n",
       "    <tr>\n",
       "      <th>4</th>\n",
       "      <td>2</td>\n",
       "      <td>10000000.0</td>\n",
       "      <td>100.0</td>\n",
       "      <td>2018-06-19</td>\n",
       "      <td>2</td>\n",
       "      <td>3.03</td>\n",
       "      <td>14</td>\n",
       "      <td>32.0</td>\n",
       "      <td>13</td>\n",
       "      <td>False</td>\n",
       "      <td>...</td>\n",
       "      <td>112.0</td>\n",
       "      <td>1.0</td>\n",
       "      <td>48.0</td>\n",
       "      <td>121.0</td>\n",
       "      <td>0.320000</td>\n",
       "      <td>0.410000</td>\n",
       "      <td>100000.000000</td>\n",
       "      <td>1</td>\n",
       "      <td>6</td>\n",
       "      <td>2018</td>\n",
       "    </tr>\n",
       "  </tbody>\n",
       "</table>\n",
       "<p>5 rows × 28 columns</p>\n",
       "</div>"
      ],
      "text/plain": [
       "   total_images  last_price  total_area first_day_exposition  rooms  \\\n",
       "0            20  13000000.0       108.0           2019-03-07      3   \n",
       "1             7   3350000.0        40.4           2018-12-04      1   \n",
       "2            10   5196000.0        56.0           2015-08-20      2   \n",
       "3             0  64900000.0       159.0           2015-07-24      3   \n",
       "4             2  10000000.0       100.0           2018-06-19      2   \n",
       "\n",
       "   ceiling_height  floors_total  living_area  floor  is_apartment  ...  \\\n",
       "0            2.70            16         51.0      8         False  ...   \n",
       "1            2.75            11         18.6      1         False  ...   \n",
       "2            2.55             5         34.3      4         False  ...   \n",
       "3            2.60            14         45.0      9         False  ...   \n",
       "4            3.03            14         32.0     13         False  ...   \n",
       "\n",
       "   parks_nearest  ponds_around3000  ponds_nearest  days_exposition  \\\n",
       "0          482.0               2.0          755.0              NaN   \n",
       "1            NaN               0.0            NaN             81.0   \n",
       "2           90.0               2.0          574.0            558.0   \n",
       "3           84.0               3.0          234.0            424.0   \n",
       "4          112.0               1.0           48.0            121.0   \n",
       "\n",
       "  living_total  kitchen_total     price_area  day_weekday  day_month  day_year  \n",
       "0     0.472222       0.231481  120370.370370            3          3      2019  \n",
       "1     0.460396       0.272277   82920.792079            1         12      2018  \n",
       "2     0.612500       0.148214   92785.714286            3          8      2015  \n",
       "3     0.283019       0.059748  408176.100629            4          7      2015  \n",
       "4     0.320000       0.410000  100000.000000            1          6      2018  \n",
       "\n",
       "[5 rows x 28 columns]"
      ]
     },
     "metadata": {},
     "output_type": "display_data"
    }
   ],
   "source": [
    "#Посчитаем и добавим в таблицу: день публикации объявления\n",
    "data['day_weekday'] = data['first_day_exposition'].dt.weekday\n",
    "data['day_month'] = data['first_day_exposition'].dt.month\n",
    "data['day_year'] = data['first_day_exposition'].dt.year\n",
    "display(data.head())"
   ]
  },
  {
   "cell_type": "code",
   "execution_count": 34,
   "metadata": {
    "scrolled": true
   },
   "outputs": [
    {
     "data": {
      "text/html": [
       "<div>\n",
       "<style scoped>\n",
       "    .dataframe tbody tr th:only-of-type {\n",
       "        vertical-align: middle;\n",
       "    }\n",
       "\n",
       "    .dataframe tbody tr th {\n",
       "        vertical-align: top;\n",
       "    }\n",
       "\n",
       "    .dataframe thead th {\n",
       "        text-align: right;\n",
       "    }\n",
       "</style>\n",
       "<table border=\"1\" class=\"dataframe\">\n",
       "  <thead>\n",
       "    <tr style=\"text-align: right;\">\n",
       "      <th></th>\n",
       "      <th>total_images</th>\n",
       "      <th>last_price</th>\n",
       "      <th>total_area</th>\n",
       "      <th>first_day_exposition</th>\n",
       "      <th>rooms</th>\n",
       "      <th>ceiling_height</th>\n",
       "      <th>floors_total</th>\n",
       "      <th>living_area</th>\n",
       "      <th>floor</th>\n",
       "      <th>is_apartment</th>\n",
       "      <th>...</th>\n",
       "      <th>ponds_around3000</th>\n",
       "      <th>ponds_nearest</th>\n",
       "      <th>days_exposition</th>\n",
       "      <th>living_total</th>\n",
       "      <th>kitchen_total</th>\n",
       "      <th>price_area</th>\n",
       "      <th>day_weekday</th>\n",
       "      <th>day_month</th>\n",
       "      <th>day_year</th>\n",
       "      <th>floor_group</th>\n",
       "    </tr>\n",
       "  </thead>\n",
       "  <tbody>\n",
       "    <tr>\n",
       "      <th>0</th>\n",
       "      <td>20</td>\n",
       "      <td>13000000.0</td>\n",
       "      <td>108.0</td>\n",
       "      <td>2019-03-07</td>\n",
       "      <td>3</td>\n",
       "      <td>2.70</td>\n",
       "      <td>16</td>\n",
       "      <td>51.0</td>\n",
       "      <td>8</td>\n",
       "      <td>False</td>\n",
       "      <td>...</td>\n",
       "      <td>2.0</td>\n",
       "      <td>755.0</td>\n",
       "      <td>NaN</td>\n",
       "      <td>0.472222</td>\n",
       "      <td>0.231481</td>\n",
       "      <td>120370.370370</td>\n",
       "      <td>3</td>\n",
       "      <td>3</td>\n",
       "      <td>2019</td>\n",
       "      <td>другой</td>\n",
       "    </tr>\n",
       "    <tr>\n",
       "      <th>1</th>\n",
       "      <td>7</td>\n",
       "      <td>3350000.0</td>\n",
       "      <td>40.4</td>\n",
       "      <td>2018-12-04</td>\n",
       "      <td>1</td>\n",
       "      <td>2.75</td>\n",
       "      <td>11</td>\n",
       "      <td>18.6</td>\n",
       "      <td>1</td>\n",
       "      <td>False</td>\n",
       "      <td>...</td>\n",
       "      <td>0.0</td>\n",
       "      <td>NaN</td>\n",
       "      <td>81.0</td>\n",
       "      <td>0.460396</td>\n",
       "      <td>0.272277</td>\n",
       "      <td>82920.792079</td>\n",
       "      <td>1</td>\n",
       "      <td>12</td>\n",
       "      <td>2018</td>\n",
       "      <td>первый</td>\n",
       "    </tr>\n",
       "    <tr>\n",
       "      <th>2</th>\n",
       "      <td>10</td>\n",
       "      <td>5196000.0</td>\n",
       "      <td>56.0</td>\n",
       "      <td>2015-08-20</td>\n",
       "      <td>2</td>\n",
       "      <td>2.55</td>\n",
       "      <td>5</td>\n",
       "      <td>34.3</td>\n",
       "      <td>4</td>\n",
       "      <td>False</td>\n",
       "      <td>...</td>\n",
       "      <td>2.0</td>\n",
       "      <td>574.0</td>\n",
       "      <td>558.0</td>\n",
       "      <td>0.612500</td>\n",
       "      <td>0.148214</td>\n",
       "      <td>92785.714286</td>\n",
       "      <td>3</td>\n",
       "      <td>8</td>\n",
       "      <td>2015</td>\n",
       "      <td>другой</td>\n",
       "    </tr>\n",
       "    <tr>\n",
       "      <th>3</th>\n",
       "      <td>0</td>\n",
       "      <td>64900000.0</td>\n",
       "      <td>159.0</td>\n",
       "      <td>2015-07-24</td>\n",
       "      <td>3</td>\n",
       "      <td>2.60</td>\n",
       "      <td>14</td>\n",
       "      <td>45.0</td>\n",
       "      <td>9</td>\n",
       "      <td>False</td>\n",
       "      <td>...</td>\n",
       "      <td>3.0</td>\n",
       "      <td>234.0</td>\n",
       "      <td>424.0</td>\n",
       "      <td>0.283019</td>\n",
       "      <td>0.059748</td>\n",
       "      <td>408176.100629</td>\n",
       "      <td>4</td>\n",
       "      <td>7</td>\n",
       "      <td>2015</td>\n",
       "      <td>другой</td>\n",
       "    </tr>\n",
       "    <tr>\n",
       "      <th>4</th>\n",
       "      <td>2</td>\n",
       "      <td>10000000.0</td>\n",
       "      <td>100.0</td>\n",
       "      <td>2018-06-19</td>\n",
       "      <td>2</td>\n",
       "      <td>3.03</td>\n",
       "      <td>14</td>\n",
       "      <td>32.0</td>\n",
       "      <td>13</td>\n",
       "      <td>False</td>\n",
       "      <td>...</td>\n",
       "      <td>1.0</td>\n",
       "      <td>48.0</td>\n",
       "      <td>121.0</td>\n",
       "      <td>0.320000</td>\n",
       "      <td>0.410000</td>\n",
       "      <td>100000.000000</td>\n",
       "      <td>1</td>\n",
       "      <td>6</td>\n",
       "      <td>2018</td>\n",
       "      <td>другой</td>\n",
       "    </tr>\n",
       "  </tbody>\n",
       "</table>\n",
       "<p>5 rows × 29 columns</p>\n",
       "</div>"
      ],
      "text/plain": [
       "   total_images  last_price  total_area first_day_exposition  rooms  \\\n",
       "0            20  13000000.0       108.0           2019-03-07      3   \n",
       "1             7   3350000.0        40.4           2018-12-04      1   \n",
       "2            10   5196000.0        56.0           2015-08-20      2   \n",
       "3             0  64900000.0       159.0           2015-07-24      3   \n",
       "4             2  10000000.0       100.0           2018-06-19      2   \n",
       "\n",
       "   ceiling_height  floors_total  living_area  floor  is_apartment  ...  \\\n",
       "0            2.70            16         51.0      8         False  ...   \n",
       "1            2.75            11         18.6      1         False  ...   \n",
       "2            2.55             5         34.3      4         False  ...   \n",
       "3            2.60            14         45.0      9         False  ...   \n",
       "4            3.03            14         32.0     13         False  ...   \n",
       "\n",
       "   ponds_around3000  ponds_nearest  days_exposition  living_total  \\\n",
       "0               2.0          755.0              NaN      0.472222   \n",
       "1               0.0            NaN             81.0      0.460396   \n",
       "2               2.0          574.0            558.0      0.612500   \n",
       "3               3.0          234.0            424.0      0.283019   \n",
       "4               1.0           48.0            121.0      0.320000   \n",
       "\n",
       "  kitchen_total     price_area  day_weekday  day_month  day_year  floor_group  \n",
       "0      0.231481  120370.370370            3          3      2019       другой  \n",
       "1      0.272277   82920.792079            1         12      2018       первый  \n",
       "2      0.148214   92785.714286            3          8      2015       другой  \n",
       "3      0.059748  408176.100629            4          7      2015       другой  \n",
       "4      0.410000  100000.000000            1          6      2018       другой  \n",
       "\n",
       "[5 rows x 29 columns]"
      ]
     },
     "metadata": {},
     "output_type": "display_data"
    }
   ],
   "source": [
    "#Сделаем в таблице категориальный столбец, где будут определяться этажи - первый, последний и другой\n",
    "data['floor_group'] = 'другой'\n",
    "data['floor_group'] = data['floor_group'].where(data['floor'] > 1, 'первый')\n",
    "data['floor_group'] = data['floor_group'].where(data['floor'] < data['floors_total'], 'последний')\n",
    "display(data.head())"
   ]
  },
  {
   "cell_type": "code",
   "execution_count": 35,
   "metadata": {},
   "outputs": [
    {
     "data": {
      "text/plain": [
       "0    16.0\n",
       "1    19.0\n",
       "2    14.0\n",
       "3     7.0\n",
       "4     8.0\n",
       "Name: city_centers_nearest, dtype: float64"
      ]
     },
     "metadata": {},
     "output_type": "display_data"
    }
   ],
   "source": [
    "#Преобразовано расстояние в км до центра города\n",
    "data['city_centers_nearest'] = round(data['city_centers_nearest']/1000)\n",
    "display(data['city_centers_nearest'].head())"
   ]
  },
  {
   "cell_type": "markdown",
   "metadata": {},
   "source": [
    "### Проведите исследовательский анализ данных"
   ]
  },
  {
   "cell_type": "markdown",
   "metadata": {},
   "source": [
    "Изучим и опишем следующие параметры:\n",
    "        - общая площадь;\n",
    "        - жилая площадь;\n",
    "        - площадь кухни;\n",
    "        - цена объекта;\n",
    "        - количество комнат;\n",
    "        - высота потолков;\n",
    "        - этаж квартиры;\n",
    "        - общее количество этажей в доме;\n",
    "        - расстояние до центра города в км;\n",
    "        - расстояние до ближайшего аэропорта;\n",
    "        - расстояние до ближайшего парка;\n",
    "        - день и месяц публикации объявления"
   ]
  },
  {
   "cell_type": "code",
   "execution_count": 36,
   "metadata": {},
   "outputs": [
    {
     "data": {
      "text/plain": [
       "array([[<AxesSubplot:title={'center':'total_area'}>]], dtype=object)"
      ]
     },
     "execution_count": 36,
     "metadata": {},
     "output_type": "execute_result"
    },
    {
     "data": {
      "image/png": "[encoded data removed]",
      "text/plain": [
       "<Figure size 432x288 with 1 Axes>"
      ]
     },
     "metadata": {
      "needs_background": "light"
     },
     "output_type": "display_data"
    }
   ],
   "source": [
    "# Общая площадь\n",
    "data.hist('total_area', bins=100)"
   ]
  },
  {
   "cell_type": "code",
   "execution_count": 37,
   "metadata": {},
   "outputs": [
    {
     "data": {
      "text/plain": [
       "array([[<AxesSubplot:title={'center':'living_area'}>]], dtype=object)"
      ]
     },
     "execution_count": 37,
     "metadata": {},
     "output_type": "execute_result"
    },
    {
     "data": {
      "image/png": "[encoded data removed]",
      "text/plain": [
       "<Figure size 432x288 with 1 Axes>"
      ]
     },
     "metadata": {
      "needs_background": "light"
     },
     "output_type": "display_data"
    },
    {
     "data": {
      "image/png": "[encoded data removed]",
      "text/plain": [
       "<Figure size 432x288 with 1 Axes>"
      ]
     },
     "metadata": {
      "needs_background": "light"
     },
     "output_type": "display_data"
    }
   ],
   "source": [
    "# Жилая площадь\n",
    "data.hist('living_area', bins=100)\n",
    "data.hist('living_area', bins=50, range=(0,50))"
   ]
  },
  {
   "cell_type": "code",
   "execution_count": 38,
   "metadata": {},
   "outputs": [
    {
     "data": {
      "text/plain": [
       "array([[<AxesSubplot:title={'center':'kitchen_area'}>]], dtype=object)"
      ]
     },
     "execution_count": 38,
     "metadata": {},
     "output_type": "execute_result"
    },
    {
     "data": {
      "image/png": "[encoded data removed]",
      "text/plain": [
       "<Figure size 432x288 with 1 Axes>"
      ]
     },
     "metadata": {
      "needs_background": "light"
     },
     "output_type": "display_data"
    },
    {
     "data": {
      "image/png": "[encoded data removed]",
      "text/plain": [
       "<Figure size 432x288 with 1 Axes>"
      ]
     },
     "metadata": {
      "needs_background": "light"
     },
     "output_type": "display_data"
    }
   ],
   "source": [
    "# Площадь кухни\n",
    "data.hist('kitchen_area', bins=100)\n",
    "data.hist('kitchen_area', bins=20, range=(0,20))"
   ]
  },
  {
   "cell_type": "code",
   "execution_count": 39,
   "metadata": {},
   "outputs": [
    {
     "data": {
      "text/plain": [
       "array([[<AxesSubplot:title={'center':'last_price'}>]], dtype=object)"
      ]
     },
     "execution_count": 39,
     "metadata": {},
     "output_type": "execute_result"
    },
    {
     "data": {
      "image/png": "[encoded data removed]",
      "text/plain": [
       "<Figure size 432x288 with 1 Axes>"
      ]
     },
     "metadata": {
      "needs_background": "light"
     },
     "output_type": "display_data"
    },
    {
     "data": {
      "image/png": "[encoded data removed]",
      "text/plain": [
       "<Figure size 432x288 with 1 Axes>"
      ]
     },
     "metadata": {
      "needs_background": "light"
     },
     "output_type": "display_data"
    }
   ],
   "source": [
    "# цена объекта\n",
    "data.hist('last_price', bins=100)\n",
    "data.hist('last_price', bins=100, range=(0,2e+07))"
   ]
  },
  {
   "cell_type": "code",
   "execution_count": 40,
   "metadata": {},
   "outputs": [
    {
     "data": {
      "text/plain": [
       "array([[<AxesSubplot:title={'center':'rooms'}>]], dtype=object)"
      ]
     },
     "execution_count": 40,
     "metadata": {},
     "output_type": "execute_result"
    },
    {
     "data": {
      "image/png": "[encoded data removed]",
      "text/plain": [
       "<Figure size 432x288 with 1 Axes>"
      ]
     },
     "metadata": {
      "needs_background": "light"
     },
     "output_type": "display_data"
    }
   ],
   "source": [
    "# количество комнат\n",
    "data.hist('rooms', bins=data['rooms'].max())"
   ]
  },
  {
   "cell_type": "code",
   "execution_count": 41,
   "metadata": {},
   "outputs": [
    {
     "data": {
      "text/plain": [
       "array([[<AxesSubplot:title={'center':'ceiling_height'}>]], dtype=object)"
      ]
     },
     "execution_count": 41,
     "metadata": {},
     "output_type": "execute_result"
    },
    {
     "data": {
      "image/png": "[encoded data removed]",
      "text/plain": [
       "<Figure size 432x288 with 1 Axes>"
      ]
     },
     "metadata": {
      "needs_background": "light"
     },
     "output_type": "display_data"
    }
   ],
   "source": [
    "# высота потолков\n",
    "data.hist('ceiling_height', bins=30)"
   ]
  },
  {
   "cell_type": "code",
   "execution_count": 42,
   "metadata": {},
   "outputs": [
    {
     "data": {
      "text/plain": [
       "array([[<AxesSubplot:title={'center':'floor'}>]], dtype=object)"
      ]
     },
     "execution_count": 42,
     "metadata": {},
     "output_type": "execute_result"
    },
    {
     "data": {
      "image/png": "[encoded data removed]",
      "text/plain": [
       "<Figure size 432x288 with 1 Axes>"
      ]
     },
     "metadata": {
      "needs_background": "light"
     },
     "output_type": "display_data"
    }
   ],
   "source": [
    "# этаж квартиры\n",
    "data.hist('floor', bins=data['floor'].max())"
   ]
  },
  {
   "cell_type": "code",
   "execution_count": 43,
   "metadata": {},
   "outputs": [
    {
     "data": {
      "text/plain": [
       "array([[<AxesSubplot:title={'center':'floors_total'}>]], dtype=object)"
      ]
     },
     "execution_count": 43,
     "metadata": {},
     "output_type": "execute_result"
    },
    {
     "data": {
      "image/png": "[encoded data removed]",
      "text/plain": [
       "<Figure size 432x288 with 1 Axes>"
      ]
     },
     "metadata": {
      "needs_background": "light"
     },
     "output_type": "display_data"
    }
   ],
   "source": [
    "# общее количество этажей в доме\n",
    "data.hist('floors_total', bins=data['floors_total'].max())"
   ]
  },
  {
   "cell_type": "code",
   "execution_count": 44,
   "metadata": {},
   "outputs": [
    {
     "data": {
      "text/plain": [
       "array([[<AxesSubplot:title={'center':'city_centers_nearest'}>]],\n",
       "      dtype=object)"
      ]
     },
     "execution_count": 44,
     "metadata": {},
     "output_type": "execute_result"
    },
    {
     "data": {
      "image/png": "[encoded data removed]",
      "text/plain": [
       "<Figure size 432x288 with 1 Axes>"
      ]
     },
     "metadata": {
      "needs_background": "light"
     },
     "output_type": "display_data"
    }
   ],
   "source": [
    "# расстояние до центра города в км\n",
    "data.hist('city_centers_nearest', bins=100)"
   ]
  },
  {
   "cell_type": "code",
   "execution_count": 45,
   "metadata": {},
   "outputs": [
    {
     "data": {
      "text/plain": [
       "array([[<AxesSubplot:title={'center':'airports_nearest'}>]], dtype=object)"
      ]
     },
     "execution_count": 45,
     "metadata": {},
     "output_type": "execute_result"
    },
    {
     "data": {
      "image/png": "[encoded data removed]",
      "text/plain": [
       "<Figure size 432x288 with 1 Axes>"
      ]
     },
     "metadata": {
      "needs_background": "light"
     },
     "output_type": "display_data"
    }
   ],
   "source": [
    "# расстояние до ближайшего аэропорта\n",
    "data.hist('airports_nearest', bins=100)"
   ]
  },
  {
   "cell_type": "code",
   "execution_count": 46,
   "metadata": {},
   "outputs": [
    {
     "data": {
      "text/plain": [
       "array([[<AxesSubplot:title={'center':'parks_nearest'}>]], dtype=object)"
      ]
     },
     "execution_count": 46,
     "metadata": {},
     "output_type": "execute_result"
    },
    {
     "data": {
      "image/png": "[encoded data removed]",
      "text/plain": [
       "<Figure size 432x288 with 1 Axes>"
      ]
     },
     "metadata": {
      "needs_background": "light"
     },
     "output_type": "display_data"
    }
   ],
   "source": [
    "# расстояние до ближайшего парка\n",
    "data.hist('parks_nearest', bins=100)"
   ]
  },
  {
   "cell_type": "code",
   "execution_count": 47,
   "metadata": {},
   "outputs": [
    {
     "data": {
      "text/plain": [
       "<AxesSubplot:>"
      ]
     },
     "execution_count": 47,
     "metadata": {},
     "output_type": "execute_result"
    },
    {
     "data": {
      "image/png": "[encoded data removed]",
      "text/plain": [
       "<Figure size 432x288 with 1 Axes>"
      ]
     },
     "metadata": {
      "needs_background": "light"
     },
     "output_type": "display_data"
    }
   ],
   "source": [
    "# этаж квартиры\n",
    "data['floor_group'].value_counts().plot(kind='bar')"
   ]
  },
  {
   "cell_type": "markdown",
   "metadata": {},
   "source": [
    "    Для изучения и описания следующих параметров - площадь, цена, число комнат, высота потолков - построим гистограммы:"
   ]
  },
  {
   "cell_type": "code",
   "execution_count": 48,
   "metadata": {},
   "outputs": [
    {
     "data": {
      "image/png": "[encoded data removed]",
      "text/plain": [
       "<Figure size 576x288 with 1 Axes>"
      ]
     },
     "metadata": {
      "needs_background": "light"
     },
     "output_type": "display_data"
    },
    {
     "name": "stdout",
     "output_type": "stream",
     "text": [
      "count    23237.000000\n",
      "mean        59.658311\n",
      "std         30.934622\n",
      "min         12.000000\n",
      "25%         40.100000\n",
      "50%         52.000000\n",
      "75%         69.600000\n",
      "max        494.100000\n",
      "Name: total_area, dtype: float64\n"
     ]
    }
   ],
   "source": [
    "#Гистограмма для столбца площади квартиры\n",
    "data.hist('total_area', bins=100, figsize = (8,4))\n",
    "plt.show()\n",
    "print(data['total_area'].describe())"
   ]
  },
  {
   "cell_type": "markdown",
   "metadata": {},
   "source": [
    "    Из гистограммы очевидно, что большой спрос у квартир до 80м2, среднее значение площади составляет - 60,6м2."
   ]
  },
  {
   "cell_type": "code",
   "execution_count": 49,
   "metadata": {},
   "outputs": [
    {
     "data": {
      "image/png": "[encoded data removed]",
      "text/plain": [
       "<Figure size 576x288 with 1 Axes>"
      ]
     },
     "metadata": {
      "needs_background": "light"
     },
     "output_type": "display_data"
    },
    {
     "name": "stdout",
     "output_type": "stream",
     "text": [
      "count    23237.000000\n",
      "mean         2.706055\n",
      "std          0.239925\n",
      "min          2.000000\n",
      "25%          2.550000\n",
      "50%          2.650000\n",
      "75%          2.750000\n",
      "max          8.300000\n",
      "Name: ceiling_height, dtype: float64\n"
     ]
    }
   ],
   "source": [
    "#Гистограмма для столбца высота потолка\n",
    "data.hist('ceiling_height', bins=100, figsize = (8,4))\n",
    "plt.show()\n",
    "print(data['ceiling_height'].describe())"
   ]
  },
  {
   "cell_type": "markdown",
   "metadata": {},
   "source": [
    "    Из гистограммы можно увидеть, что высота потолков в среднем 2.7м. Максимальная же высота - 8,3м."
   ]
  },
  {
   "cell_type": "code",
   "execution_count": 50,
   "metadata": {},
   "outputs": [
    {
     "data": {
      "image/png": "[encoded data removed]",
      "text/plain": [
       "<Figure size 576x288 with 1 Axes>"
      ]
     },
     "metadata": {
      "needs_background": "light"
     },
     "output_type": "display_data"
    },
    {
     "name": "stdout",
     "output_type": "stream",
     "text": [
      "count    23237.000000\n",
      "mean         2.071266\n",
      "std          1.011425\n",
      "min          1.000000\n",
      "25%          1.000000\n",
      "50%          2.000000\n",
      "75%          3.000000\n",
      "max          7.000000\n",
      "Name: rooms, dtype: float64\n"
     ]
    }
   ],
   "source": [
    "# Гистограмма для столбца количество комнат\n",
    "data.hist('rooms', bins=100, figsize = (8,4))\n",
    "plt.show()\n",
    "print(data['rooms'].describe())"
   ]
  },
  {
   "cell_type": "markdown",
   "metadata": {},
   "source": [
    "    Из гистограммы сразу же выделяется, что наиболее востребованные квартиры - это одно-и двукомнатные, пониже спрос на трехкомнатные квартиры."
   ]
  },
  {
   "cell_type": "code",
   "execution_count": 51,
   "metadata": {},
   "outputs": [
    {
     "data": {
      "image/png": "[encoded data removed]",
      "text/plain": [
       "<Figure size 1008x576 with 1 Axes>"
      ]
     },
     "metadata": {
      "needs_background": "light"
     },
     "output_type": "display_data"
    },
    {
     "name": "stdout",
     "output_type": "stream",
     "text": [
      "count    2.323700e+04\n",
      "mean     6.208380e+06\n",
      "std      6.170306e+06\n",
      "min      4.300000e+05\n",
      "25%      3.450000e+06\n",
      "50%      4.650000e+06\n",
      "75%      6.760000e+06\n",
      "max      9.900000e+07\n",
      "Name: last_price, dtype: float64\n"
     ]
    }
   ],
   "source": [
    "# Гистограмма для столбца цены\n",
    "data.hist('last_price', bins=50, figsize = (14,8))\n",
    "plt.show()\n",
    "print(data['last_price'].describe())"
   ]
  },
  {
   "cell_type": "markdown",
   "metadata": {},
   "source": [
    "    Здесь можно выделить, что большая часть квартир с ценой до 15млн.р., максимальная же стоимость квартиры составляет - 763млн.р."
   ]
  },
  {
   "cell_type": "markdown",
   "metadata": {},
   "source": [
    "    Изучим, как быстро продавались квартиры (столбец days_exposition). Этот параметр показывает, сколько дней «висело» каждое объявление.\n",
    "    - Построим гистограмму.\n",
    "    - Посчитаем среднее и медиану.\n",
    "    - В ячейке типа markdown опишем, сколько обычно занимает продажа. Какие продажи можно считать быстрыми, а какие — необычно долгими?\""
   ]
  },
  {
   "cell_type": "markdown",
   "metadata": {},
   "source": [
    "Чтобы изучить время продажи квартиры - посчитаем среднее и медиану"
   ]
  },
  {
   "cell_type": "code",
   "execution_count": 52,
   "metadata": {},
   "outputs": [
    {
     "name": "stdout",
     "output_type": "stream",
     "text": [
      "Среднее время продажи квартиры в днях: 180\n",
      "Медианное время продажи квартиры в днях: 96\n",
      "\n",
      "Количество объявлений, которые сняты через:\n",
      "45 дней: 0\n",
      "60 дней: 533\n",
      "90 дней: 0\n"
     ]
    },
    {
     "data": {
      "image/png": "[encoded data removed]",
      "text/plain": [
       "<Figure size 432x288 with 1 Axes>"
      ]
     },
     "metadata": {
      "needs_background": "light"
     },
     "output_type": "display_data"
    },
    {
     "data": {
      "image/png": "[encoded data removed]",
      "text/plain": [
       "<Figure size 432x288 with 1 Axes>"
      ]
     },
     "metadata": {
      "needs_background": "light"
     },
     "output_type": "display_data"
    }
   ],
   "source": [
    "# Гистограмма для столбца \"days_exposition\"\n",
    "data.hist('days_exposition', bins=100);\n",
    "data.hist('days_exposition', bins=100, range = (0, 100));\n",
    "print(f'Среднее время продажи квартиры в днях:',int(data['days_exposition'].mean()))\n",
    "print(f'Медианное время продажи квартиры в днях:',int(data['days_exposition'].median()))\n",
    "\n",
    "print('\\nКоличество объявлений, которые сняты через:')\n",
    "print('45 дней:',data[data['days_exposition']==45]['days_exposition'].count())\n",
    "print('60 дней:',data[data['days_exposition']==60]['days_exposition'].count())\n",
    "print('90 дней:',data[data['days_exposition']==90]['days_exposition'].count())"
   ]
  },
  {
   "cell_type": "markdown",
   "metadata": {},
   "source": [
    "    Из гистограммы видно, что объявления, как правило, размещаются на период до 3 месяцев, что может считаться достаточно быстрой продажей, но также достаточно много объявлений остается более 7-8 месяцев, что относительно очень медленно. Среднее время продажи - 181 день, значение медианы составляет 96 дней."
   ]
  },
  {
   "cell_type": "markdown",
   "metadata": {},
   "source": [
    "    Построим коэффициент корреляции квартиры, чтобы рассмотреть, какие факторы больше всего влияют на стоимость."
   ]
  },
  {
   "cell_type": "code",
   "execution_count": 53,
   "metadata": {
    "scrolled": true
   },
   "outputs": [
    {
     "name": "stdout",
     "output_type": "stream",
     "text": [
      "Корреляция между last_price и total_area составляет: 75.70%\n",
      "Корреляция между last_price и living_area составляет: 63.72%\n",
      "Корреляция между last_price и kitchen_area составляет: 55.37%\n",
      "Корреляция между last_price и rooms составляет: 45.89%\n"
     ]
    }
   ],
   "source": [
    "# Факторы, влияющме главным образом на полную стоимость объекта\n",
    "list_for_graph = ['total_area',\n",
    "                  'living_area',\n",
    "                  'kitchen_area',\n",
    "                  'rooms',\n",
    "                  ]\n",
    "\n",
    "for i in list_for_graph:\n",
    "    correlation = data['last_price'].corr(data[i])\n",
    "    print(f'Корреляция между last_price и {i} составляет: {correlation:0.2%}')"
   ]
  },
  {
   "cell_type": "code",
   "execution_count": 54,
   "metadata": {},
   "outputs": [
    {
     "data": {
      "text/plain": [
       "<AxesSubplot:xlabel='rooms'>"
      ]
     },
     "execution_count": 54,
     "metadata": {},
     "output_type": "execute_result"
    },
    {
     "data": {
      "image/png": "[encoded data removed]",
      "text/plain": [
       "<Figure size 432x288 with 1 Axes>"
      ]
     },
     "metadata": {
      "needs_background": "light"
     },
     "output_type": "display_data"
    },
    {
     "data": {
      "image/png": "[encoded data removed]",
      "text/plain": [
       "<Figure size 432x288 with 1 Axes>"
      ]
     },
     "metadata": {
      "needs_background": "light"
     },
     "output_type": "display_data"
    },
    {
     "data": {
      "image/png": "[encoded data removed]",
      "text/plain": [
       "<Figure size 432x288 with 1 Axes>"
      ]
     },
     "metadata": {
      "needs_background": "light"
     },
     "output_type": "display_data"
    },
    {
     "data": {
      "image/png": "[encoded data removed]",
      "text/plain": [
       "<Figure size 432x288 with 1 Axes>"
      ]
     },
     "metadata": {
      "needs_background": "light"
     },
     "output_type": "display_data"
    }
   ],
   "source": [
    "# Построим графики для наглядности\n",
    "data.plot(x='last_price', y='total_area', kind='scatter', alpha=0.3)\n",
    "data.plot(x='last_price', y='living_area', kind='scatter', alpha=0.3)\n",
    "data.plot(x='last_price', y='kitchen_area', kind='scatter', alpha=0.3)\n",
    "data.pivot_table(index='rooms',values='last_price').plot(y='last_price', kind='bar')"
   ]
  },
  {
   "cell_type": "markdown",
   "metadata": {},
   "source": [
    "    Оценим зависимость цены квартиры от площади, числа комнат и удалённости от центра"
   ]
  },
  {
   "cell_type": "code",
   "execution_count": 1,
   "metadata": {},
   "outputs": [
    {
     "ename": "NameError",
     "evalue": "name 'data' is not defined",
     "output_type": "error",
     "traceback": [
      "\u001b[1;31m---------------------------------------------------------------------------\u001b[0m",
      "\u001b[1;31mNameError\u001b[0m                                 Traceback (most recent call last)",
      "Cell \u001b[1;32mIn[1], line 2\u001b[0m\n\u001b[0;32m      1\u001b[0m \u001b[38;5;66;03m#Зависимость цены одного м2 от площади квартиры\u001b[39;00m\n\u001b[1;32m----> 2\u001b[0m data\u001b[38;5;241m.\u001b[39mquery(\u001b[38;5;124m'\u001b[39m\u001b[38;5;124mtotal_area<200\u001b[39m\u001b[38;5;124m'\u001b[39m)\u001b[38;5;241m.\u001b[39mpivot_table(index\u001b[38;5;241m=\u001b[39m\u001b[38;5;124m'\u001b[39m\u001b[38;5;124mtotal_area\u001b[39m\u001b[38;5;124m'\u001b[39m, values\u001b[38;5;241m=\u001b[39m\u001b[38;5;124m'\u001b[39m\u001b[38;5;124mprice_area\u001b[39m\u001b[38;5;124m'\u001b[39m, aggfunc\u001b[38;5;241m=\u001b[39m\u001b[38;5;124m'\u001b[39m\u001b[38;5;124mmedian\u001b[39m\u001b[38;5;124m'\u001b[39m)\u001b[38;5;241m.\u001b[39mplot(style\u001b[38;5;241m=\u001b[39m\u001b[38;5;124m'\u001b[39m\u001b[38;5;124mo\u001b[39m\u001b[38;5;124m'\u001b[39m)\n",
      "\u001b[1;31mNameError\u001b[0m: name 'data' is not defined"
     ]
    }
   ],
   "source": [
    "#Зависимость цены одного м2 от площади квартиры\n",
    "data.query('total_area<200').pivot_table(index='total_area', values='price_area', aggfunc='median').plot(style='o');"
   ]
  },
  {
   "cell_type": "markdown",
   "metadata": {},
   "source": [
    "    Можно проследить некоторую закономерность - чем больше площадь квартиры, тем меньше цена квадратного метра и квартиры в целом."
   ]
  },
  {
   "cell_type": "code",
   "execution_count": 56,
   "metadata": {},
   "outputs": [
    {
     "data": {
      "text/plain": [
       "<AxesSubplot:xlabel='rooms'>"
      ]
     },
     "execution_count": 56,
     "metadata": {},
     "output_type": "execute_result"
    },
    {
     "data": {
      "image/png": "[encoded data removed]",
      "text/plain": [
       "<Figure size 432x288 with 1 Axes>"
      ]
     },
     "metadata": {
      "needs_background": "light"
     },
     "output_type": "display_data"
    }
   ],
   "source": [
    "# Оценим зависимость цены одного м2 от числа комнат\n",
    "data.query('last_price<80000000').pivot_table(index='rooms', values='price_area', aggfunc='median').plot(style='o-', xlim=(0, 10));"
   ]
  },
  {
   "cell_type": "markdown",
   "metadata": {},
   "source": [
    "    Из графика видно, что цена за один м2 уменьшается при увеличении числа комнат до 3, начиная с 4 комнат, цена м2 увеличивается - эта прогрессия идет до 7 комнат, а далее опять прослеживается снижжение цены за м2."
   ]
  },
  {
   "cell_type": "code",
   "execution_count": 57,
   "metadata": {},
   "outputs": [
    {
     "data": {
      "text/plain": [
       "<AxesSubplot:xlabel='city_centers_nearest'>"
      ]
     },
     "execution_count": 57,
     "metadata": {},
     "output_type": "execute_result"
    },
    {
     "data": {
      "image/png": "[encoded data removed]",
      "text/plain": [
       "<Figure size 432x288 with 1 Axes>"
      ]
     },
     "metadata": {
      "needs_background": "light"
     },
     "output_type": "display_data"
    }
   ],
   "source": [
    "# Оценим зависимость цены одного м2 от удаленности от центра\n",
    "data.query('last_price<100000000').pivot_table(index='city_centers_nearest', values='price_area', aggfunc='median').plot(style='o');"
   ]
  },
  {
   "cell_type": "markdown",
   "metadata": {},
   "source": [
    "    Прослеживается прямое влияние расстояния до центра на стоимость квартиры: чем ближе к центру - тем дороже. При расстоянии до центра более 30 км., данная зависимость явно менее выражена."
   ]
  },
  {
   "cell_type": "code",
   "execution_count": 58,
   "metadata": {},
   "outputs": [
    {
     "data": {
      "text/plain": [
       "<AxesSubplot:xlabel='last_price', ylabel='floor_group'>"
      ]
     },
     "execution_count": 58,
     "metadata": {},
     "output_type": "execute_result"
    },
    {
     "data": {
      "image/png": "[encoded data removed]",
      "text/plain": [
       "<Figure size 432x288 with 1 Axes>"
      ]
     },
     "metadata": {
      "needs_background": "light"
     },
     "output_type": "display_data"
    },
    {
     "data": {
      "image/png": "[encoded data removed]",
      "text/plain": [
       "<Figure size 432x288 with 1 Axes>"
      ]
     },
     "metadata": {
      "needs_background": "light"
     },
     "output_type": "display_data"
    }
   ],
   "source": [
    "data.pivot_table(index='floor_group',values='last_price').plot(y='last_price', kind='barh');\n",
    "\n",
    "data.plot(x='last_price', y='floor_group', kind='scatter', alpha=0.2);"
   ]
  },
  {
   "cell_type": "markdown",
   "metadata": {},
   "source": [
    "    Квартиры на первом и других этажах дешевле чем на последнем. Также на первом этаже цена существенно ниже, чем на других"
   ]
  },
  {
   "cell_type": "code",
   "execution_count": 59,
   "metadata": {},
   "outputs": [
    {
     "data": {
      "text/plain": [
       "<AxesSubplot:xlabel='day_weekday'>"
      ]
     },
     "execution_count": 59,
     "metadata": {},
     "output_type": "execute_result"
    },
    {
     "data": {
      "image/png": "[encoded data removed]",
      "text/plain": [
       "<Figure size 432x288 with 1 Axes>"
      ]
     },
     "metadata": {
      "needs_background": "light"
     },
     "output_type": "display_data"
    }
   ],
   "source": [
    "# Оценим зависимость цены м2 от дня размещения объявления\n",
    "data.query('last_price<100000000').pivot_table(index='day_weekday', values='price_area', aggfunc='median').plot(style='o-');"
   ]
  },
  {
   "cell_type": "markdown",
   "metadata": {},
   "source": [
    "    Наивысшее значение цены одного м2 у объявлений, которые выставляются в начале недели, наименьшее - у объявлений выставленных в конце недели."
   ]
  },
  {
   "cell_type": "code",
   "execution_count": 60,
   "metadata": {},
   "outputs": [
    {
     "data": {
      "text/plain": [
       "<AxesSubplot:xlabel='day_month'>"
      ]
     },
     "execution_count": 60,
     "metadata": {},
     "output_type": "execute_result"
    },
    {
     "data": {
      "image/png": "[encoded data removed]",
      "text/plain": [
       "<Figure size 432x288 with 1 Axes>"
      ]
     },
     "metadata": {
      "needs_background": "light"
     },
     "output_type": "display_data"
    }
   ],
   "source": [
    "# Оценим зависимость цены м2 от месяца размещения объявления\n",
    "data.query('last_price<100000000').pivot_table(index='day_month', values='price_area', aggfunc='median').plot(style='o-');"
   ]
  },
  {
   "cell_type": "markdown",
   "metadata": {},
   "source": [
    "    Наибольшее значение цены одного м2 у объявлений, выставленных в апреле, за которым идет стремительное падение значений и как следствие, оказывается, что сразу же в следующем и последующем месяцах идут самые минимальные значения и по всему году в целом - это май и июнь. Далее через месяц идет \"отскок\" опять на одно из максимальных значений - август. "
   ]
  },
  {
   "cell_type": "code",
   "execution_count": 61,
   "metadata": {},
   "outputs": [
    {
     "data": {
      "text/plain": [
       "<AxesSubplot:xlabel='day_year'>"
      ]
     },
     "execution_count": 61,
     "metadata": {},
     "output_type": "execute_result"
    },
    {
     "data": {
      "image/png": "[encoded data removed]",
      "text/plain": [
       "<Figure size 432x288 with 1 Axes>"
      ]
     },
     "metadata": {
      "needs_background": "light"
     },
     "output_type": "display_data"
    }
   ],
   "source": [
    "# Оценим зависимость цены одного м2 от года размещения объявления\n",
    "data.query('last_price<100000000').pivot_table(index='day_year', values='price_area', aggfunc='median').plot(style='o-');"
   ]
  },
  {
   "cell_type": "markdown",
   "metadata": {},
   "source": [
    "    Наибольшее значение цены м2 у объявлений 14ого года, затем идет плавный спад до 2017г, далее относительно стремительный взлет к 2019г."
   ]
  },
  {
   "cell_type": "markdown",
   "metadata": {},
   "source": [
    "    Далее посчитаем среднюю цену одного квадратного метра в 10 населённых пунктах с наибольшим числом объявлений. Выделим населённые пункты с самой высокой и низкой стоимостью квадратного метра. "
   ]
  },
  {
   "cell_type": "code",
   "execution_count": 62,
   "metadata": {},
   "outputs": [
    {
     "data": {
      "text/plain": [
       "санкт-петербург      15422\n",
       "поселок мурино         525\n",
       "поселок шушары         434\n",
       "всеволожск             392\n",
       "пушкин                 368\n",
       "колпино                337\n",
       "поселок парголово      323\n",
       "гатчина                306\n",
       "деревня кудрово        283\n",
       "выборг                 237\n",
       "Name: locality_name, dtype: int64"
      ]
     },
     "metadata": {},
     "output_type": "display_data"
    }
   ],
   "source": [
    "local_ten=data['locality_name'].value_counts().sort_values(ascending=False).head(10)\n",
    "display(local_ten)"
   ]
  },
  {
   "cell_type": "code",
   "execution_count": 63,
   "metadata": {},
   "outputs": [
    {
     "data": {
      "text/plain": [
       "<AxesSubplot:xlabel='locality_name'>"
      ]
     },
     "execution_count": 63,
     "metadata": {},
     "output_type": "execute_result"
    },
    {
     "data": {
      "image/png": "[encoded data removed]",
      "text/plain": [
       "<Figure size 432x288 with 1 Axes>"
      ]
     },
     "metadata": {
      "needs_background": "light"
     },
     "output_type": "display_data"
    }
   ],
   "source": [
    "# Посчитаем среднюю цену м2 в этих населённых пунктах, выделим пункты с самой высокой и низкой стоимостью жилья.\n",
    "data.query('locality_name in @local_ten.index').pivot_table(index='locality_name', values='price_area', aggfunc='median').sort_values('price_area').plot(kind='bar');"
   ]
  },
  {
   "cell_type": "markdown",
   "metadata": {},
   "source": [
    "    На графике выделяются населённые пункты с самой высокой стоимостью жилья - это Санкт-Петербург и Пушкин, с самой низкой стоимостью - Выборг и Всеволожск."
   ]
  },
  {
   "cell_type": "markdown",
   "metadata": {},
   "source": [
    "    Теперь выделим квартиры в Санкт-Петербурге с помощью столбца `locality_name` и вычислим среднюю цену каждого километра. Опишим, как стоимость объектов зависит от расстояния до центра города."
   ]
  },
  {
   "cell_type": "code",
   "execution_count": 64,
   "metadata": {},
   "outputs": [
    {
     "data": {
      "text/plain": [
       "0        13000000\n",
       "1         3350000\n",
       "2         5196000\n",
       "3        64900000\n",
       "4        10000000\n",
       "           ...   \n",
       "23694     9700000\n",
       "23695     3100000\n",
       "23696     2500000\n",
       "23697    11475000\n",
       "23698     1350000\n",
       "Name: last_price, Length: 23237, dtype: int64"
      ]
     },
     "execution_count": 64,
     "metadata": {},
     "output_type": "execute_result"
    }
   ],
   "source": [
    "# Создадим в датасете столбец с расстоянием до центра в километрах, округлим его до целых значений\n",
    "data['city_centers'] = data['city_centers_nearest'].dropna().astype(int)\n",
    "data['last_price'].astype(int)"
   ]
  },
  {
   "cell_type": "code",
   "execution_count": 65,
   "metadata": {
    "scrolled": true
   },
   "outputs": [
    {
     "data": {
      "text/html": [
       "<div>\n",
       "<style scoped>\n",
       "    .dataframe tbody tr th:only-of-type {\n",
       "        vertical-align: middle;\n",
       "    }\n",
       "\n",
       "    .dataframe tbody tr th {\n",
       "        vertical-align: top;\n",
       "    }\n",
       "\n",
       "    .dataframe thead th {\n",
       "        text-align: right;\n",
       "    }\n",
       "</style>\n",
       "<table border=\"1\" class=\"dataframe\">\n",
       "  <thead>\n",
       "    <tr style=\"text-align: right;\">\n",
       "      <th></th>\n",
       "      <th>total_images</th>\n",
       "      <th>last_price</th>\n",
       "      <th>total_area</th>\n",
       "      <th>first_day_exposition</th>\n",
       "      <th>rooms</th>\n",
       "      <th>ceiling_height</th>\n",
       "      <th>floors_total</th>\n",
       "      <th>living_area</th>\n",
       "      <th>floor</th>\n",
       "      <th>is_apartment</th>\n",
       "      <th>...</th>\n",
       "      <th>days_exposition</th>\n",
       "      <th>living_total</th>\n",
       "      <th>kitchen_total</th>\n",
       "      <th>price_area</th>\n",
       "      <th>day_weekday</th>\n",
       "      <th>day_month</th>\n",
       "      <th>day_year</th>\n",
       "      <th>floor_group</th>\n",
       "      <th>city_centers</th>\n",
       "      <th>price_km</th>\n",
       "    </tr>\n",
       "  </thead>\n",
       "  <tbody>\n",
       "    <tr>\n",
       "      <th>0</th>\n",
       "      <td>20</td>\n",
       "      <td>13000000.0</td>\n",
       "      <td>108.0</td>\n",
       "      <td>2019-03-07</td>\n",
       "      <td>3</td>\n",
       "      <td>2.70</td>\n",
       "      <td>16</td>\n",
       "      <td>51.0</td>\n",
       "      <td>8</td>\n",
       "      <td>False</td>\n",
       "      <td>...</td>\n",
       "      <td>NaN</td>\n",
       "      <td>0.472222</td>\n",
       "      <td>0.231481</td>\n",
       "      <td>120370.370370</td>\n",
       "      <td>3</td>\n",
       "      <td>3</td>\n",
       "      <td>2019</td>\n",
       "      <td>другой</td>\n",
       "      <td>16.0</td>\n",
       "      <td>8.125000e+05</td>\n",
       "    </tr>\n",
       "    <tr>\n",
       "      <th>1</th>\n",
       "      <td>7</td>\n",
       "      <td>3350000.0</td>\n",
       "      <td>40.4</td>\n",
       "      <td>2018-12-04</td>\n",
       "      <td>1</td>\n",
       "      <td>2.75</td>\n",
       "      <td>11</td>\n",
       "      <td>18.6</td>\n",
       "      <td>1</td>\n",
       "      <td>False</td>\n",
       "      <td>...</td>\n",
       "      <td>81.0</td>\n",
       "      <td>0.460396</td>\n",
       "      <td>0.272277</td>\n",
       "      <td>82920.792079</td>\n",
       "      <td>1</td>\n",
       "      <td>12</td>\n",
       "      <td>2018</td>\n",
       "      <td>первый</td>\n",
       "      <td>19.0</td>\n",
       "      <td>1.763158e+05</td>\n",
       "    </tr>\n",
       "    <tr>\n",
       "      <th>2</th>\n",
       "      <td>10</td>\n",
       "      <td>5196000.0</td>\n",
       "      <td>56.0</td>\n",
       "      <td>2015-08-20</td>\n",
       "      <td>2</td>\n",
       "      <td>2.55</td>\n",
       "      <td>5</td>\n",
       "      <td>34.3</td>\n",
       "      <td>4</td>\n",
       "      <td>False</td>\n",
       "      <td>...</td>\n",
       "      <td>558.0</td>\n",
       "      <td>0.612500</td>\n",
       "      <td>0.148214</td>\n",
       "      <td>92785.714286</td>\n",
       "      <td>3</td>\n",
       "      <td>8</td>\n",
       "      <td>2015</td>\n",
       "      <td>другой</td>\n",
       "      <td>14.0</td>\n",
       "      <td>3.711429e+05</td>\n",
       "    </tr>\n",
       "    <tr>\n",
       "      <th>3</th>\n",
       "      <td>0</td>\n",
       "      <td>64900000.0</td>\n",
       "      <td>159.0</td>\n",
       "      <td>2015-07-24</td>\n",
       "      <td>3</td>\n",
       "      <td>2.60</td>\n",
       "      <td>14</td>\n",
       "      <td>45.0</td>\n",
       "      <td>9</td>\n",
       "      <td>False</td>\n",
       "      <td>...</td>\n",
       "      <td>424.0</td>\n",
       "      <td>0.283019</td>\n",
       "      <td>0.059748</td>\n",
       "      <td>408176.100629</td>\n",
       "      <td>4</td>\n",
       "      <td>7</td>\n",
       "      <td>2015</td>\n",
       "      <td>другой</td>\n",
       "      <td>7.0</td>\n",
       "      <td>9.271429e+06</td>\n",
       "    </tr>\n",
       "    <tr>\n",
       "      <th>4</th>\n",
       "      <td>2</td>\n",
       "      <td>10000000.0</td>\n",
       "      <td>100.0</td>\n",
       "      <td>2018-06-19</td>\n",
       "      <td>2</td>\n",
       "      <td>3.03</td>\n",
       "      <td>14</td>\n",
       "      <td>32.0</td>\n",
       "      <td>13</td>\n",
       "      <td>False</td>\n",
       "      <td>...</td>\n",
       "      <td>121.0</td>\n",
       "      <td>0.320000</td>\n",
       "      <td>0.410000</td>\n",
       "      <td>100000.000000</td>\n",
       "      <td>1</td>\n",
       "      <td>6</td>\n",
       "      <td>2018</td>\n",
       "      <td>другой</td>\n",
       "      <td>8.0</td>\n",
       "      <td>1.250000e+06</td>\n",
       "    </tr>\n",
       "  </tbody>\n",
       "</table>\n",
       "<p>5 rows × 31 columns</p>\n",
       "</div>"
      ],
      "text/plain": [
       "   total_images  last_price  total_area first_day_exposition  rooms  \\\n",
       "0            20  13000000.0       108.0           2019-03-07      3   \n",
       "1             7   3350000.0        40.4           2018-12-04      1   \n",
       "2            10   5196000.0        56.0           2015-08-20      2   \n",
       "3             0  64900000.0       159.0           2015-07-24      3   \n",
       "4             2  10000000.0       100.0           2018-06-19      2   \n",
       "\n",
       "   ceiling_height  floors_total  living_area  floor  is_apartment  ...  \\\n",
       "0            2.70            16         51.0      8         False  ...   \n",
       "1            2.75            11         18.6      1         False  ...   \n",
       "2            2.55             5         34.3      4         False  ...   \n",
       "3            2.60            14         45.0      9         False  ...   \n",
       "4            3.03            14         32.0     13         False  ...   \n",
       "\n",
       "   days_exposition  living_total  kitchen_total     price_area day_weekday  \\\n",
       "0              NaN      0.472222       0.231481  120370.370370           3   \n",
       "1             81.0      0.460396       0.272277   82920.792079           1   \n",
       "2            558.0      0.612500       0.148214   92785.714286           3   \n",
       "3            424.0      0.283019       0.059748  408176.100629           4   \n",
       "4            121.0      0.320000       0.410000  100000.000000           1   \n",
       "\n",
       "   day_month  day_year  floor_group  city_centers      price_km  \n",
       "0          3      2019       другой          16.0  8.125000e+05  \n",
       "1         12      2018       первый          19.0  1.763158e+05  \n",
       "2          8      2015       другой          14.0  3.711429e+05  \n",
       "3          7      2015       другой           7.0  9.271429e+06  \n",
       "4          6      2018       другой           8.0  1.250000e+06  \n",
       "\n",
       "[5 rows x 31 columns]"
      ]
     },
     "execution_count": 65,
     "metadata": {},
     "output_type": "execute_result"
    }
   ],
   "source": [
    "# посчитаем среднюю цену для каждого километра.\n",
    "data['price_km'] = data['last_price'] / data['city_centers'].dropna().astype(int)\n",
    "data.head()\n"
   ]
  },
  {
   "cell_type": "code",
   "execution_count": 66,
   "metadata": {
    "scrolled": true
   },
   "outputs": [
    {
     "data": {
      "text/plain": [
       "<AxesSubplot:xlabel='city_centers_nearest'>"
      ]
     },
     "execution_count": 66,
     "metadata": {},
     "output_type": "execute_result"
    },
    {
     "data": {
      "image/png": "[encoded data removed]",
      "text/plain": [
       "<Figure size 432x288 with 1 Axes>"
      ]
     },
     "metadata": {
      "needs_background": "light"
     },
     "output_type": "display_data"
    }
   ],
   "source": [
    "# Расстояние до центра на графике изобразим\n",
    "(\n",
    "    data[data['locality_name']=='санкт-петербург']\n",
    "    .pivot_table(\n",
    "        index='city_centers_nearest',\n",
    "        values='last_price',\n",
    "        aggfunc='mean')\n",
    "    .plot(kind='bar')\n",
    ");"
   ]
  },
  {
   "cell_type": "markdown",
   "metadata": {},
   "source": [
    "     Наблюдаем большой отрыв недвижимости до 1км.\n",
    "Также видно, что более низкие цены на недвижимость на расстоянии 1-7км.\n",
    "Далее цена стремительно идет вниз на расстоянии от 8 до 27км.\n",
    "Виден пик на 27км - предположительно это недвижимость в элитном р-не."
   ]
  },
  {
   "cell_type": "markdown",
   "metadata": {},
   "source": [
    "### Общий вывод"
   ]
  },
  {
   "cell_type": "markdown",
   "metadata": {},
   "source": [
    "    Проведя аналитическую работу по объявлениям о продаже квартир в Санкт-Петербурге и соседних населённых пунктах можно постановить следующее:\n",
    "\n",
    "- Выявлена прямая зависимость стоимости расстояния от квартиры до центра города - чем ближе к центру тем дороже. Средняя расстояние до центра - 13,7 км.\n",
    "- Высота потолков является одним из самых сильным фактором цены: высота от 2.7 до 3.0 прямо влияет на цену кв. метра. \n",
    "- Квартиры на первом и других этажах дешевле чем на последнем. Также на первом этаже цена существенно ниже, чем на других\n",
    "- При прочих равных цена квартир растет от 1 до 3 комнат, далее просматривается увеличение кол-ва комнат от 4 - стоимость м2 снижается.\n",
    "- В целом можно выделить некоторую тенденцию - чем больше площадь квартиры, тем меньше цена м2 и квартиры в целом. Средняя площадь квартиры - 60м2.\n",
    "- Стоимость м2 плавно растет до 7-8 этажа, после чего стоимость одного м2 понижается.\n",
    "- Парки и водоемы поблизости немного добавляют стоимость м2.\n",
    "- Самые высокие цены на квартиры, выставленных в апреле и августе, наименьшая - у объявлений выставленных в мае и июне.\n",
    "- Наибольшая средняя цена квартир, которые выставили на продажу в начале недели - понедельник, вторник, наименьшая - у объявлений выставленных в конце недели - суббота, воскресенье. Наибольшее значение цены м2 у объявлений 14ого года, затем идет плавный спад до 2017г, далее относительно стремительный взлет к 2019г.\n",
    "- Как правило, объявления размещаются на период до 3 месяцев, что считается довольно быстрой продажей, но достаточно объявлений также продолжает висеть более 7-8 месяцев. Среднее время продажи - 181 день."
   ]
  },
  {
   "cell_type": "markdown",
   "metadata": {},
   "source": []
  },
  {
   "cell_type": "markdown",
   "metadata": {},
   "source": [
    "**Чек-лист готовности проекта**\n",
    "\n",
    "Поставьте 'x' в выполненных пунктах. Далее нажмите Shift+Enter."
   ]
  },
  {
   "cell_type": "markdown",
   "metadata": {},
   "source": [
    "- [x]  открыт файл\n",
    "- [x]  файлы изучены (выведены первые строки, метод `info()`, гистограммы и т.д.)\n",
    "- [x]  определены пропущенные значения\n",
    "- [x]  заполнены пропущенные значения там, где это возможно\n",
    "- [x]  есть пояснение, какие пропущенные значения обнаружены\n",
    "- [x]  изменены типы данных\n",
    "- [x]  есть пояснение, в каких столбцах изменены типы и почему\n",
    "- [x]  устранены неявные дубликаты в названиях населённых пунктов\n",
    "- [x]  устранены редкие и выбивающиеся значения (аномалии) во всех столбцах\n",
    "- [x]  посчитано и добавлено в таблицу: цена одного квадратного метра\n",
    "- [x]  посчитано и добавлено в таблицу: день публикации объявления (0 - понедельник, 1 - вторник и т.д.)\n",
    "- [x]  посчитано и добавлено в таблицу: месяц публикации объявления\n",
    "- [x]  посчитано и добавлено в таблицу: год публикации объявления\n",
    "- [x]  посчитано и добавлено в таблицу: тип этажа квартиры (значения — «первый», «последний», «другой»)\n",
    "- [x]  посчитано и добавлено в таблицу: расстояние в км до центра города\n",
    "- [x]  изучены и описаны следующие параметры:\n",
    "        - общая площадь;\n",
    "        - жилая площадь;\n",
    "        - площадь кухни;\n",
    "        - цена объекта;\n",
    "        - количество комнат;\n",
    "        - высота потолков;\n",
    "        - этаж квартиры;\n",
    "        - тип этажа квартиры («первый», «последний», «другой»);\n",
    "        - общее количество этажей в доме;\n",
    "        - расстояние до центра города в метрах;\n",
    "        - расстояние до ближайшего аэропорта;\n",
    "        - расстояние до ближайшего парка;\n",
    "        - день и месяц публикации объявления\n",
    "- [x]  построены гистограммы для каждого параметра\n",
    "- [x]  выполнено задание: \"Изучите, как быстро продавались квартиры (столбец days_exposition). Этот параметр показывает, сколько дней «висело» каждое объявление.\n",
    "    - Постройте гистограмму.\n",
    "    - Посчитайте среднее и медиану.\n",
    "    - В ячейке типа markdown опишите, сколько обычно занимает продажа. Какие продажи можно считать быстрыми, а какие — необычно долгими?\"\n",
    "- [x]  выполнено задание: \"Какие факторы больше всего влияют на общую (полную) стоимость объекта? Постройте графики, которые покажут зависимость цены от указанных ниже параметров. Для подготовки данных перед визуализацией вы можете использовать сводные таблицы.\"\n",
    "        - общей площади;\n",
    "        - жилой площади;\n",
    "        - площади кухни;\n",
    "        - количество комнат;\n",
    "        - типа этажа, на котором расположена квартира (первый, последний, другой);\n",
    "        - даты размещения (день недели, месяц, год);\n",
    "- [x]  выполнено задание: \"Посчитайте среднюю цену одного квадратного метра в 10 населённых пунктах с наибольшим числом объявлений. Выделите населённые пункты с самой высокой и низкой стоимостью квадратного метра. Эти данные можно найти по имени в столбце `locality_name`.\"\n",
    "- [x]  выполнено задание: \"Ранее вы посчитали расстояние до центра в километрах. Теперь выделите квартиры в Санкт-Петербурге с помощью столбца `locality_name` и вычислите среднюю цену каждого километра. Опишите, как стоимость объектов зависит от расстояния до центра города.\"\n",
    "- [x]  в каждом этапе есть промежуточные выводы\n",
    "- [x]  есть общий вывод"
   ]
  }
 ],
 "metadata": {
  "ExecuteTimeLog": [
   {
    "duration": 505,
    "start_time": "2022-11-24T11:04:56.502Z"
   },
   {
    "duration": 171,
    "start_time": "2022-11-24T11:07:32.692Z"
   },
   {
    "duration": 85,
    "start_time": "2022-11-24T11:07:36.139Z"
   },
   {
    "duration": 97,
    "start_time": "2022-11-24T11:07:48.287Z"
   },
   {
    "duration": 97,
    "start_time": "2022-11-24T11:08:20.646Z"
   },
   {
    "duration": 101,
    "start_time": "2022-11-24T11:37:33.828Z"
   },
   {
    "duration": 993,
    "start_time": "2022-11-26T09:55:40.952Z"
   },
   {
    "duration": 16,
    "start_time": "2022-11-26T09:57:50.655Z"
   },
   {
    "duration": 73,
    "start_time": "2022-11-26T09:58:38.418Z"
   },
   {
    "duration": 78,
    "start_time": "2022-11-26T10:09:36.623Z"
   },
   {
    "duration": 74,
    "start_time": "2022-11-26T10:10:25.086Z"
   },
   {
    "duration": 7,
    "start_time": "2022-11-26T10:10:27.532Z"
   },
   {
    "duration": 8,
    "start_time": "2022-11-26T10:15:40.589Z"
   },
   {
    "duration": 6,
    "start_time": "2022-11-26T10:17:04.356Z"
   },
   {
    "duration": 7,
    "start_time": "2022-11-26T10:17:20.000Z"
   },
   {
    "duration": 6,
    "start_time": "2022-11-26T10:17:41.529Z"
   },
   {
    "duration": 4,
    "start_time": "2022-11-26T10:18:06.858Z"
   },
   {
    "duration": 31,
    "start_time": "2022-11-26T10:23:36.784Z"
   },
   {
    "duration": 8,
    "start_time": "2022-11-26T10:23:40.116Z"
   },
   {
    "duration": 8,
    "start_time": "2022-11-26T10:28:26.216Z"
   },
   {
    "duration": 7,
    "start_time": "2022-11-26T10:28:49.784Z"
   },
   {
    "duration": 8,
    "start_time": "2022-11-26T10:29:05.767Z"
   },
   {
    "duration": 42,
    "start_time": "2022-11-26T10:36:32.233Z"
   },
   {
    "duration": 52,
    "start_time": "2022-11-26T10:36:41.474Z"
   },
   {
    "duration": 37,
    "start_time": "2022-11-26T14:20:57.442Z"
   },
   {
    "duration": 23,
    "start_time": "2022-11-26T14:24:46.570Z"
   },
   {
    "duration": 7,
    "start_time": "2022-11-26T14:31:49.451Z"
   },
   {
    "duration": 5,
    "start_time": "2022-11-26T19:05:33.901Z"
   },
   {
    "duration": 7,
    "start_time": "2022-11-26T19:06:05.161Z"
   },
   {
    "duration": 56,
    "start_time": "2022-11-27T09:30:14.237Z"
   },
   {
    "duration": 1195,
    "start_time": "2022-11-27T09:30:20.056Z"
   },
   {
    "duration": 19,
    "start_time": "2022-11-27T09:30:21.254Z"
   },
   {
    "duration": 107,
    "start_time": "2022-11-27T09:30:21.275Z"
   },
   {
    "duration": 5,
    "start_time": "2022-11-27T09:30:21.385Z"
   },
   {
    "duration": 22,
    "start_time": "2022-11-27T09:30:21.391Z"
   },
   {
    "duration": 26,
    "start_time": "2022-11-27T09:30:21.415Z"
   },
   {
    "duration": 87,
    "start_time": "2022-11-27T09:30:21.443Z"
   },
   {
    "duration": 46,
    "start_time": "2022-11-27T09:30:21.531Z"
   },
   {
    "duration": 28,
    "start_time": "2022-11-27T09:30:21.579Z"
   },
   {
    "duration": 29,
    "start_time": "2022-11-27T09:30:21.610Z"
   },
   {
    "duration": 12,
    "start_time": "2022-11-27T09:30:21.641Z"
   },
   {
    "duration": 35,
    "start_time": "2022-11-27T09:30:21.655Z"
   },
   {
    "duration": 27,
    "start_time": "2022-11-27T09:30:21.693Z"
   },
   {
    "duration": 13,
    "start_time": "2022-11-27T09:30:21.722Z"
   },
   {
    "duration": 11,
    "start_time": "2022-11-27T09:30:27.110Z"
   },
   {
    "duration": 22,
    "start_time": "2022-11-27T09:31:28.058Z"
   },
   {
    "duration": 19,
    "start_time": "2022-11-27T09:34:45.122Z"
   },
   {
    "duration": 14,
    "start_time": "2022-11-27T09:40:48.132Z"
   },
   {
    "duration": 39,
    "start_time": "2022-11-27T09:51:19.728Z"
   },
   {
    "duration": 32,
    "start_time": "2022-11-27T09:56:50.167Z"
   },
   {
    "duration": 16,
    "start_time": "2022-11-27T09:56:53.885Z"
   },
   {
    "duration": 21,
    "start_time": "2022-11-27T09:56:56.893Z"
   },
   {
    "duration": 28,
    "start_time": "2022-11-27T09:57:22.833Z"
   },
   {
    "duration": 4,
    "start_time": "2022-11-27T10:28:27.081Z"
   },
   {
    "duration": 4,
    "start_time": "2022-11-27T10:34:06.051Z"
   },
   {
    "duration": 7,
    "start_time": "2022-11-27T10:34:39.985Z"
   },
   {
    "duration": 274,
    "start_time": "2022-11-27T10:38:02.641Z"
   },
   {
    "duration": 309,
    "start_time": "2022-11-27T10:41:37.371Z"
   },
   {
    "duration": 268,
    "start_time": "2022-11-27T10:47:47.785Z"
   },
   {
    "duration": 216,
    "start_time": "2022-11-27T10:51:57.796Z"
   },
   {
    "duration": 213,
    "start_time": "2022-11-27T10:52:46.262Z"
   },
   {
    "duration": 206,
    "start_time": "2022-11-27T10:56:04.391Z"
   },
   {
    "duration": 11,
    "start_time": "2022-11-27T11:02:00.811Z"
   },
   {
    "duration": 11,
    "start_time": "2022-11-27T12:53:55.444Z"
   },
   {
    "duration": 50,
    "start_time": "2022-11-27T12:57:20.758Z"
   },
   {
    "duration": 141,
    "start_time": "2022-11-27T12:59:53.266Z"
   },
   {
    "duration": 122,
    "start_time": "2022-11-27T13:07:03.350Z"
   },
   {
    "duration": 48,
    "start_time": "2022-11-27T13:10:25.764Z"
   },
   {
    "duration": 19,
    "start_time": "2022-11-27T13:10:51.654Z"
   },
   {
    "duration": 158,
    "start_time": "2022-11-27T13:11:47.581Z"
   },
   {
    "duration": 46,
    "start_time": "2022-11-27T13:15:27.553Z"
   },
   {
    "duration": 47,
    "start_time": "2022-11-27T13:15:46.563Z"
   },
   {
    "duration": 57,
    "start_time": "2022-11-27T13:19:56.880Z"
   },
   {
    "duration": 34,
    "start_time": "2022-11-27T13:59:01.926Z"
   },
   {
    "duration": 21,
    "start_time": "2022-11-27T13:59:35.311Z"
   },
   {
    "duration": 326,
    "start_time": "2022-11-27T14:15:58.144Z"
   },
   {
    "duration": 17,
    "start_time": "2022-11-27T14:23:05.922Z"
   },
   {
    "duration": 39,
    "start_time": "2022-11-27T14:23:16.196Z"
   },
   {
    "duration": 18,
    "start_time": "2022-11-27T14:23:33.727Z"
   },
   {
    "duration": 120,
    "start_time": "2022-11-27T14:24:24.546Z"
   },
   {
    "duration": 151,
    "start_time": "2022-11-27T14:24:31.278Z"
   },
   {
    "duration": 201,
    "start_time": "2022-11-27T14:25:34.189Z"
   },
   {
    "duration": 12,
    "start_time": "2022-11-27T14:28:26.228Z"
   },
   {
    "duration": 131,
    "start_time": "2022-11-27T14:34:18.995Z"
   },
   {
    "duration": 493,
    "start_time": "2022-11-27T14:44:10.930Z"
   },
   {
    "duration": 563,
    "start_time": "2022-11-27T14:44:24.064Z"
   },
   {
    "duration": 512,
    "start_time": "2022-11-27T14:44:46.849Z"
   },
   {
    "duration": 523,
    "start_time": "2022-11-27T14:44:58.198Z"
   },
   {
    "duration": 14,
    "start_time": "2022-11-27T14:52:03.727Z"
   },
   {
    "duration": 284,
    "start_time": "2022-11-27T14:52:44.518Z"
   },
   {
    "duration": 140,
    "start_time": "2022-11-27T14:56:21.095Z"
   },
   {
    "duration": 146,
    "start_time": "2022-11-27T14:58:16.055Z"
   },
   {
    "duration": 147,
    "start_time": "2022-11-27T15:03:00.990Z"
   },
   {
    "duration": 8,
    "start_time": "2022-11-27T15:08:26.611Z"
   },
   {
    "duration": 32,
    "start_time": "2022-11-27T15:10:57.886Z"
   },
   {
    "duration": 28,
    "start_time": "2022-11-27T15:12:04.940Z"
   },
   {
    "duration": 124,
    "start_time": "2022-11-27T15:12:56.390Z"
   },
   {
    "duration": 28,
    "start_time": "2022-11-27T15:13:31.535Z"
   },
   {
    "duration": 149,
    "start_time": "2022-11-27T15:13:57.214Z"
   },
   {
    "duration": 169,
    "start_time": "2022-11-27T15:15:13.286Z"
   },
   {
    "duration": 182,
    "start_time": "2022-11-27T15:16:04.742Z"
   },
   {
    "duration": 29,
    "start_time": "2022-11-27T15:22:43.026Z"
   },
   {
    "duration": 36,
    "start_time": "2022-11-27T15:24:36.059Z"
   },
   {
    "duration": 8,
    "start_time": "2022-11-27T15:26:58.016Z"
   },
   {
    "duration": 6,
    "start_time": "2022-11-27T15:28:12.352Z"
   },
   {
    "duration": 6,
    "start_time": "2022-11-27T15:28:17.875Z"
   },
   {
    "duration": 29,
    "start_time": "2022-11-27T15:28:28.586Z"
   },
   {
    "duration": 5,
    "start_time": "2022-11-27T17:01:37.303Z"
   },
   {
    "duration": 27,
    "start_time": "2022-11-27T17:28:40.702Z"
   },
   {
    "duration": 24,
    "start_time": "2022-11-27T17:28:44.362Z"
   },
   {
    "duration": 163,
    "start_time": "2022-11-27T17:29:25.518Z"
   },
   {
    "duration": 26,
    "start_time": "2022-11-27T17:30:14.065Z"
   },
   {
    "duration": 26,
    "start_time": "2022-11-27T17:57:41.291Z"
   },
   {
    "duration": 27,
    "start_time": "2022-11-27T17:58:14.338Z"
   },
   {
    "duration": 24,
    "start_time": "2022-11-27T17:58:23.138Z"
   },
   {
    "duration": 8,
    "start_time": "2022-11-27T17:58:29.477Z"
   },
   {
    "duration": 26,
    "start_time": "2022-11-27T17:58:34.593Z"
   },
   {
    "duration": 7,
    "start_time": "2022-11-27T17:58:47.736Z"
   },
   {
    "duration": 6,
    "start_time": "2022-11-27T17:59:37.257Z"
   },
   {
    "duration": 4,
    "start_time": "2022-11-27T17:59:47.635Z"
   },
   {
    "duration": 12,
    "start_time": "2022-11-27T19:24:56.507Z"
   },
   {
    "duration": 25,
    "start_time": "2022-11-27T19:26:07.945Z"
   },
   {
    "duration": 10,
    "start_time": "2022-11-27T19:26:20.012Z"
   },
   {
    "duration": 778,
    "start_time": "2022-11-27T20:03:09.099Z"
   },
   {
    "duration": 20,
    "start_time": "2022-11-27T20:03:09.880Z"
   },
   {
    "duration": 99,
    "start_time": "2022-11-27T20:03:09.902Z"
   },
   {
    "duration": 4,
    "start_time": "2022-11-27T20:03:10.005Z"
   },
   {
    "duration": 11,
    "start_time": "2022-11-27T20:03:10.011Z"
   },
   {
    "duration": 12,
    "start_time": "2022-11-27T20:03:10.024Z"
   },
   {
    "duration": 8,
    "start_time": "2022-11-27T20:03:10.053Z"
   },
   {
    "duration": 59,
    "start_time": "2022-11-27T20:03:10.063Z"
   },
   {
    "duration": 61,
    "start_time": "2022-11-27T20:03:10.123Z"
   },
   {
    "duration": 26,
    "start_time": "2022-11-27T20:03:10.187Z"
   },
   {
    "duration": 10,
    "start_time": "2022-11-27T20:03:10.215Z"
   },
   {
    "duration": 31,
    "start_time": "2022-11-27T20:03:10.227Z"
   },
   {
    "duration": 8,
    "start_time": "2022-11-27T20:03:10.260Z"
   },
   {
    "duration": 7,
    "start_time": "2022-11-27T20:03:10.270Z"
   },
   {
    "duration": 10,
    "start_time": "2022-11-27T20:03:10.279Z"
   },
   {
    "duration": 67,
    "start_time": "2022-11-27T20:03:10.291Z"
   },
   {
    "duration": 38,
    "start_time": "2022-11-27T20:03:10.360Z"
   },
   {
    "duration": 8,
    "start_time": "2022-11-27T20:03:10.400Z"
   },
   {
    "duration": 294,
    "start_time": "2022-11-27T20:03:10.410Z"
   },
   {
    "duration": 562,
    "start_time": "2022-11-27T20:03:10.706Z"
   },
   {
    "duration": 403,
    "start_time": "2022-11-27T20:03:11.272Z"
   },
   {
    "duration": 503,
    "start_time": "2022-11-27T20:03:11.678Z"
   },
   {
    "duration": 172,
    "start_time": "2022-11-27T20:03:12.183Z"
   },
   {
    "duration": 288,
    "start_time": "2022-11-27T20:03:12.357Z"
   },
   {
    "duration": 185,
    "start_time": "2022-11-27T20:03:12.652Z"
   },
   {
    "duration": 293,
    "start_time": "2022-11-27T20:03:12.839Z"
   },
   {
    "duration": 267,
    "start_time": "2022-11-27T20:03:13.134Z"
   },
   {
    "duration": 247,
    "start_time": "2022-11-27T20:03:13.405Z"
   },
   {
    "duration": 236,
    "start_time": "2022-11-27T20:03:13.653Z"
   },
   {
    "duration": 126,
    "start_time": "2022-11-27T20:03:13.890Z"
   },
   {
    "duration": 250,
    "start_time": "2022-11-27T20:03:14.017Z"
   },
   {
    "duration": 399,
    "start_time": "2022-11-27T20:03:14.269Z"
   },
   {
    "duration": 309,
    "start_time": "2022-11-27T20:03:14.671Z"
   },
   {
    "duration": 237,
    "start_time": "2022-11-27T20:03:14.982Z"
   },
   {
    "duration": 481,
    "start_time": "2022-11-27T20:03:15.220Z"
   },
   {
    "duration": 12,
    "start_time": "2022-11-27T20:03:15.703Z"
   },
   {
    "duration": 11,
    "start_time": "2022-11-27T20:03:15.717Z"
   },
   {
    "duration": 60,
    "start_time": "2022-11-27T20:03:15.730Z"
   },
   {
    "duration": 168,
    "start_time": "2022-11-27T20:03:15.792Z"
   },
   {
    "duration": 145,
    "start_time": "2022-11-27T20:03:15.962Z"
   },
   {
    "duration": 163,
    "start_time": "2022-11-27T20:03:16.108Z"
   },
   {
    "duration": 418,
    "start_time": "2022-11-27T20:03:16.272Z"
   },
   {
    "duration": 146,
    "start_time": "2022-11-27T20:03:16.692Z"
   },
   {
    "duration": 153,
    "start_time": "2022-11-27T20:03:16.840Z"
   },
   {
    "duration": 157,
    "start_time": "2022-11-27T20:03:16.995Z"
   },
   {
    "duration": 7,
    "start_time": "2022-11-27T20:03:17.154Z"
   },
   {
    "duration": 194,
    "start_time": "2022-11-27T20:03:17.163Z"
   },
   {
    "duration": 10,
    "start_time": "2022-11-27T20:03:17.359Z"
   },
   {
    "duration": 29,
    "start_time": "2022-11-27T20:03:17.372Z"
   },
   {
    "duration": 42,
    "start_time": "2022-11-28T05:49:23.764Z"
   },
   {
    "duration": 1070,
    "start_time": "2022-11-28T05:49:35.630Z"
   },
   {
    "duration": 14,
    "start_time": "2022-11-28T05:49:36.702Z"
   },
   {
    "duration": 65,
    "start_time": "2022-11-28T05:49:36.717Z"
   },
   {
    "duration": 2,
    "start_time": "2022-11-28T05:49:36.784Z"
   },
   {
    "duration": 9,
    "start_time": "2022-11-28T05:49:36.788Z"
   },
   {
    "duration": 22,
    "start_time": "2022-11-28T05:49:36.799Z"
   },
   {
    "duration": 4,
    "start_time": "2022-11-28T05:49:36.823Z"
   },
   {
    "duration": 52,
    "start_time": "2022-11-28T05:49:36.828Z"
   },
   {
    "duration": 41,
    "start_time": "2022-11-28T05:49:36.881Z"
   },
   {
    "duration": 18,
    "start_time": "2022-11-28T05:49:36.925Z"
   },
   {
    "duration": 6,
    "start_time": "2022-11-28T05:49:36.945Z"
   },
   {
    "duration": 11,
    "start_time": "2022-11-28T05:49:36.953Z"
   },
   {
    "duration": 8,
    "start_time": "2022-11-28T05:49:36.965Z"
   },
   {
    "duration": 5,
    "start_time": "2022-11-28T05:49:36.974Z"
   },
   {
    "duration": 9,
    "start_time": "2022-11-28T05:49:36.981Z"
   },
   {
    "duration": 56,
    "start_time": "2022-11-28T05:49:36.992Z"
   },
   {
    "duration": 23,
    "start_time": "2022-11-28T05:49:37.050Z"
   },
   {
    "duration": 5,
    "start_time": "2022-11-28T05:49:37.074Z"
   },
   {
    "duration": 249,
    "start_time": "2022-11-28T05:49:37.080Z"
   },
   {
    "duration": 434,
    "start_time": "2022-11-28T05:49:37.331Z"
   },
   {
    "duration": 355,
    "start_time": "2022-11-28T05:49:37.767Z"
   },
   {
    "duration": 448,
    "start_time": "2022-11-28T05:49:38.124Z"
   },
   {
    "duration": 160,
    "start_time": "2022-11-28T05:49:38.574Z"
   },
   {
    "duration": 158,
    "start_time": "2022-11-28T05:49:38.736Z"
   },
   {
    "duration": 166,
    "start_time": "2022-11-28T05:49:38.895Z"
   },
   {
    "duration": 275,
    "start_time": "2022-11-28T05:49:39.063Z"
   },
   {
    "duration": 222,
    "start_time": "2022-11-28T05:49:39.340Z"
   },
   {
    "duration": 209,
    "start_time": "2022-11-28T05:49:39.566Z"
   },
   {
    "duration": 209,
    "start_time": "2022-11-28T05:49:39.776Z"
   },
   {
    "duration": 119,
    "start_time": "2022-11-28T05:49:39.987Z"
   },
   {
    "duration": 221,
    "start_time": "2022-11-28T05:49:40.107Z"
   },
   {
    "duration": 311,
    "start_time": "2022-11-28T05:49:40.330Z"
   },
   {
    "duration": 232,
    "start_time": "2022-11-28T05:49:40.642Z"
   },
   {
    "duration": 203,
    "start_time": "2022-11-28T05:49:40.876Z"
   },
   {
    "duration": 459,
    "start_time": "2022-11-28T05:49:41.080Z"
   },
   {
    "duration": 12,
    "start_time": "2022-11-28T05:49:41.541Z"
   },
   {
    "duration": 12,
    "start_time": "2022-11-28T05:49:41.554Z"
   },
   {
    "duration": 59,
    "start_time": "2022-11-28T05:49:41.568Z"
   },
   {
    "duration": 41,
    "start_time": "2022-11-28T05:49:41.628Z"
   },
   {
    "duration": 152,
    "start_time": "2022-11-28T05:49:41.671Z"
   },
   {
    "duration": 126,
    "start_time": "2022-11-28T05:49:41.824Z"
   },
   {
    "duration": 153,
    "start_time": "2022-11-28T05:49:41.951Z"
   },
   {
    "duration": 388,
    "start_time": "2022-11-28T05:49:42.106Z"
   },
   {
    "duration": 150,
    "start_time": "2022-11-28T05:49:42.495Z"
   },
   {
    "duration": 145,
    "start_time": "2022-11-28T05:49:42.647Z"
   },
   {
    "duration": 155,
    "start_time": "2022-11-28T05:49:42.794Z"
   },
   {
    "duration": 7,
    "start_time": "2022-11-28T05:49:42.950Z"
   },
   {
    "duration": 181,
    "start_time": "2022-11-28T05:49:42.959Z"
   },
   {
    "duration": 8,
    "start_time": "2022-11-28T05:49:43.141Z"
   },
   {
    "duration": 29,
    "start_time": "2022-11-28T05:49:43.150Z"
   },
   {
    "duration": 57,
    "start_time": "2022-11-28T14:25:39.784Z"
   },
   {
    "duration": 5,
    "start_time": "2022-11-28T14:25:56.984Z"
   },
   {
    "duration": 49,
    "start_time": "2022-11-28T14:31:42.190Z"
   },
   {
    "duration": 838,
    "start_time": "2022-11-28T14:31:55.999Z"
   },
   {
    "duration": 368,
    "start_time": "2022-11-28T14:31:58.300Z"
   },
   {
    "duration": 2046,
    "start_time": "2022-11-28T14:34:56.780Z"
   },
   {
    "duration": 27,
    "start_time": "2022-11-28T14:37:15.807Z"
   },
   {
    "duration": 43,
    "start_time": "2022-11-28T14:37:23.942Z"
   },
   {
    "duration": 22,
    "start_time": "2022-11-28T14:37:53.770Z"
   },
   {
    "duration": 23,
    "start_time": "2022-11-28T14:38:02.155Z"
   },
   {
    "duration": 21,
    "start_time": "2022-11-28T14:39:31.222Z"
   },
   {
    "duration": 5,
    "start_time": "2022-11-28T14:44:49.772Z"
   },
   {
    "duration": 4,
    "start_time": "2022-11-28T14:44:56.484Z"
   },
   {
    "duration": 29,
    "start_time": "2022-11-28T14:45:51.009Z"
   },
   {
    "duration": 26,
    "start_time": "2022-11-28T14:48:20.408Z"
   },
   {
    "duration": 4,
    "start_time": "2022-11-28T14:52:04.126Z"
   },
   {
    "duration": 6,
    "start_time": "2022-11-28T15:10:42.972Z"
   },
   {
    "duration": 10,
    "start_time": "2022-11-28T15:14:03.463Z"
   },
   {
    "duration": 11,
    "start_time": "2022-11-28T15:14:24.517Z"
   },
   {
    "duration": 5,
    "start_time": "2022-11-28T15:16:43.605Z"
   },
   {
    "duration": 7,
    "start_time": "2022-11-28T15:17:23.509Z"
   },
   {
    "duration": 4,
    "start_time": "2022-11-28T15:17:26.462Z"
   },
   {
    "duration": 14,
    "start_time": "2022-11-28T15:18:56.149Z"
   },
   {
    "duration": 14,
    "start_time": "2022-11-28T15:21:41.206Z"
   },
   {
    "duration": 6,
    "start_time": "2022-11-28T15:21:42.711Z"
   },
   {
    "duration": 7,
    "start_time": "2022-11-28T15:21:44.457Z"
   },
   {
    "duration": 7,
    "start_time": "2022-11-28T15:21:47.047Z"
   },
   {
    "duration": 28,
    "start_time": "2022-11-28T15:23:10.886Z"
   },
   {
    "duration": 23,
    "start_time": "2022-11-28T15:24:11.238Z"
   },
   {
    "duration": 18,
    "start_time": "2022-11-28T15:26:50.128Z"
   },
   {
    "duration": 128,
    "start_time": "2022-11-28T15:30:49.068Z"
   },
   {
    "duration": 3,
    "start_time": "2022-11-28T15:31:12.450Z"
   },
   {
    "duration": 118,
    "start_time": "2022-11-28T15:31:12.455Z"
   },
   {
    "duration": 17,
    "start_time": "2022-11-28T15:31:12.597Z"
   },
   {
    "duration": 95,
    "start_time": "2022-11-28T15:31:12.617Z"
   },
   {
    "duration": 2037,
    "start_time": "2022-11-28T15:31:12.713Z"
   },
   {
    "duration": 4,
    "start_time": "2022-11-28T15:31:14.752Z"
   },
   {
    "duration": 38,
    "start_time": "2022-11-28T15:31:14.758Z"
   },
   {
    "duration": 5,
    "start_time": "2022-11-28T15:31:14.800Z"
   },
   {
    "duration": 12,
    "start_time": "2022-11-28T15:31:14.807Z"
   },
   {
    "duration": 5,
    "start_time": "2022-11-28T15:31:14.821Z"
   },
   {
    "duration": 79,
    "start_time": "2022-11-28T15:31:14.828Z"
   },
   {
    "duration": 38,
    "start_time": "2022-11-28T15:31:14.909Z"
   },
   {
    "duration": 52,
    "start_time": "2022-11-28T15:31:14.949Z"
   },
   {
    "duration": 5,
    "start_time": "2022-11-28T15:31:15.004Z"
   },
   {
    "duration": 59,
    "start_time": "2022-11-28T15:31:15.011Z"
   },
   {
    "duration": 8,
    "start_time": "2022-11-28T15:31:15.072Z"
   },
   {
    "duration": 16,
    "start_time": "2022-11-28T15:31:15.082Z"
   },
   {
    "duration": 15,
    "start_time": "2022-11-28T15:31:15.100Z"
   },
   {
    "duration": 19,
    "start_time": "2022-11-28T15:31:15.117Z"
   },
   {
    "duration": 22,
    "start_time": "2022-11-28T15:31:15.138Z"
   },
   {
    "duration": 109,
    "start_time": "2022-11-28T15:31:15.162Z"
   },
   {
    "duration": 10,
    "start_time": "2022-11-28T15:31:15.273Z"
   },
   {
    "duration": 26,
    "start_time": "2022-11-28T15:31:15.296Z"
   },
   {
    "duration": 12,
    "start_time": "2022-11-28T15:31:15.326Z"
   },
   {
    "duration": 14,
    "start_time": "2022-11-28T15:31:15.340Z"
   },
   {
    "duration": 57,
    "start_time": "2022-11-28T15:31:15.357Z"
   },
   {
    "duration": 30,
    "start_time": "2022-11-28T15:31:15.416Z"
   },
   {
    "duration": 7,
    "start_time": "2022-11-28T15:31:15.447Z"
   },
   {
    "duration": 281,
    "start_time": "2022-11-28T15:31:15.455Z"
   },
   {
    "duration": 601,
    "start_time": "2022-11-28T15:31:15.738Z"
   },
   {
    "duration": 563,
    "start_time": "2022-11-28T15:31:16.341Z"
   },
   {
    "duration": 554,
    "start_time": "2022-11-28T15:31:16.906Z"
   },
   {
    "duration": 186,
    "start_time": "2022-11-28T15:31:17.462Z"
   },
   {
    "duration": 203,
    "start_time": "2022-11-28T15:31:17.650Z"
   },
   {
    "duration": 199,
    "start_time": "2022-11-28T15:31:17.854Z"
   },
   {
    "duration": 226,
    "start_time": "2022-11-28T15:31:18.054Z"
   },
   {
    "duration": 430,
    "start_time": "2022-11-28T15:31:18.282Z"
   },
   {
    "duration": 274,
    "start_time": "2022-11-28T15:31:18.714Z"
   },
   {
    "duration": 301,
    "start_time": "2022-11-28T15:31:18.989Z"
   },
   {
    "duration": 138,
    "start_time": "2022-11-28T15:31:19.295Z"
   },
   {
    "duration": 266,
    "start_time": "2022-11-28T15:31:19.435Z"
   },
   {
    "duration": 308,
    "start_time": "2022-11-28T15:31:19.703Z"
   },
   {
    "duration": 465,
    "start_time": "2022-11-28T15:31:20.013Z"
   },
   {
    "duration": 244,
    "start_time": "2022-11-28T15:31:20.480Z"
   },
   {
    "duration": 545,
    "start_time": "2022-11-28T15:31:20.726Z"
   },
   {
    "duration": 27,
    "start_time": "2022-11-28T15:31:21.273Z"
   },
   {
    "duration": 13,
    "start_time": "2022-11-28T15:31:21.302Z"
   },
   {
    "duration": 59,
    "start_time": "2022-11-28T15:31:21.318Z"
   },
   {
    "duration": 210,
    "start_time": "2022-11-28T15:31:21.379Z"
   },
   {
    "duration": 153,
    "start_time": "2022-11-28T15:31:21.593Z"
   },
   {
    "duration": 195,
    "start_time": "2022-11-28T15:31:21.748Z"
   },
   {
    "duration": 350,
    "start_time": "2022-11-28T15:31:21.946Z"
   },
   {
    "duration": 167,
    "start_time": "2022-11-28T15:31:22.298Z"
   },
   {
    "duration": 180,
    "start_time": "2022-11-28T15:31:22.466Z"
   },
   {
    "duration": 185,
    "start_time": "2022-11-28T15:31:22.648Z"
   },
   {
    "duration": 10,
    "start_time": "2022-11-28T15:31:22.836Z"
   },
   {
    "duration": 278,
    "start_time": "2022-11-28T15:31:22.848Z"
   },
   {
    "duration": 9,
    "start_time": "2022-11-28T15:31:23.128Z"
   },
   {
    "duration": 31,
    "start_time": "2022-11-28T15:31:23.140Z"
   },
   {
    "duration": 26,
    "start_time": "2022-11-28T16:22:02.556Z"
   },
   {
    "duration": 475,
    "start_time": "2022-11-28T16:30:22.381Z"
   },
   {
    "duration": 569,
    "start_time": "2022-11-28T16:32:45.078Z"
   },
   {
    "duration": 26,
    "start_time": "2022-11-28T16:40:03.949Z"
   },
   {
    "duration": 10,
    "start_time": "2022-11-28T16:41:46.335Z"
   },
   {
    "duration": 13,
    "start_time": "2022-11-28T16:41:48.649Z"
   },
   {
    "duration": 430,
    "start_time": "2022-11-28T16:44:25.988Z"
   },
   {
    "duration": 6,
    "start_time": "2022-11-28T16:51:47.760Z"
   },
   {
    "duration": 8,
    "start_time": "2022-11-28T16:53:31.947Z"
   },
   {
    "duration": 9,
    "start_time": "2022-11-28T17:03:09.082Z"
   },
   {
    "duration": 10,
    "start_time": "2022-11-28T17:03:22.153Z"
   },
   {
    "duration": 14,
    "start_time": "2022-11-28T17:04:17.749Z"
   },
   {
    "duration": 13,
    "start_time": "2022-11-28T17:05:10.348Z"
   },
   {
    "duration": 4,
    "start_time": "2022-11-28T17:07:01.434Z"
   },
   {
    "duration": 170,
    "start_time": "2022-11-28T17:07:01.440Z"
   },
   {
    "duration": 19,
    "start_time": "2022-11-28T17:07:01.613Z"
   },
   {
    "duration": 140,
    "start_time": "2022-11-28T17:07:01.635Z"
   },
   {
    "duration": 2056,
    "start_time": "2022-11-28T17:07:01.777Z"
   },
   {
    "duration": 4,
    "start_time": "2022-11-28T17:07:03.835Z"
   },
   {
    "duration": 55,
    "start_time": "2022-11-28T17:07:03.842Z"
   },
   {
    "duration": 6,
    "start_time": "2022-11-28T17:07:03.899Z"
   },
   {
    "duration": 22,
    "start_time": "2022-11-28T17:07:03.908Z"
   },
   {
    "duration": 12,
    "start_time": "2022-11-28T17:07:03.933Z"
   },
   {
    "duration": 239,
    "start_time": "2022-11-28T17:07:03.949Z"
   },
   {
    "duration": 38,
    "start_time": "2022-11-28T17:07:04.196Z"
   },
   {
    "duration": 21,
    "start_time": "2022-11-28T17:07:04.235Z"
   },
   {
    "duration": 5,
    "start_time": "2022-11-28T17:07:04.258Z"
   },
   {
    "duration": 60,
    "start_time": "2022-11-28T17:07:04.264Z"
   },
   {
    "duration": 8,
    "start_time": "2022-11-28T17:07:04.326Z"
   },
   {
    "duration": 17,
    "start_time": "2022-11-28T17:07:04.336Z"
   },
   {
    "duration": 21,
    "start_time": "2022-11-28T17:07:04.355Z"
   },
   {
    "duration": 33,
    "start_time": "2022-11-28T17:07:04.378Z"
   },
   {
    "duration": 21,
    "start_time": "2022-11-28T17:07:04.413Z"
   },
   {
    "duration": 111,
    "start_time": "2022-11-28T17:07:04.436Z"
   },
   {
    "duration": 22,
    "start_time": "2022-11-28T17:07:04.549Z"
   },
   {
    "duration": 440,
    "start_time": "2022-11-28T17:07:04.573Z"
   },
   {
    "duration": 29,
    "start_time": "2022-11-28T17:07:05.015Z"
   },
   {
    "duration": 451,
    "start_time": "2022-11-28T17:07:05.045Z"
   },
   {
    "duration": 17,
    "start_time": "2022-11-28T17:07:05.498Z"
   },
   {
    "duration": 27,
    "start_time": "2022-11-28T17:07:05.517Z"
   },
   {
    "duration": 31,
    "start_time": "2022-11-28T17:07:05.548Z"
   },
   {
    "duration": 40,
    "start_time": "2022-11-28T17:07:05.584Z"
   },
   {
    "duration": 18,
    "start_time": "2022-11-28T17:07:05.626Z"
   },
   {
    "duration": 32,
    "start_time": "2022-11-28T17:07:05.645Z"
   },
   {
    "duration": 61,
    "start_time": "2022-11-28T17:07:05.680Z"
   },
   {
    "duration": 35,
    "start_time": "2022-11-28T17:07:05.743Z"
   },
   {
    "duration": 20,
    "start_time": "2022-11-28T17:07:05.780Z"
   },
   {
    "duration": 0,
    "start_time": "2022-11-28T17:07:05.802Z"
   },
   {
    "duration": 0,
    "start_time": "2022-11-28T17:07:05.803Z"
   },
   {
    "duration": 0,
    "start_time": "2022-11-28T17:07:05.804Z"
   },
   {
    "duration": 0,
    "start_time": "2022-11-28T17:07:05.805Z"
   },
   {
    "duration": 0,
    "start_time": "2022-11-28T17:07:05.806Z"
   },
   {
    "duration": 0,
    "start_time": "2022-11-28T17:07:05.807Z"
   },
   {
    "duration": 0,
    "start_time": "2022-11-28T17:07:05.808Z"
   },
   {
    "duration": 0,
    "start_time": "2022-11-28T17:07:05.810Z"
   },
   {
    "duration": 0,
    "start_time": "2022-11-28T17:07:05.811Z"
   },
   {
    "duration": 0,
    "start_time": "2022-11-28T17:07:05.812Z"
   },
   {
    "duration": 0,
    "start_time": "2022-11-28T17:07:05.814Z"
   },
   {
    "duration": 0,
    "start_time": "2022-11-28T17:07:05.815Z"
   },
   {
    "duration": 0,
    "start_time": "2022-11-28T17:07:05.818Z"
   },
   {
    "duration": 0,
    "start_time": "2022-11-28T17:07:05.819Z"
   },
   {
    "duration": 0,
    "start_time": "2022-11-28T17:07:05.821Z"
   },
   {
    "duration": 0,
    "start_time": "2022-11-28T17:07:05.822Z"
   },
   {
    "duration": 0,
    "start_time": "2022-11-28T17:07:05.823Z"
   },
   {
    "duration": 0,
    "start_time": "2022-11-28T17:07:05.825Z"
   },
   {
    "duration": 0,
    "start_time": "2022-11-28T17:07:05.826Z"
   },
   {
    "duration": 0,
    "start_time": "2022-11-28T17:07:05.827Z"
   },
   {
    "duration": 0,
    "start_time": "2022-11-28T17:07:05.829Z"
   },
   {
    "duration": 0,
    "start_time": "2022-11-28T17:07:05.830Z"
   },
   {
    "duration": 0,
    "start_time": "2022-11-28T17:07:05.831Z"
   },
   {
    "duration": 0,
    "start_time": "2022-11-28T17:07:05.833Z"
   },
   {
    "duration": 0,
    "start_time": "2022-11-28T17:07:05.834Z"
   },
   {
    "duration": 0,
    "start_time": "2022-11-28T17:07:05.836Z"
   },
   {
    "duration": 0,
    "start_time": "2022-11-28T17:07:05.897Z"
   },
   {
    "duration": 0,
    "start_time": "2022-11-28T17:07:05.898Z"
   },
   {
    "duration": 0,
    "start_time": "2022-11-28T17:07:05.899Z"
   },
   {
    "duration": 10,
    "start_time": "2022-11-28T17:08:12.184Z"
   },
   {
    "duration": 9,
    "start_time": "2022-11-28T17:09:35.693Z"
   },
   {
    "duration": 8,
    "start_time": "2022-11-28T17:09:53.810Z"
   },
   {
    "duration": 6,
    "start_time": "2022-11-28T17:09:57.478Z"
   },
   {
    "duration": 161,
    "start_time": "2022-11-28T17:09:57.490Z"
   },
   {
    "duration": 43,
    "start_time": "2022-11-28T17:09:57.653Z"
   },
   {
    "duration": 74,
    "start_time": "2022-11-28T17:09:57.699Z"
   },
   {
    "duration": 1974,
    "start_time": "2022-11-28T17:09:57.775Z"
   },
   {
    "duration": 4,
    "start_time": "2022-11-28T17:09:59.752Z"
   },
   {
    "duration": 27,
    "start_time": "2022-11-28T17:09:59.757Z"
   },
   {
    "duration": 14,
    "start_time": "2022-11-28T17:09:59.786Z"
   },
   {
    "duration": 14,
    "start_time": "2022-11-28T17:09:59.801Z"
   },
   {
    "duration": 8,
    "start_time": "2022-11-28T17:09:59.817Z"
   },
   {
    "duration": 83,
    "start_time": "2022-11-28T17:09:59.826Z"
   },
   {
    "duration": 46,
    "start_time": "2022-11-28T17:09:59.911Z"
   },
   {
    "duration": 39,
    "start_time": "2022-11-28T17:09:59.959Z"
   },
   {
    "duration": 5,
    "start_time": "2022-11-28T17:09:59.999Z"
   },
   {
    "duration": 60,
    "start_time": "2022-11-28T17:10:00.008Z"
   },
   {
    "duration": 44,
    "start_time": "2022-11-28T17:10:00.070Z"
   },
   {
    "duration": 52,
    "start_time": "2022-11-28T17:10:00.116Z"
   },
   {
    "duration": 21,
    "start_time": "2022-11-28T17:10:00.170Z"
   },
   {
    "duration": 15,
    "start_time": "2022-11-28T17:10:00.193Z"
   },
   {
    "duration": 28,
    "start_time": "2022-11-28T17:10:00.209Z"
   },
   {
    "duration": 94,
    "start_time": "2022-11-28T17:10:00.238Z"
   },
   {
    "duration": 27,
    "start_time": "2022-11-28T17:10:00.334Z"
   },
   {
    "duration": 611,
    "start_time": "2022-11-28T17:10:00.363Z"
   },
   {
    "duration": 53,
    "start_time": "2022-11-28T17:10:00.977Z"
   },
   {
    "duration": 452,
    "start_time": "2022-11-28T17:10:01.032Z"
   },
   {
    "duration": 19,
    "start_time": "2022-11-28T17:10:01.486Z"
   },
   {
    "duration": 39,
    "start_time": "2022-11-28T17:10:01.507Z"
   },
   {
    "duration": 77,
    "start_time": "2022-11-28T17:10:01.547Z"
   },
   {
    "duration": 41,
    "start_time": "2022-11-28T17:10:01.626Z"
   },
   {
    "duration": 29,
    "start_time": "2022-11-28T17:10:01.670Z"
   },
   {
    "duration": 29,
    "start_time": "2022-11-28T17:10:01.701Z"
   },
   {
    "duration": 77,
    "start_time": "2022-11-28T17:10:01.732Z"
   },
   {
    "duration": 38,
    "start_time": "2022-11-28T17:10:01.810Z"
   },
   {
    "duration": 11,
    "start_time": "2022-11-28T17:10:01.850Z"
   },
   {
    "duration": 0,
    "start_time": "2022-11-28T17:10:01.864Z"
   },
   {
    "duration": 0,
    "start_time": "2022-11-28T17:10:01.866Z"
   },
   {
    "duration": 0,
    "start_time": "2022-11-28T17:10:01.867Z"
   },
   {
    "duration": 0,
    "start_time": "2022-11-28T17:10:01.869Z"
   },
   {
    "duration": 0,
    "start_time": "2022-11-28T17:10:01.870Z"
   },
   {
    "duration": 0,
    "start_time": "2022-11-28T17:10:01.871Z"
   },
   {
    "duration": 0,
    "start_time": "2022-11-28T17:10:01.872Z"
   },
   {
    "duration": 0,
    "start_time": "2022-11-28T17:10:01.873Z"
   },
   {
    "duration": 0,
    "start_time": "2022-11-28T17:10:01.875Z"
   },
   {
    "duration": 0,
    "start_time": "2022-11-28T17:10:01.897Z"
   },
   {
    "duration": 0,
    "start_time": "2022-11-28T17:10:01.898Z"
   },
   {
    "duration": 0,
    "start_time": "2022-11-28T17:10:01.900Z"
   },
   {
    "duration": 0,
    "start_time": "2022-11-28T17:10:01.901Z"
   },
   {
    "duration": 0,
    "start_time": "2022-11-28T17:10:01.902Z"
   },
   {
    "duration": 0,
    "start_time": "2022-11-28T17:10:01.903Z"
   },
   {
    "duration": 0,
    "start_time": "2022-11-28T17:10:01.904Z"
   },
   {
    "duration": 0,
    "start_time": "2022-11-28T17:10:01.906Z"
   },
   {
    "duration": 0,
    "start_time": "2022-11-28T17:10:01.908Z"
   },
   {
    "duration": 0,
    "start_time": "2022-11-28T17:10:01.910Z"
   },
   {
    "duration": 0,
    "start_time": "2022-11-28T17:10:01.917Z"
   },
   {
    "duration": 0,
    "start_time": "2022-11-28T17:10:01.918Z"
   },
   {
    "duration": 0,
    "start_time": "2022-11-28T17:10:01.919Z"
   },
   {
    "duration": 0,
    "start_time": "2022-11-28T17:10:01.920Z"
   },
   {
    "duration": 0,
    "start_time": "2022-11-28T17:10:01.922Z"
   },
   {
    "duration": 0,
    "start_time": "2022-11-28T17:10:01.924Z"
   },
   {
    "duration": 0,
    "start_time": "2022-11-28T17:10:01.925Z"
   },
   {
    "duration": 0,
    "start_time": "2022-11-28T17:10:01.926Z"
   },
   {
    "duration": 0,
    "start_time": "2022-11-28T17:10:01.927Z"
   },
   {
    "duration": 0,
    "start_time": "2022-11-28T17:10:01.927Z"
   },
   {
    "duration": 4,
    "start_time": "2022-11-28T17:37:51.081Z"
   },
   {
    "duration": 134,
    "start_time": "2022-11-28T17:37:51.087Z"
   },
   {
    "duration": 14,
    "start_time": "2022-11-28T17:37:51.223Z"
   },
   {
    "duration": 103,
    "start_time": "2022-11-28T17:37:51.239Z"
   },
   {
    "duration": 1994,
    "start_time": "2022-11-28T17:37:51.345Z"
   },
   {
    "duration": 4,
    "start_time": "2022-11-28T17:37:53.341Z"
   },
   {
    "duration": 24,
    "start_time": "2022-11-28T17:37:53.348Z"
   },
   {
    "duration": 25,
    "start_time": "2022-11-28T17:37:53.374Z"
   },
   {
    "duration": 10,
    "start_time": "2022-11-28T17:37:53.401Z"
   },
   {
    "duration": 6,
    "start_time": "2022-11-28T17:37:53.413Z"
   },
   {
    "duration": 78,
    "start_time": "2022-11-28T17:37:53.422Z"
   },
   {
    "duration": 37,
    "start_time": "2022-11-28T17:37:53.502Z"
   },
   {
    "duration": 20,
    "start_time": "2022-11-28T17:37:53.541Z"
   },
   {
    "duration": 33,
    "start_time": "2022-11-28T17:37:53.563Z"
   },
   {
    "duration": 29,
    "start_time": "2022-11-28T17:37:53.598Z"
   },
   {
    "duration": 12,
    "start_time": "2022-11-28T17:37:53.629Z"
   },
   {
    "duration": 8,
    "start_time": "2022-11-28T17:37:53.643Z"
   },
   {
    "duration": 46,
    "start_time": "2022-11-28T17:37:53.653Z"
   },
   {
    "duration": 15,
    "start_time": "2022-11-28T17:37:53.701Z"
   },
   {
    "duration": 34,
    "start_time": "2022-11-28T17:37:53.718Z"
   },
   {
    "duration": 83,
    "start_time": "2022-11-28T17:37:53.754Z"
   },
   {
    "duration": 28,
    "start_time": "2022-11-28T17:37:53.839Z"
   },
   {
    "duration": 445,
    "start_time": "2022-11-28T17:37:53.870Z"
   },
   {
    "duration": 29,
    "start_time": "2022-11-28T17:37:54.316Z"
   },
   {
    "duration": 424,
    "start_time": "2022-11-28T17:37:54.347Z"
   },
   {
    "duration": 23,
    "start_time": "2022-11-28T17:37:54.773Z"
   },
   {
    "duration": 12,
    "start_time": "2022-11-28T17:37:54.798Z"
   },
   {
    "duration": 12,
    "start_time": "2022-11-28T17:37:54.812Z"
   },
   {
    "duration": 10,
    "start_time": "2022-11-28T17:37:54.829Z"
   },
   {
    "duration": 9,
    "start_time": "2022-11-28T17:37:54.841Z"
   },
   {
    "duration": 49,
    "start_time": "2022-11-28T17:37:54.852Z"
   },
   {
    "duration": 298,
    "start_time": "2022-11-28T17:37:54.904Z"
   },
   {
    "duration": 32,
    "start_time": "2022-11-28T17:37:55.204Z"
   },
   {
    "duration": 8,
    "start_time": "2022-11-28T17:37:55.238Z"
   },
   {
    "duration": 0,
    "start_time": "2022-11-28T17:37:55.247Z"
   },
   {
    "duration": 0,
    "start_time": "2022-11-28T17:37:55.249Z"
   },
   {
    "duration": 0,
    "start_time": "2022-11-28T17:37:55.250Z"
   },
   {
    "duration": 0,
    "start_time": "2022-11-28T17:37:55.252Z"
   },
   {
    "duration": 0,
    "start_time": "2022-11-28T17:37:55.253Z"
   },
   {
    "duration": 0,
    "start_time": "2022-11-28T17:37:55.254Z"
   },
   {
    "duration": 0,
    "start_time": "2022-11-28T17:37:55.255Z"
   },
   {
    "duration": 0,
    "start_time": "2022-11-28T17:37:55.256Z"
   },
   {
    "duration": 0,
    "start_time": "2022-11-28T17:37:55.297Z"
   },
   {
    "duration": 1,
    "start_time": "2022-11-28T17:37:55.298Z"
   },
   {
    "duration": 0,
    "start_time": "2022-11-28T17:37:55.299Z"
   },
   {
    "duration": 0,
    "start_time": "2022-11-28T17:37:55.301Z"
   },
   {
    "duration": 1,
    "start_time": "2022-11-28T17:37:55.301Z"
   },
   {
    "duration": 0,
    "start_time": "2022-11-28T17:37:55.303Z"
   },
   {
    "duration": 0,
    "start_time": "2022-11-28T17:37:55.304Z"
   },
   {
    "duration": 0,
    "start_time": "2022-11-28T17:37:55.305Z"
   },
   {
    "duration": 0,
    "start_time": "2022-11-28T17:37:55.306Z"
   },
   {
    "duration": 0,
    "start_time": "2022-11-28T17:37:55.307Z"
   },
   {
    "duration": 0,
    "start_time": "2022-11-28T17:37:55.309Z"
   },
   {
    "duration": 0,
    "start_time": "2022-11-28T17:37:55.310Z"
   },
   {
    "duration": 0,
    "start_time": "2022-11-28T17:37:55.311Z"
   },
   {
    "duration": 0,
    "start_time": "2022-11-28T17:37:55.312Z"
   },
   {
    "duration": 0,
    "start_time": "2022-11-28T17:37:55.313Z"
   },
   {
    "duration": 0,
    "start_time": "2022-11-28T17:37:55.314Z"
   },
   {
    "duration": 0,
    "start_time": "2022-11-28T17:37:55.315Z"
   },
   {
    "duration": 0,
    "start_time": "2022-11-28T17:37:55.316Z"
   },
   {
    "duration": 0,
    "start_time": "2022-11-28T17:37:55.317Z"
   },
   {
    "duration": 0,
    "start_time": "2022-11-28T17:37:55.319Z"
   },
   {
    "duration": 0,
    "start_time": "2022-11-28T17:37:55.320Z"
   },
   {
    "duration": 11,
    "start_time": "2022-11-28T17:38:50.752Z"
   },
   {
    "duration": 12,
    "start_time": "2022-11-28T17:39:02.672Z"
   },
   {
    "duration": 9,
    "start_time": "2022-11-28T17:39:13.033Z"
   },
   {
    "duration": 14,
    "start_time": "2022-11-28T17:41:30.528Z"
   },
   {
    "duration": 6,
    "start_time": "2022-11-28T17:41:37.983Z"
   },
   {
    "duration": 14,
    "start_time": "2022-11-28T17:41:57.553Z"
   },
   {
    "duration": 7,
    "start_time": "2022-11-28T17:43:21.693Z"
   },
   {
    "duration": 8,
    "start_time": "2022-11-28T17:43:30.818Z"
   },
   {
    "duration": 7,
    "start_time": "2022-11-28T17:43:39.561Z"
   },
   {
    "duration": 8,
    "start_time": "2022-11-28T17:43:52.996Z"
   },
   {
    "duration": 30,
    "start_time": "2022-11-28T17:43:56.510Z"
   },
   {
    "duration": 7,
    "start_time": "2022-11-28T17:43:56.966Z"
   },
   {
    "duration": 3,
    "start_time": "2022-11-28T17:44:03.404Z"
   },
   {
    "duration": 148,
    "start_time": "2022-11-28T17:44:03.409Z"
   },
   {
    "duration": 38,
    "start_time": "2022-11-28T17:44:03.559Z"
   },
   {
    "duration": 76,
    "start_time": "2022-11-28T17:44:03.598Z"
   },
   {
    "duration": 2299,
    "start_time": "2022-11-28T17:44:03.676Z"
   },
   {
    "duration": 4,
    "start_time": "2022-11-28T17:44:05.977Z"
   },
   {
    "duration": 57,
    "start_time": "2022-11-28T17:44:05.984Z"
   },
   {
    "duration": 15,
    "start_time": "2022-11-28T17:44:06.044Z"
   },
   {
    "duration": 15,
    "start_time": "2022-11-28T17:44:06.061Z"
   },
   {
    "duration": 24,
    "start_time": "2022-11-28T17:44:06.078Z"
   },
   {
    "duration": 95,
    "start_time": "2022-11-28T17:44:06.106Z"
   },
   {
    "duration": 50,
    "start_time": "2022-11-28T17:44:06.203Z"
   },
   {
    "duration": 53,
    "start_time": "2022-11-28T17:44:06.255Z"
   },
   {
    "duration": 5,
    "start_time": "2022-11-28T17:44:06.310Z"
   },
   {
    "duration": 37,
    "start_time": "2022-11-28T17:44:06.317Z"
   },
   {
    "duration": 10,
    "start_time": "2022-11-28T17:44:06.356Z"
   },
   {
    "duration": 11,
    "start_time": "2022-11-28T17:44:06.368Z"
   },
   {
    "duration": 24,
    "start_time": "2022-11-28T17:44:06.396Z"
   },
   {
    "duration": 31,
    "start_time": "2022-11-28T17:44:06.422Z"
   },
   {
    "duration": 30,
    "start_time": "2022-11-28T17:44:06.455Z"
   },
   {
    "duration": 101,
    "start_time": "2022-11-28T17:44:06.487Z"
   },
   {
    "duration": 22,
    "start_time": "2022-11-28T17:44:06.590Z"
   },
   {
    "duration": 401,
    "start_time": "2022-11-28T17:44:06.614Z"
   },
   {
    "duration": 28,
    "start_time": "2022-11-28T17:44:07.017Z"
   },
   {
    "duration": 417,
    "start_time": "2022-11-28T17:44:07.048Z"
   },
   {
    "duration": 11,
    "start_time": "2022-11-28T17:44:07.467Z"
   },
   {
    "duration": 27,
    "start_time": "2022-11-28T17:44:07.480Z"
   },
   {
    "duration": 20,
    "start_time": "2022-11-28T17:44:07.509Z"
   },
   {
    "duration": 17,
    "start_time": "2022-11-28T17:44:07.533Z"
   },
   {
    "duration": 18,
    "start_time": "2022-11-28T17:44:07.551Z"
   },
   {
    "duration": 14,
    "start_time": "2022-11-28T17:44:07.571Z"
   },
   {
    "duration": 59,
    "start_time": "2022-11-28T17:44:07.587Z"
   },
   {
    "duration": 30,
    "start_time": "2022-11-28T17:44:07.648Z"
   },
   {
    "duration": 7,
    "start_time": "2022-11-28T17:44:07.680Z"
   },
   {
    "duration": 292,
    "start_time": "2022-11-28T17:44:07.697Z"
   },
   {
    "duration": 456,
    "start_time": "2022-11-28T17:44:07.991Z"
   },
   {
    "duration": 711,
    "start_time": "2022-11-28T17:44:08.449Z"
   },
   {
    "duration": 534,
    "start_time": "2022-11-28T17:44:09.162Z"
   },
   {
    "duration": 171,
    "start_time": "2022-11-28T17:44:09.698Z"
   },
   {
    "duration": 189,
    "start_time": "2022-11-28T17:44:09.871Z"
   },
   {
    "duration": 189,
    "start_time": "2022-11-28T17:44:10.062Z"
   },
   {
    "duration": 307,
    "start_time": "2022-11-28T17:44:10.253Z"
   },
   {
    "duration": 280,
    "start_time": "2022-11-28T17:44:10.562Z"
   },
   {
    "duration": 257,
    "start_time": "2022-11-28T17:44:10.843Z"
   },
   {
    "duration": 273,
    "start_time": "2022-11-28T17:44:11.102Z"
   },
   {
    "duration": 143,
    "start_time": "2022-11-28T17:44:11.377Z"
   },
   {
    "duration": 264,
    "start_time": "2022-11-28T17:44:11.522Z"
   },
   {
    "duration": 300,
    "start_time": "2022-11-28T17:44:11.787Z"
   },
   {
    "duration": 278,
    "start_time": "2022-11-28T17:44:12.098Z"
   },
   {
    "duration": 263,
    "start_time": "2022-11-28T17:44:12.378Z"
   },
   {
    "duration": 519,
    "start_time": "2022-11-28T17:44:12.643Z"
   },
   {
    "duration": 56,
    "start_time": "2022-11-28T17:44:13.164Z"
   },
   {
    "duration": 502,
    "start_time": "2022-11-28T17:44:13.222Z"
   },
   {
    "duration": 163,
    "start_time": "2022-11-28T17:44:13.726Z"
   },
   {
    "duration": 159,
    "start_time": "2022-11-28T17:44:13.891Z"
   },
   {
    "duration": 298,
    "start_time": "2022-11-28T17:44:14.052Z"
   },
   {
    "duration": 173,
    "start_time": "2022-11-28T17:44:14.352Z"
   },
   {
    "duration": 163,
    "start_time": "2022-11-28T17:44:14.527Z"
   },
   {
    "duration": 162,
    "start_time": "2022-11-28T17:44:14.696Z"
   },
   {
    "duration": 9,
    "start_time": "2022-11-28T17:44:14.860Z"
   },
   {
    "duration": 214,
    "start_time": "2022-11-28T17:44:14.871Z"
   },
   {
    "duration": 15,
    "start_time": "2022-11-28T17:44:15.088Z"
   },
   {
    "duration": 39,
    "start_time": "2022-11-28T17:44:15.106Z"
   },
   {
    "duration": 21,
    "start_time": "2022-11-28T17:53:28.745Z"
   },
   {
    "duration": 8,
    "start_time": "2022-11-28T17:53:35.873Z"
   },
   {
    "duration": 3,
    "start_time": "2022-11-28T17:53:45.608Z"
   },
   {
    "duration": 137,
    "start_time": "2022-11-28T17:53:45.614Z"
   },
   {
    "duration": 44,
    "start_time": "2022-11-28T17:53:45.753Z"
   },
   {
    "duration": 76,
    "start_time": "2022-11-28T17:53:45.799Z"
   },
   {
    "duration": 2118,
    "start_time": "2022-11-28T17:53:45.897Z"
   },
   {
    "duration": 4,
    "start_time": "2022-11-28T17:53:48.017Z"
   },
   {
    "duration": 29,
    "start_time": "2022-11-28T17:53:48.023Z"
   },
   {
    "duration": 6,
    "start_time": "2022-11-28T17:53:48.054Z"
   },
   {
    "duration": 13,
    "start_time": "2022-11-28T17:53:48.062Z"
   },
   {
    "duration": 7,
    "start_time": "2022-11-28T17:53:48.097Z"
   },
   {
    "duration": 99,
    "start_time": "2022-11-28T17:53:48.109Z"
   },
   {
    "duration": 38,
    "start_time": "2022-11-28T17:53:48.210Z"
   },
   {
    "duration": 35,
    "start_time": "2022-11-28T17:53:48.250Z"
   },
   {
    "duration": 32,
    "start_time": "2022-11-28T17:53:48.288Z"
   },
   {
    "duration": 77,
    "start_time": "2022-11-28T17:53:48.322Z"
   },
   {
    "duration": 8,
    "start_time": "2022-11-28T17:53:48.401Z"
   },
   {
    "duration": 10,
    "start_time": "2022-11-28T17:53:48.411Z"
   },
   {
    "duration": 18,
    "start_time": "2022-11-28T17:53:48.424Z"
   },
   {
    "duration": 19,
    "start_time": "2022-11-28T17:53:48.444Z"
   },
   {
    "duration": 40,
    "start_time": "2022-11-28T17:53:48.465Z"
   },
   {
    "duration": 90,
    "start_time": "2022-11-28T17:53:48.507Z"
   },
   {
    "duration": 22,
    "start_time": "2022-11-28T17:53:48.599Z"
   },
   {
    "duration": 430,
    "start_time": "2022-11-28T17:53:48.623Z"
   },
   {
    "duration": 46,
    "start_time": "2022-11-28T17:53:49.056Z"
   },
   {
    "duration": 442,
    "start_time": "2022-11-28T17:53:49.106Z"
   },
   {
    "duration": 12,
    "start_time": "2022-11-28T17:53:49.549Z"
   },
   {
    "duration": 27,
    "start_time": "2022-11-28T17:53:49.563Z"
   },
   {
    "duration": 13,
    "start_time": "2022-11-28T17:53:49.591Z"
   },
   {
    "duration": 14,
    "start_time": "2022-11-28T17:53:49.608Z"
   },
   {
    "duration": 8,
    "start_time": "2022-11-28T17:53:49.624Z"
   },
   {
    "duration": 14,
    "start_time": "2022-11-28T17:53:49.634Z"
   },
   {
    "duration": 77,
    "start_time": "2022-11-28T17:53:49.650Z"
   },
   {
    "duration": 30,
    "start_time": "2022-11-28T17:53:49.729Z"
   },
   {
    "duration": 9,
    "start_time": "2022-11-28T17:53:49.761Z"
   },
   {
    "duration": 317,
    "start_time": "2022-11-28T17:53:49.772Z"
   },
   {
    "duration": 474,
    "start_time": "2022-11-28T17:53:50.091Z"
   },
   {
    "duration": 456,
    "start_time": "2022-11-28T17:53:50.567Z"
   },
   {
    "duration": 884,
    "start_time": "2022-11-28T17:53:51.025Z"
   },
   {
    "duration": 189,
    "start_time": "2022-11-28T17:53:51.912Z"
   },
   {
    "duration": 181,
    "start_time": "2022-11-28T17:53:52.103Z"
   },
   {
    "duration": 231,
    "start_time": "2022-11-28T17:53:52.286Z"
   },
   {
    "duration": 211,
    "start_time": "2022-11-28T17:53:52.519Z"
   },
   {
    "duration": 330,
    "start_time": "2022-11-28T17:53:52.732Z"
   },
   {
    "duration": 263,
    "start_time": "2022-11-28T17:53:53.064Z"
   },
   {
    "duration": 275,
    "start_time": "2022-11-28T17:53:53.329Z"
   },
   {
    "duration": 139,
    "start_time": "2022-11-28T17:53:53.605Z"
   },
   {
    "duration": 285,
    "start_time": "2022-11-28T17:53:53.746Z"
   },
   {
    "duration": 286,
    "start_time": "2022-11-28T17:53:54.033Z"
   },
   {
    "duration": 282,
    "start_time": "2022-11-28T17:53:54.321Z"
   },
   {
    "duration": 241,
    "start_time": "2022-11-28T17:53:54.604Z"
   },
   {
    "duration": 540,
    "start_time": "2022-11-28T17:53:54.847Z"
   },
   {
    "duration": 65,
    "start_time": "2022-11-28T17:53:55.389Z"
   },
   {
    "duration": 183,
    "start_time": "2022-11-28T17:53:55.455Z"
   },
   {
    "duration": 182,
    "start_time": "2022-11-28T17:53:55.640Z"
   },
   {
    "duration": 189,
    "start_time": "2022-11-28T17:53:55.824Z"
   },
   {
    "duration": 381,
    "start_time": "2022-11-28T17:53:56.015Z"
   },
   {
    "duration": 162,
    "start_time": "2022-11-28T17:53:56.398Z"
   },
   {
    "duration": 166,
    "start_time": "2022-11-28T17:53:56.562Z"
   },
   {
    "duration": 167,
    "start_time": "2022-11-28T17:53:56.729Z"
   },
   {
    "duration": 8,
    "start_time": "2022-11-28T17:53:56.899Z"
   },
   {
    "duration": 196,
    "start_time": "2022-11-28T17:53:56.909Z"
   },
   {
    "duration": 8,
    "start_time": "2022-11-28T17:53:57.107Z"
   },
   {
    "duration": 39,
    "start_time": "2022-11-28T17:53:57.117Z"
   },
   {
    "duration": 720,
    "start_time": "2022-11-28T17:59:38.008Z"
   },
   {
    "duration": 983,
    "start_time": "2022-11-28T18:00:30.448Z"
   },
   {
    "duration": 269,
    "start_time": "2022-11-28T18:01:31.254Z"
   },
   {
    "duration": 8,
    "start_time": "2022-11-28T18:02:33.778Z"
   },
   {
    "duration": 574,
    "start_time": "2022-11-28T18:04:04.229Z"
   },
   {
    "duration": 563,
    "start_time": "2022-11-28T18:04:20.542Z"
   },
   {
    "duration": 767,
    "start_time": "2022-11-28T18:05:54.991Z"
   },
   {
    "duration": 287,
    "start_time": "2022-11-28T18:11:25.289Z"
   },
   {
    "duration": 47,
    "start_time": "2022-11-28T18:15:40.287Z"
   },
   {
    "duration": 55,
    "start_time": "2022-11-28T18:16:19.181Z"
   },
   {
    "duration": 45,
    "start_time": "2022-11-28T18:16:46.375Z"
   },
   {
    "duration": 47,
    "start_time": "2022-11-28T18:19:22.789Z"
   },
   {
    "duration": 41,
    "start_time": "2022-11-28T18:22:58.635Z"
   },
   {
    "duration": 775,
    "start_time": "2022-11-29T04:57:51.202Z"
   },
   {
    "duration": 343,
    "start_time": "2022-11-29T04:57:51.980Z"
   },
   {
    "duration": 15,
    "start_time": "2022-11-29T04:57:52.325Z"
   },
   {
    "duration": 79,
    "start_time": "2022-11-29T04:57:52.342Z"
   },
   {
    "duration": 1897,
    "start_time": "2022-11-29T04:57:52.423Z"
   },
   {
    "duration": 4,
    "start_time": "2022-11-29T04:57:54.323Z"
   },
   {
    "duration": 36,
    "start_time": "2022-11-29T04:57:54.329Z"
   },
   {
    "duration": 5,
    "start_time": "2022-11-29T04:57:54.366Z"
   },
   {
    "duration": 10,
    "start_time": "2022-11-29T04:57:54.372Z"
   },
   {
    "duration": 4,
    "start_time": "2022-11-29T04:57:54.385Z"
   },
   {
    "duration": 67,
    "start_time": "2022-11-29T04:57:54.391Z"
   },
   {
    "duration": 31,
    "start_time": "2022-11-29T04:57:54.460Z"
   },
   {
    "duration": 31,
    "start_time": "2022-11-29T04:57:54.493Z"
   },
   {
    "duration": 3,
    "start_time": "2022-11-29T04:57:54.526Z"
   },
   {
    "duration": 33,
    "start_time": "2022-11-29T04:57:54.530Z"
   },
   {
    "duration": 7,
    "start_time": "2022-11-29T04:57:54.565Z"
   },
   {
    "duration": 9,
    "start_time": "2022-11-29T04:57:54.574Z"
   },
   {
    "duration": 17,
    "start_time": "2022-11-29T04:57:54.584Z"
   },
   {
    "duration": 39,
    "start_time": "2022-11-29T04:57:54.602Z"
   },
   {
    "duration": 18,
    "start_time": "2022-11-29T04:57:54.642Z"
   },
   {
    "duration": 79,
    "start_time": "2022-11-29T04:57:54.661Z"
   },
   {
    "duration": 18,
    "start_time": "2022-11-29T04:57:54.742Z"
   },
   {
    "duration": 383,
    "start_time": "2022-11-29T04:57:54.761Z"
   },
   {
    "duration": 36,
    "start_time": "2022-11-29T04:57:55.146Z"
   },
   {
    "duration": 399,
    "start_time": "2022-11-29T04:57:55.183Z"
   },
   {
    "duration": 14,
    "start_time": "2022-11-29T04:57:55.584Z"
   },
   {
    "duration": 29,
    "start_time": "2022-11-29T04:57:55.600Z"
   },
   {
    "duration": 11,
    "start_time": "2022-11-29T04:57:55.635Z"
   },
   {
    "duration": 8,
    "start_time": "2022-11-29T04:57:55.649Z"
   },
   {
    "duration": 5,
    "start_time": "2022-11-29T04:57:55.659Z"
   },
   {
    "duration": 9,
    "start_time": "2022-11-29T04:57:55.665Z"
   },
   {
    "duration": 53,
    "start_time": "2022-11-29T04:57:55.676Z"
   },
   {
    "duration": 24,
    "start_time": "2022-11-29T04:57:55.731Z"
   },
   {
    "duration": 6,
    "start_time": "2022-11-29T04:57:55.756Z"
   },
   {
    "duration": 324,
    "start_time": "2022-11-29T04:57:55.763Z"
   },
   {
    "duration": 410,
    "start_time": "2022-11-29T04:57:56.089Z"
   },
   {
    "duration": 385,
    "start_time": "2022-11-29T04:57:56.500Z"
   },
   {
    "duration": 446,
    "start_time": "2022-11-29T04:57:56.886Z"
   },
   {
    "duration": 158,
    "start_time": "2022-11-29T04:57:57.334Z"
   },
   {
    "duration": 279,
    "start_time": "2022-11-29T04:57:57.494Z"
   },
   {
    "duration": 173,
    "start_time": "2022-11-29T04:57:57.774Z"
   },
   {
    "duration": 207,
    "start_time": "2022-11-29T04:57:57.948Z"
   },
   {
    "duration": 242,
    "start_time": "2022-11-29T04:57:58.156Z"
   },
   {
    "duration": 245,
    "start_time": "2022-11-29T04:57:58.400Z"
   },
   {
    "duration": 226,
    "start_time": "2022-11-29T04:57:58.646Z"
   },
   {
    "duration": 128,
    "start_time": "2022-11-29T04:57:58.874Z"
   },
   {
    "duration": 312,
    "start_time": "2022-11-29T04:57:59.004Z"
   },
   {
    "duration": 216,
    "start_time": "2022-11-29T04:57:59.321Z"
   },
   {
    "duration": 236,
    "start_time": "2022-11-29T04:57:59.538Z"
   },
   {
    "duration": 215,
    "start_time": "2022-11-29T04:57:59.775Z"
   },
   {
    "duration": 456,
    "start_time": "2022-11-29T04:57:59.992Z"
   },
   {
    "duration": 7,
    "start_time": "2022-11-29T04:58:00.449Z"
   },
   {
    "duration": 784,
    "start_time": "2022-11-29T04:58:00.458Z"
   },
   {
    "duration": 156,
    "start_time": "2022-11-29T04:58:01.244Z"
   },
   {
    "duration": 145,
    "start_time": "2022-11-29T04:58:01.402Z"
   },
   {
    "duration": 146,
    "start_time": "2022-11-29T04:58:01.548Z"
   },
   {
    "duration": 275,
    "start_time": "2022-11-29T04:58:01.696Z"
   },
   {
    "duration": 162,
    "start_time": "2022-11-29T04:58:01.973Z"
   },
   {
    "duration": 158,
    "start_time": "2022-11-29T04:58:02.137Z"
   },
   {
    "duration": 154,
    "start_time": "2022-11-29T04:58:02.297Z"
   },
   {
    "duration": 9,
    "start_time": "2022-11-29T04:58:02.453Z"
   },
   {
    "duration": 190,
    "start_time": "2022-11-29T04:58:02.463Z"
   },
   {
    "duration": 8,
    "start_time": "2022-11-29T04:58:02.655Z"
   },
   {
    "duration": 24,
    "start_time": "2022-11-29T04:58:02.664Z"
   },
   {
    "duration": 276,
    "start_time": "2022-11-29T04:58:02.690Z"
   },
   {
    "duration": 18,
    "start_time": "2022-11-29T05:07:37.018Z"
   },
   {
    "duration": 55,
    "start_time": "2022-11-29T16:30:04.305Z"
   },
   {
    "duration": 820,
    "start_time": "2022-11-29T16:30:07.613Z"
   },
   {
    "duration": 166,
    "start_time": "2022-11-29T16:30:08.435Z"
   },
   {
    "duration": 16,
    "start_time": "2022-11-29T16:30:08.603Z"
   },
   {
    "duration": 73,
    "start_time": "2022-11-29T16:30:08.621Z"
   },
   {
    "duration": 2012,
    "start_time": "2022-11-29T16:30:08.696Z"
   },
   {
    "duration": 4,
    "start_time": "2022-11-29T16:30:10.709Z"
   },
   {
    "duration": 29,
    "start_time": "2022-11-29T16:30:10.714Z"
   },
   {
    "duration": 5,
    "start_time": "2022-11-29T16:30:10.744Z"
   },
   {
    "duration": 9,
    "start_time": "2022-11-29T16:30:10.750Z"
   },
   {
    "duration": 6,
    "start_time": "2022-11-29T16:30:10.762Z"
   },
   {
    "duration": 79,
    "start_time": "2022-11-29T16:30:10.770Z"
   },
   {
    "duration": 37,
    "start_time": "2022-11-29T16:30:10.850Z"
   },
   {
    "duration": 39,
    "start_time": "2022-11-29T16:30:10.888Z"
   },
   {
    "duration": 4,
    "start_time": "2022-11-29T16:30:10.929Z"
   },
   {
    "duration": 30,
    "start_time": "2022-11-29T16:30:10.935Z"
   },
   {
    "duration": 7,
    "start_time": "2022-11-29T16:30:10.967Z"
   },
   {
    "duration": 5,
    "start_time": "2022-11-29T16:30:10.976Z"
   },
   {
    "duration": 40,
    "start_time": "2022-11-29T16:30:10.983Z"
   },
   {
    "duration": 16,
    "start_time": "2022-11-29T16:30:11.025Z"
   },
   {
    "duration": 19,
    "start_time": "2022-11-29T16:30:11.043Z"
   },
   {
    "duration": 88,
    "start_time": "2022-11-29T16:30:11.063Z"
   },
   {
    "duration": 21,
    "start_time": "2022-11-29T16:30:11.153Z"
   },
   {
    "duration": 376,
    "start_time": "2022-11-29T16:30:11.176Z"
   },
   {
    "duration": 27,
    "start_time": "2022-11-29T16:30:11.554Z"
   },
   {
    "duration": 401,
    "start_time": "2022-11-29T16:30:11.584Z"
   },
   {
    "duration": 13,
    "start_time": "2022-11-29T16:30:11.987Z"
   },
   {
    "duration": 22,
    "start_time": "2022-11-29T16:30:12.002Z"
   },
   {
    "duration": 16,
    "start_time": "2022-11-29T16:30:12.028Z"
   },
   {
    "duration": 22,
    "start_time": "2022-11-29T16:30:12.046Z"
   },
   {
    "duration": 18,
    "start_time": "2022-11-29T16:30:12.070Z"
   },
   {
    "duration": 26,
    "start_time": "2022-11-29T16:30:12.089Z"
   },
   {
    "duration": 50,
    "start_time": "2022-11-29T16:30:12.117Z"
   },
   {
    "duration": 26,
    "start_time": "2022-11-29T16:30:12.169Z"
   },
   {
    "duration": 5,
    "start_time": "2022-11-29T16:30:12.197Z"
   },
   {
    "duration": 346,
    "start_time": "2022-11-29T16:30:12.204Z"
   },
   {
    "duration": 420,
    "start_time": "2022-11-29T16:30:12.552Z"
   },
   {
    "duration": 403,
    "start_time": "2022-11-29T16:30:12.973Z"
   },
   {
    "duration": 476,
    "start_time": "2022-11-29T16:30:13.378Z"
   },
   {
    "duration": 155,
    "start_time": "2022-11-29T16:30:13.857Z"
   },
   {
    "duration": 301,
    "start_time": "2022-11-29T16:30:14.014Z"
   },
   {
    "duration": 165,
    "start_time": "2022-11-29T16:30:14.321Z"
   },
   {
    "duration": 205,
    "start_time": "2022-11-29T16:30:14.487Z"
   },
   {
    "duration": 261,
    "start_time": "2022-11-29T16:30:14.693Z"
   },
   {
    "duration": 230,
    "start_time": "2022-11-29T16:30:14.955Z"
   },
   {
    "duration": 247,
    "start_time": "2022-11-29T16:30:15.186Z"
   },
   {
    "duration": 169,
    "start_time": "2022-11-29T16:30:15.435Z"
   },
   {
    "duration": 345,
    "start_time": "2022-11-29T16:30:15.606Z"
   },
   {
    "duration": 248,
    "start_time": "2022-11-29T16:30:15.953Z"
   },
   {
    "duration": 270,
    "start_time": "2022-11-29T16:30:16.202Z"
   },
   {
    "duration": 228,
    "start_time": "2022-11-29T16:30:16.474Z"
   },
   {
    "duration": 483,
    "start_time": "2022-11-29T16:30:16.704Z"
   },
   {
    "duration": 8,
    "start_time": "2022-11-29T16:30:17.189Z"
   },
   {
    "duration": 787,
    "start_time": "2022-11-29T16:30:17.199Z"
   },
   {
    "duration": 165,
    "start_time": "2022-11-29T16:30:17.987Z"
   },
   {
    "duration": 156,
    "start_time": "2022-11-29T16:30:18.154Z"
   },
   {
    "duration": 147,
    "start_time": "2022-11-29T16:30:18.311Z"
   },
   {
    "duration": 286,
    "start_time": "2022-11-29T16:30:18.460Z"
   },
   {
    "duration": 162,
    "start_time": "2022-11-29T16:30:18.748Z"
   },
   {
    "duration": 166,
    "start_time": "2022-11-29T16:30:18.912Z"
   },
   {
    "duration": 171,
    "start_time": "2022-11-29T16:30:19.079Z"
   },
   {
    "duration": 8,
    "start_time": "2022-11-29T16:30:19.251Z"
   },
   {
    "duration": 192,
    "start_time": "2022-11-29T16:30:19.261Z"
   },
   {
    "duration": 10,
    "start_time": "2022-11-29T16:30:19.454Z"
   },
   {
    "duration": 28,
    "start_time": "2022-11-29T16:30:19.466Z"
   },
   {
    "duration": 286,
    "start_time": "2022-11-29T16:30:19.496Z"
   }
  ],
  "kernelspec": {
   "display_name": "Python 3 (ipykernel)",
   "language": "python",
   "name": "python3"
  },
  "language_info": {
   "codemirror_mode": {
    "name": "ipython",
    "version": 3
   },
   "file_extension": ".py",
   "mimetype": "text/x-python",
   "name": "python",
   "nbconvert_exporter": "python",
   "pygments_lexer": "ipython3",
   "version": "3.11.3"
  },
  "toc": {
   "base_numbering": 1,
   "nav_menu": {},
   "number_sections": true,
   "sideBar": true,
   "skip_h1_title": true,
   "title_cell": "Table of Contents",
   "title_sidebar": "Contents",
   "toc_cell": false,
   "toc_position": {
    "height": "calc(100% - 180px)",
    "left": "10px",
    "top": "150px",
    "width": "165px"
   },
   "toc_section_display": true,
   "toc_window_display": true
  }
 },
 "nbformat": 4,
 "nbformat_minor": 4
}

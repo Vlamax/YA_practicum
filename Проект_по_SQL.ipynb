{
 "cells": [
  {
   "cell_type": "markdown",
   "id": "ffc3a937",
   "metadata": {},
   "source": [
    "# SQL-ПРОЕКТ"
   ]
  },
  {
   "cell_type": "markdown",
   "id": "7bc6b414",
   "metadata": {},
   "source": [
    "## Цели исследования\n",
    "\n",
    "- Посчитать, сколько книг вышло после 1 января 2000 года;\n",
    "- Для каждой книги посчитать количество обзоров и среднюю оценку;\n",
    "- Определить издательство, которое выпустило наибольшее число книг толще 50 страниц;\n",
    "- Определить автора с самой высокой средней оценкой книг;\n",
    "- Посчитать среднее количество обзоров от пользователей, которые поставили больше 48 оценок."
   ]
  },
  {
   "cell_type": "code",
   "execution_count": 1,
   "id": "73ac705e",
   "metadata": {},
   "outputs": [
    {
     "name": "stdout",
     "output_type": "stream",
     "text": [
      "Requirement already satisfied: sqlalchemy in d:\\games\\anaconda\\lib\\site-packages (1.4.39)\n",
      "Requirement already satisfied: greenlet!=0.4.17 in d:\\games\\anaconda\\lib\\site-packages (from sqlalchemy) (2.0.1)\n"
     ]
    }
   ],
   "source": [
    "! pip install sqlalchemy"
   ]
  },
  {
   "cell_type": "code",
   "execution_count": 7,
   "id": "abcb058f",
   "metadata": {},
   "outputs": [],
   "source": [
    "import pandas as pd\n",
    "from sqlalchemy import text, create_engine"
   ]
  },
  {
   "cell_type": "code",
   "execution_count": 8,
   "id": "3e6081dc",
   "metadata": {},
   "outputs": [],
   "source": [
    "# устанавливаем параметры\n",
    "db_config = {'user': 'praktikum_student', # имя пользователя\n",
    "'pwd': 'Sdf4$2;d-d30pp', # пароль\n",
    "'host': 'rc1b-wcoijxj3yxfsf3fs.mdb.yandexcloud.net',\n",
    "'port': 6432, # порт подключения\n",
    "'db': 'data-analyst-final-project-db'} # название базы данных\n",
    "connection_string = 'postgresql://{user}:{pwd}@{host}:{port}/{db}'.format(**db_config)"
   ]
  },
  {
   "cell_type": "code",
   "execution_count": 9,
   "id": "6400a4db",
   "metadata": {},
   "outputs": [
    {
     "ename": "ModuleNotFoundError",
     "evalue": "No module named 'psycopg2'",
     "output_type": "error",
     "traceback": [
      "\u001b[1;31m---------------------------------------------------------------------------\u001b[0m",
      "\u001b[1;31mModuleNotFoundError\u001b[0m                       Traceback (most recent call last)",
      "Cell \u001b[1;32mIn[9], line 2\u001b[0m\n\u001b[0;32m      1\u001b[0m \u001b[38;5;66;03m# сохраняем коннектор\u001b[39;00m\n\u001b[1;32m----> 2\u001b[0m engine \u001b[38;5;241m=\u001b[39m create_engine(connection_string, connect_args\u001b[38;5;241m=\u001b[39m{\u001b[38;5;124m'\u001b[39m\u001b[38;5;124msslmode\u001b[39m\u001b[38;5;124m'\u001b[39m:\u001b[38;5;124m'\u001b[39m\u001b[38;5;124mrequire\u001b[39m\u001b[38;5;124m'\u001b[39m})\n",
      "File \u001b[1;32m<string>:2\u001b[0m, in \u001b[0;36mcreate_engine\u001b[1;34m(url, **kwargs)\u001b[0m\n",
      "File \u001b[1;32mD:\\Games\\Anaconda\\Lib\\site-packages\\sqlalchemy\\util\\deprecations.py:309\u001b[0m, in \u001b[0;36mdeprecated_params.<locals>.decorate.<locals>.warned\u001b[1;34m(fn, *args, **kwargs)\u001b[0m\n\u001b[0;32m    302\u001b[0m     \u001b[38;5;28;01mif\u001b[39;00m m \u001b[38;5;129;01min\u001b[39;00m kwargs:\n\u001b[0;32m    303\u001b[0m         _warn_with_version(\n\u001b[0;32m    304\u001b[0m             messages[m],\n\u001b[0;32m    305\u001b[0m             versions[m],\n\u001b[0;32m    306\u001b[0m             version_warnings[m],\n\u001b[0;32m    307\u001b[0m             stacklevel\u001b[38;5;241m=\u001b[39m\u001b[38;5;241m3\u001b[39m,\n\u001b[0;32m    308\u001b[0m         )\n\u001b[1;32m--> 309\u001b[0m \u001b[38;5;28;01mreturn\u001b[39;00m fn(\u001b[38;5;241m*\u001b[39margs, \u001b[38;5;241m*\u001b[39m\u001b[38;5;241m*\u001b[39mkwargs)\n",
      "File \u001b[1;32mD:\\Games\\Anaconda\\Lib\\site-packages\\sqlalchemy\\engine\\create.py:560\u001b[0m, in \u001b[0;36mcreate_engine\u001b[1;34m(url, **kwargs)\u001b[0m\n\u001b[0;32m    558\u001b[0m         \u001b[38;5;28;01mif\u001b[39;00m k \u001b[38;5;129;01min\u001b[39;00m kwargs:\n\u001b[0;32m    559\u001b[0m             dbapi_args[k] \u001b[38;5;241m=\u001b[39m pop_kwarg(k)\n\u001b[1;32m--> 560\u001b[0m     dbapi \u001b[38;5;241m=\u001b[39m dialect_cls\u001b[38;5;241m.\u001b[39mdbapi(\u001b[38;5;241m*\u001b[39m\u001b[38;5;241m*\u001b[39mdbapi_args)\n\u001b[0;32m    562\u001b[0m dialect_args[\u001b[38;5;124m\"\u001b[39m\u001b[38;5;124mdbapi\u001b[39m\u001b[38;5;124m\"\u001b[39m] \u001b[38;5;241m=\u001b[39m dbapi\n\u001b[0;32m    564\u001b[0m dialect_args\u001b[38;5;241m.\u001b[39msetdefault(\u001b[38;5;124m\"\u001b[39m\u001b[38;5;124mcompiler_linting\u001b[39m\u001b[38;5;124m\"\u001b[39m, compiler\u001b[38;5;241m.\u001b[39mNO_LINTING)\n",
      "File \u001b[1;32mD:\\Games\\Anaconda\\Lib\\site-packages\\sqlalchemy\\dialects\\postgresql\\psycopg2.py:782\u001b[0m, in \u001b[0;36mPGDialect_psycopg2.dbapi\u001b[1;34m(cls)\u001b[0m\n\u001b[0;32m    780\u001b[0m \u001b[38;5;129m@classmethod\u001b[39m\n\u001b[0;32m    781\u001b[0m \u001b[38;5;28;01mdef\u001b[39;00m \u001b[38;5;21mdbapi\u001b[39m(\u001b[38;5;28mcls\u001b[39m):\n\u001b[1;32m--> 782\u001b[0m     \u001b[38;5;28;01mimport\u001b[39;00m \u001b[38;5;21;01mpsycopg2\u001b[39;00m\n\u001b[0;32m    784\u001b[0m     \u001b[38;5;28;01mreturn\u001b[39;00m psycopg2\n",
      "\u001b[1;31mModuleNotFoundError\u001b[0m: No module named 'psycopg2'"
     ]
    }
   ],
   "source": [
    "# сохраняем коннектор\n",
    "engine = create_engine(connection_string, connect_args={'sslmode':'require'})"
   ]
  },
  {
   "cell_type": "markdown",
   "id": "41b64566",
   "metadata": {},
   "source": [
    "Создадим функцию, которая значительно облегчит жизнь при выполнении запросов"
   ]
  },
  {
   "cell_type": "code",
   "execution_count": 10,
   "id": "03f9b6ba",
   "metadata": {},
   "outputs": [
    {
     "ename": "NameError",
     "evalue": "name 'engine' is not defined",
     "output_type": "error",
     "traceback": [
      "\u001b[1;31m---------------------------------------------------------------------------\u001b[0m",
      "\u001b[1;31mNameError\u001b[0m                                 Traceback (most recent call last)",
      "Cell \u001b[1;32mIn[10], line 1\u001b[0m\n\u001b[1;32m----> 1\u001b[0m con\u001b[38;5;241m=\u001b[39mengine\u001b[38;5;241m.\u001b[39mconnect()\n",
      "\u001b[1;31mNameError\u001b[0m: name 'engine' is not defined"
     ]
    }
   ],
   "source": [
    "con=engine.connect()"
   ]
  },
  {
   "cell_type": "code",
   "execution_count": 11,
   "id": "3b81629c",
   "metadata": {},
   "outputs": [],
   "source": [
    "def wanna_sql(i):\n",
    "    return pd.io.sql.read_sql(sql=text(i), con=con)"
   ]
  },
  {
   "cell_type": "markdown",
   "id": "1f3071e6",
   "metadata": {},
   "source": [
    "## Исследуем таблицы — выведем первые строки"
   ]
  },
  {
   "cell_type": "markdown",
   "id": "405b1818",
   "metadata": {},
   "source": [
    "Для начала посмотрим таблицы, с которыми предстоит работать"
   ]
  },
  {
   "cell_type": "code",
   "execution_count": 12,
   "id": "3f90ccb2",
   "metadata": {
    "scrolled": true
   },
   "outputs": [
    {
     "ename": "NameError",
     "evalue": "name 'con' is not defined",
     "output_type": "error",
     "traceback": [
      "\u001b[1;31m---------------------------------------------------------------------------\u001b[0m",
      "\u001b[1;31mNameError\u001b[0m                                 Traceback (most recent call last)",
      "Cell \u001b[1;32mIn[12], line 2\u001b[0m\n\u001b[0;32m      1\u001b[0m df_books \u001b[38;5;241m=\u001b[39m \u001b[38;5;124m'''\u001b[39m\u001b[38;5;124mSELECT * FROM books LIMIT 5\u001b[39m\u001b[38;5;124m'''\u001b[39m\n\u001b[1;32m----> 2\u001b[0m wanna_sql(df_books)\n",
      "Cell \u001b[1;32mIn[11], line 2\u001b[0m, in \u001b[0;36mwanna_sql\u001b[1;34m(i)\u001b[0m\n\u001b[0;32m      1\u001b[0m \u001b[38;5;28;01mdef\u001b[39;00m \u001b[38;5;21mwanna_sql\u001b[39m(i):\n\u001b[1;32m----> 2\u001b[0m     \u001b[38;5;28;01mreturn\u001b[39;00m pd\u001b[38;5;241m.\u001b[39mio\u001b[38;5;241m.\u001b[39msql\u001b[38;5;241m.\u001b[39mread_sql(sql\u001b[38;5;241m=\u001b[39mtext(i), con\u001b[38;5;241m=\u001b[39mcon)\n",
      "\u001b[1;31mNameError\u001b[0m: name 'con' is not defined"
     ]
    }
   ],
   "source": [
    "df_books = '''SELECT * FROM books LIMIT 5'''\n",
    "wanna_sql(df_books)"
   ]
  },
  {
   "cell_type": "code",
   "execution_count": null,
   "id": "5852fff7",
   "metadata": {},
   "outputs": [],
   "source": [
    "df_authors = '''SELECT * FROM authors LIMIT 5'''\n",
    "wanna_sql(df_authors)"
   ]
  },
  {
   "cell_type": "code",
   "execution_count": null,
   "id": "e584515d",
   "metadata": {},
   "outputs": [],
   "source": [
    "df_ratings = '''SELECT * FROM ratings LIMIT 5'''\n",
    "wanna_sql(df_ratings)"
   ]
  },
  {
   "cell_type": "code",
   "execution_count": null,
   "id": "22e5bd3f",
   "metadata": {},
   "outputs": [],
   "source": [
    "df_reviews = '''SELECT * FROM reviews LIMIT 5'''\n",
    "wanna_sql(df_reviews)"
   ]
  },
  {
   "cell_type": "code",
   "execution_count": null,
   "id": "fc68549f",
   "metadata": {},
   "outputs": [],
   "source": [
    "df_publishers = '''SELECT * FROM publishers LIMIT 5'''\n",
    "wanna_sql(df_publishers)"
   ]
  },
  {
   "cell_type": "markdown",
   "id": "e80e02df",
   "metadata": {},
   "source": [
    "## Посчитаем, сколько книг вышло после 1 января 2000 года"
   ]
  },
  {
   "cell_type": "code",
   "execution_count": null,
   "id": "2f3f9c55",
   "metadata": {},
   "outputs": [],
   "source": [
    "exersice_1 = '''\n",
    "SELECT COUNT(DISTINCT book_id) \n",
    "FROM books\n",
    "WHERE publication_date >= '2000-01-01'\n",
    "'''\n",
    "wanna_sql(exersice_1)"
   ]
  },
  {
   "cell_type": "markdown",
   "id": "a7932d02",
   "metadata": {},
   "source": [
    "В итоге получилось, что 821 книга вышла после 1 января 2000 года"
   ]
  },
  {
   "cell_type": "markdown",
   "id": "bdc9171f",
   "metadata": {},
   "source": [
    "## Для каждой книги посчитаем кол-во обзоров и среднюю оценку"
   ]
  },
  {
   "cell_type": "code",
   "execution_count": null,
   "id": "f574ab10",
   "metadata": {},
   "outputs": [],
   "source": [
    "ex = '''\n",
    "SELECT COUNT(book_id)\n",
    "       \n",
    "FROM books \n",
    "'''\n",
    "wanna_sql(ex)"
   ]
  },
  {
   "cell_type": "code",
   "execution_count": null,
   "id": "b374c1a0",
   "metadata": {},
   "outputs": [],
   "source": [
    "exersice_2 = '''\n",
    "WITH mean_rat AS (\n",
    "SELECT book_id,\n",
    "       AVG(rating) AS mean_rating\n",
    "FROM ratings \n",
    "GROUP BY book_id),\n",
    "\n",
    "n_rev AS (\n",
    "SELECT book_id,\n",
    "       COUNT(review_id) AS n_reviews\n",
    "FROM reviews  \n",
    "GROUP BY book_id),\n",
    "\n",
    "n_titles AS (\n",
    "SELECT book_id,\n",
    "       title\n",
    "FROM books\n",
    "GROUP BY book_id)\n",
    "\n",
    "SELECT nt.title AS titel,\n",
    "       mn.mean_rating,\n",
    "       nr.n_reviews\n",
    "FROM n_titles AS nt\n",
    "LEFT JOIN mean_rat AS mn ON nt.book_id=mn.book_id\n",
    "LEFT JOIN n_rev AS nr ON nr.book_id=nt.book_id\n",
    "GROUP BY\n",
    "titel,\n",
    "mn.mean_rating,\n",
    "nr.n_reviews\n",
    "ORDER BY\n",
    "mn.mean_rating DESC,\n",
    "nr.n_reviews DESC\n",
    "LIMIT 3\n",
    "'''\n",
    "wanna_sql(exersice_2)"
   ]
  },
  {
   "cell_type": "markdown",
   "id": "910a34d3",
   "metadata": {},
   "source": [
    "## Определим издательство, которое выпустило наибольшее число книг толще 50 страниц"
   ]
  },
  {
   "cell_type": "code",
   "execution_count": null,
   "id": "ecb9ffe2",
   "metadata": {},
   "outputs": [],
   "source": [
    "exersice_3 = '''\n",
    "SELECT\n",
    "      p.publisher AS titel,\n",
    "      COUNT(DISTINCT b.book_id) AS n_books\n",
    "FROM publishers AS p\n",
    "LEFT JOIN books AS b ON b.publisher_id = p.publisher_id\n",
    "WHERE \n",
    "b.num_pages > 50\n",
    "GROUP BY\n",
    "titel\n",
    "ORDER BY\n",
    "n_books DESC\n",
    "LIMIT 1\n",
    "'''\n",
    "wanna_sql(exersice_3)"
   ]
  },
  {
   "cell_type": "markdown",
   "id": "0c7b5162",
   "metadata": {},
   "source": [
    "## Определим автора с самой высокой средней оценкой книг, учитывать будем только книги с 50 и более оценками"
   ]
  },
  {
   "cell_type": "code",
   "execution_count": null,
   "id": "b22e28ea",
   "metadata": {},
   "outputs": [],
   "source": [
    "exersice_4 = '''\n",
    "SELECT a.author AS name,\n",
    "       ROUND(AVG(rat.rating), 1) as mean_rating\n",
    "FROM authors AS a\n",
    "JOIN books AS b ON b.author_id=a.author_id\n",
    "JOIN ratings AS rat ON rat.book_id=b.book_id\n",
    "WHERE b.book_id IN (SELECT  book_id\n",
    "                            FROM ratings\n",
    "                            GROUP BY book_id\n",
    "                            HAVING COUNT(rating) >= 50)\n",
    "GROUP BY name\n",
    "ORDER BY mean_rating DESC\n",
    "LIMIT 1\n",
    "'''\n",
    "wanna_sql(exersice_4)"
   ]
  },
  {
   "cell_type": "markdown",
   "id": "4166c2b7",
   "metadata": {},
   "source": [
    "## Посчитаем среднее кол-во обзоров от пользователей, которые поставили больше 48 оценок"
   ]
  },
  {
   "cell_type": "code",
   "execution_count": null,
   "id": "3715302c",
   "metadata": {},
   "outputs": [],
   "source": [
    "exersice_5 = '''\n",
    "WITH n_reviews AS (SELECT\n",
    "                  COUNT(review_id) AS n_reviews\n",
    "           FROM reviews AS rev\n",
    "           JOIN\n",
    "                       (SELECT\n",
    "                               username,\n",
    "                               COUNT(rating_id) AS n_ratings\n",
    "                        FROM\n",
    "                        ratings AS rat\n",
    "                        GROUP BY\n",
    "                        username\n",
    "                        HAVING \n",
    "                        COUNT(rating_id) > 48) AS rat_of_users ON rat_of_users.username = rev.username\n",
    "                        GROUP BY\n",
    "                        rev.username)\n",
    "\n",
    "\n",
    "SELECT\n",
    "         AVG(n_reviews) AS mean_n_reviews\n",
    "         FROM n_reviews\n",
    "'''\n",
    "wanna_sql(exersice_5)"
   ]
  },
  {
   "cell_type": "markdown",
   "id": "f3968221",
   "metadata": {},
   "source": [
    "## Выводы"
   ]
  },
  {
   "cell_type": "markdown",
   "id": "4f17d351",
   "metadata": {},
   "source": [
    "- Посчитав, сколько книг вышло после 1 января 2000 года - получилось 821 книгa;\n",
    "- Для каждой книги посчитали количество обзоров и среднюю оценку, выведя их на экран (ТОП3: 1. The Cat in the Hat and Other Dr. Seuss Favorites (кол-во обзоров - 5); 2. A Dirty Job(Grim Reaper) (кол-во обзоров - 5, ср.оценка - 4);  3. School's Out—Forever (Maximum Ride) (кол-во обзоров - 5, ср.оценка - 3)\n",
    "- Определили издательство, которое выпустило наибольшее число книг толще 50 страниц: им оказалось Penguin Books\tс 42 книгами;\n",
    "- Определили автора с самой высокой средней оценкой книг - J.K. Rowling/Mary GrandPré cо ср.оценкой 4.3;\n",
    "- Посчитали среднее количество обзоров от пользователей, которые поставили больше 48 оценок - получилось 24"
   ]
  }
 ],
 "metadata": {
  "ExecuteTimeLog": [
   {
    "duration": 2559,
    "start_time": "2023-05-08T11:26:51.809Z"
   },
   {
    "duration": 1460,
    "start_time": "2023-05-08T11:26:54.371Z"
   },
   {
    "duration": 3,
    "start_time": "2023-05-08T11:26:55.833Z"
   },
   {
    "duration": 4981,
    "start_time": "2023-05-08T11:26:55.838Z"
   },
   {
    "duration": 187,
    "start_time": "2023-05-08T11:27:00.821Z"
   },
   {
    "duration": 42,
    "start_time": "2023-05-08T11:27:01.010Z"
   },
   {
    "duration": 14,
    "start_time": "2023-05-08T11:27:01.053Z"
   },
   {
    "duration": 28,
    "start_time": "2023-05-08T11:27:01.069Z"
   },
   {
    "duration": 14,
    "start_time": "2023-05-08T11:27:01.099Z"
   },
   {
    "duration": 22,
    "start_time": "2023-05-08T11:27:01.116Z"
   },
   {
    "duration": 45,
    "start_time": "2023-05-08T11:27:01.140Z"
   },
   {
    "duration": 34,
    "start_time": "2023-05-08T11:27:01.188Z"
   },
   {
    "duration": 52,
    "start_time": "2023-05-08T11:27:01.225Z"
   },
   {
    "duration": 46,
    "start_time": "2023-05-08T11:27:01.280Z"
   },
   {
    "duration": 16,
    "start_time": "2023-05-08T11:27:01.328Z"
   },
   {
    "duration": 2,
    "start_time": "2023-05-08T11:31:09.397Z"
   },
   {
    "duration": 3,
    "start_time": "2023-05-08T11:31:10.250Z"
   },
   {
    "duration": 3,
    "start_time": "2023-05-08T11:31:10.800Z"
   },
   {
    "duration": 62,
    "start_time": "2023-05-08T11:31:13.034Z"
   },
   {
    "duration": 74,
    "start_time": "2023-05-08T11:31:14.027Z"
   },
   {
    "duration": 10,
    "start_time": "2023-05-08T11:32:55.074Z"
   },
   {
    "duration": 155,
    "start_time": "2023-05-08T11:34:57.231Z"
   },
   {
    "duration": 25,
    "start_time": "2023-05-08T11:36:29.983Z"
   },
   {
    "duration": 71,
    "start_time": "2023-05-08T11:36:50.932Z"
   },
   {
    "duration": 41,
    "start_time": "2023-05-08T11:37:34.545Z"
   },
   {
    "duration": 43,
    "start_time": "2023-05-08T11:37:38.873Z"
   },
   {
    "duration": 27,
    "start_time": "2023-05-08T11:39:02.102Z"
   },
   {
    "duration": 24,
    "start_time": "2023-05-08T11:39:39.197Z"
   },
   {
    "duration": 31,
    "start_time": "2023-05-08T11:39:47.996Z"
   },
   {
    "duration": 24,
    "start_time": "2023-05-08T11:40:01.822Z"
   },
   {
    "duration": 29,
    "start_time": "2023-05-08T11:41:05.918Z"
   },
   {
    "duration": 35,
    "start_time": "2023-05-08T11:41:26.377Z"
   },
   {
    "duration": 30,
    "start_time": "2023-05-08T11:41:34.855Z"
   },
   {
    "duration": 16,
    "start_time": "2023-05-08T12:10:12.700Z"
   },
   {
    "duration": 84,
    "start_time": "2023-05-08T12:11:52.082Z"
   },
   {
    "duration": 18,
    "start_time": "2023-05-08T12:14:54.890Z"
   },
   {
    "duration": 30,
    "start_time": "2023-05-08T12:22:47.889Z"
   },
   {
    "duration": 23,
    "start_time": "2023-05-08T12:23:16.697Z"
   },
   {
    "duration": 22,
    "start_time": "2023-05-08T12:23:56.517Z"
   },
   {
    "duration": 21,
    "start_time": "2023-05-08T12:24:31.517Z"
   },
   {
    "duration": 21,
    "start_time": "2023-05-08T12:24:41.943Z"
   },
   {
    "duration": 51,
    "start_time": "2023-05-08T12:24:48.588Z"
   },
   {
    "duration": 47,
    "start_time": "2023-05-08T12:25:18.382Z"
   },
   {
    "duration": 91,
    "start_time": "2023-05-08T12:25:52.233Z"
   },
   {
    "duration": 10,
    "start_time": "2023-05-08T12:26:24.544Z"
   },
   {
    "duration": 15,
    "start_time": "2023-05-08T12:26:31.153Z"
   },
   {
    "duration": 10,
    "start_time": "2023-05-08T12:28:38.935Z"
   },
   {
    "duration": 26,
    "start_time": "2023-05-08T12:29:45.795Z"
   },
   {
    "duration": 34,
    "start_time": "2023-05-08T12:29:58.246Z"
   },
   {
    "duration": 23,
    "start_time": "2023-05-08T12:36:21.855Z"
   },
   {
    "duration": 33,
    "start_time": "2023-05-08T12:36:33.783Z"
   },
   {
    "duration": 39,
    "start_time": "2023-05-08T12:36:58.184Z"
   },
   {
    "duration": 27,
    "start_time": "2023-05-08T12:37:15.896Z"
   },
   {
    "duration": 12,
    "start_time": "2023-05-08T12:40:27.619Z"
   },
   {
    "duration": 22,
    "start_time": "2023-05-08T12:40:28.543Z"
   },
   {
    "duration": 30,
    "start_time": "2023-05-08T12:40:56.267Z"
   },
   {
    "duration": 23,
    "start_time": "2023-05-08T12:41:05.564Z"
   },
   {
    "duration": 2465,
    "start_time": "2023-05-10T06:11:44.200Z"
   },
   {
    "duration": 547,
    "start_time": "2023-05-10T06:11:46.667Z"
   },
   {
    "duration": 4,
    "start_time": "2023-05-10T06:11:47.216Z"
   },
   {
    "duration": 4767,
    "start_time": "2023-05-10T06:11:47.221Z"
   },
   {
    "duration": 55,
    "start_time": "2023-05-10T06:11:51.990Z"
   },
   {
    "duration": 30,
    "start_time": "2023-05-10T06:11:52.047Z"
   },
   {
    "duration": 11,
    "start_time": "2023-05-10T06:11:52.079Z"
   },
   {
    "duration": 32,
    "start_time": "2023-05-10T06:11:52.092Z"
   },
   {
    "duration": 19,
    "start_time": "2023-05-10T06:11:52.126Z"
   },
   {
    "duration": 19,
    "start_time": "2023-05-10T06:11:52.147Z"
   },
   {
    "duration": 19,
    "start_time": "2023-05-10T06:11:52.167Z"
   },
   {
    "duration": 33,
    "start_time": "2023-05-10T06:11:52.187Z"
   },
   {
    "duration": 15,
    "start_time": "2023-05-10T06:11:52.222Z"
   },
   {
    "duration": 17,
    "start_time": "2023-05-10T06:11:52.239Z"
   },
   {
    "duration": 20,
    "start_time": "2023-05-10T06:11:52.258Z"
   },
   {
    "duration": 88,
    "start_time": "2023-05-10T06:15:11.509Z"
   },
   {
    "duration": 20,
    "start_time": "2023-05-10T06:16:19.845Z"
   },
   {
    "duration": 45,
    "start_time": "2023-05-10T06:19:36.292Z"
   },
   {
    "duration": 43,
    "start_time": "2023-05-10T06:20:21.975Z"
   },
   {
    "duration": 87,
    "start_time": "2023-05-10T06:21:00.017Z"
   },
   {
    "duration": 32,
    "start_time": "2023-05-10T06:21:31.574Z"
   },
   {
    "duration": 42,
    "start_time": "2023-05-10T06:22:23.367Z"
   },
   {
    "duration": 30,
    "start_time": "2023-05-10T06:22:57.110Z"
   },
   {
    "duration": 41,
    "start_time": "2023-05-10T06:23:48.473Z"
   },
   {
    "duration": 24,
    "start_time": "2023-05-10T06:24:52.910Z"
   },
   {
    "duration": 50,
    "start_time": "2023-05-10T06:25:11.214Z"
   },
   {
    "duration": 33,
    "start_time": "2023-05-10T06:25:54.211Z"
   },
   {
    "duration": 50,
    "start_time": "2023-05-10T06:25:56.783Z"
   },
   {
    "duration": 48,
    "start_time": "2023-05-10T06:26:23.066Z"
   },
   {
    "duration": 33,
    "start_time": "2023-05-10T06:26:27.142Z"
   },
   {
    "duration": 50,
    "start_time": "2023-05-10T06:26:48.914Z"
   },
   {
    "duration": 20,
    "start_time": "2023-05-10T06:27:15.834Z"
   },
   {
    "duration": 23,
    "start_time": "2023-05-10T06:27:54.858Z"
   },
   {
    "duration": 14,
    "start_time": "2023-05-10T06:43:00.225Z"
   },
   {
    "duration": 21,
    "start_time": "2023-05-10T07:19:45.601Z"
   },
   {
    "duration": 22,
    "start_time": "2023-05-10T07:21:29.234Z"
   },
   {
    "duration": 45,
    "start_time": "2023-05-10T07:32:59.217Z"
   },
   {
    "duration": 44,
    "start_time": "2023-05-10T07:33:15.772Z"
   },
   {
    "duration": 41,
    "start_time": "2023-05-10T07:33:51.922Z"
   },
   {
    "duration": 37,
    "start_time": "2023-05-10T07:34:11.602Z"
   },
   {
    "duration": 16,
    "start_time": "2023-05-10T07:34:42.748Z"
   },
   {
    "duration": 15,
    "start_time": "2023-05-10T07:34:52.155Z"
   },
   {
    "duration": 22,
    "start_time": "2023-05-10T07:35:26.869Z"
   },
   {
    "duration": 17,
    "start_time": "2023-05-10T07:35:37.866Z"
   },
   {
    "duration": 16,
    "start_time": "2023-05-10T07:36:12.880Z"
   },
   {
    "duration": 15,
    "start_time": "2023-05-10T07:37:14.557Z"
   },
   {
    "duration": 3,
    "start_time": "2023-05-10T07:39:59.873Z"
   },
   {
    "duration": 49,
    "start_time": "2023-05-10T07:40:43.424Z"
   },
   {
    "duration": 46,
    "start_time": "2023-05-10T07:41:20.419Z"
   },
   {
    "duration": 50,
    "start_time": "2023-05-10T07:41:42.905Z"
   },
   {
    "duration": 653,
    "start_time": "2023-05-10T07:42:28.878Z"
   },
   {
    "duration": 54,
    "start_time": "2023-05-10T07:43:27.894Z"
   },
   {
    "duration": 53,
    "start_time": "2023-05-10T07:43:34.144Z"
   },
   {
    "duration": 3,
    "start_time": "2023-05-10T07:43:47.623Z"
   },
   {
    "duration": 4,
    "start_time": "2023-05-10T07:44:16.271Z"
   },
   {
    "duration": 4,
    "start_time": "2023-05-10T07:44:16.947Z"
   },
   {
    "duration": 13,
    "start_time": "2023-05-10T07:44:43.579Z"
   },
   {
    "duration": 5,
    "start_time": "2023-05-10T07:46:14.146Z"
   },
   {
    "duration": 3,
    "start_time": "2023-05-10T07:46:14.447Z"
   },
   {
    "duration": 12,
    "start_time": "2023-05-10T07:48:38.185Z"
   },
   {
    "duration": 2006,
    "start_time": "2023-05-10T11:22:36.526Z"
   },
   {
    "duration": 516,
    "start_time": "2023-05-10T11:22:38.534Z"
   },
   {
    "duration": 3,
    "start_time": "2023-05-10T11:22:39.052Z"
   },
   {
    "duration": 4922,
    "start_time": "2023-05-10T11:22:39.057Z"
   },
   {
    "duration": 32,
    "start_time": "2023-05-10T11:22:43.981Z"
   },
   {
    "duration": 3,
    "start_time": "2023-05-10T11:22:44.014Z"
   },
   {
    "duration": 20,
    "start_time": "2023-05-10T11:22:44.018Z"
   },
   {
    "duration": 38,
    "start_time": "2023-05-10T11:22:44.040Z"
   },
   {
    "duration": 9,
    "start_time": "2023-05-10T11:22:44.080Z"
   },
   {
    "duration": 13,
    "start_time": "2023-05-10T11:22:44.092Z"
   },
   {
    "duration": 11,
    "start_time": "2023-05-10T11:22:44.107Z"
   },
   {
    "duration": 9,
    "start_time": "2023-05-10T11:22:44.120Z"
   },
   {
    "duration": 13,
    "start_time": "2023-05-10T11:22:44.131Z"
   },
   {
    "duration": 11,
    "start_time": "2023-05-10T11:22:44.146Z"
   },
   {
    "duration": 46,
    "start_time": "2023-05-10T11:22:44.159Z"
   },
   {
    "duration": 23,
    "start_time": "2023-05-10T11:22:44.207Z"
   },
   {
    "duration": 17,
    "start_time": "2023-05-10T11:22:44.231Z"
   },
   {
    "duration": 11,
    "start_time": "2023-05-10T11:22:44.249Z"
   },
   {
    "duration": 9,
    "start_time": "2023-05-10T11:41:42.302Z"
   },
   {
    "duration": 9,
    "start_time": "2023-05-10T11:42:53.415Z"
   },
   {
    "duration": 10,
    "start_time": "2023-05-10T11:42:54.391Z"
   },
   {
    "duration": 9,
    "start_time": "2023-05-10T11:42:55.268Z"
   },
   {
    "duration": 9,
    "start_time": "2023-05-10T11:43:00.026Z"
   },
   {
    "duration": 10,
    "start_time": "2023-05-10T11:43:02.000Z"
   },
   {
    "duration": 9,
    "start_time": "2023-05-10T11:44:42.554Z"
   },
   {
    "duration": 8,
    "start_time": "2023-05-10T11:45:54.744Z"
   },
   {
    "duration": 16,
    "start_time": "2023-05-10T11:45:56.316Z"
   },
   {
    "duration": 11,
    "start_time": "2023-05-10T11:48:40.486Z"
   },
   {
    "duration": 12,
    "start_time": "2023-05-10T11:49:12.558Z"
   },
   {
    "duration": 15,
    "start_time": "2023-05-10T11:49:22.749Z"
   },
   {
    "duration": 10,
    "start_time": "2023-05-10T11:50:30.387Z"
   },
   {
    "duration": 1746,
    "start_time": "2023-05-10T11:50:59.785Z"
   },
   {
    "duration": 486,
    "start_time": "2023-05-10T11:51:01.533Z"
   },
   {
    "duration": 3,
    "start_time": "2023-05-10T11:51:02.020Z"
   },
   {
    "duration": 5043,
    "start_time": "2023-05-10T11:51:02.024Z"
   },
   {
    "duration": 38,
    "start_time": "2023-05-10T11:51:07.069Z"
   },
   {
    "duration": 3,
    "start_time": "2023-05-10T11:51:07.108Z"
   },
   {
    "duration": 37,
    "start_time": "2023-05-10T11:51:07.112Z"
   },
   {
    "duration": 23,
    "start_time": "2023-05-10T11:51:07.151Z"
   },
   {
    "duration": 17,
    "start_time": "2023-05-10T11:51:07.176Z"
   },
   {
    "duration": 32,
    "start_time": "2023-05-10T11:51:07.194Z"
   },
   {
    "duration": 12,
    "start_time": "2023-05-10T11:51:07.227Z"
   },
   {
    "duration": 7,
    "start_time": "2023-05-10T11:51:07.240Z"
   },
   {
    "duration": 12,
    "start_time": "2023-05-10T11:51:07.248Z"
   },
   {
    "duration": 37,
    "start_time": "2023-05-10T11:51:07.262Z"
   },
   {
    "duration": 8,
    "start_time": "2023-05-10T11:51:07.300Z"
   },
   {
    "duration": 12,
    "start_time": "2023-05-10T11:51:07.309Z"
   },
   {
    "duration": 8,
    "start_time": "2023-05-10T11:51:07.322Z"
   },
   {
    "duration": 1864,
    "start_time": "2023-05-10T11:53:53.117Z"
   },
   {
    "duration": 461,
    "start_time": "2023-05-10T11:53:54.983Z"
   },
   {
    "duration": 3,
    "start_time": "2023-05-10T11:53:55.445Z"
   },
   {
    "duration": 4776,
    "start_time": "2023-05-10T11:53:55.449Z"
   },
   {
    "duration": 28,
    "start_time": "2023-05-10T11:54:00.227Z"
   },
   {
    "duration": 3,
    "start_time": "2023-05-10T11:54:00.256Z"
   },
   {
    "duration": 43,
    "start_time": "2023-05-10T11:54:00.260Z"
   },
   {
    "duration": 21,
    "start_time": "2023-05-10T11:54:00.305Z"
   },
   {
    "duration": 41,
    "start_time": "2023-05-10T11:54:00.327Z"
   },
   {
    "duration": 55,
    "start_time": "2023-05-10T11:54:00.370Z"
   },
   {
    "duration": 59,
    "start_time": "2023-05-10T11:54:00.427Z"
   },
   {
    "duration": 55,
    "start_time": "2023-05-10T11:54:00.487Z"
   },
   {
    "duration": 43,
    "start_time": "2023-05-10T11:54:00.544Z"
   },
   {
    "duration": 51,
    "start_time": "2023-05-10T11:54:00.590Z"
   },
   {
    "duration": 36,
    "start_time": "2023-05-10T11:54:00.643Z"
   },
   {
    "duration": 31,
    "start_time": "2023-05-10T11:54:00.681Z"
   },
   {
    "duration": 28,
    "start_time": "2023-05-10T11:54:00.714Z"
   }
  ],
  "kernelspec": {
   "display_name": "Python 3 (ipykernel)",
   "language": "python",
   "name": "python3"
  },
  "language_info": {
   "codemirror_mode": {
    "name": "ipython",
    "version": 3
   },
   "file_extension": ".py",
   "mimetype": "text/x-python",
   "name": "python",
   "nbconvert_exporter": "python",
   "pygments_lexer": "ipython3",
   "version": "3.11.3"
  },
  "toc": {
   "base_numbering": 1,
   "nav_menu": {},
   "number_sections": true,
   "sideBar": true,
   "skip_h1_title": true,
   "title_cell": "Table of Contents",
   "title_sidebar": "Contents",
   "toc_cell": false,
   "toc_position": {
    "height": "calc(100% - 180px)",
    "left": "10px",
    "top": "150px",
    "width": "165px"
   },
   "toc_section_display": true,
   "toc_window_display": true
  }
 },
 "nbformat": 4,
 "nbformat_minor": 5
}

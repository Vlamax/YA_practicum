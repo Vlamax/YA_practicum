{
 "cells": [
  {
   "cell_type": "markdown",
   "metadata": {},
   "source": [
    "## Статистический анализ данных"
   ]
  },
  {
   "cell_type": "code",
   "execution_count": 1,
   "metadata": {
    "deletable": false
   },
   "outputs": [],
   "source": [
    "import pandas as pd"
   ]
  },
  {
   "cell_type": "markdown",
   "metadata": {
    "deletable": false,
    "editable": false
   },
   "source": [
    "### Откройте файл с данными и изучите общую информацию"
   ]
  },
  {
   "cell_type": "markdown",
   "metadata": {
    "deletable": false,
    "editable": false,
    "tags": [
     "start_task"
    ]
   },
   "source": [
    "**Задание 1.** Откройте файл `/datasets/calls.csv`, сохраните датафрейм в переменную `calls`."
   ]
  },
  {
   "cell_type": "code",
   "execution_count": 2,
   "metadata": {
    "deletable": false
   },
   "outputs": [
    {
     "ename": "FileNotFoundError",
     "evalue": "[Errno 2] No such file or directory: '/datasets/calls.csv'",
     "output_type": "error",
     "traceback": [
      "\u001b[1;31m---------------------------------------------------------------------------\u001b[0m",
      "\u001b[1;31mFileNotFoundError\u001b[0m                         Traceback (most recent call last)",
      "Cell \u001b[1;32mIn[2], line 1\u001b[0m\n\u001b[1;32m----> 1\u001b[0m calls \u001b[38;5;241m=\u001b[39m pd\u001b[38;5;241m.\u001b[39mread_csv(\u001b[38;5;124m'\u001b[39m\u001b[38;5;124m/datasets/calls.csv\u001b[39m\u001b[38;5;124m'\u001b[39m)\n",
      "File \u001b[1;32mD:\\Games\\Anaconda\\Lib\\site-packages\\pandas\\util\\_decorators.py:211\u001b[0m, in \u001b[0;36mdeprecate_kwarg.<locals>._deprecate_kwarg.<locals>.wrapper\u001b[1;34m(*args, **kwargs)\u001b[0m\n\u001b[0;32m    209\u001b[0m     \u001b[38;5;28;01melse\u001b[39;00m:\n\u001b[0;32m    210\u001b[0m         kwargs[new_arg_name] \u001b[38;5;241m=\u001b[39m new_arg_value\n\u001b[1;32m--> 211\u001b[0m \u001b[38;5;28;01mreturn\u001b[39;00m func(\u001b[38;5;241m*\u001b[39margs, \u001b[38;5;241m*\u001b[39m\u001b[38;5;241m*\u001b[39mkwargs)\n",
      "File \u001b[1;32mD:\\Games\\Anaconda\\Lib\\site-packages\\pandas\\util\\_decorators.py:331\u001b[0m, in \u001b[0;36mdeprecate_nonkeyword_arguments.<locals>.decorate.<locals>.wrapper\u001b[1;34m(*args, **kwargs)\u001b[0m\n\u001b[0;32m    325\u001b[0m \u001b[38;5;28;01mif\u001b[39;00m \u001b[38;5;28mlen\u001b[39m(args) \u001b[38;5;241m>\u001b[39m num_allow_args:\n\u001b[0;32m    326\u001b[0m     warnings\u001b[38;5;241m.\u001b[39mwarn(\n\u001b[0;32m    327\u001b[0m         msg\u001b[38;5;241m.\u001b[39mformat(arguments\u001b[38;5;241m=\u001b[39m_format_argument_list(allow_args)),\n\u001b[0;32m    328\u001b[0m         \u001b[38;5;167;01mFutureWarning\u001b[39;00m,\n\u001b[0;32m    329\u001b[0m         stacklevel\u001b[38;5;241m=\u001b[39mfind_stack_level(),\n\u001b[0;32m    330\u001b[0m     )\n\u001b[1;32m--> 331\u001b[0m \u001b[38;5;28;01mreturn\u001b[39;00m func(\u001b[38;5;241m*\u001b[39margs, \u001b[38;5;241m*\u001b[39m\u001b[38;5;241m*\u001b[39mkwargs)\n",
      "File \u001b[1;32mD:\\Games\\Anaconda\\Lib\\site-packages\\pandas\\io\\parsers\\readers.py:950\u001b[0m, in \u001b[0;36mread_csv\u001b[1;34m(filepath_or_buffer, sep, delimiter, header, names, index_col, usecols, squeeze, prefix, mangle_dupe_cols, dtype, engine, converters, true_values, false_values, skipinitialspace, skiprows, skipfooter, nrows, na_values, keep_default_na, na_filter, verbose, skip_blank_lines, parse_dates, infer_datetime_format, keep_date_col, date_parser, dayfirst, cache_dates, iterator, chunksize, compression, thousands, decimal, lineterminator, quotechar, quoting, doublequote, escapechar, comment, encoding, encoding_errors, dialect, error_bad_lines, warn_bad_lines, on_bad_lines, delim_whitespace, low_memory, memory_map, float_precision, storage_options)\u001b[0m\n\u001b[0;32m    935\u001b[0m kwds_defaults \u001b[38;5;241m=\u001b[39m _refine_defaults_read(\n\u001b[0;32m    936\u001b[0m     dialect,\n\u001b[0;32m    937\u001b[0m     delimiter,\n\u001b[1;32m   (...)\u001b[0m\n\u001b[0;32m    946\u001b[0m     defaults\u001b[38;5;241m=\u001b[39m{\u001b[38;5;124m\"\u001b[39m\u001b[38;5;124mdelimiter\u001b[39m\u001b[38;5;124m\"\u001b[39m: \u001b[38;5;124m\"\u001b[39m\u001b[38;5;124m,\u001b[39m\u001b[38;5;124m\"\u001b[39m},\n\u001b[0;32m    947\u001b[0m )\n\u001b[0;32m    948\u001b[0m kwds\u001b[38;5;241m.\u001b[39mupdate(kwds_defaults)\n\u001b[1;32m--> 950\u001b[0m \u001b[38;5;28;01mreturn\u001b[39;00m _read(filepath_or_buffer, kwds)\n",
      "File \u001b[1;32mD:\\Games\\Anaconda\\Lib\\site-packages\\pandas\\io\\parsers\\readers.py:605\u001b[0m, in \u001b[0;36m_read\u001b[1;34m(filepath_or_buffer, kwds)\u001b[0m\n\u001b[0;32m    602\u001b[0m _validate_names(kwds\u001b[38;5;241m.\u001b[39mget(\u001b[38;5;124m\"\u001b[39m\u001b[38;5;124mnames\u001b[39m\u001b[38;5;124m\"\u001b[39m, \u001b[38;5;28;01mNone\u001b[39;00m))\n\u001b[0;32m    604\u001b[0m \u001b[38;5;66;03m# Create the parser.\u001b[39;00m\n\u001b[1;32m--> 605\u001b[0m parser \u001b[38;5;241m=\u001b[39m TextFileReader(filepath_or_buffer, \u001b[38;5;241m*\u001b[39m\u001b[38;5;241m*\u001b[39mkwds)\n\u001b[0;32m    607\u001b[0m \u001b[38;5;28;01mif\u001b[39;00m chunksize \u001b[38;5;129;01mor\u001b[39;00m iterator:\n\u001b[0;32m    608\u001b[0m     \u001b[38;5;28;01mreturn\u001b[39;00m parser\n",
      "File \u001b[1;32mD:\\Games\\Anaconda\\Lib\\site-packages\\pandas\\io\\parsers\\readers.py:1442\u001b[0m, in \u001b[0;36mTextFileReader.__init__\u001b[1;34m(self, f, engine, **kwds)\u001b[0m\n\u001b[0;32m   1439\u001b[0m     \u001b[38;5;28mself\u001b[39m\u001b[38;5;241m.\u001b[39moptions[\u001b[38;5;124m\"\u001b[39m\u001b[38;5;124mhas_index_names\u001b[39m\u001b[38;5;124m\"\u001b[39m] \u001b[38;5;241m=\u001b[39m kwds[\u001b[38;5;124m\"\u001b[39m\u001b[38;5;124mhas_index_names\u001b[39m\u001b[38;5;124m\"\u001b[39m]\n\u001b[0;32m   1441\u001b[0m \u001b[38;5;28mself\u001b[39m\u001b[38;5;241m.\u001b[39mhandles: IOHandles \u001b[38;5;241m|\u001b[39m \u001b[38;5;28;01mNone\u001b[39;00m \u001b[38;5;241m=\u001b[39m \u001b[38;5;28;01mNone\u001b[39;00m\n\u001b[1;32m-> 1442\u001b[0m \u001b[38;5;28mself\u001b[39m\u001b[38;5;241m.\u001b[39m_engine \u001b[38;5;241m=\u001b[39m \u001b[38;5;28mself\u001b[39m\u001b[38;5;241m.\u001b[39m_make_engine(f, \u001b[38;5;28mself\u001b[39m\u001b[38;5;241m.\u001b[39mengine)\n",
      "File \u001b[1;32mD:\\Games\\Anaconda\\Lib\\site-packages\\pandas\\io\\parsers\\readers.py:1735\u001b[0m, in \u001b[0;36mTextFileReader._make_engine\u001b[1;34m(self, f, engine)\u001b[0m\n\u001b[0;32m   1733\u001b[0m     \u001b[38;5;28;01mif\u001b[39;00m \u001b[38;5;124m\"\u001b[39m\u001b[38;5;124mb\u001b[39m\u001b[38;5;124m\"\u001b[39m \u001b[38;5;129;01mnot\u001b[39;00m \u001b[38;5;129;01min\u001b[39;00m mode:\n\u001b[0;32m   1734\u001b[0m         mode \u001b[38;5;241m+\u001b[39m\u001b[38;5;241m=\u001b[39m \u001b[38;5;124m\"\u001b[39m\u001b[38;5;124mb\u001b[39m\u001b[38;5;124m\"\u001b[39m\n\u001b[1;32m-> 1735\u001b[0m \u001b[38;5;28mself\u001b[39m\u001b[38;5;241m.\u001b[39mhandles \u001b[38;5;241m=\u001b[39m get_handle(\n\u001b[0;32m   1736\u001b[0m     f,\n\u001b[0;32m   1737\u001b[0m     mode,\n\u001b[0;32m   1738\u001b[0m     encoding\u001b[38;5;241m=\u001b[39m\u001b[38;5;28mself\u001b[39m\u001b[38;5;241m.\u001b[39moptions\u001b[38;5;241m.\u001b[39mget(\u001b[38;5;124m\"\u001b[39m\u001b[38;5;124mencoding\u001b[39m\u001b[38;5;124m\"\u001b[39m, \u001b[38;5;28;01mNone\u001b[39;00m),\n\u001b[0;32m   1739\u001b[0m     compression\u001b[38;5;241m=\u001b[39m\u001b[38;5;28mself\u001b[39m\u001b[38;5;241m.\u001b[39moptions\u001b[38;5;241m.\u001b[39mget(\u001b[38;5;124m\"\u001b[39m\u001b[38;5;124mcompression\u001b[39m\u001b[38;5;124m\"\u001b[39m, \u001b[38;5;28;01mNone\u001b[39;00m),\n\u001b[0;32m   1740\u001b[0m     memory_map\u001b[38;5;241m=\u001b[39m\u001b[38;5;28mself\u001b[39m\u001b[38;5;241m.\u001b[39moptions\u001b[38;5;241m.\u001b[39mget(\u001b[38;5;124m\"\u001b[39m\u001b[38;5;124mmemory_map\u001b[39m\u001b[38;5;124m\"\u001b[39m, \u001b[38;5;28;01mFalse\u001b[39;00m),\n\u001b[0;32m   1741\u001b[0m     is_text\u001b[38;5;241m=\u001b[39mis_text,\n\u001b[0;32m   1742\u001b[0m     errors\u001b[38;5;241m=\u001b[39m\u001b[38;5;28mself\u001b[39m\u001b[38;5;241m.\u001b[39moptions\u001b[38;5;241m.\u001b[39mget(\u001b[38;5;124m\"\u001b[39m\u001b[38;5;124mencoding_errors\u001b[39m\u001b[38;5;124m\"\u001b[39m, \u001b[38;5;124m\"\u001b[39m\u001b[38;5;124mstrict\u001b[39m\u001b[38;5;124m\"\u001b[39m),\n\u001b[0;32m   1743\u001b[0m     storage_options\u001b[38;5;241m=\u001b[39m\u001b[38;5;28mself\u001b[39m\u001b[38;5;241m.\u001b[39moptions\u001b[38;5;241m.\u001b[39mget(\u001b[38;5;124m\"\u001b[39m\u001b[38;5;124mstorage_options\u001b[39m\u001b[38;5;124m\"\u001b[39m, \u001b[38;5;28;01mNone\u001b[39;00m),\n\u001b[0;32m   1744\u001b[0m )\n\u001b[0;32m   1745\u001b[0m \u001b[38;5;28;01massert\u001b[39;00m \u001b[38;5;28mself\u001b[39m\u001b[38;5;241m.\u001b[39mhandles \u001b[38;5;129;01mis\u001b[39;00m \u001b[38;5;129;01mnot\u001b[39;00m \u001b[38;5;28;01mNone\u001b[39;00m\n\u001b[0;32m   1746\u001b[0m f \u001b[38;5;241m=\u001b[39m \u001b[38;5;28mself\u001b[39m\u001b[38;5;241m.\u001b[39mhandles\u001b[38;5;241m.\u001b[39mhandle\n",
      "File \u001b[1;32mD:\\Games\\Anaconda\\Lib\\site-packages\\pandas\\io\\common.py:856\u001b[0m, in \u001b[0;36mget_handle\u001b[1;34m(path_or_buf, mode, encoding, compression, memory_map, is_text, errors, storage_options)\u001b[0m\n\u001b[0;32m    851\u001b[0m \u001b[38;5;28;01melif\u001b[39;00m \u001b[38;5;28misinstance\u001b[39m(handle, \u001b[38;5;28mstr\u001b[39m):\n\u001b[0;32m    852\u001b[0m     \u001b[38;5;66;03m# Check whether the filename is to be opened in binary mode.\u001b[39;00m\n\u001b[0;32m    853\u001b[0m     \u001b[38;5;66;03m# Binary mode does not support 'encoding' and 'newline'.\u001b[39;00m\n\u001b[0;32m    854\u001b[0m     \u001b[38;5;28;01mif\u001b[39;00m ioargs\u001b[38;5;241m.\u001b[39mencoding \u001b[38;5;129;01mand\u001b[39;00m \u001b[38;5;124m\"\u001b[39m\u001b[38;5;124mb\u001b[39m\u001b[38;5;124m\"\u001b[39m \u001b[38;5;129;01mnot\u001b[39;00m \u001b[38;5;129;01min\u001b[39;00m ioargs\u001b[38;5;241m.\u001b[39mmode:\n\u001b[0;32m    855\u001b[0m         \u001b[38;5;66;03m# Encoding\u001b[39;00m\n\u001b[1;32m--> 856\u001b[0m         handle \u001b[38;5;241m=\u001b[39m \u001b[38;5;28mopen\u001b[39m(\n\u001b[0;32m    857\u001b[0m             handle,\n\u001b[0;32m    858\u001b[0m             ioargs\u001b[38;5;241m.\u001b[39mmode,\n\u001b[0;32m    859\u001b[0m             encoding\u001b[38;5;241m=\u001b[39mioargs\u001b[38;5;241m.\u001b[39mencoding,\n\u001b[0;32m    860\u001b[0m             errors\u001b[38;5;241m=\u001b[39merrors,\n\u001b[0;32m    861\u001b[0m             newline\u001b[38;5;241m=\u001b[39m\u001b[38;5;124m\"\u001b[39m\u001b[38;5;124m\"\u001b[39m,\n\u001b[0;32m    862\u001b[0m         )\n\u001b[0;32m    863\u001b[0m     \u001b[38;5;28;01melse\u001b[39;00m:\n\u001b[0;32m    864\u001b[0m         \u001b[38;5;66;03m# Binary mode\u001b[39;00m\n\u001b[0;32m    865\u001b[0m         handle \u001b[38;5;241m=\u001b[39m \u001b[38;5;28mopen\u001b[39m(handle, ioargs\u001b[38;5;241m.\u001b[39mmode)\n",
      "\u001b[1;31mFileNotFoundError\u001b[0m: [Errno 2] No such file or directory: '/datasets/calls.csv'"
     ]
    }
   ],
   "source": [
    "calls = pd.read_csv('/datasets/calls.csv')"
   ]
  },
  {
   "cell_type": "markdown",
   "metadata": {
    "deletable": false,
    "editable": false,
    "tags": [
     "start_task"
    ]
   },
   "source": [
    "**Задание 2.** Выведите первые 5 строк датафрейма `calls`."
   ]
  },
  {
   "cell_type": "code",
   "execution_count": 3,
   "metadata": {
    "deletable": false
   },
   "outputs": [
    {
     "ename": "NameError",
     "evalue": "name 'calls' is not defined",
     "output_type": "error",
     "traceback": [
      "\u001b[1;31m---------------------------------------------------------------------------\u001b[0m",
      "\u001b[1;31mNameError\u001b[0m                                 Traceback (most recent call last)",
      "Cell \u001b[1;32mIn[3], line 1\u001b[0m\n\u001b[1;32m----> 1\u001b[0m \u001b[38;5;28mprint\u001b[39m(calls\u001b[38;5;241m.\u001b[39mhead())\n",
      "\u001b[1;31mNameError\u001b[0m: name 'calls' is not defined"
     ]
    }
   ],
   "source": [
    "print(calls.head())"
   ]
  },
  {
   "cell_type": "markdown",
   "metadata": {
    "deletable": false,
    "editable": false,
    "tags": [
     "start_task"
    ]
   },
   "source": [
    "**Задание 3.** Выведите основную информацию для датафрейма `calls` с помощью метода `info()`."
   ]
  },
  {
   "cell_type": "code",
   "execution_count": null,
   "metadata": {
    "deletable": false
   },
   "outputs": [],
   "source": [
    "calls.info()"
   ]
  },
  {
   "cell_type": "markdown",
   "metadata": {
    "deletable": false,
    "editable": false,
    "tags": [
     "start_task"
    ]
   },
   "source": [
    "**Задание 4.** С помощью метода `hist()` выведите гистограмму для столбца с продолжительностью звонков. Подумайте о том, как распределены данные."
   ]
  },
  {
   "cell_type": "code",
   "execution_count": null,
   "metadata": {
    "deletable": false
   },
   "outputs": [],
   "source": [
    "calls['duration'].hist();"
   ]
  },
  {
   "cell_type": "markdown",
   "metadata": {
    "deletable": false,
    "editable": false,
    "tags": [
     "start_task"
    ]
   },
   "source": [
    "**Задание 5.** Откройте файл `/datasets/internet.csv`, сохраните датафрейм в переменную `sessions`."
   ]
  },
  {
   "cell_type": "code",
   "execution_count": null,
   "metadata": {
    "deletable": false
   },
   "outputs": [],
   "source": [
    "sessions = pd.read_csv('/datasets/internet.csv')"
   ]
  },
  {
   "cell_type": "markdown",
   "metadata": {
    "deletable": false,
    "editable": false,
    "tags": [
     "start_task"
    ]
   },
   "source": [
    "**Задание 6.** Выведите первые 5 строк датафрейма `sessions`."
   ]
  },
  {
   "cell_type": "code",
   "execution_count": null,
   "metadata": {
    "deletable": false
   },
   "outputs": [],
   "source": [
    "print(sessions.head())"
   ]
  },
  {
   "cell_type": "markdown",
   "metadata": {
    "deletable": false,
    "editable": false,
    "tags": [
     "start_task"
    ]
   },
   "source": [
    "**Задание 7.** Выведите основную информацию для датафрейма sessions с помощью метода `info()`. "
   ]
  },
  {
   "cell_type": "code",
   "execution_count": null,
   "metadata": {
    "deletable": false
   },
   "outputs": [],
   "source": [
    "sessions.info()"
   ]
  },
  {
   "cell_type": "markdown",
   "metadata": {
    "deletable": false,
    "editable": false,
    "tags": [
     "start_task"
    ]
   },
   "source": [
    "**Задание 8.** С помощью метода `hist()` выведите гистограмму для столбца с количеством потраченных мегабайт."
   ]
  },
  {
   "cell_type": "code",
   "execution_count": null,
   "metadata": {
    "deletable": false
   },
   "outputs": [],
   "source": [
    "sessions['mb_used'].hist();"
   ]
  },
  {
   "cell_type": "markdown",
   "metadata": {
    "deletable": false,
    "editable": false,
    "tags": [
     "start_task"
    ]
   },
   "source": [
    "**Задание 9.** Откройте файл `/datasets/messages.csv`, сохраните датафрейм в переменную `messages`."
   ]
  },
  {
   "cell_type": "code",
   "execution_count": null,
   "metadata": {
    "deletable": false
   },
   "outputs": [],
   "source": [
    "messages = pd.read_csv('/datasets/messages.csv')"
   ]
  },
  {
   "cell_type": "markdown",
   "metadata": {
    "deletable": false,
    "editable": false,
    "tags": [
     "start_task"
    ]
   },
   "source": [
    "**Задание 10.** Выведите первые 5 строк датафрейма `messages`."
   ]
  },
  {
   "cell_type": "code",
   "execution_count": null,
   "metadata": {
    "deletable": false
   },
   "outputs": [],
   "source": [
    "print(messages.head())"
   ]
  },
  {
   "cell_type": "markdown",
   "metadata": {
    "deletable": false,
    "editable": false,
    "tags": [
     "start_task"
    ]
   },
   "source": [
    "**Задание 11.** Выведите основную информацию для датафрейма `messages` с помощью метода `info()`. "
   ]
  },
  {
   "cell_type": "code",
   "execution_count": null,
   "metadata": {
    "deletable": false
   },
   "outputs": [],
   "source": [
    "messages.info()"
   ]
  },
  {
   "cell_type": "markdown",
   "metadata": {
    "deletable": false,
    "editable": false,
    "tags": [
     "start_task"
    ]
   },
   "source": [
    "**Задание 12.** Откройте файл `/datasets/tariffs.csv`, сохраните датафрейм в переменную `tariffs`."
   ]
  },
  {
   "cell_type": "code",
   "execution_count": null,
   "metadata": {
    "deletable": false
   },
   "outputs": [],
   "source": [
    "tariffs = pd.read_csv('/datasets/tariffs.csv')"
   ]
  },
  {
   "cell_type": "markdown",
   "metadata": {
    "deletable": false,
    "editable": false,
    "tags": [
     "start_task"
    ]
   },
   "source": [
    "**Задание 13.** Выведите весь датафрейм `tariffs`."
   ]
  },
  {
   "cell_type": "code",
   "execution_count": null,
   "metadata": {
    "deletable": false
   },
   "outputs": [],
   "source": [
    "print(tariffs)"
   ]
  },
  {
   "cell_type": "markdown",
   "metadata": {
    "deletable": false,
    "editable": false,
    "tags": [
     "start_task"
    ]
   },
   "source": [
    "**Задание 14.** Выведите основную информацию для датафрейма `tariffs` с помощью метода `info()`."
   ]
  },
  {
   "cell_type": "code",
   "execution_count": null,
   "metadata": {
    "deletable": false
   },
   "outputs": [],
   "source": [
    "tariffs.info()"
   ]
  },
  {
   "cell_type": "markdown",
   "metadata": {
    "deletable": false,
    "editable": false,
    "tags": [
     "start_task"
    ]
   },
   "source": [
    "**Задание 15.** Откройте файл `/datasets/users.csv`, сохраните датафрейм в переменную `users`."
   ]
  },
  {
   "cell_type": "code",
   "execution_count": null,
   "metadata": {
    "deletable": false
   },
   "outputs": [],
   "source": [
    "users = pd.read_csv('/datasets/users.csv')"
   ]
  },
  {
   "cell_type": "markdown",
   "metadata": {
    "deletable": false,
    "editable": false,
    "tags": [
     "start_task"
    ]
   },
   "source": [
    "**Задание 16.** Выведите первые 5 строк датафрейма `users`."
   ]
  },
  {
   "cell_type": "code",
   "execution_count": null,
   "metadata": {
    "deletable": false
   },
   "outputs": [],
   "source": [
    "print(users.head())"
   ]
  },
  {
   "cell_type": "markdown",
   "metadata": {
    "deletable": false,
    "editable": false,
    "tags": [
     "start_task"
    ]
   },
   "source": [
    "**Задание 17.** Выведите основную информацию для датафрейма `users` с помощью метода `info()`."
   ]
  },
  {
   "cell_type": "code",
   "execution_count": null,
   "metadata": {
    "deletable": false
   },
   "outputs": [],
   "source": [
    "users.info()"
   ]
  },
  {
   "cell_type": "markdown",
   "metadata": {
    "deletable": false,
    "editable": false
   },
   "source": [
    "### Подготовьте данные"
   ]
  },
  {
   "cell_type": "markdown",
   "metadata": {
    "deletable": false,
    "editable": false,
    "tags": [
     "start_task"
    ]
   },
   "source": [
    "**Задание 18.**  Приведите столбцы\n",
    "\n",
    "- `reg_date` из таблицы `users`\n",
    "- `churn_date` из таблицы `users`\n",
    "- `call_date` из таблицы `calls`\n",
    "- `message_date` из таблицы `messages`\n",
    "- `session_date` из таблицы `sessions`\n",
    "\n",
    "к новому типу с помощью метода `to_datetime()`."
   ]
  },
  {
   "cell_type": "code",
   "execution_count": null,
   "metadata": {
    "deletable": false
   },
   "outputs": [],
   "source": [
    "def str_to_dt(data, column_name):\n",
    "    data[column_name] = pd.to_datetime(data[column_name], format='%Y-%m-%d')\n",
    "\n",
    "    \n",
    "str_to_dt(users, 'reg_date')    # обработка столбца reg_date\n",
    "str_to_dt(users, 'churn_date') # обработка столбца churn_date\n",
    "\n",
    "str_to_dt(calls, 'call_date') # обработка столбца call_date\n",
    "\n",
    "str_to_dt(messages, 'message_date') # обработка столбца message_date\n",
    "str_to_dt(sessions, 'session_date') # обработка столбца session_date"
   ]
  },
  {
   "cell_type": "markdown",
   "metadata": {
    "deletable": false,
    "editable": false,
    "tags": [
     "start_task"
    ]
   },
   "source": [
    "**Задание 19.** В данных вы найдёте звонки с нулевой продолжительностью. Это не ошибка: нулями обозначены пропущенные звонки, поэтому их не нужно удалять.\n",
    "\n",
    "Однако в столбце `duration` датафрейма `calls` значения дробные. Округлите значения столбца `duration` вверх с помощью метода `numpy.ceil()` и приведите столбец `duration` к типу `int`."
   ]
  },
  {
   "cell_type": "code",
   "execution_count": null,
   "metadata": {
    "deletable": false
   },
   "outputs": [],
   "source": [
    "import numpy as np\n",
    "\n",
    "calls['duration'] = np.ceil(calls['duration']) # округление значений столбца duration с помощью np.ceil() и приведение типа к int\n",
    "calls['duration'] = calls['duration'].astype(int)"
   ]
  },
  {
   "cell_type": "markdown",
   "metadata": {
    "deletable": false,
    "editable": false,
    "tags": [
     "start_task"
    ]
   },
   "source": [
    "**Задание 20.** Удалите столбец `Unnamed: 0` из датафрейма `sessions`. Столбец с таким названием возникает, когда данные сохраняют с указанием индекса (`df.to_csv(..., index=column)`). Он сейчас не понадобится."
   ]
  },
  {
   "cell_type": "code",
   "execution_count": null,
   "metadata": {
    "deletable": false
   },
   "outputs": [],
   "source": [
    "sessions = sessions.drop(columns = ['Unnamed: 0'])"
   ]
  },
  {
   "cell_type": "markdown",
   "metadata": {
    "deletable": false,
    "editable": false,
    "tags": [
     "start_task"
    ]
   },
   "source": [
    "**Задание 21.** Создайте столбец `month` в датафрейме `calls` с номером месяца из столбца `call_date`."
   ]
  },
  {
   "cell_type": "code",
   "execution_count": null,
   "metadata": {
    "deletable": false
   },
   "outputs": [],
   "source": [
    "calls['month'] = pd.to_datetime(calls['call_date']).dt.month"
   ]
  },
  {
   "cell_type": "markdown",
   "metadata": {
    "deletable": false,
    "editable": false,
    "tags": [
     "start_task"
    ]
   },
   "source": [
    "**Задание 22.** Создайте столбец `month` в датафрейме `messages` с номером месяца из столбца `message_date`."
   ]
  },
  {
   "cell_type": "code",
   "execution_count": null,
   "metadata": {
    "deletable": false
   },
   "outputs": [],
   "source": [
    "messages['month'] = pd.to_datetime(messages['message_date']).dt.month"
   ]
  },
  {
   "cell_type": "markdown",
   "metadata": {
    "deletable": false,
    "editable": false,
    "tags": [
     "start_task"
    ]
   },
   "source": [
    "**Задание 23.** Создайте столбец `month` в датафрейме `sessions` с номером месяца из столбца `session_date`."
   ]
  },
  {
   "cell_type": "code",
   "execution_count": null,
   "metadata": {
    "deletable": false
   },
   "outputs": [],
   "source": [
    "sessions['month'] = pd.to_datetime(sessions['session_date']).dt.month"
   ]
  },
  {
   "cell_type": "markdown",
   "metadata": {
    "deletable": false,
    "editable": false,
    "tags": [
     "start_task"
    ]
   },
   "source": [
    "**Задание 24.** Посчитайте количество сделанных звонков разговора для каждого пользователя по месяцам."
   ]
  },
  {
   "cell_type": "code",
   "execution_count": null,
   "metadata": {
    "deletable": false
   },
   "outputs": [],
   "source": [
    "calls_per_month = calls.groupby(['user_id','month']).agg(calls=('duration', 'count')) # подсчёт количества звонков для каждого пользователя по месяцам"
   ]
  },
  {
   "cell_type": "code",
   "execution_count": null,
   "metadata": {
    "deletable": false
   },
   "outputs": [],
   "source": [
    "print(calls_per_month.head(30)) # вывод 30 первых строк на экран"
   ]
  },
  {
   "cell_type": "markdown",
   "metadata": {
    "deletable": false,
    "editable": false,
    "tags": [
     "start_task"
    ]
   },
   "source": [
    "**Задание 25.** Посчитайте количество израсходованных минут разговора для каждого пользователя по месяцам и сохраните в переменную `minutes_per_month`. Вам понадобится\n",
    "\n",
    "- сгруппировать датафрейм с информацией о звонках по двум столбцам — с идентификаторами пользователей и номерами месяцев;\n",
    "- после группировки выбрать столбец `duration`\n",
    "- затем применить метод для подсчёта суммы.\n",
    "\n",
    "Выведите первые 30 строчек `minutes_per_month`."
   ]
  },
  {
   "cell_type": "code",
   "execution_count": null,
   "metadata": {
    "deletable": false
   },
   "outputs": [],
   "source": [
    "minutes_per_month = calls.groupby(['user_id', 'month']).agg(minutes=('duration', 'sum')) # подсчёт израсходованных минут для каждого пользователя по месяцам\n",
    "minutes_per_month"
   ]
  },
  {
   "cell_type": "code",
   "execution_count": null,
   "metadata": {
    "deletable": false
   },
   "outputs": [],
   "source": [
    "print(minutes_per_month.head(30)) # вывод первых 30 строк на экран"
   ]
  },
  {
   "cell_type": "markdown",
   "metadata": {
    "deletable": false,
    "editable": false,
    "tags": [
     "start_task"
    ]
   },
   "source": [
    "**Задание 26.** Посчитайте количество отправленных сообщений по месяцам для каждого пользователя и сохраните в переменную `messages_per_month`. Вам понадобится\n",
    "\n",
    "- сгруппировать датафрейм с информацией о сообщениях по двум столбцам — с идентификаторами пользователей и номерами месяцев;\n",
    "- после группировки выбрать столбец `message_date`;\n",
    "- затем применить метод для подсчёта количества.\n",
    "\n",
    "Выведите первые 30 строчек `messages_per_month`."
   ]
  },
  {
   "cell_type": "markdown",
   "metadata": {},
   "source": [
    "print(message.head())"
   ]
  },
  {
   "cell_type": "code",
   "execution_count": null,
   "metadata": {
    "deletable": false
   },
   "outputs": [],
   "source": [
    "messages_per_month = messages.groupby(['user_id', 'month']).agg(messages=('message_date', 'count')) # подсчёт количества отправленных сообщений для каждого пользователя по месяцам"
   ]
  },
  {
   "cell_type": "code",
   "execution_count": null,
   "metadata": {
    "deletable": false
   },
   "outputs": [],
   "source": [
    "print(messages_per_month.head(30)) # вывод первых 30 строк на экран"
   ]
  },
  {
   "cell_type": "markdown",
   "metadata": {
    "deletable": false,
    "editable": false,
    "tags": [
     "start_task"
    ]
   },
   "source": [
    "**Задание 27.** Посчитайте количество потраченных мегабайт по месяцам для каждого пользователя и сохраните в переменную `sessions_per_month`. Вам понадобится\n",
    "\n",
    "- сгруппировать датафрейм с информацией о сообщениях по двум столбцам — с идентификаторами пользователей и номерами месяцев;\n",
    "- затем применить метод для подсчёта суммы: `.agg({'mb_used': 'sum'})`"
   ]
  },
  {
   "cell_type": "code",
   "execution_count": null,
   "metadata": {},
   "outputs": [],
   "source": [
    "print(sessions.head())"
   ]
  },
  {
   "cell_type": "code",
   "execution_count": null,
   "metadata": {
    "deletable": false
   },
   "outputs": [],
   "source": [
    "sessions_per_month = sessions.groupby(['user_id', 'month']).agg({'mb_used': 'sum'}) # подсчёт потраченных мегабайт для каждого пользователя по месяцам"
   ]
  },
  {
   "cell_type": "code",
   "execution_count": null,
   "metadata": {
    "deletable": false
   },
   "outputs": [],
   "source": [
    "print(sessions_per_month.head(30)) # вывод первых 30 строк на экран"
   ]
  },
  {
   "cell_type": "markdown",
   "metadata": {
    "deletable": false,
    "editable": false
   },
   "source": [
    "### Анализ данных и подсчёт выручки"
   ]
  },
  {
   "cell_type": "markdown",
   "metadata": {
    "deletable": false,
    "editable": false
   },
   "source": [
    "Объединяем все посчитанные выше значения в один датафрейм `user_behavior`.\n",
    "Для каждой пары \"пользователь - месяц\" будут доступны информация о тарифе, количестве звонков, сообщений и потраченных мегабайтах."
   ]
  },
  {
   "cell_type": "code",
   "execution_count": null,
   "metadata": {
    "deletable": false
   },
   "outputs": [],
   "source": [
    "users['churn_date'].count() / users['churn_date'].shape[0] * 100"
   ]
  },
  {
   "cell_type": "markdown",
   "metadata": {
    "deletable": false,
    "editable": false
   },
   "source": [
    "Расторгли договор 7.6% клиентов из датасета"
   ]
  },
  {
   "cell_type": "code",
   "execution_count": null,
   "metadata": {
    "deletable": false
   },
   "outputs": [],
   "source": [
    "user_behavior = calls_per_month\\\n",
    "    .merge(messages_per_month, left_index=True, right_index=True, how='outer')\\\n",
    "    .merge(sessions_per_month, left_index=True, right_index=True, how='outer')\\\n",
    "    .merge(minutes_per_month, left_index=True, right_index=True, how='outer')\\\n",
    "    .reset_index()\\\n",
    "    .merge(users, how='left', left_on='user_id', right_on='user_id')\\\n",
    "\n",
    "user_behavior.head()"
   ]
  },
  {
   "cell_type": "markdown",
   "metadata": {
    "deletable": false,
    "editable": false
   },
   "source": [
    "Проверим пропуски в таблице `user_behavior` после объединения:"
   ]
  },
  {
   "cell_type": "code",
   "execution_count": null,
   "metadata": {
    "deletable": false
   },
   "outputs": [],
   "source": [
    "user_behavior.isna().sum()"
   ]
  },
  {
   "cell_type": "markdown",
   "metadata": {
    "deletable": false,
    "editable": false
   },
   "source": [
    "Заполним образовавшиеся пропуски в данных:"
   ]
  },
  {
   "cell_type": "code",
   "execution_count": null,
   "metadata": {
    "deletable": false
   },
   "outputs": [],
   "source": [
    "user_behavior['calls'] = user_behavior['calls'].fillna(0)\n",
    "user_behavior['minutes'] = user_behavior['minutes'].fillna(0)\n",
    "user_behavior['messages'] = user_behavior['messages'].fillna(0)\n",
    "user_behavior['mb_used'] = user_behavior['mb_used'].fillna(0)"
   ]
  },
  {
   "cell_type": "markdown",
   "metadata": {
    "deletable": false,
    "editable": false
   },
   "source": [
    "Присоединяем информацию о тарифах"
   ]
  },
  {
   "cell_type": "code",
   "execution_count": null,
   "metadata": {
    "deletable": false
   },
   "outputs": [],
   "source": [
    "# переименование столбца tariff_name на более простое tariff\n",
    "\n",
    "tariffs = tariffs.rename(\n",
    "    columns={\n",
    "        'tariff_name': 'tariff'\n",
    "    }\n",
    ")"
   ]
  },
  {
   "cell_type": "code",
   "execution_count": null,
   "metadata": {
    "deletable": false
   },
   "outputs": [],
   "source": [
    "user_behavior = user_behavior.merge(tariffs, on='tariff')"
   ]
  },
  {
   "cell_type": "markdown",
   "metadata": {
    "deletable": false,
    "editable": false
   },
   "source": [
    "Считаем количество минут разговора, сообщений и мегабайт, превышающих включенные в тариф\n"
   ]
  },
  {
   "cell_type": "code",
   "execution_count": null,
   "metadata": {
    "deletable": false
   },
   "outputs": [],
   "source": [
    "user_behavior['paid_minutes'] = user_behavior['minutes'] - user_behavior['minutes_included']\n",
    "user_behavior['paid_messages'] = user_behavior['messages'] - user_behavior['messages_included']\n",
    "user_behavior['paid_mb'] = user_behavior['mb_used'] - user_behavior['mb_per_month_included']\n",
    "\n",
    "for col in ['paid_messages', 'paid_minutes', 'paid_mb']:\n",
    "    user_behavior.loc[user_behavior[col] < 0, col] = 0"
   ]
  },
  {
   "cell_type": "markdown",
   "metadata": {
    "deletable": false,
    "editable": false
   },
   "source": [
    "Переводим превышающие тариф мегабайты в гигабайты и сохраняем в столбец `paid_gb`"
   ]
  },
  {
   "cell_type": "code",
   "execution_count": null,
   "metadata": {
    "deletable": false
   },
   "outputs": [],
   "source": [
    "user_behavior['paid_gb'] = np.ceil(user_behavior['paid_mb'] / 1024).astype(int)"
   ]
  },
  {
   "cell_type": "markdown",
   "metadata": {
    "deletable": false,
    "editable": false
   },
   "source": [
    "Считаем выручку за минуты разговора, сообщения и интернет"
   ]
  },
  {
   "cell_type": "code",
   "execution_count": null,
   "metadata": {
    "deletable": false
   },
   "outputs": [],
   "source": [
    "user_behavior['cost_minutes'] = user_behavior['paid_minutes'] * user_behavior['rub_per_minute']\n",
    "user_behavior['cost_messages'] = user_behavior['paid_messages'] * user_behavior['rub_per_message']\n",
    "user_behavior['cost_gb'] = user_behavior['paid_gb'] * user_behavior['rub_per_gb']"
   ]
  },
  {
   "cell_type": "markdown",
   "metadata": {
    "deletable": false,
    "editable": false
   },
   "source": [
    "Считаем помесячную выручку с каждого пользователя, она будет храниться в столбец `total_cost`"
   ]
  },
  {
   "cell_type": "code",
   "execution_count": null,
   "metadata": {
    "deletable": false
   },
   "outputs": [],
   "source": [
    "user_behavior['total_cost'] = \\\n",
    "      user_behavior['rub_monthly_fee']\\\n",
    "    + user_behavior['cost_minutes']\\\n",
    "    + user_behavior['cost_messages']\\\n",
    "    + user_behavior['cost_gb']"
   ]
  },
  {
   "cell_type": "markdown",
   "metadata": {
    "deletable": false,
    "editable": false
   },
   "source": [
    "Датафрейм `stats_df` для каждой пары \"месяц-тариф\" будет хранить основные характеристики"
   ]
  },
  {
   "cell_type": "code",
   "execution_count": null,
   "metadata": {
    "deletable": false
   },
   "outputs": [],
   "source": [
    "# сохранение статистических метрик для каждой пары месяц-тариф\n",
    "# в одной таблице stats_df (среднее значение, стандартное отклонение, медиана)\n",
    "\n",
    "stats_df = user_behavior.pivot_table(\n",
    "            index=['month', 'tariff'],\\\n",
    "            values=['calls', 'minutes', 'messages', 'mb_used'],\\\n",
    "            aggfunc=['mean', 'std', 'median']\\\n",
    ").round(2).reset_index()\n",
    "\n",
    "stats_df.columns=['month', 'tariff', 'calls_mean', 'sessions_mean', 'messages_mean', 'minutes_mean',\n",
    "                                     'calls_std',  'sessions_std', 'messages_std', 'minutes_std', \n",
    "                                     'calls_median', 'sessions_median', 'messages_median',  'minutes_median']\n",
    "\n",
    "stats_df.head(10)"
   ]
  },
  {
   "cell_type": "markdown",
   "metadata": {
    "deletable": false,
    "editable": false
   },
   "source": [
    "Распределение среднего количества звонков по видам тарифов и месяцам"
   ]
  },
  {
   "cell_type": "code",
   "execution_count": null,
   "metadata": {
    "deletable": false,
    "scrolled": true
   },
   "outputs": [],
   "source": [
    "import seaborn as sns\n",
    "\n",
    "ax = sns.barplot(x='month',\n",
    "            y='calls_mean',\n",
    "            hue=\"tariff\",\n",
    "            data=stats_df,\n",
    "            palette=['lightblue', 'blue'])\n",
    "\n",
    "ax.set_title('Распределение количества звонков по видам тарифов и месяцам')\n",
    "ax.set(xlabel='Номер месяца', ylabel='Среднее количество звонков');"
   ]
  },
  {
   "cell_type": "code",
   "execution_count": null,
   "metadata": {
    "deletable": false
   },
   "outputs": [],
   "source": [
    "import matplotlib.pyplot as plt\n",
    "\n",
    "user_behavior.groupby('tariff')['calls'].plot(kind='hist', bins=35, alpha=0.5)\n",
    "plt.legend(['Smart', 'Ultra'])\n",
    "plt.xlabel('Количество звонков')\n",
    "plt.ylabel('Количество клиентов')\n",
    "plt.show()"
   ]
  },
  {
   "cell_type": "markdown",
   "metadata": {
    "deletable": false,
    "editable": false
   },
   "source": [
    "Распределение средней продолжительности звонков по видам тарифов и месяцам"
   ]
  },
  {
   "cell_type": "code",
   "execution_count": null,
   "metadata": {
    "deletable": false
   },
   "outputs": [],
   "source": [
    "ax = sns.barplot(x='month',\n",
    "            y='minutes_mean',\n",
    "            hue=\"tariff\",\n",
    "            data=stats_df,\n",
    "            palette=['lightblue', 'blue'])\n",
    "\n",
    "ax.set_title('Распределение продолжительности звонков по видам тарифов и месяцам')\n",
    "ax.set(xlabel='Номер месяца', ylabel='Средняя продолжительность звонков');"
   ]
  },
  {
   "cell_type": "code",
   "execution_count": null,
   "metadata": {
    "deletable": false
   },
   "outputs": [],
   "source": [
    "user_behavior[user_behavior['tariff'] =='smart']['minutes'].hist(bins=35, alpha=0.5, color='green')\n",
    "user_behavior[user_behavior['tariff'] =='ultra']['minutes'].hist(bins=35, alpha=0.5, color='blue');"
   ]
  },
  {
   "cell_type": "markdown",
   "metadata": {
    "deletable": false,
    "editable": false
   },
   "source": [
    "Средняя длительность разговоров у абонентов тарифа Ultra больше, чем у абонентов тарифа Smart. В течение года пользователи обоих тарифов увеличивают среднюю продолжительность своих разговоров. Рост средней длительности разговоров у абонентов тарифа Smart равномерный в течение года. Пользователи тарифа Ultra не проявляют подобной линейной стабильности. Стоит отметить, что феврале у абонентов обоих тарифных планов наблюдались самые низкие показатели."
   ]
  },
  {
   "cell_type": "markdown",
   "metadata": {
    "deletable": false,
    "editable": false
   },
   "source": [
    "Распределение среднего количества сообщений по видам тарифов и месяцам"
   ]
  },
  {
   "cell_type": "code",
   "execution_count": null,
   "metadata": {
    "deletable": false
   },
   "outputs": [],
   "source": [
    "ax = sns.barplot(x='month',\n",
    "            y='messages_mean',\n",
    "            hue=\"tariff\",\n",
    "            data=stats_df,\n",
    "            palette=['lightblue', 'blue']\n",
    ")\n",
    "\n",
    "ax.set_title('Распределение количества сообщений по видам тарифов и месяцам')\n",
    "ax.set(xlabel='Номер месяца', ylabel='Среднее количество сообщений');"
   ]
  },
  {
   "cell_type": "code",
   "execution_count": null,
   "metadata": {
    "deletable": false
   },
   "outputs": [],
   "source": [
    "user_behavior[user_behavior['tariff'] =='smart']['messages'].hist(bins=35, alpha=0.5, color='green')\n",
    "user_behavior[user_behavior['tariff'] =='ultra']['messages'].hist(bins=35, alpha=0.5, color='blue');"
   ]
  },
  {
   "cell_type": "markdown",
   "metadata": {},
   "source": [
    "В среднем количество сообщений пользователи тарифа Ultra отправляют больше - почти на 20 сообщений больше, чем пользователи тарифа Smart. Количество сообщений в течение года на обоих тарифак растет. Динамика по отправке сообщений схожа с тенденциями по длительности разговоров: в феврале отмечено наименьшее количество сообщений за год и пользователи тарифа Ultra также проявляют нелинейную положительную динамику."
   ]
  },
  {
   "cell_type": "code",
   "execution_count": null,
   "metadata": {
    "deletable": false
   },
   "outputs": [],
   "source": [
    "ax = sns.barplot(x='month',\n",
    "            y='sessions_mean',\n",
    "            hue=\"tariff\",\n",
    "            data=stats_df,\n",
    "            palette=['lightblue', 'blue']\n",
    ")\n",
    "\n",
    "ax.set_title('Распределение количества потраченного трафика (Мб) по видам тарифов и месяцам')\n",
    "ax.set(xlabel='Номер месяца', ylabel='Среднее количество мегабайт');"
   ]
  },
  {
   "cell_type": "markdown",
   "metadata": {
    "deletable": false,
    "editable": false
   },
   "source": [
    "Сравнение потраченных мегабайт среди пользователей тарифов Smart и Ultra"
   ]
  },
  {
   "cell_type": "code",
   "execution_count": null,
   "metadata": {
    "deletable": false
   },
   "outputs": [],
   "source": [
    "user_behavior[user_behavior['tariff'] =='smart']['mb_used'].hist(bins=35, alpha=0.5, color='green')\n",
    "user_behavior[user_behavior['tariff'] =='ultra']['mb_used'].hist(bins=35, alpha=0.5, color='blue');"
   ]
  },
  {
   "cell_type": "markdown",
   "metadata": {
    "deletable": false,
    "editable": false
   },
   "source": [
    "Меньше всего пользователи использовали интернет в январе, феврале и апреле. Чаще всего абоненты тарифа Smart тратят 15-17 Гб, а абоненты тарифного плана Ultra - 19-21 ГБ."
   ]
  },
  {
   "cell_type": "markdown",
   "metadata": {
    "deletable": false,
    "editable": false
   },
   "source": [
    "### Проверка гипотез"
   ]
  },
  {
   "cell_type": "markdown",
   "metadata": {
    "deletable": false,
    "editable": false,
    "tags": [
     "start_task"
    ]
   },
   "source": [
    "**Задание 28.** Проверка гипотезы: средняя выручка пользователей тарифов «Ультра» и «Смарт» различаются;\n",
    "\n",
    "```\n",
    "H_0: Выручка (total_cost) пользователей \"Ультра\" = выручка (total_cost) пользователей \"Смарт\"`\n",
    "H_a: Выручка (total_cost) пользователей \"Ультра\" ≠ выручка (total_cost) пользователей \"Смарт\"`\n",
    "alpha = 0.05\n",
    "```"
   ]
  },
  {
   "cell_type": "code",
   "execution_count": null,
   "metadata": {
    "deletable": false
   },
   "outputs": [],
   "source": [
    "from scipy import stats as st"
   ]
  },
  {
   "cell_type": "code",
   "execution_count": null,
   "metadata": {
    "deletable": false
   },
   "outputs": [],
   "source": [
    "s_ttest = user_behavior[user_behavior['tariff'] =='smart']['mb_used']\n",
    "u_ttest = user_behavior[user_behavior['tariff'] =='ultra']['mb_used']\n",
    "\n",
    "results = st.ttest_ind(s_ttest, u_ttest, equal_var=False) # results = вызов метода для проверки гипотезы\n",
    "\n",
    "alpha = .05 # alpha = задайте значение уровня значимости\n",
    "if results.pvalue < alpha:\n",
    "    print('Отвергаем нулевую гипотезу', results.pvalue)\n",
    "else:\n",
    "    print('Не получилось отвергнуть нулевую гипотезу')\n",
    "\n",
    "# вывод значения p-value на экран \n",
    "# условный оператор с выводом строки с ответом"
   ]
  },
  {
   "cell_type": "markdown",
   "metadata": {
    "deletable": false,
    "editable": false,
    "tags": [
     "start_task"
    ]
   },
   "source": [
    "**Задание 29.** Проверка гипотезы: пользователи из Москвы приносят больше выручки, чем пользователи из других городов;\n",
    "\n",
    "```\n",
    "H_0: Выручка (total_cost) пользователей из Москвы = выручка (total_cost) пользователей не из Москвы`\n",
    "H_1: Выручка (total_cost) пользователей из Москвы ≠ выручка (total_cost) пользователей не из Москвы`\n",
    "alpha = 0.05\n",
    "```"
   ]
  },
  {
   "cell_type": "code",
   "execution_count": null,
   "metadata": {
    "deletable": false
   },
   "outputs": [],
   "source": [
    "m_ttest = user_behavior[user_behavior['city'] =='Москва']['total_cost'] # results = вызов метода для проверки гипотезы\n",
    "ave_another = user_behavior[user_behavior['city'] !='Москва']['total_cost']\n",
    "# alpha = задайте значение уровня значимости\n",
    "results = st.ttest_ind(m_ttest, ave_another, equal_var=False)\n",
    "alpha = .05\n",
    "if results.pvalue < alpha:\n",
    "    print('Отвергаем нулевую гипотезу', results.pvalue)\n",
    "else:\n",
    "    print('Не получилось отвергнуть нулевую гипотезу')\n",
    "# вывод значения p-value на экран \n",
    "# условный оператор с выводом строки с ответом"
   ]
  },
  {
   "cell_type": "code",
   "execution_count": null,
   "metadata": {},
   "outputs": [],
   "source": []
  }
 ],
 "metadata": {
  "ExecuteTimeLog": [
   {
    "duration": 58,
    "start_time": "2022-12-10T10:53:50.410Z"
   },
   {
    "duration": 402,
    "start_time": "2022-12-10T10:53:52.524Z"
   },
   {
    "duration": 239,
    "start_time": "2022-12-10T10:54:31.404Z"
   },
   {
    "duration": 7,
    "start_time": "2022-12-10T10:55:32.122Z"
   },
   {
    "duration": 36,
    "start_time": "2022-12-10T10:55:50.476Z"
   },
   {
    "duration": 537,
    "start_time": "2022-12-10T10:58:32.620Z"
   },
   {
    "duration": 38,
    "start_time": "2022-12-10T11:00:16.316Z"
   },
   {
    "duration": 7,
    "start_time": "2022-12-10T11:00:28.897Z"
   },
   {
    "duration": 204,
    "start_time": "2022-12-10T11:00:40.473Z"
   },
   {
    "duration": 6,
    "start_time": "2022-12-10T11:00:41.834Z"
   },
   {
    "duration": 31,
    "start_time": "2022-12-10T11:04:12.003Z"
   },
   {
    "duration": 137,
    "start_time": "2022-12-10T11:05:06.188Z"
   },
   {
    "duration": 328,
    "start_time": "2022-12-10T11:06:09.854Z"
   },
   {
    "duration": 6,
    "start_time": "2022-12-10T11:07:27.389Z"
   },
   {
    "duration": 2,
    "start_time": "2022-12-10T12:23:24.328Z"
   },
   {
    "duration": 179,
    "start_time": "2022-12-10T12:23:24.332Z"
   },
   {
    "duration": 13,
    "start_time": "2022-12-10T12:23:24.513Z"
   },
   {
    "duration": 34,
    "start_time": "2022-12-10T12:23:24.527Z"
   },
   {
    "duration": 160,
    "start_time": "2022-12-10T12:23:24.564Z"
   },
   {
    "duration": 128,
    "start_time": "2022-12-10T12:23:24.726Z"
   },
   {
    "duration": 6,
    "start_time": "2022-12-10T12:23:24.856Z"
   },
   {
    "duration": 25,
    "start_time": "2022-12-10T12:23:24.863Z"
   },
   {
    "duration": 165,
    "start_time": "2022-12-10T12:23:24.890Z"
   },
   {
    "duration": 85,
    "start_time": "2022-12-10T12:23:25.057Z"
   },
   {
    "duration": 5,
    "start_time": "2022-12-10T12:23:25.144Z"
   },
   {
    "duration": 7,
    "start_time": "2022-12-10T12:23:25.151Z"
   },
   {
    "duration": 7,
    "start_time": "2022-12-10T12:23:25.162Z"
   },
   {
    "duration": 8,
    "start_time": "2022-12-10T12:23:25.170Z"
   },
   {
    "duration": 9,
    "start_time": "2022-12-10T12:23:25.180Z"
   },
   {
    "duration": 8,
    "start_time": "2022-12-10T12:23:25.192Z"
   },
   {
    "duration": 7,
    "start_time": "2022-12-10T12:23:25.201Z"
   },
   {
    "duration": 11,
    "start_time": "2022-12-10T12:23:25.210Z"
   },
   {
    "duration": 10,
    "start_time": "2022-12-10T12:23:25.223Z"
   },
   {
    "duration": 20,
    "start_time": "2022-12-10T12:23:25.235Z"
   },
   {
    "duration": 11,
    "start_time": "2022-12-10T12:23:25.257Z"
   },
   {
    "duration": 80,
    "start_time": "2022-12-10T12:23:25.270Z"
   },
   {
    "duration": 0,
    "start_time": "2022-12-10T12:23:25.352Z"
   },
   {
    "duration": 0,
    "start_time": "2022-12-10T12:23:25.354Z"
   },
   {
    "duration": 0,
    "start_time": "2022-12-10T12:23:25.355Z"
   },
   {
    "duration": 0,
    "start_time": "2022-12-10T12:23:25.356Z"
   },
   {
    "duration": 0,
    "start_time": "2022-12-10T12:23:25.357Z"
   },
   {
    "duration": 0,
    "start_time": "2022-12-10T12:23:25.359Z"
   },
   {
    "duration": 0,
    "start_time": "2022-12-10T12:23:25.360Z"
   },
   {
    "duration": 0,
    "start_time": "2022-12-10T12:23:25.362Z"
   },
   {
    "duration": 0,
    "start_time": "2022-12-10T12:23:25.363Z"
   },
   {
    "duration": 0,
    "start_time": "2022-12-10T12:23:25.364Z"
   },
   {
    "duration": 0,
    "start_time": "2022-12-10T12:23:25.365Z"
   },
   {
    "duration": 0,
    "start_time": "2022-12-10T12:23:25.366Z"
   },
   {
    "duration": 0,
    "start_time": "2022-12-10T12:23:25.368Z"
   },
   {
    "duration": 0,
    "start_time": "2022-12-10T12:23:25.369Z"
   },
   {
    "duration": 0,
    "start_time": "2022-12-10T12:23:25.370Z"
   },
   {
    "duration": 0,
    "start_time": "2022-12-10T12:23:25.371Z"
   },
   {
    "duration": 0,
    "start_time": "2022-12-10T12:23:25.372Z"
   },
   {
    "duration": 0,
    "start_time": "2022-12-10T12:23:25.373Z"
   },
   {
    "duration": 1,
    "start_time": "2022-12-10T12:23:25.374Z"
   },
   {
    "duration": 0,
    "start_time": "2022-12-10T12:23:25.376Z"
   },
   {
    "duration": 0,
    "start_time": "2022-12-10T12:23:25.377Z"
   },
   {
    "duration": 18,
    "start_time": "2022-12-10T12:24:01.788Z"
   },
   {
    "duration": 75,
    "start_time": "2022-12-10T12:24:41.369Z"
   },
   {
    "duration": 5,
    "start_time": "2022-12-10T12:24:58.187Z"
   },
   {
    "duration": 10,
    "start_time": "2022-12-10T12:26:01.161Z"
   },
   {
    "duration": 83,
    "start_time": "2022-12-10T12:26:25.264Z"
   },
   {
    "duration": 7,
    "start_time": "2022-12-10T12:27:11.029Z"
   },
   {
    "duration": 13,
    "start_time": "2022-12-10T12:27:42.686Z"
   },
   {
    "duration": 69,
    "start_time": "2022-12-10T12:36:04.785Z"
   },
   {
    "duration": 11,
    "start_time": "2022-12-10T12:37:15.613Z"
   },
   {
    "duration": 10,
    "start_time": "2022-12-10T15:00:15.953Z"
   },
   {
    "duration": 1036,
    "start_time": "2022-12-10T15:21:01.854Z"
   },
   {
    "duration": 7,
    "start_time": "2022-12-10T16:27:47.789Z"
   },
   {
    "duration": 32,
    "start_time": "2022-12-10T16:35:19.968Z"
   },
   {
    "duration": 834,
    "start_time": "2022-12-10T16:39:53.659Z"
   },
   {
    "duration": 1114,
    "start_time": "2022-12-10T16:40:02.644Z"
   },
   {
    "duration": 893,
    "start_time": "2022-12-10T16:41:00.416Z"
   },
   {
    "duration": 750,
    "start_time": "2022-12-10T18:25:40.211Z"
   },
   {
    "duration": 872,
    "start_time": "2022-12-10T18:26:01.915Z"
   },
   {
    "duration": 467,
    "start_time": "2022-12-11T07:55:10.500Z"
   },
   {
    "duration": 532,
    "start_time": "2022-12-11T07:55:10.969Z"
   },
   {
    "duration": 8,
    "start_time": "2022-12-11T07:55:11.503Z"
   },
   {
    "duration": 31,
    "start_time": "2022-12-11T07:55:11.513Z"
   },
   {
    "duration": 549,
    "start_time": "2022-12-11T07:55:11.546Z"
   },
   {
    "duration": 415,
    "start_time": "2022-12-11T07:55:12.096Z"
   },
   {
    "duration": 7,
    "start_time": "2022-12-11T07:55:12.513Z"
   },
   {
    "duration": 23,
    "start_time": "2022-12-11T07:55:12.521Z"
   },
   {
    "duration": 155,
    "start_time": "2022-12-11T07:55:12.545Z"
   },
   {
    "duration": 150,
    "start_time": "2022-12-11T07:55:12.701Z"
   },
   {
    "duration": 6,
    "start_time": "2022-12-11T07:55:12.852Z"
   },
   {
    "duration": 20,
    "start_time": "2022-12-11T07:55:12.859Z"
   },
   {
    "duration": 63,
    "start_time": "2022-12-11T07:55:12.880Z"
   },
   {
    "duration": 6,
    "start_time": "2022-12-11T07:55:12.946Z"
   },
   {
    "duration": 16,
    "start_time": "2022-12-11T07:55:12.954Z"
   },
   {
    "duration": 73,
    "start_time": "2022-12-11T07:55:12.972Z"
   },
   {
    "duration": 7,
    "start_time": "2022-12-11T07:55:13.046Z"
   },
   {
    "duration": 15,
    "start_time": "2022-12-11T07:55:13.054Z"
   },
   {
    "duration": 1254,
    "start_time": "2022-12-11T07:55:13.070Z"
   },
   {
    "duration": 0,
    "start_time": "2022-12-11T07:55:14.327Z"
   },
   {
    "duration": 0,
    "start_time": "2022-12-11T07:55:14.328Z"
   },
   {
    "duration": 0,
    "start_time": "2022-12-11T07:55:14.329Z"
   },
   {
    "duration": 0,
    "start_time": "2022-12-11T07:55:14.331Z"
   },
   {
    "duration": 0,
    "start_time": "2022-12-11T07:55:14.332Z"
   },
   {
    "duration": 0,
    "start_time": "2022-12-11T07:55:14.333Z"
   },
   {
    "duration": 0,
    "start_time": "2022-12-11T07:55:14.334Z"
   },
   {
    "duration": 0,
    "start_time": "2022-12-11T07:55:14.335Z"
   },
   {
    "duration": 0,
    "start_time": "2022-12-11T07:55:14.337Z"
   },
   {
    "duration": 0,
    "start_time": "2022-12-11T07:55:14.338Z"
   },
   {
    "duration": 0,
    "start_time": "2022-12-11T07:55:14.339Z"
   },
   {
    "duration": 0,
    "start_time": "2022-12-11T07:55:14.341Z"
   },
   {
    "duration": 0,
    "start_time": "2022-12-11T07:55:14.342Z"
   },
   {
    "duration": 0,
    "start_time": "2022-12-11T07:55:14.343Z"
   },
   {
    "duration": 0,
    "start_time": "2022-12-11T07:55:14.345Z"
   },
   {
    "duration": 0,
    "start_time": "2022-12-11T07:55:14.346Z"
   },
   {
    "duration": 0,
    "start_time": "2022-12-11T07:55:14.348Z"
   },
   {
    "duration": 0,
    "start_time": "2022-12-11T07:55:14.349Z"
   },
   {
    "duration": 0,
    "start_time": "2022-12-11T07:55:14.351Z"
   },
   {
    "duration": 0,
    "start_time": "2022-12-11T07:55:14.358Z"
   },
   {
    "duration": 0,
    "start_time": "2022-12-11T07:55:14.359Z"
   },
   {
    "duration": 0,
    "start_time": "2022-12-11T07:55:14.362Z"
   },
   {
    "duration": 0,
    "start_time": "2022-12-11T07:55:14.412Z"
   },
   {
    "duration": 0,
    "start_time": "2022-12-11T07:55:14.414Z"
   },
   {
    "duration": 0,
    "start_time": "2022-12-11T07:55:14.416Z"
   },
   {
    "duration": 0,
    "start_time": "2022-12-11T07:55:14.417Z"
   },
   {
    "duration": 0,
    "start_time": "2022-12-11T07:55:14.418Z"
   },
   {
    "duration": 0,
    "start_time": "2022-12-11T07:55:14.419Z"
   },
   {
    "duration": 0,
    "start_time": "2022-12-11T07:55:14.420Z"
   },
   {
    "duration": 0,
    "start_time": "2022-12-11T07:55:14.421Z"
   },
   {
    "duration": 0,
    "start_time": "2022-12-11T07:55:14.422Z"
   },
   {
    "duration": 0,
    "start_time": "2022-12-11T07:55:14.424Z"
   },
   {
    "duration": 0,
    "start_time": "2022-12-11T07:55:14.425Z"
   },
   {
    "duration": 0,
    "start_time": "2022-12-11T07:55:14.426Z"
   },
   {
    "duration": 0,
    "start_time": "2022-12-11T07:55:14.428Z"
   },
   {
    "duration": 3,
    "start_time": "2022-12-11T09:12:19.059Z"
   },
   {
    "duration": 187,
    "start_time": "2022-12-11T09:12:19.064Z"
   },
   {
    "duration": 7,
    "start_time": "2022-12-11T09:12:19.252Z"
   },
   {
    "duration": 26,
    "start_time": "2022-12-11T09:12:19.261Z"
   },
   {
    "duration": 161,
    "start_time": "2022-12-11T09:12:19.290Z"
   },
   {
    "duration": 124,
    "start_time": "2022-12-11T09:12:19.453Z"
   },
   {
    "duration": 6,
    "start_time": "2022-12-11T09:12:19.579Z"
   },
   {
    "duration": 28,
    "start_time": "2022-12-11T09:12:19.586Z"
   },
   {
    "duration": 152,
    "start_time": "2022-12-11T09:12:19.616Z"
   },
   {
    "duration": 86,
    "start_time": "2022-12-11T09:12:19.770Z"
   },
   {
    "duration": 5,
    "start_time": "2022-12-11T09:12:19.859Z"
   },
   {
    "duration": 18,
    "start_time": "2022-12-11T09:12:19.866Z"
   },
   {
    "duration": 16,
    "start_time": "2022-12-11T09:12:19.885Z"
   },
   {
    "duration": 11,
    "start_time": "2022-12-11T09:12:19.902Z"
   },
   {
    "duration": 10,
    "start_time": "2022-12-11T09:12:19.914Z"
   },
   {
    "duration": 29,
    "start_time": "2022-12-11T09:12:19.925Z"
   },
   {
    "duration": 7,
    "start_time": "2022-12-11T09:12:19.955Z"
   },
   {
    "duration": 12,
    "start_time": "2022-12-11T09:12:19.963Z"
   },
   {
    "duration": 1627,
    "start_time": "2022-12-11T09:12:19.977Z"
   },
   {
    "duration": 0,
    "start_time": "2022-12-11T09:12:21.607Z"
   },
   {
    "duration": 0,
    "start_time": "2022-12-11T09:12:21.609Z"
   },
   {
    "duration": 0,
    "start_time": "2022-12-11T09:12:21.610Z"
   },
   {
    "duration": 0,
    "start_time": "2022-12-11T09:12:21.611Z"
   },
   {
    "duration": 0,
    "start_time": "2022-12-11T09:12:21.613Z"
   },
   {
    "duration": 0,
    "start_time": "2022-12-11T09:12:21.614Z"
   },
   {
    "duration": 0,
    "start_time": "2022-12-11T09:12:21.615Z"
   },
   {
    "duration": 0,
    "start_time": "2022-12-11T09:12:21.617Z"
   },
   {
    "duration": 0,
    "start_time": "2022-12-11T09:12:21.619Z"
   },
   {
    "duration": 0,
    "start_time": "2022-12-11T09:12:21.620Z"
   },
   {
    "duration": 0,
    "start_time": "2022-12-11T09:12:21.621Z"
   },
   {
    "duration": 0,
    "start_time": "2022-12-11T09:12:21.622Z"
   },
   {
    "duration": 0,
    "start_time": "2022-12-11T09:12:21.623Z"
   },
   {
    "duration": 0,
    "start_time": "2022-12-11T09:12:21.625Z"
   },
   {
    "duration": 0,
    "start_time": "2022-12-11T09:12:21.626Z"
   },
   {
    "duration": 0,
    "start_time": "2022-12-11T09:12:21.627Z"
   },
   {
    "duration": 0,
    "start_time": "2022-12-11T09:12:21.629Z"
   },
   {
    "duration": 0,
    "start_time": "2022-12-11T09:12:21.630Z"
   },
   {
    "duration": 0,
    "start_time": "2022-12-11T09:12:21.632Z"
   },
   {
    "duration": 0,
    "start_time": "2022-12-11T09:12:21.633Z"
   },
   {
    "duration": 0,
    "start_time": "2022-12-11T09:12:21.634Z"
   },
   {
    "duration": 0,
    "start_time": "2022-12-11T09:12:21.635Z"
   },
   {
    "duration": 0,
    "start_time": "2022-12-11T09:12:21.636Z"
   },
   {
    "duration": 0,
    "start_time": "2022-12-11T09:12:21.636Z"
   },
   {
    "duration": 0,
    "start_time": "2022-12-11T09:12:21.637Z"
   },
   {
    "duration": 0,
    "start_time": "2022-12-11T09:12:21.638Z"
   },
   {
    "duration": 0,
    "start_time": "2022-12-11T09:12:21.639Z"
   },
   {
    "duration": 0,
    "start_time": "2022-12-11T09:12:21.640Z"
   },
   {
    "duration": 0,
    "start_time": "2022-12-11T09:12:21.641Z"
   },
   {
    "duration": 0,
    "start_time": "2022-12-11T09:12:21.642Z"
   },
   {
    "duration": 0,
    "start_time": "2022-12-11T09:12:21.642Z"
   },
   {
    "duration": 0,
    "start_time": "2022-12-11T09:12:21.643Z"
   },
   {
    "duration": 0,
    "start_time": "2022-12-11T09:12:21.644Z"
   },
   {
    "duration": 0,
    "start_time": "2022-12-11T09:12:21.645Z"
   },
   {
    "duration": 0,
    "start_time": "2022-12-11T09:12:21.646Z"
   },
   {
    "duration": 15,
    "start_time": "2022-12-11T09:20:01.161Z"
   },
   {
    "duration": 7,
    "start_time": "2022-12-11T09:24:14.877Z"
   },
   {
    "duration": 14,
    "start_time": "2022-12-11T09:27:04.030Z"
   },
   {
    "duration": 9,
    "start_time": "2022-12-11T09:27:04.804Z"
   },
   {
    "duration": 11,
    "start_time": "2022-12-11T09:33:29.095Z"
   },
   {
    "duration": 439,
    "start_time": "2022-12-11T10:42:19.521Z"
   },
   {
    "duration": 188,
    "start_time": "2022-12-11T10:42:19.963Z"
   },
   {
    "duration": 8,
    "start_time": "2022-12-11T10:42:20.153Z"
   },
   {
    "duration": 54,
    "start_time": "2022-12-11T10:42:20.163Z"
   },
   {
    "duration": 482,
    "start_time": "2022-12-11T10:42:20.220Z"
   },
   {
    "duration": 131,
    "start_time": "2022-12-11T10:42:20.704Z"
   },
   {
    "duration": 7,
    "start_time": "2022-12-11T10:42:20.837Z"
   },
   {
    "duration": 36,
    "start_time": "2022-12-11T10:42:20.847Z"
   },
   {
    "duration": 220,
    "start_time": "2022-12-11T10:42:20.885Z"
   },
   {
    "duration": 112,
    "start_time": "2022-12-11T10:42:21.107Z"
   },
   {
    "duration": 6,
    "start_time": "2022-12-11T10:42:21.221Z"
   },
   {
    "duration": 47,
    "start_time": "2022-12-11T10:42:21.229Z"
   },
   {
    "duration": 26,
    "start_time": "2022-12-11T10:42:21.279Z"
   },
   {
    "duration": 21,
    "start_time": "2022-12-11T10:42:21.308Z"
   },
   {
    "duration": 27,
    "start_time": "2022-12-11T10:42:21.331Z"
   },
   {
    "duration": 45,
    "start_time": "2022-12-11T10:42:21.360Z"
   },
   {
    "duration": 8,
    "start_time": "2022-12-11T10:42:21.407Z"
   },
   {
    "duration": 27,
    "start_time": "2022-12-11T10:42:21.417Z"
   },
   {
    "duration": 1597,
    "start_time": "2022-12-11T10:42:21.447Z"
   },
   {
    "duration": 0,
    "start_time": "2022-12-11T10:42:23.046Z"
   },
   {
    "duration": 0,
    "start_time": "2022-12-11T10:42:23.048Z"
   },
   {
    "duration": 0,
    "start_time": "2022-12-11T10:42:23.050Z"
   },
   {
    "duration": 0,
    "start_time": "2022-12-11T10:42:23.052Z"
   },
   {
    "duration": 0,
    "start_time": "2022-12-11T10:42:23.053Z"
   },
   {
    "duration": 0,
    "start_time": "2022-12-11T10:42:23.054Z"
   },
   {
    "duration": 0,
    "start_time": "2022-12-11T10:42:23.056Z"
   },
   {
    "duration": 0,
    "start_time": "2022-12-11T10:42:23.057Z"
   },
   {
    "duration": 0,
    "start_time": "2022-12-11T10:42:23.058Z"
   },
   {
    "duration": 0,
    "start_time": "2022-12-11T10:42:23.059Z"
   },
   {
    "duration": 0,
    "start_time": "2022-12-11T10:42:23.060Z"
   },
   {
    "duration": 0,
    "start_time": "2022-12-11T10:42:23.062Z"
   },
   {
    "duration": 0,
    "start_time": "2022-12-11T10:42:23.064Z"
   },
   {
    "duration": 0,
    "start_time": "2022-12-11T10:42:23.065Z"
   },
   {
    "duration": 0,
    "start_time": "2022-12-11T10:42:23.066Z"
   },
   {
    "duration": 0,
    "start_time": "2022-12-11T10:42:23.068Z"
   },
   {
    "duration": 0,
    "start_time": "2022-12-11T10:42:23.069Z"
   },
   {
    "duration": 0,
    "start_time": "2022-12-11T10:42:23.071Z"
   },
   {
    "duration": 0,
    "start_time": "2022-12-11T10:42:23.072Z"
   },
   {
    "duration": 0,
    "start_time": "2022-12-11T10:42:23.074Z"
   },
   {
    "duration": 0,
    "start_time": "2022-12-11T10:42:23.076Z"
   },
   {
    "duration": 0,
    "start_time": "2022-12-11T10:42:23.077Z"
   },
   {
    "duration": 0,
    "start_time": "2022-12-11T10:42:23.079Z"
   },
   {
    "duration": 0,
    "start_time": "2022-12-11T10:42:23.080Z"
   },
   {
    "duration": 0,
    "start_time": "2022-12-11T10:42:23.081Z"
   },
   {
    "duration": 0,
    "start_time": "2022-12-11T10:42:23.082Z"
   },
   {
    "duration": 0,
    "start_time": "2022-12-11T10:42:23.084Z"
   },
   {
    "duration": 0,
    "start_time": "2022-12-11T10:42:23.085Z"
   },
   {
    "duration": 0,
    "start_time": "2022-12-11T10:42:23.087Z"
   },
   {
    "duration": 0,
    "start_time": "2022-12-11T10:42:23.089Z"
   },
   {
    "duration": 0,
    "start_time": "2022-12-11T10:42:23.114Z"
   },
   {
    "duration": 0,
    "start_time": "2022-12-11T10:42:23.115Z"
   },
   {
    "duration": 0,
    "start_time": "2022-12-11T10:42:23.117Z"
   },
   {
    "duration": 0,
    "start_time": "2022-12-11T10:42:23.119Z"
   },
   {
    "duration": 0,
    "start_time": "2022-12-11T10:42:23.121Z"
   },
   {
    "duration": 0,
    "start_time": "2022-12-11T10:42:23.123Z"
   },
   {
    "duration": 1104,
    "start_time": "2022-12-11T10:44:22.605Z"
   },
   {
    "duration": 1239,
    "start_time": "2022-12-11T10:50:11.771Z"
   },
   {
    "duration": 102,
    "start_time": "2022-12-11T10:50:58.803Z"
   },
   {
    "duration": 42,
    "start_time": "2022-12-11T10:55:19.252Z"
   },
   {
    "duration": 6,
    "start_time": "2022-12-11T10:59:05.119Z"
   },
   {
    "duration": 401,
    "start_time": "2022-12-11T11:03:56.307Z"
   },
   {
    "duration": 155,
    "start_time": "2022-12-11T11:03:56.712Z"
   },
   {
    "duration": 7,
    "start_time": "2022-12-11T11:03:56.869Z"
   },
   {
    "duration": 45,
    "start_time": "2022-12-11T11:03:56.877Z"
   },
   {
    "duration": 416,
    "start_time": "2022-12-11T11:03:56.925Z"
   },
   {
    "duration": 133,
    "start_time": "2022-12-11T11:03:57.343Z"
   },
   {
    "duration": 7,
    "start_time": "2022-12-11T11:03:57.478Z"
   },
   {
    "duration": 40,
    "start_time": "2022-12-11T11:03:57.487Z"
   },
   {
    "duration": 147,
    "start_time": "2022-12-11T11:03:57.529Z"
   },
   {
    "duration": 90,
    "start_time": "2022-12-11T11:03:57.678Z"
   },
   {
    "duration": 5,
    "start_time": "2022-12-11T11:03:57.769Z"
   },
   {
    "duration": 18,
    "start_time": "2022-12-11T11:03:57.776Z"
   },
   {
    "duration": 25,
    "start_time": "2022-12-11T11:03:57.795Z"
   },
   {
    "duration": 5,
    "start_time": "2022-12-11T11:03:57.823Z"
   },
   {
    "duration": 16,
    "start_time": "2022-12-11T11:03:57.830Z"
   },
   {
    "duration": 31,
    "start_time": "2022-12-11T11:03:57.848Z"
   },
   {
    "duration": 6,
    "start_time": "2022-12-11T11:03:57.880Z"
   },
   {
    "duration": 12,
    "start_time": "2022-12-11T11:03:57.887Z"
   },
   {
    "duration": 74,
    "start_time": "2022-12-11T11:03:57.900Z"
   },
   {
    "duration": 72,
    "start_time": "2022-12-11T11:03:57.975Z"
   },
   {
    "duration": 0,
    "start_time": "2022-12-11T11:03:58.049Z"
   },
   {
    "duration": 0,
    "start_time": "2022-12-11T11:03:58.050Z"
   },
   {
    "duration": 0,
    "start_time": "2022-12-11T11:03:58.051Z"
   },
   {
    "duration": 0,
    "start_time": "2022-12-11T11:03:58.053Z"
   },
   {
    "duration": 0,
    "start_time": "2022-12-11T11:03:58.054Z"
   },
   {
    "duration": 1,
    "start_time": "2022-12-11T11:03:58.054Z"
   },
   {
    "duration": 0,
    "start_time": "2022-12-11T11:03:58.055Z"
   },
   {
    "duration": 0,
    "start_time": "2022-12-11T11:03:58.056Z"
   },
   {
    "duration": 0,
    "start_time": "2022-12-11T11:03:58.057Z"
   },
   {
    "duration": 0,
    "start_time": "2022-12-11T11:03:58.058Z"
   },
   {
    "duration": 0,
    "start_time": "2022-12-11T11:03:58.059Z"
   },
   {
    "duration": 0,
    "start_time": "2022-12-11T11:03:58.060Z"
   },
   {
    "duration": 0,
    "start_time": "2022-12-11T11:03:58.061Z"
   },
   {
    "duration": 0,
    "start_time": "2022-12-11T11:03:58.062Z"
   },
   {
    "duration": 0,
    "start_time": "2022-12-11T11:03:58.063Z"
   },
   {
    "duration": 0,
    "start_time": "2022-12-11T11:03:58.063Z"
   },
   {
    "duration": 0,
    "start_time": "2022-12-11T11:03:58.064Z"
   },
   {
    "duration": 0,
    "start_time": "2022-12-11T11:03:58.065Z"
   },
   {
    "duration": 0,
    "start_time": "2022-12-11T11:03:58.066Z"
   },
   {
    "duration": 0,
    "start_time": "2022-12-11T11:03:58.068Z"
   },
   {
    "duration": 0,
    "start_time": "2022-12-11T11:03:58.068Z"
   },
   {
    "duration": 0,
    "start_time": "2022-12-11T11:03:58.070Z"
   },
   {
    "duration": 0,
    "start_time": "2022-12-11T11:03:58.070Z"
   },
   {
    "duration": 0,
    "start_time": "2022-12-11T11:03:58.071Z"
   },
   {
    "duration": 0,
    "start_time": "2022-12-11T11:03:58.072Z"
   },
   {
    "duration": 0,
    "start_time": "2022-12-11T11:03:58.073Z"
   },
   {
    "duration": 0,
    "start_time": "2022-12-11T11:03:58.074Z"
   },
   {
    "duration": 0,
    "start_time": "2022-12-11T11:03:58.113Z"
   },
   {
    "duration": 0,
    "start_time": "2022-12-11T11:03:58.114Z"
   },
   {
    "duration": 0,
    "start_time": "2022-12-11T11:03:58.115Z"
   },
   {
    "duration": 0,
    "start_time": "2022-12-11T11:03:58.117Z"
   },
   {
    "duration": 0,
    "start_time": "2022-12-11T11:03:58.118Z"
   },
   {
    "duration": 0,
    "start_time": "2022-12-11T11:03:58.118Z"
   },
   {
    "duration": 0,
    "start_time": "2022-12-11T11:03:58.119Z"
   },
   {
    "duration": 0,
    "start_time": "2022-12-11T11:03:58.120Z"
   },
   {
    "duration": 12,
    "start_time": "2022-12-11T11:05:01.778Z"
   },
   {
    "duration": 7,
    "start_time": "2022-12-11T11:44:23.848Z"
   },
   {
    "duration": 14,
    "start_time": "2022-12-11T13:35:11.297Z"
   },
   {
    "duration": 10,
    "start_time": "2022-12-11T13:35:33.140Z"
   },
   {
    "duration": 11,
    "start_time": "2022-12-11T13:36:07.873Z"
   },
   {
    "duration": 410,
    "start_time": "2022-12-11T13:53:32.311Z"
   },
   {
    "duration": 164,
    "start_time": "2022-12-11T13:53:32.723Z"
   },
   {
    "duration": 9,
    "start_time": "2022-12-11T13:53:32.888Z"
   },
   {
    "duration": 43,
    "start_time": "2022-12-11T13:53:32.899Z"
   },
   {
    "duration": 390,
    "start_time": "2022-12-11T13:53:32.945Z"
   },
   {
    "duration": 139,
    "start_time": "2022-12-11T13:53:33.336Z"
   },
   {
    "duration": 6,
    "start_time": "2022-12-11T13:53:33.477Z"
   },
   {
    "duration": 37,
    "start_time": "2022-12-11T13:53:33.485Z"
   },
   {
    "duration": 163,
    "start_time": "2022-12-11T13:53:33.524Z"
   },
   {
    "duration": 93,
    "start_time": "2022-12-11T13:53:33.689Z"
   },
   {
    "duration": 6,
    "start_time": "2022-12-11T13:53:33.783Z"
   },
   {
    "duration": 30,
    "start_time": "2022-12-11T13:53:33.791Z"
   },
   {
    "duration": 38,
    "start_time": "2022-12-11T13:53:33.823Z"
   },
   {
    "duration": 6,
    "start_time": "2022-12-11T13:53:33.864Z"
   },
   {
    "duration": 16,
    "start_time": "2022-12-11T13:53:33.872Z"
   },
   {
    "duration": 31,
    "start_time": "2022-12-11T13:53:33.890Z"
   },
   {
    "duration": 8,
    "start_time": "2022-12-11T13:53:33.923Z"
   },
   {
    "duration": 14,
    "start_time": "2022-12-11T13:53:33.933Z"
   },
   {
    "duration": 97,
    "start_time": "2022-12-11T13:53:33.949Z"
   },
   {
    "duration": 8,
    "start_time": "2022-12-11T13:53:34.049Z"
   },
   {
    "duration": 12,
    "start_time": "2022-12-11T13:53:34.059Z"
   },
   {
    "duration": 51,
    "start_time": "2022-12-11T13:53:34.073Z"
   },
   {
    "duration": 27,
    "start_time": "2022-12-11T13:53:34.127Z"
   },
   {
    "duration": 98,
    "start_time": "2022-12-11T13:53:34.155Z"
   },
   {
    "duration": 25,
    "start_time": "2022-12-11T13:53:34.256Z"
   },
   {
    "duration": 6,
    "start_time": "2022-12-11T13:53:34.283Z"
   },
   {
    "duration": 75,
    "start_time": "2022-12-11T13:53:34.312Z"
   },
   {
    "duration": 0,
    "start_time": "2022-12-11T13:53:34.390Z"
   },
   {
    "duration": 0,
    "start_time": "2022-12-11T13:53:34.391Z"
   },
   {
    "duration": 0,
    "start_time": "2022-12-11T13:53:34.392Z"
   },
   {
    "duration": 0,
    "start_time": "2022-12-11T13:53:34.393Z"
   },
   {
    "duration": 0,
    "start_time": "2022-12-11T13:53:34.394Z"
   },
   {
    "duration": 0,
    "start_time": "2022-12-11T13:53:34.396Z"
   },
   {
    "duration": 0,
    "start_time": "2022-12-11T13:53:34.396Z"
   },
   {
    "duration": 0,
    "start_time": "2022-12-11T13:53:34.413Z"
   },
   {
    "duration": 0,
    "start_time": "2022-12-11T13:53:34.414Z"
   },
   {
    "duration": 0,
    "start_time": "2022-12-11T13:53:34.416Z"
   },
   {
    "duration": 0,
    "start_time": "2022-12-11T13:53:34.417Z"
   },
   {
    "duration": 0,
    "start_time": "2022-12-11T13:53:34.419Z"
   },
   {
    "duration": 0,
    "start_time": "2022-12-11T13:53:34.420Z"
   },
   {
    "duration": 0,
    "start_time": "2022-12-11T13:53:34.421Z"
   },
   {
    "duration": 0,
    "start_time": "2022-12-11T13:53:34.422Z"
   },
   {
    "duration": 0,
    "start_time": "2022-12-11T13:53:34.423Z"
   },
   {
    "duration": 0,
    "start_time": "2022-12-11T13:53:34.424Z"
   },
   {
    "duration": 0,
    "start_time": "2022-12-11T13:53:34.425Z"
   },
   {
    "duration": 0,
    "start_time": "2022-12-11T13:53:34.426Z"
   },
   {
    "duration": 0,
    "start_time": "2022-12-11T13:53:34.428Z"
   },
   {
    "duration": 0,
    "start_time": "2022-12-11T13:53:34.429Z"
   },
   {
    "duration": 0,
    "start_time": "2022-12-11T13:53:34.430Z"
   },
   {
    "duration": 0,
    "start_time": "2022-12-11T13:53:34.431Z"
   },
   {
    "duration": 0,
    "start_time": "2022-12-11T13:53:34.432Z"
   },
   {
    "duration": 0,
    "start_time": "2022-12-11T13:53:34.433Z"
   },
   {
    "duration": 0,
    "start_time": "2022-12-11T13:53:34.434Z"
   },
   {
    "duration": 0,
    "start_time": "2022-12-11T13:53:34.435Z"
   },
   {
    "duration": 0,
    "start_time": "2022-12-11T13:53:34.436Z"
   },
   {
    "duration": 27,
    "start_time": "2022-12-11T13:55:41.181Z"
   },
   {
    "duration": 25,
    "start_time": "2022-12-11T13:55:44.762Z"
   },
   {
    "duration": 5,
    "start_time": "2022-12-11T13:55:45.241Z"
   },
   {
    "duration": 18,
    "start_time": "2022-12-11T13:57:38.290Z"
   },
   {
    "duration": 371,
    "start_time": "2022-12-11T14:00:53.467Z"
   },
   {
    "duration": 164,
    "start_time": "2022-12-11T14:00:53.840Z"
   },
   {
    "duration": 13,
    "start_time": "2022-12-11T14:00:54.006Z"
   },
   {
    "duration": 36,
    "start_time": "2022-12-11T14:00:54.021Z"
   },
   {
    "duration": 411,
    "start_time": "2022-12-11T14:00:54.058Z"
   },
   {
    "duration": 139,
    "start_time": "2022-12-11T14:00:54.471Z"
   },
   {
    "duration": 18,
    "start_time": "2022-12-11T14:00:54.612Z"
   },
   {
    "duration": 34,
    "start_time": "2022-12-11T14:00:54.632Z"
   },
   {
    "duration": 174,
    "start_time": "2022-12-11T14:00:54.669Z"
   },
   {
    "duration": 99,
    "start_time": "2022-12-11T14:00:54.844Z"
   },
   {
    "duration": 6,
    "start_time": "2022-12-11T14:00:54.945Z"
   },
   {
    "duration": 26,
    "start_time": "2022-12-11T14:00:54.952Z"
   },
   {
    "duration": 25,
    "start_time": "2022-12-11T14:00:54.980Z"
   },
   {
    "duration": 8,
    "start_time": "2022-12-11T14:00:55.008Z"
   },
   {
    "duration": 32,
    "start_time": "2022-12-11T14:00:55.017Z"
   },
   {
    "duration": 30,
    "start_time": "2022-12-11T14:00:55.051Z"
   },
   {
    "duration": 6,
    "start_time": "2022-12-11T14:00:55.082Z"
   },
   {
    "duration": 15,
    "start_time": "2022-12-11T14:00:55.091Z"
   },
   {
    "duration": 83,
    "start_time": "2022-12-11T14:00:55.109Z"
   },
   {
    "duration": 7,
    "start_time": "2022-12-11T14:00:55.194Z"
   },
   {
    "duration": 17,
    "start_time": "2022-12-11T14:00:55.202Z"
   },
   {
    "duration": 47,
    "start_time": "2022-12-11T14:00:55.221Z"
   },
   {
    "duration": 23,
    "start_time": "2022-12-11T14:00:55.269Z"
   },
   {
    "duration": 94,
    "start_time": "2022-12-11T14:00:55.294Z"
   },
   {
    "duration": 44,
    "start_time": "2022-12-11T14:00:55.390Z"
   },
   {
    "duration": 6,
    "start_time": "2022-12-11T14:00:55.439Z"
   },
   {
    "duration": 29,
    "start_time": "2022-12-11T14:00:55.447Z"
   },
   {
    "duration": 6,
    "start_time": "2022-12-11T14:00:55.478Z"
   },
   {
    "duration": 136,
    "start_time": "2022-12-11T14:00:55.486Z"
   },
   {
    "duration": 0,
    "start_time": "2022-12-11T14:00:55.624Z"
   },
   {
    "duration": 0,
    "start_time": "2022-12-11T14:00:55.625Z"
   },
   {
    "duration": 0,
    "start_time": "2022-12-11T14:00:55.626Z"
   },
   {
    "duration": 0,
    "start_time": "2022-12-11T14:00:55.627Z"
   },
   {
    "duration": 0,
    "start_time": "2022-12-11T14:00:55.628Z"
   },
   {
    "duration": 0,
    "start_time": "2022-12-11T14:00:55.630Z"
   },
   {
    "duration": 0,
    "start_time": "2022-12-11T14:00:55.632Z"
   },
   {
    "duration": 0,
    "start_time": "2022-12-11T14:00:55.632Z"
   },
   {
    "duration": 0,
    "start_time": "2022-12-11T14:00:55.634Z"
   },
   {
    "duration": 0,
    "start_time": "2022-12-11T14:00:55.634Z"
   },
   {
    "duration": 0,
    "start_time": "2022-12-11T14:00:55.636Z"
   },
   {
    "duration": 0,
    "start_time": "2022-12-11T14:00:55.637Z"
   },
   {
    "duration": 0,
    "start_time": "2022-12-11T14:00:55.638Z"
   },
   {
    "duration": 0,
    "start_time": "2022-12-11T14:00:55.640Z"
   },
   {
    "duration": 0,
    "start_time": "2022-12-11T14:00:55.642Z"
   },
   {
    "duration": 0,
    "start_time": "2022-12-11T14:00:55.643Z"
   },
   {
    "duration": 0,
    "start_time": "2022-12-11T14:00:55.644Z"
   },
   {
    "duration": 0,
    "start_time": "2022-12-11T14:00:55.646Z"
   },
   {
    "duration": 0,
    "start_time": "2022-12-11T14:00:55.647Z"
   },
   {
    "duration": 0,
    "start_time": "2022-12-11T14:00:55.648Z"
   },
   {
    "duration": 0,
    "start_time": "2022-12-11T14:00:55.650Z"
   },
   {
    "duration": 0,
    "start_time": "2022-12-11T14:00:55.651Z"
   },
   {
    "duration": 0,
    "start_time": "2022-12-11T14:00:55.652Z"
   },
   {
    "duration": 0,
    "start_time": "2022-12-11T14:00:55.654Z"
   },
   {
    "duration": 0,
    "start_time": "2022-12-11T14:00:55.655Z"
   },
   {
    "duration": 0,
    "start_time": "2022-12-11T14:00:55.656Z"
   },
   {
    "duration": 16,
    "start_time": "2022-12-11T14:03:32.490Z"
   },
   {
    "duration": 14,
    "start_time": "2022-12-11T14:04:01.652Z"
   },
   {
    "duration": 5,
    "start_time": "2022-12-11T15:35:15.226Z"
   },
   {
    "duration": 8,
    "start_time": "2022-12-11T15:42:36.360Z"
   },
   {
    "duration": 18,
    "start_time": "2022-12-11T15:43:56.977Z"
   },
   {
    "duration": 5,
    "start_time": "2022-12-11T15:43:59.315Z"
   },
   {
    "duration": 6,
    "start_time": "2022-12-11T15:52:03.353Z"
   },
   {
    "duration": 13,
    "start_time": "2022-12-11T15:52:04.243Z"
   },
   {
    "duration": 8,
    "start_time": "2022-12-11T15:52:04.963Z"
   },
   {
    "duration": 14,
    "start_time": "2022-12-11T15:54:21.806Z"
   },
   {
    "duration": 6,
    "start_time": "2022-12-11T15:54:23.067Z"
   },
   {
    "duration": 39,
    "start_time": "2022-12-11T16:01:31.736Z"
   },
   {
    "duration": 76,
    "start_time": "2022-12-11T16:36:42.106Z"
   },
   {
    "duration": 9,
    "start_time": "2022-12-11T18:22:24.635Z"
   },
   {
    "duration": 228,
    "start_time": "2022-12-11T18:24:51.574Z"
   },
   {
    "duration": 425,
    "start_time": "2022-12-12T08:32:53.899Z"
   },
   {
    "duration": 298,
    "start_time": "2022-12-12T08:32:54.327Z"
   },
   {
    "duration": 13,
    "start_time": "2022-12-12T08:32:54.627Z"
   },
   {
    "duration": 49,
    "start_time": "2022-12-12T08:32:54.645Z"
   },
   {
    "duration": 700,
    "start_time": "2022-12-12T08:32:54.696Z"
   },
   {
    "duration": 321,
    "start_time": "2022-12-12T08:32:55.398Z"
   },
   {
    "duration": 10,
    "start_time": "2022-12-12T08:32:55.722Z"
   },
   {
    "duration": 59,
    "start_time": "2022-12-12T08:32:55.734Z"
   },
   {
    "duration": 237,
    "start_time": "2022-12-12T08:32:55.796Z"
   },
   {
    "duration": 835,
    "start_time": "2022-12-12T08:32:56.035Z"
   },
   {
    "duration": 6,
    "start_time": "2022-12-12T08:32:56.872Z"
   },
   {
    "duration": 40,
    "start_time": "2022-12-12T08:32:56.880Z"
   },
   {
    "duration": 97,
    "start_time": "2022-12-12T08:32:56.922Z"
   },
   {
    "duration": 7,
    "start_time": "2022-12-12T08:32:57.024Z"
   },
   {
    "duration": 44,
    "start_time": "2022-12-12T08:32:57.033Z"
   },
   {
    "duration": 91,
    "start_time": "2022-12-12T08:32:57.080Z"
   },
   {
    "duration": 9,
    "start_time": "2022-12-12T08:32:57.173Z"
   },
   {
    "duration": 20,
    "start_time": "2022-12-12T08:32:57.185Z"
   },
   {
    "duration": 110,
    "start_time": "2022-12-12T08:32:57.207Z"
   },
   {
    "duration": 8,
    "start_time": "2022-12-12T08:32:57.319Z"
   },
   {
    "duration": 34,
    "start_time": "2022-12-12T08:32:57.337Z"
   },
   {
    "duration": 59,
    "start_time": "2022-12-12T08:32:57.374Z"
   },
   {
    "duration": 111,
    "start_time": "2022-12-12T08:32:57.442Z"
   },
   {
    "duration": 47,
    "start_time": "2022-12-12T08:32:57.554Z"
   },
   {
    "duration": 27,
    "start_time": "2022-12-12T08:32:57.603Z"
   },
   {
    "duration": 8,
    "start_time": "2022-12-12T08:32:57.632Z"
   },
   {
    "duration": 51,
    "start_time": "2022-12-12T08:32:57.642Z"
   },
   {
    "duration": 8,
    "start_time": "2022-12-12T08:32:57.695Z"
   },
   {
    "duration": 41,
    "start_time": "2022-12-12T08:32:57.705Z"
   },
   {
    "duration": 13,
    "start_time": "2022-12-12T08:32:57.753Z"
   },
   {
    "duration": 18,
    "start_time": "2022-12-12T08:32:57.768Z"
   },
   {
    "duration": 20,
    "start_time": "2022-12-12T08:32:57.788Z"
   },
   {
    "duration": 11,
    "start_time": "2022-12-12T08:32:57.810Z"
   },
   {
    "duration": 11,
    "start_time": "2022-12-12T08:32:57.823Z"
   },
   {
    "duration": 63,
    "start_time": "2022-12-12T08:32:57.841Z"
   },
   {
    "duration": 12,
    "start_time": "2022-12-12T08:32:57.906Z"
   },
   {
    "duration": 8,
    "start_time": "2022-12-12T08:32:57.920Z"
   },
   {
    "duration": 29,
    "start_time": "2022-12-12T08:32:57.930Z"
   },
   {
    "duration": 13,
    "start_time": "2022-12-12T08:32:57.961Z"
   },
   {
    "duration": 19,
    "start_time": "2022-12-12T08:32:57.976Z"
   },
   {
    "duration": 14,
    "start_time": "2022-12-12T08:32:58.001Z"
   },
   {
    "duration": 20,
    "start_time": "2022-12-12T08:32:58.018Z"
   },
   {
    "duration": 36,
    "start_time": "2022-12-12T08:32:58.040Z"
   },
   {
    "duration": 83,
    "start_time": "2022-12-12T08:32:58.079Z"
   },
   {
    "duration": 967,
    "start_time": "2022-12-12T08:32:58.165Z"
   },
   {
    "duration": 303,
    "start_time": "2022-12-12T08:32:59.134Z"
   },
   {
    "duration": 361,
    "start_time": "2022-12-12T08:32:59.439Z"
   },
   {
    "duration": 281,
    "start_time": "2022-12-12T08:32:59.802Z"
   },
   {
    "duration": 312,
    "start_time": "2022-12-12T08:33:00.085Z"
   },
   {
    "duration": 256,
    "start_time": "2022-12-12T08:33:00.399Z"
   },
   {
    "duration": 452,
    "start_time": "2022-12-12T08:33:00.657Z"
   },
   {
    "duration": 257,
    "start_time": "2022-12-12T08:33:01.111Z"
   },
   {
    "duration": 3,
    "start_time": "2022-12-12T08:33:01.369Z"
   },
   {
    "duration": 147,
    "start_time": "2022-12-12T08:33:01.374Z"
   },
   {
    "duration": 0,
    "start_time": "2022-12-12T08:33:01.524Z"
   },
   {
    "duration": 13,
    "start_time": "2022-12-12T08:34:46.890Z"
   },
   {
    "duration": 9,
    "start_time": "2022-12-12T08:36:28.870Z"
   },
   {
    "duration": 17,
    "start_time": "2022-12-12T08:39:08.512Z"
   },
   {
    "duration": 9,
    "start_time": "2022-12-12T08:42:45.577Z"
   },
   {
    "duration": 12,
    "start_time": "2022-12-12T08:43:55.116Z"
   },
   {
    "duration": 6,
    "start_time": "2022-12-12T08:44:43.497Z"
   },
   {
    "duration": 31,
    "start_time": "2022-12-12T08:46:43.328Z"
   },
   {
    "duration": 9,
    "start_time": "2022-12-12T08:47:40.213Z"
   },
   {
    "duration": 10,
    "start_time": "2022-12-12T08:49:08.266Z"
   },
   {
    "duration": 9,
    "start_time": "2022-12-12T08:50:02.380Z"
   },
   {
    "duration": 16,
    "start_time": "2022-12-12T08:52:12.729Z"
   },
   {
    "duration": 9,
    "start_time": "2022-12-12T09:17:00.397Z"
   },
   {
    "duration": 11,
    "start_time": "2022-12-12T10:25:43.656Z"
   },
   {
    "duration": 455,
    "start_time": "2022-12-12T10:34:22.310Z"
   },
   {
    "duration": 188,
    "start_time": "2022-12-12T10:34:22.770Z"
   },
   {
    "duration": 8,
    "start_time": "2022-12-12T10:34:22.959Z"
   },
   {
    "duration": 34,
    "start_time": "2022-12-12T10:34:22.968Z"
   },
   {
    "duration": 458,
    "start_time": "2022-12-12T10:34:23.005Z"
   },
   {
    "duration": 145,
    "start_time": "2022-12-12T10:34:23.465Z"
   },
   {
    "duration": 6,
    "start_time": "2022-12-12T10:34:23.612Z"
   },
   {
    "duration": 46,
    "start_time": "2022-12-12T10:34:23.620Z"
   },
   {
    "duration": 190,
    "start_time": "2022-12-12T10:34:23.668Z"
   },
   {
    "duration": 117,
    "start_time": "2022-12-12T10:34:23.860Z"
   },
   {
    "duration": 6,
    "start_time": "2022-12-12T10:34:23.979Z"
   },
   {
    "duration": 39,
    "start_time": "2022-12-12T10:34:23.987Z"
   },
   {
    "duration": 33,
    "start_time": "2022-12-12T10:34:24.029Z"
   },
   {
    "duration": 6,
    "start_time": "2022-12-12T10:34:24.065Z"
   },
   {
    "duration": 17,
    "start_time": "2022-12-12T10:34:24.073Z"
   },
   {
    "duration": 38,
    "start_time": "2022-12-12T10:34:24.092Z"
   },
   {
    "duration": 8,
    "start_time": "2022-12-12T10:34:24.132Z"
   },
   {
    "duration": 34,
    "start_time": "2022-12-12T10:34:24.145Z"
   },
   {
    "duration": 109,
    "start_time": "2022-12-12T10:34:24.181Z"
   },
   {
    "duration": 8,
    "start_time": "2022-12-12T10:34:24.293Z"
   },
   {
    "duration": 24,
    "start_time": "2022-12-12T10:34:24.304Z"
   },
   {
    "duration": 64,
    "start_time": "2022-12-12T10:34:24.331Z"
   },
   {
    "duration": 26,
    "start_time": "2022-12-12T10:34:24.396Z"
   },
   {
    "duration": 84,
    "start_time": "2022-12-12T10:34:24.424Z"
   },
   {
    "duration": 39,
    "start_time": "2022-12-12T10:34:24.510Z"
   },
   {
    "duration": 8,
    "start_time": "2022-12-12T10:34:24.551Z"
   },
   {
    "duration": 40,
    "start_time": "2022-12-12T10:34:24.561Z"
   },
   {
    "duration": 7,
    "start_time": "2022-12-12T10:34:24.604Z"
   },
   {
    "duration": 40,
    "start_time": "2022-12-12T10:34:24.613Z"
   },
   {
    "duration": 6,
    "start_time": "2022-12-12T10:34:24.655Z"
   },
   {
    "duration": 16,
    "start_time": "2022-12-12T10:34:24.663Z"
   },
   {
    "duration": 25,
    "start_time": "2022-12-12T10:34:24.681Z"
   },
   {
    "duration": 7,
    "start_time": "2022-12-12T10:34:24.707Z"
   },
   {
    "duration": 20,
    "start_time": "2022-12-12T10:34:24.717Z"
   },
   {
    "duration": 45,
    "start_time": "2022-12-12T10:34:24.739Z"
   },
   {
    "duration": 8,
    "start_time": "2022-12-12T10:34:24.785Z"
   },
   {
    "duration": 16,
    "start_time": "2022-12-12T10:34:24.795Z"
   },
   {
    "duration": 9,
    "start_time": "2022-12-12T10:34:24.813Z"
   },
   {
    "duration": 13,
    "start_time": "2022-12-12T10:34:24.838Z"
   },
   {
    "duration": 17,
    "start_time": "2022-12-12T10:34:24.856Z"
   },
   {
    "duration": 14,
    "start_time": "2022-12-12T10:34:24.877Z"
   },
   {
    "duration": 23,
    "start_time": "2022-12-12T10:34:24.893Z"
   },
   {
    "duration": 24,
    "start_time": "2022-12-12T10:34:24.918Z"
   },
   {
    "duration": 74,
    "start_time": "2022-12-12T10:34:24.944Z"
   },
   {
    "duration": 857,
    "start_time": "2022-12-12T10:34:25.020Z"
   },
   {
    "duration": 373,
    "start_time": "2022-12-12T10:34:25.879Z"
   },
   {
    "duration": 374,
    "start_time": "2022-12-12T10:34:26.255Z"
   },
   {
    "duration": 367,
    "start_time": "2022-12-12T10:34:26.643Z"
   },
   {
    "duration": 306,
    "start_time": "2022-12-12T10:34:27.012Z"
   },
   {
    "duration": 243,
    "start_time": "2022-12-12T10:34:27.320Z"
   },
   {
    "duration": 351,
    "start_time": "2022-12-12T10:34:27.565Z"
   },
   {
    "duration": 352,
    "start_time": "2022-12-12T10:34:27.917Z"
   },
   {
    "duration": 3,
    "start_time": "2022-12-12T10:34:28.272Z"
   },
   {
    "duration": 50,
    "start_time": "2022-12-12T10:34:28.277Z"
   },
   {
    "duration": 74,
    "start_time": "2022-12-12T10:34:28.329Z"
   },
   {
    "duration": 10,
    "start_time": "2022-12-12T10:35:52.791Z"
   },
   {
    "duration": 13,
    "start_time": "2022-12-12T10:36:16.453Z"
   },
   {
    "duration": 14,
    "start_time": "2022-12-12T10:36:49.543Z"
   },
   {
    "duration": 8,
    "start_time": "2022-12-12T11:14:15.154Z"
   },
   {
    "duration": 352,
    "start_time": "2023-07-24T06:21:48.422Z"
   },
   {
    "duration": 880,
    "start_time": "2023-07-24T06:21:48.776Z"
   },
   {
    "duration": 7,
    "start_time": "2023-07-24T06:21:49.657Z"
   },
   {
    "duration": 27,
    "start_time": "2023-07-24T06:21:49.666Z"
   },
   {
    "duration": 549,
    "start_time": "2023-07-24T06:21:49.694Z"
   },
   {
    "duration": 428,
    "start_time": "2023-07-24T06:21:50.245Z"
   },
   {
    "duration": 6,
    "start_time": "2023-07-24T06:21:50.676Z"
   },
   {
    "duration": 40,
    "start_time": "2023-07-24T06:21:50.684Z"
   },
   {
    "duration": 147,
    "start_time": "2023-07-24T06:21:50.726Z"
   },
   {
    "duration": 162,
    "start_time": "2023-07-24T06:21:50.876Z"
   },
   {
    "duration": 5,
    "start_time": "2023-07-24T06:21:51.040Z"
   },
   {
    "duration": 28,
    "start_time": "2023-07-24T06:21:51.048Z"
   },
   {
    "duration": 54,
    "start_time": "2023-07-24T06:21:51.078Z"
   },
   {
    "duration": 8,
    "start_time": "2023-07-24T06:21:51.134Z"
   },
   {
    "duration": 20,
    "start_time": "2023-07-24T06:21:51.144Z"
   },
   {
    "duration": 74,
    "start_time": "2023-07-24T06:21:51.166Z"
   },
   {
    "duration": 6,
    "start_time": "2023-07-24T06:21:51.241Z"
   },
   {
    "duration": 11,
    "start_time": "2023-07-24T06:21:51.249Z"
   },
   {
    "duration": 84,
    "start_time": "2023-07-24T06:21:51.261Z"
   },
   {
    "duration": 7,
    "start_time": "2023-07-24T06:21:51.347Z"
   },
   {
    "duration": 35,
    "start_time": "2023-07-24T06:21:51.355Z"
   },
   {
    "duration": 44,
    "start_time": "2023-07-24T06:21:51.392Z"
   },
   {
    "duration": 74,
    "start_time": "2023-07-24T06:21:51.438Z"
   },
   {
    "duration": 27,
    "start_time": "2023-07-24T06:21:51.513Z"
   },
   {
    "duration": 33,
    "start_time": "2023-07-24T06:21:51.542Z"
   },
   {
    "duration": 5,
    "start_time": "2023-07-24T06:21:51.577Z"
   },
   {
    "duration": 44,
    "start_time": "2023-07-24T06:21:51.583Z"
   },
   {
    "duration": 9,
    "start_time": "2023-07-24T06:21:51.631Z"
   },
   {
    "duration": 26,
    "start_time": "2023-07-24T06:21:51.642Z"
   },
   {
    "duration": 43,
    "start_time": "2023-07-24T06:21:51.670Z"
   },
   {
    "duration": 12,
    "start_time": "2023-07-24T06:21:51.715Z"
   },
   {
    "duration": 32,
    "start_time": "2023-07-24T06:21:51.728Z"
   },
   {
    "duration": 6,
    "start_time": "2023-07-24T06:21:51.762Z"
   },
   {
    "duration": 15,
    "start_time": "2023-07-24T06:21:51.770Z"
   },
   {
    "duration": 34,
    "start_time": "2023-07-24T06:21:51.788Z"
   },
   {
    "duration": 7,
    "start_time": "2023-07-24T06:21:51.823Z"
   },
   {
    "duration": 22,
    "start_time": "2023-07-24T06:21:51.831Z"
   },
   {
    "duration": 4,
    "start_time": "2023-07-24T06:21:51.855Z"
   },
   {
    "duration": 10,
    "start_time": "2023-07-24T06:21:51.860Z"
   },
   {
    "duration": 9,
    "start_time": "2023-07-24T06:21:51.871Z"
   },
   {
    "duration": 11,
    "start_time": "2023-07-24T06:21:51.881Z"
   },
   {
    "duration": 6,
    "start_time": "2023-07-24T06:21:51.894Z"
   },
   {
    "duration": 6,
    "start_time": "2023-07-24T06:21:51.902Z"
   },
   {
    "duration": 60,
    "start_time": "2023-07-24T06:21:51.909Z"
   },
   {
    "duration": 795,
    "start_time": "2023-07-24T06:21:51.970Z"
   },
   {
    "duration": 230,
    "start_time": "2023-07-24T06:21:52.767Z"
   },
   {
    "duration": 301,
    "start_time": "2023-07-24T06:21:52.999Z"
   },
   {
    "duration": 209,
    "start_time": "2023-07-24T06:21:53.302Z"
   },
   {
    "duration": 241,
    "start_time": "2023-07-24T06:21:53.513Z"
   },
   {
    "duration": 196,
    "start_time": "2023-07-24T06:21:53.756Z"
   },
   {
    "duration": 434,
    "start_time": "2023-07-24T06:21:53.953Z"
   },
   {
    "duration": 211,
    "start_time": "2023-07-24T06:21:54.389Z"
   },
   {
    "duration": 3,
    "start_time": "2023-07-24T06:21:54.601Z"
   },
   {
    "duration": 9,
    "start_time": "2023-07-24T06:21:54.605Z"
   },
   {
    "duration": 7,
    "start_time": "2023-07-24T06:21:54.616Z"
   },
   {
    "duration": 185,
    "start_time": "2023-07-24T06:22:03.972Z"
   },
   {
    "duration": 127,
    "start_time": "2023-07-24T06:22:16.486Z"
   },
   {
    "duration": 24,
    "start_time": "2023-07-24T06:32:47.703Z"
   },
   {
    "duration": 25,
    "start_time": "2023-07-24T06:45:37.269Z"
   },
   {
    "duration": 27,
    "start_time": "2023-07-24T06:45:57.682Z"
   },
   {
    "duration": 32,
    "start_time": "2023-07-24T06:46:07.833Z"
   },
   {
    "duration": 350,
    "start_time": "2023-07-24T07:06:40.842Z"
   },
   {
    "duration": 298,
    "start_time": "2023-07-24T07:09:49.484Z"
   },
   {
    "duration": 272,
    "start_time": "2023-07-24T07:09:57.532Z"
   },
   {
    "duration": 6,
    "start_time": "2023-07-24T07:17:54.997Z"
   }
  ],
  "kernelspec": {
   "display_name": "Python 3 (ipykernel)",
   "language": "python",
   "name": "python3"
  },
  "language_info": {
   "codemirror_mode": {
    "name": "ipython",
    "version": 3
   },
   "file_extension": ".py",
   "mimetype": "text/x-python",
   "name": "python",
   "nbconvert_exporter": "python",
   "pygments_lexer": "ipython3",
   "version": "3.11.3"
  },
  "toc": {
   "base_numbering": 1,
   "nav_menu": {},
   "number_sections": true,
   "sideBar": true,
   "skip_h1_title": true,
   "title_cell": "Table of Contents",
   "title_sidebar": "Contents",
   "toc_cell": false,
   "toc_position": {},
   "toc_section_display": true,
   "toc_window_display": false
  }
 },
 "nbformat": 4,
 "nbformat_minor": 2
}

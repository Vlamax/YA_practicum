{
 "cells": [
  {
   "cell_type": "markdown",
   "metadata": {},
   "source": [
    "# Проект: Принятие решений в бизнесе"
   ]
  },
  {
   "cell_type": "markdown",
   "metadata": {},
   "source": [
    "<b>Часть 1. Приоритизация гипотез.</b>\n",
    "\n",
    "<p>Цели: </p>\n",
    "<p>Применить фреймворк ICE для приоритизации гипотез. Отсортируйте их по убыванию приоритета.</p>\n",
    "<p>Применить фреймворк RICE для приоритизации гипотез. Отсортируйте их по убыванию приоритета.</p>\n",
    "<p>Указать, как изменилась приоритизация гипотез при применении RICE вместо ICE. Объяснить, почему так произошло.</p>"
   ]
  },
  {
   "cell_type": "markdown",
   "metadata": {},
   "source": [
    "<b>Часть 2. Анализ A/B-теста</b>\n",
    "\n",
    "<p>Цели:</p>\n",
    "<p>-  Построить график кумулятивной выручки по группам. Сделать выводы и предположения.</p>\n",
    "<p>-  Построить график кумулятивного среднего чека по группам. Сделать выводы и предположения.</p>\n",
    "<p>-  Построить график относительного изменения кумулятивного среднего чека группы B к группе A. </p>\n",
    "<p>-  Построить график кумулятивного среднего количества заказов на посетителя по группам. Сделать выводы и предположения.</p>\n",
    "<p>-  Построить график относительного изменения кумулятивного среднего количества заказов на посетителя группы B к группе A. Сделать выводы и предположения.</p>\n",
    "<p>-  Построить точечный график количества заказов по пользователям. Сделайть выводы и предположения.</p>\n",
    "<p>-  Посчитать 95-й и 99-й перцентили количества заказов на пользователя. Выбрать границу для определения аномальных пользователей.</p>\n",
    "<p>-  Построить точечный график стоимостей заказов. Сделать выводы и предположения.</p>\n",
    "<p>-  Посчитать 95-й и 99-й перцентили стоимости заказов. Выбрать границу для определения аномальных заказов.</p>\n",
    "<p>-  Посчитать статистическую значимость различий в среднем количестве заказов на посетителя между группами по «сырым» данным. Сделать выводы и предположения.</p>\n",
    "<p>-  Посчитать статистическую значимость различий в среднем чеке заказа между группами по «сырым» данным. Сделать выводы и предположения.</p>\n",
    "<p>-  Посчитать статистическую значимость различий в среднем количестве заказов на посетителя между группами по «очищенным» данным. Сделать выводы и предположения.</p>\n",
    "<p>-  Посчитать статистическую значимость различий в среднем чеке заказа между группами по «очищенным» данным. Сделать выводы и предположения.</p>"
   ]
  },
  {
   "cell_type": "markdown",
   "metadata": {},
   "source": [
    "## Предваритальная обработка данных"
   ]
  },
  {
   "cell_type": "code",
   "execution_count": 1,
   "metadata": {},
   "outputs": [],
   "source": [
    "# загрузим библиотеки для исследования \n",
    "import pandas as pd\n",
    "import matplotlib.pyplot as plt\n",
    "import scipy.stats as stats\n",
    "import numpy as np    \n",
    "from scipy import stats as st\n",
    "import seaborn as sns\n",
    "from IPython.display import display\n",
    "import datetime as dt\n",
    "from pandas.plotting import register_matplotlib_converters"
   ]
  },
  {
   "cell_type": "code",
   "execution_count": 2,
   "metadata": {},
   "outputs": [],
   "source": [
    "# Загрузка датафреймов\n",
    "try:\n",
    "    hypothesis = pd.read_csv('/datasets/hypothesis.csv')\n",
    "    orders = pd.read_csv('/datasets/orders.csv')\n",
    "    visitors = pd.read_csv('/datasets/visitors.csv')\n",
    "except:\n",
    "    hypothesis = pd.read_csv('D:\\\\Python\\\\hypothesis.csv')\n",
    "    orders = pd.read_csv('D:\\\\Python\\\\orders.csv')\n",
    "    visitors = pd.read_csv('D:\\\\Python\\\\visitors.csv')"
   ]
  },
  {
   "cell_type": "code",
   "execution_count": 3,
   "metadata": {},
   "outputs": [
    {
     "name": "stdout",
     "output_type": "stream",
     "text": [
      "<class 'pandas.core.frame.DataFrame'>\n",
      "RangeIndex: 9 entries, 0 to 8\n",
      "Data columns (total 5 columns):\n",
      " #   Column      Non-Null Count  Dtype \n",
      "---  ------      --------------  ----- \n",
      " 0   Hypothesis  9 non-null      object\n",
      " 1   Reach       9 non-null      int64 \n",
      " 2   Impact      9 non-null      int64 \n",
      " 3   Confidence  9 non-null      int64 \n",
      " 4   Efforts     9 non-null      int64 \n",
      "dtypes: int64(4), object(1)\n",
      "memory usage: 492.0+ bytes\n"
     ]
    }
   ],
   "source": [
    "# посмотрим информацию о следующем датафрейме\n",
    "hypothesis.info()"
   ]
  },
  {
   "cell_type": "code",
   "execution_count": 4,
   "metadata": {},
   "outputs": [],
   "source": [
    "# Названия колонок датасета hypothesis приведем к нижнему регистру\n",
    "hypothesis.columns = hypothesis.columns.str.lower()"
   ]
  },
  {
   "cell_type": "code",
   "execution_count": 5,
   "metadata": {},
   "outputs": [
    {
     "data": {
      "text/plain": [
       "hypothesis    0\n",
       "reach         0\n",
       "impact        0\n",
       "confidence    0\n",
       "efforts       0\n",
       "dtype: int64"
      ]
     },
     "execution_count": 5,
     "metadata": {},
     "output_type": "execute_result"
    }
   ],
   "source": [
    "#посмотрим на количество пропусков\n",
    "hypothesis.isna().sum()"
   ]
  },
  {
   "cell_type": "code",
   "execution_count": 6,
   "metadata": {},
   "outputs": [
    {
     "data": {
      "text/plain": [
       "0"
      ]
     },
     "execution_count": 6,
     "metadata": {},
     "output_type": "execute_result"
    }
   ],
   "source": [
    "# проверим количество дубликатов в датасете \n",
    "hypothesis.duplicated().sum()"
   ]
  },
  {
   "cell_type": "code",
   "execution_count": 7,
   "metadata": {},
   "outputs": [
    {
     "data": {
      "text/html": [
       "<div>\n",
       "<style scoped>\n",
       "    .dataframe tbody tr th:only-of-type {\n",
       "        vertical-align: middle;\n",
       "    }\n",
       "\n",
       "    .dataframe tbody tr th {\n",
       "        vertical-align: top;\n",
       "    }\n",
       "\n",
       "    .dataframe thead th {\n",
       "        text-align: right;\n",
       "    }\n",
       "</style>\n",
       "<table border=\"1\" class=\"dataframe\">\n",
       "  <thead>\n",
       "    <tr style=\"text-align: right;\">\n",
       "      <th></th>\n",
       "      <th>transactionId</th>\n",
       "      <th>visitorId</th>\n",
       "      <th>date</th>\n",
       "      <th>revenue</th>\n",
       "      <th>group</th>\n",
       "    </tr>\n",
       "  </thead>\n",
       "  <tbody>\n",
       "    <tr>\n",
       "      <th>0</th>\n",
       "      <td>3667963787</td>\n",
       "      <td>3312258926</td>\n",
       "      <td>2019-08-15</td>\n",
       "      <td>1650</td>\n",
       "      <td>B</td>\n",
       "    </tr>\n",
       "    <tr>\n",
       "      <th>1</th>\n",
       "      <td>2804400009</td>\n",
       "      <td>3642806036</td>\n",
       "      <td>2019-08-15</td>\n",
       "      <td>730</td>\n",
       "      <td>B</td>\n",
       "    </tr>\n",
       "    <tr>\n",
       "      <th>2</th>\n",
       "      <td>2961555356</td>\n",
       "      <td>4069496402</td>\n",
       "      <td>2019-08-15</td>\n",
       "      <td>400</td>\n",
       "      <td>A</td>\n",
       "    </tr>\n",
       "    <tr>\n",
       "      <th>3</th>\n",
       "      <td>3797467345</td>\n",
       "      <td>1196621759</td>\n",
       "      <td>2019-08-15</td>\n",
       "      <td>9759</td>\n",
       "      <td>B</td>\n",
       "    </tr>\n",
       "    <tr>\n",
       "      <th>4</th>\n",
       "      <td>2282983706</td>\n",
       "      <td>2322279887</td>\n",
       "      <td>2019-08-15</td>\n",
       "      <td>2308</td>\n",
       "      <td>B</td>\n",
       "    </tr>\n",
       "  </tbody>\n",
       "</table>\n",
       "</div>"
      ],
      "text/plain": [
       "   transactionId   visitorId        date  revenue group\n",
       "0     3667963787  3312258926  2019-08-15     1650     B\n",
       "1     2804400009  3642806036  2019-08-15      730     B\n",
       "2     2961555356  4069496402  2019-08-15      400     A\n",
       "3     3797467345  1196621759  2019-08-15     9759     B\n",
       "4     2282983706  2322279887  2019-08-15     2308     B"
      ]
     },
     "execution_count": 7,
     "metadata": {},
     "output_type": "execute_result"
    }
   ],
   "source": [
    "# посмотрим информацию о следующем датафрейме\n",
    "orders.head()\n"
   ]
  },
  {
   "cell_type": "code",
   "execution_count": 8,
   "metadata": {
    "scrolled": true
   },
   "outputs": [
    {
     "name": "stdout",
     "output_type": "stream",
     "text": [
      "<class 'pandas.core.frame.DataFrame'>\n",
      "RangeIndex: 1197 entries, 0 to 1196\n",
      "Data columns (total 5 columns):\n",
      " #   Column         Non-Null Count  Dtype \n",
      "---  ------         --------------  ----- \n",
      " 0   transactionId  1197 non-null   int64 \n",
      " 1   visitorId      1197 non-null   int64 \n",
      " 2   date           1197 non-null   object\n",
      " 3   revenue        1197 non-null   int64 \n",
      " 4   group          1197 non-null   object\n",
      "dtypes: int64(3), object(2)\n",
      "memory usage: 46.9+ KB\n"
     ]
    }
   ],
   "source": [
    "orders.info()"
   ]
  },
  {
   "cell_type": "code",
   "execution_count": 9,
   "metadata": {},
   "outputs": [],
   "source": [
    "#преобразуем дату в другой формат\n",
    "orders[\"date\"] = orders[\"date\"].map(lambda x: dt.datetime.strptime(x, '%Y-%m-%d'))"
   ]
  },
  {
   "cell_type": "code",
   "execution_count": 10,
   "metadata": {},
   "outputs": [
    {
     "name": "stdout",
     "output_type": "stream",
     "text": [
      "<class 'pandas.core.frame.DataFrame'>\n",
      "RangeIndex: 1197 entries, 0 to 1196\n",
      "Data columns (total 5 columns):\n",
      " #   Column         Non-Null Count  Dtype         \n",
      "---  ------         --------------  -----         \n",
      " 0   transactionId  1197 non-null   int64         \n",
      " 1   visitorId      1197 non-null   int64         \n",
      " 2   date           1197 non-null   datetime64[ns]\n",
      " 3   revenue        1197 non-null   int64         \n",
      " 4   group          1197 non-null   object        \n",
      "dtypes: datetime64[ns](1), int64(3), object(1)\n",
      "memory usage: 46.9+ KB\n"
     ]
    }
   ],
   "source": [
    "orders.info()"
   ]
  },
  {
   "cell_type": "code",
   "execution_count": 11,
   "metadata": {},
   "outputs": [
    {
     "data": {
      "text/plain": [
       "transactionId    0\n",
       "visitorId        0\n",
       "date             0\n",
       "revenue          0\n",
       "group            0\n",
       "dtype: int64"
      ]
     },
     "execution_count": 11,
     "metadata": {},
     "output_type": "execute_result"
    }
   ],
   "source": [
    "#посмотрим на количество пропусков\n",
    "orders.isna().sum()"
   ]
  },
  {
   "cell_type": "code",
   "execution_count": 12,
   "metadata": {},
   "outputs": [
    {
     "data": {
      "text/plain": [
       "0"
      ]
     },
     "execution_count": 12,
     "metadata": {},
     "output_type": "execute_result"
    }
   ],
   "source": [
    "# проверим количество дубликатов в датасете \n",
    "orders.duplicated().sum()"
   ]
  },
  {
   "cell_type": "code",
   "execution_count": 13,
   "metadata": {},
   "outputs": [
    {
     "name": "stdout",
     "output_type": "stream",
     "text": [
      "максимальная дата: 2019-08-31 00:00:00\n"
     ]
    }
   ],
   "source": [
    "#выявим максимальную дату\n",
    "print('максимальная дата:',orders['date'].max())"
   ]
  },
  {
   "cell_type": "code",
   "execution_count": 14,
   "metadata": {},
   "outputs": [
    {
     "name": "stdout",
     "output_type": "stream",
     "text": [
      "минимальная дата: 2019-08-01 00:00:00\n"
     ]
    }
   ],
   "source": [
    "#выявим минимальную дату\n",
    "print('минимальная дата:',orders['date'].min())"
   ]
  },
  {
   "cell_type": "code",
   "execution_count": 15,
   "metadata": {},
   "outputs": [
    {
     "name": "stdout",
     "output_type": "stream",
     "text": [
      "максимальная выручка: 1294500\n"
     ]
    }
   ],
   "source": [
    "#выявим максимальную выручку\n",
    "print('максимальная выручка:',orders['revenue'].max())"
   ]
  },
  {
   "cell_type": "code",
   "execution_count": 16,
   "metadata": {},
   "outputs": [
    {
     "name": "stdout",
     "output_type": "stream",
     "text": [
      "минимальная выручка: 50\n"
     ]
    }
   ],
   "source": [
    "#выявим минимальную выручку\n",
    "print('минимальная выручка:',orders['revenue'].min())"
   ]
  },
  {
   "cell_type": "code",
   "execution_count": 17,
   "metadata": {},
   "outputs": [
    {
     "data": {
      "text/html": [
       "<div>\n",
       "<style scoped>\n",
       "    .dataframe tbody tr th:only-of-type {\n",
       "        vertical-align: middle;\n",
       "    }\n",
       "\n",
       "    .dataframe tbody tr th {\n",
       "        vertical-align: top;\n",
       "    }\n",
       "\n",
       "    .dataframe thead th {\n",
       "        text-align: right;\n",
       "    }\n",
       "</style>\n",
       "<table border=\"1\" class=\"dataframe\">\n",
       "  <thead>\n",
       "    <tr style=\"text-align: right;\">\n",
       "      <th></th>\n",
       "      <th>date</th>\n",
       "      <th>group</th>\n",
       "      <th>visitors</th>\n",
       "    </tr>\n",
       "  </thead>\n",
       "  <tbody>\n",
       "    <tr>\n",
       "      <th>0</th>\n",
       "      <td>2019-08-01</td>\n",
       "      <td>A</td>\n",
       "      <td>719</td>\n",
       "    </tr>\n",
       "    <tr>\n",
       "      <th>1</th>\n",
       "      <td>2019-08-02</td>\n",
       "      <td>A</td>\n",
       "      <td>619</td>\n",
       "    </tr>\n",
       "    <tr>\n",
       "      <th>2</th>\n",
       "      <td>2019-08-03</td>\n",
       "      <td>A</td>\n",
       "      <td>507</td>\n",
       "    </tr>\n",
       "    <tr>\n",
       "      <th>3</th>\n",
       "      <td>2019-08-04</td>\n",
       "      <td>A</td>\n",
       "      <td>717</td>\n",
       "    </tr>\n",
       "    <tr>\n",
       "      <th>4</th>\n",
       "      <td>2019-08-05</td>\n",
       "      <td>A</td>\n",
       "      <td>756</td>\n",
       "    </tr>\n",
       "  </tbody>\n",
       "</table>\n",
       "</div>"
      ],
      "text/plain": [
       "         date group  visitors\n",
       "0  2019-08-01     A       719\n",
       "1  2019-08-02     A       619\n",
       "2  2019-08-03     A       507\n",
       "3  2019-08-04     A       717\n",
       "4  2019-08-05     A       756"
      ]
     },
     "execution_count": 17,
     "metadata": {},
     "output_type": "execute_result"
    }
   ],
   "source": [
    "# посмотрим информацию о следующем датафрейме\n",
    "visitors.head()"
   ]
  },
  {
   "cell_type": "code",
   "execution_count": 18,
   "metadata": {},
   "outputs": [
    {
     "name": "stdout",
     "output_type": "stream",
     "text": [
      "<class 'pandas.core.frame.DataFrame'>\n",
      "RangeIndex: 62 entries, 0 to 61\n",
      "Data columns (total 3 columns):\n",
      " #   Column    Non-Null Count  Dtype \n",
      "---  ------    --------------  ----- \n",
      " 0   date      62 non-null     object\n",
      " 1   group     62 non-null     object\n",
      " 2   visitors  62 non-null     int64 \n",
      "dtypes: int64(1), object(2)\n",
      "memory usage: 1.6+ KB\n"
     ]
    }
   ],
   "source": [
    "visitors.info()"
   ]
  },
  {
   "cell_type": "code",
   "execution_count": 19,
   "metadata": {},
   "outputs": [],
   "source": [
    "#преобразуем дату в другой формат\n",
    "visitors[\"date\"] = visitors[\"date\"].map(lambda x: dt.datetime.strptime(x, '%Y-%m-%d'))"
   ]
  },
  {
   "cell_type": "code",
   "execution_count": 20,
   "metadata": {},
   "outputs": [
    {
     "name": "stdout",
     "output_type": "stream",
     "text": [
      "<class 'pandas.core.frame.DataFrame'>\n",
      "RangeIndex: 62 entries, 0 to 61\n",
      "Data columns (total 3 columns):\n",
      " #   Column    Non-Null Count  Dtype         \n",
      "---  ------    --------------  -----         \n",
      " 0   date      62 non-null     datetime64[ns]\n",
      " 1   group     62 non-null     object        \n",
      " 2   visitors  62 non-null     int64         \n",
      "dtypes: datetime64[ns](1), int64(1), object(1)\n",
      "memory usage: 1.6+ KB\n"
     ]
    }
   ],
   "source": [
    "visitors.info()"
   ]
  },
  {
   "cell_type": "code",
   "execution_count": 21,
   "metadata": {},
   "outputs": [
    {
     "data": {
      "text/plain": [
       "date        0\n",
       "group       0\n",
       "visitors    0\n",
       "dtype: int64"
      ]
     },
     "execution_count": 21,
     "metadata": {},
     "output_type": "execute_result"
    }
   ],
   "source": [
    "#посмотрим на количество пропусков\n",
    "visitors.isna().sum()"
   ]
  },
  {
   "cell_type": "code",
   "execution_count": 22,
   "metadata": {},
   "outputs": [
    {
     "data": {
      "text/plain": [
       "0"
      ]
     },
     "execution_count": 22,
     "metadata": {},
     "output_type": "execute_result"
    }
   ],
   "source": [
    "# проверим количество дубликатов в датасете \n",
    "visitors.duplicated().sum()"
   ]
  },
  {
   "cell_type": "code",
   "execution_count": 23,
   "metadata": {},
   "outputs": [
    {
     "name": "stdout",
     "output_type": "stream",
     "text": [
      "максимальное количество пользователей: 770\n"
     ]
    }
   ],
   "source": [
    "#выведем максимальное количество пользователей в определенную дату \n",
    "print('максимальное количество пользователей:',visitors['visitors'].max())"
   ]
  },
  {
   "cell_type": "code",
   "execution_count": 24,
   "metadata": {},
   "outputs": [
    {
     "name": "stdout",
     "output_type": "stream",
     "text": [
      "минимальное количество пользователей: 361\n"
     ]
    }
   ],
   "source": [
    "#выведем минимальное количество пользователей в определенную дату \n",
    "print('минимальное количество пользователей:',visitors['visitors'].min())"
   ]
  },
  {
   "cell_type": "markdown",
   "metadata": {},
   "source": [
    "<b>Подвывод</b>\n",
    "<p>После преваритальной обработки данных было выявлено, что в датасетах hypothesis, orders, visitors отсутствуют пропуски, дубликатов тоже нет. </p>"
   ]
  },
  {
   "cell_type": "markdown",
   "metadata": {},
   "source": [
    "<b>Часть 1. Приоритизация гипотез</b>"
   ]
  },
  {
   "cell_type": "code",
   "execution_count": 25,
   "metadata": {},
   "outputs": [
    {
     "data": {
      "text/html": [
       "<div>\n",
       "<style scoped>\n",
       "    .dataframe tbody tr th:only-of-type {\n",
       "        vertical-align: middle;\n",
       "    }\n",
       "\n",
       "    .dataframe tbody tr th {\n",
       "        vertical-align: top;\n",
       "    }\n",
       "\n",
       "    .dataframe thead th {\n",
       "        text-align: right;\n",
       "    }\n",
       "</style>\n",
       "<table border=\"1\" class=\"dataframe\">\n",
       "  <thead>\n",
       "    <tr style=\"text-align: right;\">\n",
       "      <th></th>\n",
       "      <th>hypothesis</th>\n",
       "      <th>ICE</th>\n",
       "    </tr>\n",
       "  </thead>\n",
       "  <tbody>\n",
       "    <tr>\n",
       "      <th>8</th>\n",
       "      <td>Запустить акцию, дающую скидку на товар в день рождения</td>\n",
       "      <td>16.20</td>\n",
       "    </tr>\n",
       "    <tr>\n",
       "      <th>0</th>\n",
       "      <td>Добавить два новых канала привлечения трафика, что позволит привлекать на 30% больше пользователей</td>\n",
       "      <td>13.33</td>\n",
       "    </tr>\n",
       "    <tr>\n",
       "      <th>7</th>\n",
       "      <td>Добавить форму подписки на все основные страницы, чтобы собрать базу клиентов для email-рассылок</td>\n",
       "      <td>11.20</td>\n",
       "    </tr>\n",
       "    <tr>\n",
       "      <th>6</th>\n",
       "      <td>Показать на главной странице баннеры с актуальными акциями и распродажами, чтобы увеличить конверсию</td>\n",
       "      <td>8.00</td>\n",
       "    </tr>\n",
       "    <tr>\n",
       "      <th>2</th>\n",
       "      <td>Добавить блоки рекомендаций товаров на сайт интернет магазина, чтобы повысить конверсию и средний чек заказа</td>\n",
       "      <td>7.00</td>\n",
       "    </tr>\n",
       "    <tr>\n",
       "      <th>1</th>\n",
       "      <td>Запустить собственную службу доставки, что сократит срок доставки заказов</td>\n",
       "      <td>2.00</td>\n",
       "    </tr>\n",
       "    <tr>\n",
       "      <th>5</th>\n",
       "      <td>Добавить страницу отзывов клиентов о магазине, что позволит увеличить количество заказов</td>\n",
       "      <td>1.33</td>\n",
       "    </tr>\n",
       "    <tr>\n",
       "      <th>3</th>\n",
       "      <td>Изменить структура категорий, что увеличит конверсию, т.к. пользователи быстрее найдут нужный товар</td>\n",
       "      <td>1.12</td>\n",
       "    </tr>\n",
       "    <tr>\n",
       "      <th>4</th>\n",
       "      <td>Изменить цвет фона главной страницы, чтобы увеличить вовлеченность пользователей</td>\n",
       "      <td>1.00</td>\n",
       "    </tr>\n",
       "  </tbody>\n",
       "</table>\n",
       "</div>"
      ],
      "text/plain": [
       "                                                                                                     hypothesis  \\\n",
       "8  Запустить акцию, дающую скидку на товар в день рождения                                                        \n",
       "0  Добавить два новых канала привлечения трафика, что позволит привлекать на 30% больше пользователей             \n",
       "7  Добавить форму подписки на все основные страницы, чтобы собрать базу клиентов для email-рассылок               \n",
       "6  Показать на главной странице баннеры с актуальными акциями и распродажами, чтобы увеличить конверсию           \n",
       "2  Добавить блоки рекомендаций товаров на сайт интернет магазина, чтобы повысить конверсию и средний чек заказа   \n",
       "1  Запустить собственную службу доставки, что сократит срок доставки заказов                                      \n",
       "5  Добавить страницу отзывов клиентов о магазине, что позволит увеличить количество заказов                       \n",
       "3  Изменить структура категорий, что увеличит конверсию, т.к. пользователи быстрее найдут нужный товар            \n",
       "4  Изменить цвет фона главной страницы, чтобы увеличить вовлеченность пользователей                               \n",
       "\n",
       "     ICE  \n",
       "8  16.20  \n",
       "0  13.33  \n",
       "7  11.20  \n",
       "6  8.00   \n",
       "2  7.00   \n",
       "1  2.00   \n",
       "5  1.33   \n",
       "3  1.12   \n",
       "4  1.00   "
      ]
     },
     "metadata": {},
     "output_type": "display_data"
    },
    {
     "data": {
      "text/plain": [
       "0"
      ]
     },
     "metadata": {},
     "output_type": "display_data"
    }
   ],
   "source": [
    "#Применим фреймворк ICE для приоритизации гипотез\n",
    "pd.options.display.max_colwidth = 1\n",
    "hypothesis['ICE'] = hypothesis['impact'] * hypothesis['confidence'] / hypothesis['efforts']\n",
    "hypothesis['ICE'] = np.round(hypothesis['ICE'], 2)\n",
    "display(hypothesis[['hypothesis', 'ICE']].sort_values(by='ICE', ascending=False),0)"
   ]
  },
  {
   "cell_type": "code",
   "execution_count": 26,
   "metadata": {},
   "outputs": [
    {
     "data": {
      "text/html": [
       "<div>\n",
       "<style scoped>\n",
       "    .dataframe tbody tr th:only-of-type {\n",
       "        vertical-align: middle;\n",
       "    }\n",
       "\n",
       "    .dataframe tbody tr th {\n",
       "        vertical-align: top;\n",
       "    }\n",
       "\n",
       "    .dataframe thead th {\n",
       "        text-align: right;\n",
       "    }\n",
       "</style>\n",
       "<table border=\"1\" class=\"dataframe\">\n",
       "  <thead>\n",
       "    <tr style=\"text-align: right;\">\n",
       "      <th></th>\n",
       "      <th>hypothesis</th>\n",
       "      <th>RICE</th>\n",
       "    </tr>\n",
       "  </thead>\n",
       "  <tbody>\n",
       "    <tr>\n",
       "      <th>7</th>\n",
       "      <td>Добавить форму подписки на все основные страницы, чтобы собрать базу клиентов для email-рассылок</td>\n",
       "      <td>112.0</td>\n",
       "    </tr>\n",
       "    <tr>\n",
       "      <th>2</th>\n",
       "      <td>Добавить блоки рекомендаций товаров на сайт интернет магазина, чтобы повысить конверсию и средний чек заказа</td>\n",
       "      <td>56.0</td>\n",
       "    </tr>\n",
       "    <tr>\n",
       "      <th>0</th>\n",
       "      <td>Добавить два новых канала привлечения трафика, что позволит привлекать на 30% больше пользователей</td>\n",
       "      <td>40.0</td>\n",
       "    </tr>\n",
       "    <tr>\n",
       "      <th>6</th>\n",
       "      <td>Показать на главной странице баннеры с актуальными акциями и распродажами, чтобы увеличить конверсию</td>\n",
       "      <td>40.0</td>\n",
       "    </tr>\n",
       "    <tr>\n",
       "      <th>8</th>\n",
       "      <td>Запустить акцию, дающую скидку на товар в день рождения</td>\n",
       "      <td>16.2</td>\n",
       "    </tr>\n",
       "    <tr>\n",
       "      <th>3</th>\n",
       "      <td>Изменить структура категорий, что увеличит конверсию, т.к. пользователи быстрее найдут нужный товар</td>\n",
       "      <td>9.0</td>\n",
       "    </tr>\n",
       "    <tr>\n",
       "      <th>1</th>\n",
       "      <td>Запустить собственную службу доставки, что сократит срок доставки заказов</td>\n",
       "      <td>4.0</td>\n",
       "    </tr>\n",
       "    <tr>\n",
       "      <th>5</th>\n",
       "      <td>Добавить страницу отзывов клиентов о магазине, что позволит увеличить количество заказов</td>\n",
       "      <td>4.0</td>\n",
       "    </tr>\n",
       "    <tr>\n",
       "      <th>4</th>\n",
       "      <td>Изменить цвет фона главной страницы, чтобы увеличить вовлеченность пользователей</td>\n",
       "      <td>3.0</td>\n",
       "    </tr>\n",
       "  </tbody>\n",
       "</table>\n",
       "</div>"
      ],
      "text/plain": [
       "                                                                                                     hypothesis  \\\n",
       "7  Добавить форму подписки на все основные страницы, чтобы собрать базу клиентов для email-рассылок               \n",
       "2  Добавить блоки рекомендаций товаров на сайт интернет магазина, чтобы повысить конверсию и средний чек заказа   \n",
       "0  Добавить два новых канала привлечения трафика, что позволит привлекать на 30% больше пользователей             \n",
       "6  Показать на главной странице баннеры с актуальными акциями и распродажами, чтобы увеличить конверсию           \n",
       "8  Запустить акцию, дающую скидку на товар в день рождения                                                        \n",
       "3  Изменить структура категорий, что увеличит конверсию, т.к. пользователи быстрее найдут нужный товар            \n",
       "1  Запустить собственную службу доставки, что сократит срок доставки заказов                                      \n",
       "5  Добавить страницу отзывов клиентов о магазине, что позволит увеличить количество заказов                       \n",
       "4  Изменить цвет фона главной страницы, чтобы увеличить вовлеченность пользователей                               \n",
       "\n",
       "    RICE  \n",
       "7  112.0  \n",
       "2  56.0   \n",
       "0  40.0   \n",
       "6  40.0   \n",
       "8  16.2   \n",
       "3  9.0    \n",
       "1  4.0    \n",
       "5  4.0    \n",
       "4  3.0    "
      ]
     },
     "metadata": {},
     "output_type": "display_data"
    }
   ],
   "source": [
    "#Применим фреймворк RICE для приоритизации гипотез.\n",
    "pd.options.display.max_colwidth = 1\n",
    "hypothesis ['RICE'] = hypothesis ['reach'] * hypothesis ['impact'] * hypothesis ['confidence'] / hypothesis ['efforts']\n",
    "display(hypothesis [['hypothesis', 'RICE']].sort_values(by='RICE', ascending=False))"
   ]
  },
  {
   "cell_type": "markdown",
   "metadata": {},
   "source": [
    "<b>Подвывод</b>\n",
    "<p>-  При применении фреймворка ICE - наиболее перспективные гипотезы 8,0,7 и 6. <p>\n",
    "<p>-  При применении фреймворка RICE наиболее перспективными становятся гипотезы 7,2,0 и 6. Гипотеза 7 стала на первом месте в фреймворке RICE в связи с тем, что ее параметр Reach максимальный и равен 10, у гипотезы 2 параметр Reach также довольно велик и равен 8.<p>\n",
    "    Хорошо видно различие в обеих таблицах. Главное меняется тройка лидеров : если в ICE это гипотезы с индексами 8, 0, 7 , то в RICE - 7 была на 3 меcте, 2 была на 5, 0 на 2, а лидер таблицы ICE - 8 сместился аж на пятую позицию, в то время как 2 перешел на второе место с пятого. Такое отличие обусловлено тем, что в фреймворке RICE мы учитываем важный параметр - это Reach (на какое количество людей в течение определенного периода времени мы повлияем), и в гипотезах 7 и 2 он очень высок (в 7 он равен 10 - максимальный, а в 2 он равен 8 - также высокий, а в лидере ICE - в 8 он минимальный и равен 1)."
   ]
  },
  {
   "cell_type": "markdown",
   "metadata": {},
   "source": [
    "<b>Часть 2. Анализ A/B-теста</b>"
   ]
  },
  {
   "cell_type": "code",
   "execution_count": 27,
   "metadata": {},
   "outputs": [
    {
     "data": {
      "text/html": [
       "<div>\n",
       "<style scoped>\n",
       "    .dataframe tbody tr th:only-of-type {\n",
       "        vertical-align: middle;\n",
       "    }\n",
       "\n",
       "    .dataframe tbody tr th {\n",
       "        vertical-align: top;\n",
       "    }\n",
       "\n",
       "    .dataframe thead th {\n",
       "        text-align: right;\n",
       "    }\n",
       "</style>\n",
       "<table border=\"1\" class=\"dataframe\">\n",
       "  <thead>\n",
       "    <tr style=\"text-align: right;\">\n",
       "      <th></th>\n",
       "      <th>transactionId</th>\n",
       "      <th>visitorId</th>\n",
       "      <th>date</th>\n",
       "      <th>revenue</th>\n",
       "      <th>group</th>\n",
       "    </tr>\n",
       "  </thead>\n",
       "  <tbody>\n",
       "    <tr>\n",
       "      <th>0</th>\n",
       "      <td>3667963787</td>\n",
       "      <td>3312258926</td>\n",
       "      <td>2019-08-15</td>\n",
       "      <td>1650</td>\n",
       "      <td>B</td>\n",
       "    </tr>\n",
       "    <tr>\n",
       "      <th>1</th>\n",
       "      <td>2804400009</td>\n",
       "      <td>3642806036</td>\n",
       "      <td>2019-08-15</td>\n",
       "      <td>730</td>\n",
       "      <td>B</td>\n",
       "    </tr>\n",
       "    <tr>\n",
       "      <th>2</th>\n",
       "      <td>2961555356</td>\n",
       "      <td>4069496402</td>\n",
       "      <td>2019-08-15</td>\n",
       "      <td>400</td>\n",
       "      <td>A</td>\n",
       "    </tr>\n",
       "    <tr>\n",
       "      <th>3</th>\n",
       "      <td>3797467345</td>\n",
       "      <td>1196621759</td>\n",
       "      <td>2019-08-15</td>\n",
       "      <td>9759</td>\n",
       "      <td>B</td>\n",
       "    </tr>\n",
       "    <tr>\n",
       "      <th>4</th>\n",
       "      <td>2282983706</td>\n",
       "      <td>2322279887</td>\n",
       "      <td>2019-08-15</td>\n",
       "      <td>2308</td>\n",
       "      <td>B</td>\n",
       "    </tr>\n",
       "  </tbody>\n",
       "</table>\n",
       "</div>"
      ],
      "text/plain": [
       "   transactionId   visitorId       date  revenue group\n",
       "0  3667963787     3312258926 2019-08-15  1650     B   \n",
       "1  2804400009     3642806036 2019-08-15  730      B   \n",
       "2  2961555356     4069496402 2019-08-15  400      A   \n",
       "3  3797467345     1196621759 2019-08-15  9759     B   \n",
       "4  2282983706     2322279887 2019-08-15  2308     B   "
      ]
     },
     "execution_count": 27,
     "metadata": {},
     "output_type": "execute_result"
    }
   ],
   "source": [
    "orders.head()"
   ]
  },
  {
   "cell_type": "markdown",
   "metadata": {},
   "source": [
    "Определим, сколько у нас групп в А/В тесте - важно понять, парный он или множественный"
   ]
  },
  {
   "cell_type": "code",
   "execution_count": 90,
   "metadata": {
    "scrolled": true
   },
   "outputs": [
    {
     "data": {
      "text/plain": [
       "B    548\n",
       "A    468\n",
       "Name: group, dtype: int64"
      ]
     },
     "execution_count": 90,
     "metadata": {},
     "output_type": "execute_result"
    }
   ],
   "source": [
    "orders['group'].value_counts()"
   ]
  },
  {
   "cell_type": "markdown",
   "metadata": {},
   "source": [
    "Выясним дату начала и окончания теста - не помешает в целом понимание временных рамок теста"
   ]
  },
  {
   "cell_type": "code",
   "execution_count": 91,
   "metadata": {
    "scrolled": true
   },
   "outputs": [
    {
     "name": "stdout",
     "output_type": "stream",
     "text": [
      "датa начала теста:  2019-08-01 00:00:00  ,  a вот дата окончания теста:  2019-08-31 00:00:00\n"
     ]
    }
   ],
   "source": [
    "mini = orders['date'].min()\n",
    "maxi = orders['date'].max()\n",
    "print ('датa начала теста: ', mini, ' , ', 'a вот дата окончания теста: ', maxi)"
   ]
  },
  {
   "cell_type": "markdown",
   "metadata": {},
   "source": [
    "Очень важно также проверить, нет ли в данных пользователей, участвовавших в нескольких группах теста одновременно - это иногда случается в реальных А/В тестах из-за технических ошибок в распределяющей системе, и такие моменты важно отлавливать, потому что пользователи, участвующие в нескольких группах, не позволят проверсти корректное сравнение среднего количества заказов на посетителя между группами: если, например, пользователь, участвующий в обоих группах, совершил целевое событие, мы не сможем оценить, повлияло это нововведение в системе, или это стандартное поведение пользователя."
   ]
  },
  {
   "cell_type": "code",
   "execution_count": 28,
   "metadata": {},
   "outputs": [
    {
     "name": "stdout",
     "output_type": "stream",
     "text": [
      "58\n"
     ]
    }
   ],
   "source": [
    "#Проверим нет ли пользователей, участвовавших в нескольких группах одновременно\n",
    "usersA = orders[orders['group'] == 'A']\n",
    "usersB = orders[orders['group'] == 'B']\n",
    "usersAB = usersA.merge(usersB, on='visitorId', how = 'inner')\n",
    "usersAA = list(usersAB[\"visitorId\"].unique())\n",
    "print(len(usersAA))"
   ]
  },
  {
   "cell_type": "code",
   "execution_count": 29,
   "metadata": {},
   "outputs": [
    {
     "name": "stdout",
     "output_type": "stream",
     "text": [
      "181\n"
     ]
    }
   ],
   "source": [
    "#Посчитаем количество заказов таких пользователей\n",
    "orders_dup = orders.query('visitorId in @usersAA')\n",
    "print(len(orders_dup))"
   ]
  },
  {
   "cell_type": "code",
   "execution_count": 30,
   "metadata": {},
   "outputs": [],
   "source": [
    "#нужно удалить такие заказы, чтобы они не испортили статистику\n",
    "orders = orders.query('visitorId not in @usersAA').reset_index(drop=True)"
   ]
  },
  {
   "cell_type": "code",
   "execution_count": 31,
   "metadata": {},
   "outputs": [
    {
     "data": {
      "text/html": [
       "<div>\n",
       "<style scoped>\n",
       "    .dataframe tbody tr th:only-of-type {\n",
       "        vertical-align: middle;\n",
       "    }\n",
       "\n",
       "    .dataframe tbody tr th {\n",
       "        vertical-align: top;\n",
       "    }\n",
       "\n",
       "    .dataframe thead th {\n",
       "        text-align: right;\n",
       "    }\n",
       "</style>\n",
       "<table border=\"1\" class=\"dataframe\">\n",
       "  <thead>\n",
       "    <tr style=\"text-align: right;\">\n",
       "      <th></th>\n",
       "      <th>date</th>\n",
       "      <th>group</th>\n",
       "    </tr>\n",
       "  </thead>\n",
       "  <tbody>\n",
       "    <tr>\n",
       "      <th>0</th>\n",
       "      <td>2019-08-15</td>\n",
       "      <td>B</td>\n",
       "    </tr>\n",
       "    <tr>\n",
       "      <th>6</th>\n",
       "      <td>2019-08-15</td>\n",
       "      <td>A</td>\n",
       "    </tr>\n",
       "    <tr>\n",
       "      <th>35</th>\n",
       "      <td>2019-08-16</td>\n",
       "      <td>A</td>\n",
       "    </tr>\n",
       "    <tr>\n",
       "      <th>37</th>\n",
       "      <td>2019-08-16</td>\n",
       "      <td>B</td>\n",
       "    </tr>\n",
       "    <tr>\n",
       "      <th>45</th>\n",
       "      <td>2019-08-01</td>\n",
       "      <td>A</td>\n",
       "    </tr>\n",
       "  </tbody>\n",
       "</table>\n",
       "</div>"
      ],
      "text/plain": [
       "         date group\n",
       "0  2019-08-15  B   \n",
       "6  2019-08-15  A   \n",
       "35 2019-08-16  A   \n",
       "37 2019-08-16  B   \n",
       "45 2019-08-01  A   "
      ]
     },
     "execution_count": 31,
     "metadata": {},
     "output_type": "execute_result"
    }
   ],
   "source": [
    "# создаем массив уникальных пар значений дат и групп теста\n",
    "datesGroups = orders[['date','group']].drop_duplicates() \n",
    "datesGroups.head()"
   ]
  },
  {
   "cell_type": "code",
   "execution_count": 32,
   "metadata": {},
   "outputs": [
    {
     "data": {
      "text/html": [
       "<div>\n",
       "<style scoped>\n",
       "    .dataframe tbody tr th:only-of-type {\n",
       "        vertical-align: middle;\n",
       "    }\n",
       "\n",
       "    .dataframe tbody tr th {\n",
       "        vertical-align: top;\n",
       "    }\n",
       "\n",
       "    .dataframe thead th {\n",
       "        text-align: right;\n",
       "    }\n",
       "</style>\n",
       "<table border=\"1\" class=\"dataframe\">\n",
       "  <thead>\n",
       "    <tr style=\"text-align: right;\">\n",
       "      <th></th>\n",
       "      <th>date</th>\n",
       "      <th>group</th>\n",
       "      <th>revenue</th>\n",
       "    </tr>\n",
       "  </thead>\n",
       "  <tbody>\n",
       "    <tr>\n",
       "      <th>45</th>\n",
       "      <td>2019-08-01</td>\n",
       "      <td>A</td>\n",
       "      <td>142779</td>\n",
       "    </tr>\n",
       "    <tr>\n",
       "      <th>54</th>\n",
       "      <td>2019-08-01</td>\n",
       "      <td>B</td>\n",
       "      <td>59758</td>\n",
       "    </tr>\n",
       "    <tr>\n",
       "      <th>149</th>\n",
       "      <td>2019-08-02</td>\n",
       "      <td>A</td>\n",
       "      <td>234381</td>\n",
       "    </tr>\n",
       "    <tr>\n",
       "      <th>147</th>\n",
       "      <td>2019-08-02</td>\n",
       "      <td>B</td>\n",
       "      <td>221801</td>\n",
       "    </tr>\n",
       "    <tr>\n",
       "      <th>245</th>\n",
       "      <td>2019-08-03</td>\n",
       "      <td>A</td>\n",
       "      <td>346854</td>\n",
       "    </tr>\n",
       "    <tr>\n",
       "      <th>...</th>\n",
       "      <td>...</td>\n",
       "      <td>...</td>\n",
       "      <td>...</td>\n",
       "    </tr>\n",
       "    <tr>\n",
       "      <th>456</th>\n",
       "      <td>2019-08-29</td>\n",
       "      <td>B</td>\n",
       "      <td>4746610</td>\n",
       "    </tr>\n",
       "    <tr>\n",
       "      <th>645</th>\n",
       "      <td>2019-08-30</td>\n",
       "      <td>A</td>\n",
       "      <td>3311413</td>\n",
       "    </tr>\n",
       "    <tr>\n",
       "      <th>589</th>\n",
       "      <td>2019-08-30</td>\n",
       "      <td>B</td>\n",
       "      <td>4955833</td>\n",
       "    </tr>\n",
       "    <tr>\n",
       "      <th>820</th>\n",
       "      <td>2019-08-31</td>\n",
       "      <td>A</td>\n",
       "      <td>3364656</td>\n",
       "    </tr>\n",
       "    <tr>\n",
       "      <th>794</th>\n",
       "      <td>2019-08-31</td>\n",
       "      <td>B</td>\n",
       "      <td>5068972</td>\n",
       "    </tr>\n",
       "  </tbody>\n",
       "</table>\n",
       "<p>62 rows × 3 columns</p>\n",
       "</div>"
      ],
      "text/plain": [
       "          date group  revenue\n",
       "45  2019-08-01  A     142779 \n",
       "54  2019-08-01  B     59758  \n",
       "149 2019-08-02  A     234381 \n",
       "147 2019-08-02  B     221801 \n",
       "245 2019-08-03  A     346854 \n",
       "..         ... ..        ... \n",
       "456 2019-08-29  B     4746610\n",
       "645 2019-08-30  A     3311413\n",
       "589 2019-08-30  B     4955833\n",
       "820 2019-08-31  A     3364656\n",
       "794 2019-08-31  B     5068972\n",
       "\n",
       "[62 rows x 3 columns]"
      ]
     },
     "execution_count": 32,
     "metadata": {},
     "output_type": "execute_result"
    }
   ],
   "source": [
    "ordersAggregated = datesGroups.apply(lambda x: orders[np.logical_and(orders['date'] <= x['date'], orders['group'] == x['group'])]\\\n",
    ".agg({'date' : 'max', 'group' : 'max', 'revenue' : 'sum'}), axis=1).sort_values(by=['date','group'])\n",
    "ordersAggregated"
   ]
  },
  {
   "cell_type": "markdown",
   "metadata": {},
   "source": [
    "Построим график кумулятивной выручки по группам"
   ]
  },
  {
   "cell_type": "code",
   "execution_count": 33,
   "metadata": {},
   "outputs": [
    {
     "data": {
      "text/html": [
       "<div>\n",
       "<style scoped>\n",
       "    .dataframe tbody tr th:only-of-type {\n",
       "        vertical-align: middle;\n",
       "    }\n",
       "\n",
       "    .dataframe tbody tr th {\n",
       "        vertical-align: top;\n",
       "    }\n",
       "\n",
       "    .dataframe thead th {\n",
       "        text-align: right;\n",
       "    }\n",
       "</style>\n",
       "<table border=\"1\" class=\"dataframe\">\n",
       "  <thead>\n",
       "    <tr style=\"text-align: right;\">\n",
       "      <th></th>\n",
       "      <th>transactionId</th>\n",
       "      <th>visitorId</th>\n",
       "      <th>date</th>\n",
       "      <th>revenue</th>\n",
       "      <th>group</th>\n",
       "    </tr>\n",
       "  </thead>\n",
       "  <tbody>\n",
       "    <tr>\n",
       "      <th>0</th>\n",
       "      <td>3667963787</td>\n",
       "      <td>3312258926</td>\n",
       "      <td>2019-08-15</td>\n",
       "      <td>1650</td>\n",
       "      <td>B</td>\n",
       "    </tr>\n",
       "    <tr>\n",
       "      <th>1</th>\n",
       "      <td>2804400009</td>\n",
       "      <td>3642806036</td>\n",
       "      <td>2019-08-15</td>\n",
       "      <td>730</td>\n",
       "      <td>B</td>\n",
       "    </tr>\n",
       "    <tr>\n",
       "      <th>2</th>\n",
       "      <td>3797467345</td>\n",
       "      <td>1196621759</td>\n",
       "      <td>2019-08-15</td>\n",
       "      <td>9759</td>\n",
       "      <td>B</td>\n",
       "    </tr>\n",
       "    <tr>\n",
       "      <th>3</th>\n",
       "      <td>2282983706</td>\n",
       "      <td>2322279887</td>\n",
       "      <td>2019-08-15</td>\n",
       "      <td>2308</td>\n",
       "      <td>B</td>\n",
       "    </tr>\n",
       "    <tr>\n",
       "      <th>4</th>\n",
       "      <td>182168103</td>\n",
       "      <td>935554773</td>\n",
       "      <td>2019-08-15</td>\n",
       "      <td>2210</td>\n",
       "      <td>B</td>\n",
       "    </tr>\n",
       "  </tbody>\n",
       "</table>\n",
       "</div>"
      ],
      "text/plain": [
       "   transactionId   visitorId       date  revenue group\n",
       "0  3667963787     3312258926 2019-08-15  1650     B   \n",
       "1  2804400009     3642806036 2019-08-15  730      B   \n",
       "2  3797467345     1196621759 2019-08-15  9759     B   \n",
       "3  2282983706     2322279887 2019-08-15  2308     B   \n",
       "4  182168103      935554773  2019-08-15  2210     B   "
      ]
     },
     "execution_count": 33,
     "metadata": {},
     "output_type": "execute_result"
    }
   ],
   "source": [
    "orders.head()"
   ]
  },
  {
   "cell_type": "code",
   "execution_count": 34,
   "metadata": {},
   "outputs": [
    {
     "data": {
      "text/plain": [
       "group\n",
       "A    92365.0 \n",
       "B    107340.0\n",
       "Name: revenue, dtype: float64"
      ]
     },
     "execution_count": 34,
     "metadata": {},
     "output_type": "execute_result"
    }
   ],
   "source": [
    "#Рассчитаем усредненную (по медиане) выручку за день в каждой группе\n",
    "orders.groupby(['date','group'])['revenue'].sum().groupby('group').median()"
   ]
  },
  {
   "cell_type": "code",
   "execution_count": 35,
   "metadata": {},
   "outputs": [
    {
     "data": {
      "text/html": [
       "<div>\n",
       "<style scoped>\n",
       "    .dataframe tbody tr th:only-of-type {\n",
       "        vertical-align: middle;\n",
       "    }\n",
       "\n",
       "    .dataframe tbody tr th {\n",
       "        vertical-align: top;\n",
       "    }\n",
       "\n",
       "    .dataframe thead th {\n",
       "        text-align: right;\n",
       "    }\n",
       "</style>\n",
       "<table border=\"1\" class=\"dataframe\">\n",
       "  <thead>\n",
       "    <tr style=\"text-align: right;\">\n",
       "      <th></th>\n",
       "      <th>date</th>\n",
       "      <th>group</th>\n",
       "    </tr>\n",
       "  </thead>\n",
       "  <tbody>\n",
       "    <tr>\n",
       "      <th>0</th>\n",
       "      <td>2019-08-01</td>\n",
       "      <td>A</td>\n",
       "    </tr>\n",
       "    <tr>\n",
       "      <th>1</th>\n",
       "      <td>2019-08-01</td>\n",
       "      <td>B</td>\n",
       "    </tr>\n",
       "    <tr>\n",
       "      <th>2</th>\n",
       "      <td>2019-08-02</td>\n",
       "      <td>A</td>\n",
       "    </tr>\n",
       "    <tr>\n",
       "      <th>3</th>\n",
       "      <td>2019-08-02</td>\n",
       "      <td>B</td>\n",
       "    </tr>\n",
       "    <tr>\n",
       "      <th>4</th>\n",
       "      <td>2019-08-03</td>\n",
       "      <td>A</td>\n",
       "    </tr>\n",
       "    <tr>\n",
       "      <th>...</th>\n",
       "      <td>...</td>\n",
       "      <td>...</td>\n",
       "    </tr>\n",
       "    <tr>\n",
       "      <th>57</th>\n",
       "      <td>2019-08-29</td>\n",
       "      <td>B</td>\n",
       "    </tr>\n",
       "    <tr>\n",
       "      <th>58</th>\n",
       "      <td>2019-08-30</td>\n",
       "      <td>A</td>\n",
       "    </tr>\n",
       "    <tr>\n",
       "      <th>59</th>\n",
       "      <td>2019-08-30</td>\n",
       "      <td>B</td>\n",
       "    </tr>\n",
       "    <tr>\n",
       "      <th>60</th>\n",
       "      <td>2019-08-31</td>\n",
       "      <td>A</td>\n",
       "    </tr>\n",
       "    <tr>\n",
       "      <th>61</th>\n",
       "      <td>2019-08-31</td>\n",
       "      <td>B</td>\n",
       "    </tr>\n",
       "  </tbody>\n",
       "</table>\n",
       "<p>62 rows × 2 columns</p>\n",
       "</div>"
      ],
      "text/plain": [
       "         date group\n",
       "0  2019-08-01  A   \n",
       "1  2019-08-01  B   \n",
       "2  2019-08-02  A   \n",
       "3  2019-08-02  B   \n",
       "4  2019-08-03  A   \n",
       "..        ... ..   \n",
       "57 2019-08-29  B   \n",
       "58 2019-08-30  A   \n",
       "59 2019-08-30  B   \n",
       "60 2019-08-31  A   \n",
       "61 2019-08-31  B   \n",
       "\n",
       "[62 rows x 2 columns]"
      ]
     },
     "execution_count": 35,
     "metadata": {},
     "output_type": "execute_result"
    }
   ],
   "source": [
    "#Сравним идентичны ли даты и группы в таблицах посетителей и заказов \n",
    "orders[['date','group']].drop_duplicates().sort_values(by=['date','group']).reset_index(drop=True)"
   ]
  },
  {
   "cell_type": "code",
   "execution_count": 36,
   "metadata": {},
   "outputs": [
    {
     "data": {
      "text/html": [
       "<div>\n",
       "<style scoped>\n",
       "    .dataframe tbody tr th:only-of-type {\n",
       "        vertical-align: middle;\n",
       "    }\n",
       "\n",
       "    .dataframe tbody tr th {\n",
       "        vertical-align: top;\n",
       "    }\n",
       "\n",
       "    .dataframe thead th {\n",
       "        text-align: right;\n",
       "    }\n",
       "</style>\n",
       "<table border=\"1\" class=\"dataframe\">\n",
       "  <thead>\n",
       "    <tr style=\"text-align: right;\">\n",
       "      <th></th>\n",
       "      <th>date</th>\n",
       "      <th>group</th>\n",
       "    </tr>\n",
       "  </thead>\n",
       "  <tbody>\n",
       "    <tr>\n",
       "      <th>0</th>\n",
       "      <td>True</td>\n",
       "      <td>True</td>\n",
       "    </tr>\n",
       "    <tr>\n",
       "      <th>1</th>\n",
       "      <td>True</td>\n",
       "      <td>True</td>\n",
       "    </tr>\n",
       "    <tr>\n",
       "      <th>2</th>\n",
       "      <td>True</td>\n",
       "      <td>True</td>\n",
       "    </tr>\n",
       "    <tr>\n",
       "      <th>3</th>\n",
       "      <td>True</td>\n",
       "      <td>True</td>\n",
       "    </tr>\n",
       "    <tr>\n",
       "      <th>4</th>\n",
       "      <td>True</td>\n",
       "      <td>True</td>\n",
       "    </tr>\n",
       "    <tr>\n",
       "      <th>...</th>\n",
       "      <td>...</td>\n",
       "      <td>...</td>\n",
       "    </tr>\n",
       "    <tr>\n",
       "      <th>57</th>\n",
       "      <td>True</td>\n",
       "      <td>True</td>\n",
       "    </tr>\n",
       "    <tr>\n",
       "      <th>58</th>\n",
       "      <td>True</td>\n",
       "      <td>True</td>\n",
       "    </tr>\n",
       "    <tr>\n",
       "      <th>59</th>\n",
       "      <td>True</td>\n",
       "      <td>True</td>\n",
       "    </tr>\n",
       "    <tr>\n",
       "      <th>60</th>\n",
       "      <td>True</td>\n",
       "      <td>True</td>\n",
       "    </tr>\n",
       "    <tr>\n",
       "      <th>61</th>\n",
       "      <td>True</td>\n",
       "      <td>True</td>\n",
       "    </tr>\n",
       "  </tbody>\n",
       "</table>\n",
       "<p>62 rows × 2 columns</p>\n",
       "</div>"
      ],
      "text/plain": [
       "    date  group\n",
       "0   True  True \n",
       "1   True  True \n",
       "2   True  True \n",
       "3   True  True \n",
       "4   True  True \n",
       "..   ...   ... \n",
       "57  True  True \n",
       "58  True  True \n",
       "59  True  True \n",
       "60  True  True \n",
       "61  True  True \n",
       "\n",
       "[62 rows x 2 columns]"
      ]
     },
     "execution_count": 36,
     "metadata": {},
     "output_type": "execute_result"
    }
   ],
   "source": [
    "compare_aA = orders[['date','group']].drop_duplicates().sort_values(by=['date','group']).reset_index(drop=True) == \\\n",
    "                        visitors[['date','group']].drop_duplicates().sort_values(by=['date','group']).reset_index(drop=True)\n",
    "compare_aA"
   ]
  },
  {
   "cell_type": "code",
   "execution_count": 37,
   "metadata": {},
   "outputs": [
    {
     "data": {
      "text/plain": [
       "(62, 62)"
      ]
     },
     "execution_count": 37,
     "metadata": {},
     "output_type": "execute_result"
    }
   ],
   "source": [
    "compare_aA['date'].sum() , compare_aA['group'].sum() "
   ]
  },
  {
   "cell_type": "markdown",
   "metadata": {},
   "source": [
    "Все пары дата-группа в таблицах посетители и заказы совпадают"
   ]
  },
  {
   "cell_type": "code",
   "execution_count": 38,
   "metadata": {},
   "outputs": [
    {
     "data": {
      "text/html": [
       "<div>\n",
       "<style scoped>\n",
       "    .dataframe tbody tr th:only-of-type {\n",
       "        vertical-align: middle;\n",
       "    }\n",
       "\n",
       "    .dataframe tbody tr th {\n",
       "        vertical-align: top;\n",
       "    }\n",
       "\n",
       "    .dataframe thead th {\n",
       "        text-align: right;\n",
       "    }\n",
       "</style>\n",
       "<table border=\"1\" class=\"dataframe\">\n",
       "  <thead>\n",
       "    <tr style=\"text-align: right;\">\n",
       "      <th></th>\n",
       "      <th>date</th>\n",
       "      <th>group</th>\n",
       "      <th>orders</th>\n",
       "      <th>buyers</th>\n",
       "      <th>revenue</th>\n",
       "      <th>visitors</th>\n",
       "    </tr>\n",
       "  </thead>\n",
       "  <tbody>\n",
       "    <tr>\n",
       "      <th>0</th>\n",
       "      <td>2019-08-01</td>\n",
       "      <td>A</td>\n",
       "      <td>23</td>\n",
       "      <td>19</td>\n",
       "      <td>142779</td>\n",
       "      <td>719</td>\n",
       "    </tr>\n",
       "    <tr>\n",
       "      <th>1</th>\n",
       "      <td>2019-08-01</td>\n",
       "      <td>B</td>\n",
       "      <td>17</td>\n",
       "      <td>17</td>\n",
       "      <td>59758</td>\n",
       "      <td>713</td>\n",
       "    </tr>\n",
       "    <tr>\n",
       "      <th>2</th>\n",
       "      <td>2019-08-02</td>\n",
       "      <td>A</td>\n",
       "      <td>42</td>\n",
       "      <td>36</td>\n",
       "      <td>234381</td>\n",
       "      <td>1338</td>\n",
       "    </tr>\n",
       "    <tr>\n",
       "      <th>3</th>\n",
       "      <td>2019-08-02</td>\n",
       "      <td>B</td>\n",
       "      <td>40</td>\n",
       "      <td>39</td>\n",
       "      <td>221801</td>\n",
       "      <td>1294</td>\n",
       "    </tr>\n",
       "    <tr>\n",
       "      <th>4</th>\n",
       "      <td>2019-08-03</td>\n",
       "      <td>A</td>\n",
       "      <td>66</td>\n",
       "      <td>60</td>\n",
       "      <td>346854</td>\n",
       "      <td>1845</td>\n",
       "    </tr>\n",
       "  </tbody>\n",
       "</table>\n",
       "</div>"
      ],
      "text/plain": [
       "        date group  orders  buyers  revenue  visitors\n",
       "0 2019-08-01  A     23      19      142779   719     \n",
       "1 2019-08-01  B     17      17      59758    713     \n",
       "2 2019-08-02  A     42      36      234381   1338    \n",
       "3 2019-08-02  B     40      39      221801   1294    \n",
       "4 2019-08-03  A     66      60      346854   1845    "
      ]
     },
     "execution_count": 38,
     "metadata": {},
     "output_type": "execute_result"
    }
   ],
   "source": [
    "#Создадим таблицу куммулятивных данных по обеим таблицам\n",
    "datesGroups = orders[['date','group']].drop_duplicates()\n",
    "\n",
    "ordersAggregated = datesGroups.apply(lambda x: orders[np.logical_and(orders['date'] <= x['date'], orders['group'] == x['group'])]. \\\n",
    "                                     agg({'date' : 'max', \n",
    "                                          'group' : 'max', \n",
    "                                          'transactionId' : pd.Series.nunique, \n",
    "                                          'visitorId' : pd.Series.nunique, \n",
    "                                          'revenue' : 'sum'}), axis=1).sort_values(by=['date','group'])\n",
    "\n",
    "visitorsAggregated = datesGroups.apply(lambda x: visitors[np.logical_and(visitors['date'] <= x['date'], visitors['group'] == x['group'])]. \\\n",
    "                                       agg({'date' : 'max', \n",
    "                                            'group' : 'max', \n",
    "                                            'visitors' : 'sum'}), axis=1).sort_values(by=['date','group'])\n",
    "\n",
    "cumulativeData = ordersAggregated.merge(visitorsAggregated, left_on=['date', 'group'], right_on=['date', 'group'])\n",
    "cumulativeData.columns = ['date', 'group', 'orders', 'buyers', 'revenue', 'visitors']\n",
    "\n",
    "cumulativeData.head(5)"
   ]
  },
  {
   "cell_type": "code",
   "execution_count": 39,
   "metadata": {},
   "outputs": [
    {
     "data": {
      "image/png": "[encoded data removed]",
      "text/plain": [
       "<Figure size 1400x500 with 1 Axes>"
      ]
     },
     "metadata": {},
     "output_type": "display_data"
    }
   ],
   "source": [
    "#построим графики кум. выручки обеих групп\n",
    "cumulativeRevenueA = cumulativeData[cumulativeData['group']=='A'][['date','revenue', 'orders']]\n",
    "cumulativeRevenueB = cumulativeData[cumulativeData['group']=='B'][['date','revenue', 'orders']]\n",
    "\n",
    "register_matplotlib_converters()\n",
    "\n",
    "plt.figure(figsize=(14,5))\n",
    "plt.plot(cumulativeRevenueA['date'], cumulativeRevenueA['revenue'], label='Кум.выручка группы A')\n",
    "plt.plot(cumulativeRevenueB['date'], cumulativeRevenueB['revenue'], label='Кум.выручка группы B')\n",
    "plt.title('Графики кумулятивной выручки обеих групп')\n",
    "plt.ylabel('Выручка')\n",
    "plt.xlabel('Дата проведения теста')\n",
    "plt.grid()\n",
    "plt.legend() ;"
   ]
  },
  {
   "cell_type": "markdown",
   "metadata": {},
   "source": [
    "По графику видно, что в первой половине месяца выручка в группе \"B\" растёт немного быстрее, чем в \"A\". 13 августа выручки примерно одинаковы. Во второй половине месяца все очевидно - группа \"B\" однозначно лидер, её выручка значительно больше. Но нужно отметить сильный всплеск выручки в группе \"B\" 19 августа, предположительно это были крупные заказы, а без этой аномалии, по графикам можно предположить, что выручки росли примерно одинаково или же в этот день было очень много заказов."
   ]
  },
  {
   "cell_type": "code",
   "execution_count": 40,
   "metadata": {},
   "outputs": [
    {
     "data": {
      "text/html": [
       "<div>\n",
       "<style scoped>\n",
       "    .dataframe tbody tr th:only-of-type {\n",
       "        vertical-align: middle;\n",
       "    }\n",
       "\n",
       "    .dataframe tbody tr th {\n",
       "        vertical-align: top;\n",
       "    }\n",
       "\n",
       "    .dataframe thead th {\n",
       "        text-align: right;\n",
       "    }\n",
       "</style>\n",
       "<table border=\"1\" class=\"dataframe\">\n",
       "  <thead>\n",
       "    <tr style=\"text-align: right;\">\n",
       "      <th></th>\n",
       "      <th>date</th>\n",
       "      <th>revenue</th>\n",
       "      <th>orders</th>\n",
       "    </tr>\n",
       "  </thead>\n",
       "  <tbody>\n",
       "    <tr>\n",
       "      <th>33</th>\n",
       "      <td>2019-08-17</td>\n",
       "      <td>2155542</td>\n",
       "      <td>320</td>\n",
       "    </tr>\n",
       "    <tr>\n",
       "      <th>35</th>\n",
       "      <td>2019-08-18</td>\n",
       "      <td>2190865</td>\n",
       "      <td>327</td>\n",
       "    </tr>\n",
       "    <tr>\n",
       "      <th>37</th>\n",
       "      <td>2019-08-19</td>\n",
       "      <td>3620785</td>\n",
       "      <td>348</td>\n",
       "    </tr>\n",
       "    <tr>\n",
       "      <th>39</th>\n",
       "      <td>2019-08-20</td>\n",
       "      <td>3768059</td>\n",
       "      <td>368</td>\n",
       "    </tr>\n",
       "    <tr>\n",
       "      <th>41</th>\n",
       "      <td>2019-08-21</td>\n",
       "      <td>3908406</td>\n",
       "      <td>380</td>\n",
       "    </tr>\n",
       "  </tbody>\n",
       "</table>\n",
       "</div>"
      ],
      "text/plain": [
       "         date  revenue  orders\n",
       "33 2019-08-17  2155542  320   \n",
       "35 2019-08-18  2190865  327   \n",
       "37 2019-08-19  3620785  348   \n",
       "39 2019-08-20  3768059  368   \n",
       "41 2019-08-21  3908406  380   "
      ]
     },
     "execution_count": 40,
     "metadata": {},
     "output_type": "execute_result"
    }
   ],
   "source": [
    "#Посмотрим какие аномалии и были ли они в 20х числах августа\n",
    "cumulativeRevenueB.query('\"2019-08-17\" <= date <=\"2019-08-21\"')"
   ]
  },
  {
   "cell_type": "code",
   "execution_count": 41,
   "metadata": {},
   "outputs": [
    {
     "name": "stdout",
     "output_type": "stream",
     "text": [
      "Медианное значение одного заказа 19 августа : 2578.0\n"
     ]
    },
    {
     "data": {
      "text/html": [
       "<div>\n",
       "<style scoped>\n",
       "    .dataframe tbody tr th:only-of-type {\n",
       "        vertical-align: middle;\n",
       "    }\n",
       "\n",
       "    .dataframe tbody tr th {\n",
       "        vertical-align: top;\n",
       "    }\n",
       "\n",
       "    .dataframe thead th {\n",
       "        text-align: right;\n",
       "    }\n",
       "</style>\n",
       "<table border=\"1\" class=\"dataframe\">\n",
       "  <thead>\n",
       "    <tr style=\"text-align: right;\">\n",
       "      <th></th>\n",
       "      <th>transactionId</th>\n",
       "      <th>visitorId</th>\n",
       "      <th>date</th>\n",
       "      <th>revenue</th>\n",
       "      <th>group</th>\n",
       "    </tr>\n",
       "  </thead>\n",
       "  <tbody>\n",
       "    <tr>\n",
       "      <th>365</th>\n",
       "      <td>590470918</td>\n",
       "      <td>1920142716</td>\n",
       "      <td>2019-08-19</td>\n",
       "      <td>1294500</td>\n",
       "      <td>B</td>\n",
       "    </tr>\n",
       "    <tr>\n",
       "      <th>453</th>\n",
       "      <td>3970235543</td>\n",
       "      <td>2912540959</td>\n",
       "      <td>2019-08-19</td>\n",
       "      <td>43990</td>\n",
       "      <td>A</td>\n",
       "    </tr>\n",
       "    <tr>\n",
       "      <th>450</th>\n",
       "      <td>1570513684</td>\n",
       "      <td>2837914161</td>\n",
       "      <td>2019-08-19</td>\n",
       "      <td>33405</td>\n",
       "      <td>B</td>\n",
       "    </tr>\n",
       "    <tr>\n",
       "      <th>361</th>\n",
       "      <td>3765974140</td>\n",
       "      <td>1357170471</td>\n",
       "      <td>2019-08-19</td>\n",
       "      <td>31680</td>\n",
       "      <td>A</td>\n",
       "    </tr>\n",
       "    <tr>\n",
       "      <th>393</th>\n",
       "      <td>2683113224</td>\n",
       "      <td>154576532</td>\n",
       "      <td>2019-08-19</td>\n",
       "      <td>26550</td>\n",
       "      <td>B</td>\n",
       "    </tr>\n",
       "    <tr>\n",
       "      <th>316</th>\n",
       "      <td>3268879337</td>\n",
       "      <td>2536252163</td>\n",
       "      <td>2019-08-19</td>\n",
       "      <td>20026</td>\n",
       "      <td>B</td>\n",
       "    </tr>\n",
       "    <tr>\n",
       "      <th>314</th>\n",
       "      <td>2037051350</td>\n",
       "      <td>1957949546</td>\n",
       "      <td>2019-08-19</td>\n",
       "      <td>16770</td>\n",
       "      <td>A</td>\n",
       "    </tr>\n",
       "    <tr>\n",
       "      <th>395</th>\n",
       "      <td>4170537404</td>\n",
       "      <td>290022471</td>\n",
       "      <td>2019-08-19</td>\n",
       "      <td>16480</td>\n",
       "      <td>B</td>\n",
       "    </tr>\n",
       "    <tr>\n",
       "      <th>454</th>\n",
       "      <td>4016435970</td>\n",
       "      <td>4017075195</td>\n",
       "      <td>2019-08-19</td>\n",
       "      <td>13390</td>\n",
       "      <td>A</td>\n",
       "    </tr>\n",
       "    <tr>\n",
       "      <th>270</th>\n",
       "      <td>3412626998</td>\n",
       "      <td>3282099314</td>\n",
       "      <td>2019-08-19</td>\n",
       "      <td>11985</td>\n",
       "      <td>A</td>\n",
       "    </tr>\n",
       "  </tbody>\n",
       "</table>\n",
       "</div>"
      ],
      "text/plain": [
       "     transactionId   visitorId       date  revenue group\n",
       "365  590470918      1920142716 2019-08-19  1294500  B   \n",
       "453  3970235543     2912540959 2019-08-19  43990    A   \n",
       "450  1570513684     2837914161 2019-08-19  33405    B   \n",
       "361  3765974140     1357170471 2019-08-19  31680    A   \n",
       "393  2683113224     154576532  2019-08-19  26550    B   \n",
       "316  3268879337     2536252163 2019-08-19  20026    B   \n",
       "314  2037051350     1957949546 2019-08-19  16770    A   \n",
       "395  4170537404     290022471  2019-08-19  16480    B   \n",
       "454  4016435970     4017075195 2019-08-19  13390    A   \n",
       "270  3412626998     3282099314 2019-08-19  11985    A   "
      ]
     },
     "execution_count": 41,
     "metadata": {},
     "output_type": "execute_result"
    }
   ],
   "source": [
    "print('Медианное значение одного заказа 19 августа :', orders.query(' date == \"2019-08-19\" ')['revenue'].median())\n",
    "orders.query(' date == \"2019-08-19\" ').sort_values(by='revenue', ascending=False).head(10)"
   ]
  },
  {
   "cell_type": "markdown",
   "metadata": {},
   "source": [
    "Вот и найдена аномалия - был один заказ №425 на чуть менее 1,3млн в группе \"B\" 19 августа - в то время как остальные заказы не больше 44 тысяч. Так как этот заказ один, то его в принципе можно считать выбросом и при дальнейшем анализе это надо учитывать"
   ]
  },
  {
   "cell_type": "code",
   "execution_count": 42,
   "metadata": {},
   "outputs": [
    {
     "data": {
      "image/png": "[encoded data removed]",
      "text/plain": [
       "<Figure size 1400x500 with 1 Axes>"
      ]
     },
     "metadata": {},
     "output_type": "display_data"
    }
   ],
   "source": [
    "#построим графики среднего кумулятивного чека по группам — разделим кумулятивную выручку на кумулятивное число заказов:\n",
    "plt.figure(figsize=(14,5))\n",
    "plt.grid()\n",
    "plt.plot(cumulativeRevenueA['date'], cumulativeRevenueA['revenue']/cumulativeRevenueA['orders'], label='средний кумулятивный чек группы A')\n",
    "plt.plot(cumulativeRevenueB['date'], cumulativeRevenueB['revenue']/cumulativeRevenueB['orders'], label='средний кумулятивный чек группы B')\n",
    "plt.title('График среднего кумулятивного чека')\n",
    "plt.ylabel('Выручка')\n",
    "plt.xlabel('Дата проведения теста')\n",
    "plt.legend() ;"
   ]
  },
  {
   "cell_type": "markdown",
   "metadata": {},
   "source": [
    "По графику видно, как в первой половине в группе \"B\" чек преимущественно больше, но есть и исключение в датах, где чек больше в \"A\" - это начало 1 августа и 12-14 августа. Далее чек группы \"B\" снова больше. Но также на графике видно сильное влияние на ср.чек аномального заказа №425, кстати после этого заказа средний чек в \"B\" постепенно пошел снижаться, в то время как в \"A\" он с 18 августа ну очень медленно растет"
   ]
  },
  {
   "cell_type": "markdown",
   "metadata": {},
   "source": [
    "<b>Построим график относительного изменения кумулятивного среднего чека группы B к группе A</b>"
   ]
  },
  {
   "cell_type": "code",
   "execution_count": 43,
   "metadata": {
    "scrolled": false
   },
   "outputs": [
    {
     "data": {
      "image/png": "[encoded data removed]",
      "text/plain": [
       "<Figure size 1400x800 with 1 Axes>"
      ]
     },
     "metadata": {},
     "output_type": "display_data"
    }
   ],
   "source": [
    "mergedCumulativeRevenue = cumulativeRevenueA.merge(cumulativeRevenueB, left_on='date', right_on='date', how='left', suffixes=['A', 'B'])\n",
    "\n",
    "plt.figure(figsize=(14,8))\n",
    "plt.grid()\n",
    "plt.plot(mergedCumulativeRevenue['date'], (mergedCumulativeRevenue['revenueB']/mergedCumulativeRevenue['ordersB'])/ \\\n",
    "         (mergedCumulativeRevenue['revenueA']/mergedCumulativeRevenue['ordersA'])-1)\n",
    "plt.title('Относительное изменение кумулятивного среднего чека групп \"B\" к \"А\"')\n",
    "plt.ylabel('среднее количество покупок на посетителя')\n",
    "plt.xlabel('Дата проведения теста')\n",
    "plt.axhline(y=0, color='black', linestyle='--') ;"
   ]
  },
  {
   "cell_type": "markdown",
   "metadata": {},
   "source": [
    "Средний чек \"B\" рос с 1 августа, а 2 августа уже превысил \"A\" и рос до 7 августа. 7-8 пошло обратное движение до 13 августа, примечательно, что 3 дня 12-14 акгуста средний чек \"A\" был больше \"B\". Но недолго, с 13 чек \"B\" опять начал расти и уже 15 августа наступил переломный момент и на следующий день чек \"B\" оказался больше и находился больше \"A\" до конца месяца. Здесь хорошо видно, что 19 августа был сильный рост за счет аномального заказа с большим объемом, а в последующие дни средний чек \"B\" также постепенно снижался."
   ]
  },
  {
   "cell_type": "markdown",
   "metadata": {},
   "source": [
    "<b>Построим график кумулятивного среднего количества заказов на посетителя по группам. </b>"
   ]
  },
  {
   "cell_type": "code",
   "execution_count": 44,
   "metadata": {},
   "outputs": [
    {
     "data": {
      "image/png": "[encoded data removed]",
      "text/plain": [
       "<Figure size 1400x500 with 1 Axes>"
      ]
     },
     "metadata": {},
     "output_type": "display_data"
    }
   ],
   "source": [
    "#построим график среднего кумулятивного количества заказов  на посетителя\n",
    "cumulativeOrdersA = cumulativeData[cumulativeData['group']=='A'][['date', 'orders', 'visitors']]\n",
    "cumulativeOrdersB = cumulativeData[cumulativeData['group']=='B'][['date', 'orders', 'visitors']]\n",
    "\n",
    "register_matplotlib_converters()\n",
    "\n",
    "plt.figure(figsize=(14,5))\n",
    "plt.plot(cumulativeOrdersA['date'], cumulativeOrdersA['orders']/ cumulativeOrdersA['visitors'], label='среднее кумулятивное количество заказов на посетителя группы A')\n",
    "plt.plot(cumulativeOrdersB['date'], cumulativeOrdersB['orders']/ cumulativeOrdersB['visitors'], label='среднее кумулятивное количество заказов на посетителя группы B')\n",
    "plt.title('График среднего кумулятивного количества заказов  на посетителя')\n",
    "plt.ylabel('среднее кумулятивное количество заказов на посетителя')\n",
    "plt.xlabel('Дата проведения теста')\n",
    "plt.grid()\n",
    "plt.legend() ;"
   ]
  },
  {
   "cell_type": "markdown",
   "metadata": {},
   "source": [
    "По графику видно, что в начале месяца группа А лидировала в этом показателе, но в числа с 5-7 августа ситуация изменилась кардинальным образом и уже группа В начала лидировать в этом показателе, имея существенное преимущество вплоть до конца месяца."
   ]
  },
  {
   "cell_type": "markdown",
   "metadata": {},
   "source": [
    "<b> Построим график относительного изменения кумулятивного среднего количества заказов на посетителя группы B к группе A.</b> "
   ]
  },
  {
   "cell_type": "code",
   "execution_count": 45,
   "metadata": {},
   "outputs": [
    {
     "data": {
      "image/png": "[encoded data removed]",
      "text/plain": [
       "<Figure size 1400x900 with 1 Axes>"
      ]
     },
     "metadata": {},
     "output_type": "display_data"
    }
   ],
   "source": [
    "mergedCumulativeOrders = cumulativeOrdersA.merge(cumulativeOrdersB, left_on='date', right_on='date', how='left', suffixes=['A', 'B'])\n",
    "\n",
    "plt.figure(figsize=(14,9))\n",
    "plt.grid()\n",
    "plt.plot(mergedCumulativeOrders['date'], (mergedCumulativeOrders['ordersB']/mergedCumulativeOrders['visitorsB'])/(mergedCumulativeOrders['ordersA']/mergedCumulativeOrders['visitorsA'])-1)\n",
    "plt.title('Изменение кумулятивного среднего количества заказов на посетителя группы B к группе A')\n",
    "plt.ylabel('коэффициент изменение кумулятивного среднего количества заказов')\n",
    "plt.xlabel('Дата проведения теста')\n",
    "plt.axhline(y=0, color='black', linestyle='--') ;"
   ]
  },
  {
   "cell_type": "markdown",
   "metadata": {},
   "source": [
    "Здесь нужно отметить, что 2 августа был сильный рос среднего количества заказов на посетителя в обоих группах,возможно повлияли какие-любо скидки и т.п. Начиная с 5 августа группа \"B\" начала подъем и уже с 6-ого лидировала до конца периода: её коэффициент изменение кумулятивного среднего количества заказов на посетителя группы B к группе A рос до 15 августа и разница с \"A\" на максимуме составила 21%, затем пошло постепенное снижение до 10%-14%."
   ]
  },
  {
   "cell_type": "markdown",
   "metadata": {},
   "source": [
    "<b>Построим точечный график количества заказов по пользователям.</b>"
   ]
  },
  {
   "cell_type": "code",
   "execution_count": 46,
   "metadata": {},
   "outputs": [
    {
     "data": {
      "text/html": [
       "<div>\n",
       "<style scoped>\n",
       "    .dataframe tbody tr th:only-of-type {\n",
       "        vertical-align: middle;\n",
       "    }\n",
       "\n",
       "    .dataframe tbody tr th {\n",
       "        vertical-align: top;\n",
       "    }\n",
       "\n",
       "    .dataframe thead th {\n",
       "        text-align: right;\n",
       "    }\n",
       "</style>\n",
       "<table border=\"1\" class=\"dataframe\">\n",
       "  <thead>\n",
       "    <tr style=\"text-align: right;\">\n",
       "      <th></th>\n",
       "      <th>transactionId</th>\n",
       "      <th>visitorId</th>\n",
       "      <th>date</th>\n",
       "      <th>revenue</th>\n",
       "      <th>group</th>\n",
       "    </tr>\n",
       "  </thead>\n",
       "  <tbody>\n",
       "    <tr>\n",
       "      <th>0</th>\n",
       "      <td>3667963787</td>\n",
       "      <td>3312258926</td>\n",
       "      <td>2019-08-15</td>\n",
       "      <td>1650</td>\n",
       "      <td>B</td>\n",
       "    </tr>\n",
       "    <tr>\n",
       "      <th>1</th>\n",
       "      <td>2804400009</td>\n",
       "      <td>3642806036</td>\n",
       "      <td>2019-08-15</td>\n",
       "      <td>730</td>\n",
       "      <td>B</td>\n",
       "    </tr>\n",
       "    <tr>\n",
       "      <th>2</th>\n",
       "      <td>3797467345</td>\n",
       "      <td>1196621759</td>\n",
       "      <td>2019-08-15</td>\n",
       "      <td>9759</td>\n",
       "      <td>B</td>\n",
       "    </tr>\n",
       "    <tr>\n",
       "      <th>3</th>\n",
       "      <td>2282983706</td>\n",
       "      <td>2322279887</td>\n",
       "      <td>2019-08-15</td>\n",
       "      <td>2308</td>\n",
       "      <td>B</td>\n",
       "    </tr>\n",
       "    <tr>\n",
       "      <th>4</th>\n",
       "      <td>182168103</td>\n",
       "      <td>935554773</td>\n",
       "      <td>2019-08-15</td>\n",
       "      <td>2210</td>\n",
       "      <td>B</td>\n",
       "    </tr>\n",
       "  </tbody>\n",
       "</table>\n",
       "</div>"
      ],
      "text/plain": [
       "   transactionId   visitorId       date  revenue group\n",
       "0  3667963787     3312258926 2019-08-15  1650     B   \n",
       "1  2804400009     3642806036 2019-08-15  730      B   \n",
       "2  3797467345     1196621759 2019-08-15  9759     B   \n",
       "3  2282983706     2322279887 2019-08-15  2308     B   \n",
       "4  182168103      935554773  2019-08-15  2210     B   "
      ]
     },
     "execution_count": 46,
     "metadata": {},
     "output_type": "execute_result"
    }
   ],
   "source": [
    "orders.head()"
   ]
  },
  {
   "cell_type": "code",
   "execution_count": 47,
   "metadata": {},
   "outputs": [
    {
     "data": {
      "text/html": [
       "<div>\n",
       "<style scoped>\n",
       "    .dataframe tbody tr th:only-of-type {\n",
       "        vertical-align: middle;\n",
       "    }\n",
       "\n",
       "    .dataframe tbody tr th {\n",
       "        vertical-align: top;\n",
       "    }\n",
       "\n",
       "    .dataframe thead th {\n",
       "        text-align: right;\n",
       "    }\n",
       "</style>\n",
       "<table border=\"1\" class=\"dataframe\">\n",
       "  <thead>\n",
       "    <tr style=\"text-align: right;\">\n",
       "      <th></th>\n",
       "      <th>user_id</th>\n",
       "      <th>orders</th>\n",
       "    </tr>\n",
       "  </thead>\n",
       "  <tbody>\n",
       "    <tr>\n",
       "      <th>908</th>\n",
       "      <td>3967698036</td>\n",
       "      <td>3</td>\n",
       "    </tr>\n",
       "    <tr>\n",
       "      <th>55</th>\n",
       "      <td>249864742</td>\n",
       "      <td>3</td>\n",
       "    </tr>\n",
       "    <tr>\n",
       "      <th>478</th>\n",
       "      <td>2108163459</td>\n",
       "      <td>3</td>\n",
       "    </tr>\n",
       "    <tr>\n",
       "      <th>687</th>\n",
       "      <td>2988190573</td>\n",
       "      <td>3</td>\n",
       "    </tr>\n",
       "    <tr>\n",
       "      <th>890</th>\n",
       "      <td>3908431265</td>\n",
       "      <td>3</td>\n",
       "    </tr>\n",
       "    <tr>\n",
       "      <th>138</th>\n",
       "      <td>611059232</td>\n",
       "      <td>3</td>\n",
       "    </tr>\n",
       "    <tr>\n",
       "      <th>632</th>\n",
       "      <td>2742574263</td>\n",
       "      <td>3</td>\n",
       "    </tr>\n",
       "    <tr>\n",
       "      <th>157</th>\n",
       "      <td>678354126</td>\n",
       "      <td>2</td>\n",
       "    </tr>\n",
       "    <tr>\n",
       "      <th>323</th>\n",
       "      <td>1404560065</td>\n",
       "      <td>2</td>\n",
       "    </tr>\n",
       "    <tr>\n",
       "      <th>452</th>\n",
       "      <td>1985475298</td>\n",
       "      <td>2</td>\n",
       "    </tr>\n",
       "  </tbody>\n",
       "</table>\n",
       "</div>"
      ],
      "text/plain": [
       "        user_id  orders\n",
       "908  3967698036  3     \n",
       "55   249864742   3     \n",
       "478  2108163459  3     \n",
       "687  2988190573  3     \n",
       "890  3908431265  3     \n",
       "138  611059232   3     \n",
       "632  2742574263  3     \n",
       "157  678354126   2     \n",
       "323  1404560065  2     \n",
       "452  1985475298  2     "
      ]
     },
     "execution_count": 47,
     "metadata": {},
     "output_type": "execute_result"
    }
   ],
   "source": [
    "ordersByUsers = orders.drop(['group', 'revenue', 'date'], axis=1).groupby('visitorId', as_index=False). \\\n",
    "                                                                        agg({'transactionId' : pd.Series.nunique})\n",
    "\n",
    "ordersByUsers.columns = ['user_id','orders']\n",
    "\n",
    "ordersByUsers.sort_values(by='orders',ascending=False).head(10)"
   ]
  },
  {
   "cell_type": "code",
   "execution_count": 48,
   "metadata": {},
   "outputs": [
    {
     "data": {
      "image/png": "[encoded data removed]",
      "text/plain": [
       "<Figure size 1400x500 with 1 Axes>"
      ]
     },
     "metadata": {},
     "output_type": "display_data"
    }
   ],
   "source": [
    "x_values = pd.Series(range(0,len(ordersByUsers)))\n",
    "\n",
    "plt.figure(figsize=(14,5))\n",
    "plt.grid()\n",
    "plt.title('График количества заказов по пользователям')\n",
    "plt.scatter(x_values, ordersByUsers['orders'], alpha=0.5) ;"
   ]
  },
  {
   "cell_type": "markdown",
   "metadata": {},
   "source": [
    "Бросается в глаза то, что большое количество пользователей совершили 1 заказ. Тех же, кто совершил 2 заказа заметно меньше. А вот уже тех, кто совершил 3 заказа совсем мало, и считать ли это выбросами пока не понятно - для начала нужно посчитать процентили (95 и 99). И все, что выше 3 заказов - явно аномалия."
   ]
  },
  {
   "cell_type": "markdown",
   "metadata": {},
   "source": [
    "<b>Посчитаем 95-й и 99-й перцентили количества заказов на пользователя. Выберем границу для определения аномальных пользователей.</b>"
   ]
  },
  {
   "cell_type": "code",
   "execution_count": 49,
   "metadata": {},
   "outputs": [
    {
     "name": "stdout",
     "output_type": "stream",
     "text": [
      "Рассчитаем 95 и 99 перцентили по заказам :  [1. 2.]\n"
     ]
    }
   ],
   "source": [
    "print('Рассчитаем 95 и 99 перцентили по заказам : ', np.percentile(ordersByUsers['orders'], [95, 99])) "
   ]
  },
  {
   "cell_type": "code",
   "execution_count": 50,
   "metadata": {},
   "outputs": [
    {
     "name": "stdout",
     "output_type": "stream",
     "text": [
      "перцентили c 95 по 99 (по заказам):  [1. 1. 2. 2. 2.]\n"
     ]
    }
   ],
   "source": [
    "#расширим расчеты и посмотрим более подробно, для большей точности и уверенности расчитаем большее количество процентилей\n",
    "print('перцентили c 95 по 99 (по заказам): ', np.percentile(ordersByUsers['orders'], [95,96,97,98,99])) "
   ]
  },
  {
   "cell_type": "markdown",
   "metadata": {},
   "source": [
    "Теперь очевидно, что большинство(98%) пользователей делают 1 или 2 заказа. Всё что выше этих значений - это аномалия.  3 - нужно установить в качестве границы для аномалий."
   ]
  },
  {
   "cell_type": "markdown",
   "metadata": {},
   "source": [
    "<b>Построим точечный график стоимостей заказов.</b>"
   ]
  },
  {
   "cell_type": "code",
   "execution_count": 51,
   "metadata": {},
   "outputs": [
    {
     "data": {
      "image/png": "[encoded data removed]",
      "text/plain": [
       "<Figure size 1400x500 with 1 Axes>"
      ]
     },
     "metadata": {},
     "output_type": "display_data"
    }
   ],
   "source": [
    "x_values = pd.Series(range(0, len(orders['revenue'])))\n",
    "plt.figure(figsize=(14,5))\n",
    "plt.grid()\n",
    "plt.title('График стоимостей заказов')\n",
    "plt.ylabel('Стоимость заказов')\n",
    "plt.xlabel('Количество пользователей')\n",
    "plt.scatter(x_values, orders['revenue'], alpha=0.5) ;"
   ]
  },
  {
   "cell_type": "markdown",
   "metadata": {},
   "source": [
    "Нужно построить более наглядный график, для этого и уберем явные выбросы с 'revenue' большим 190000:"
   ]
  },
  {
   "cell_type": "code",
   "execution_count": 52,
   "metadata": {},
   "outputs": [
    {
     "data": {
      "image/png": "[encoded data removed]",
      "text/plain": [
       "<Figure size 1400x500 with 1 Axes>"
      ]
     },
     "metadata": {},
     "output_type": "display_data"
    }
   ],
   "source": [
    "new_orders = orders[orders['revenue']<=190000]['revenue']\n",
    "xn_values = pd.Series(range(0, len(new_orders)))\n",
    "plt.figure(figsize=(14,5))\n",
    "plt.grid()\n",
    "plt.scatter(xn_values, new_orders, alpha=0.5)\n",
    "plt.title('График стоимостей заказов')\n",
    "plt.ylabel('Стоимость заказов')\n",
    "plt.xlabel('Количество пользователей');"
   ]
  },
  {
   "cell_type": "markdown",
   "metadata": {},
   "source": [
    "Сразу видно, что тот самый аномальный заказ на 1.3 млн и еще один на примерно 200 тыс, остальные примерно не больше 100 тыс. Для того, чтобы найти более точную границу аномальных заказов рассчитаем процентили"
   ]
  },
  {
   "cell_type": "markdown",
   "metadata": {},
   "source": [
    "<b>Посчитаем 95-й и 99-й перцентили стоимости заказов:</b>"
   ]
  },
  {
   "cell_type": "code",
   "execution_count": 53,
   "metadata": {},
   "outputs": [
    {
     "name": "stdout",
     "output_type": "stream",
     "text": [
      "Расчитаем 95 и 99 перцентили стоимости заказов: [26785. 53904.]\n"
     ]
    }
   ],
   "source": [
    "print('Расчитаем 95 и 99 перцентили стоимости заказов:', np.percentile(orders['revenue'], [95, 99]))"
   ]
  },
  {
   "cell_type": "markdown",
   "metadata": {},
   "source": [
    "Получается, что 99% заказов меньше суммы 58233.2 - нужно установить её в качестве границы для аномалий."
   ]
  },
  {
   "cell_type": "markdown",
   "metadata": {},
   "source": [
    "<b>Посчитаем статистическую значимость различий в среднем количестве заказов на посетителя между группами по «сырым» данным. </b>"
   ]
  },
  {
   "cell_type": "markdown",
   "metadata": {},
   "source": [
    "<p>Сформулируем гипотезы.</p> \n",
    "<b>Нулевая:</b> различий в среднем количестве заказов между группами нет. \n",
    "<p><b>Альтернативная:</b> различия в среднем между группами есть.</p>"
   ]
  },
  {
   "cell_type": "code",
   "execution_count": 54,
   "metadata": {},
   "outputs": [
    {
     "data": {
      "text/html": [
       "<div>\n",
       "<style scoped>\n",
       "    .dataframe tbody tr th:only-of-type {\n",
       "        vertical-align: middle;\n",
       "    }\n",
       "\n",
       "    .dataframe tbody tr th {\n",
       "        vertical-align: top;\n",
       "    }\n",
       "\n",
       "    .dataframe thead th {\n",
       "        text-align: right;\n",
       "    }\n",
       "</style>\n",
       "<table border=\"1\" class=\"dataframe\">\n",
       "  <thead>\n",
       "    <tr style=\"text-align: right;\">\n",
       "      <th></th>\n",
       "      <th>date</th>\n",
       "      <th>group</th>\n",
       "      <th>visitors</th>\n",
       "    </tr>\n",
       "  </thead>\n",
       "  <tbody>\n",
       "    <tr>\n",
       "      <th>0</th>\n",
       "      <td>2019-08-01</td>\n",
       "      <td>A</td>\n",
       "      <td>719</td>\n",
       "    </tr>\n",
       "    <tr>\n",
       "      <th>1</th>\n",
       "      <td>2019-08-02</td>\n",
       "      <td>A</td>\n",
       "      <td>619</td>\n",
       "    </tr>\n",
       "    <tr>\n",
       "      <th>2</th>\n",
       "      <td>2019-08-03</td>\n",
       "      <td>A</td>\n",
       "      <td>507</td>\n",
       "    </tr>\n",
       "    <tr>\n",
       "      <th>3</th>\n",
       "      <td>2019-08-04</td>\n",
       "      <td>A</td>\n",
       "      <td>717</td>\n",
       "    </tr>\n",
       "    <tr>\n",
       "      <th>4</th>\n",
       "      <td>2019-08-05</td>\n",
       "      <td>A</td>\n",
       "      <td>756</td>\n",
       "    </tr>\n",
       "  </tbody>\n",
       "</table>\n",
       "</div>"
      ],
      "text/plain": [
       "        date group  visitors\n",
       "0 2019-08-01  A     719     \n",
       "1 2019-08-02  A     619     \n",
       "2 2019-08-03  A     507     \n",
       "3 2019-08-04  A     717     \n",
       "4 2019-08-05  A     756     "
      ]
     },
     "execution_count": 54,
     "metadata": {},
     "output_type": "execute_result"
    }
   ],
   "source": [
    "visitors.head()"
   ]
  },
  {
   "cell_type": "code",
   "execution_count": 55,
   "metadata": {},
   "outputs": [
    {
     "data": {
      "text/html": [
       "<div>\n",
       "<style scoped>\n",
       "    .dataframe tbody tr th:only-of-type {\n",
       "        vertical-align: middle;\n",
       "    }\n",
       "\n",
       "    .dataframe tbody tr th {\n",
       "        vertical-align: top;\n",
       "    }\n",
       "\n",
       "    .dataframe thead th {\n",
       "        text-align: right;\n",
       "    }\n",
       "</style>\n",
       "<table border=\"1\" class=\"dataframe\">\n",
       "  <thead>\n",
       "    <tr style=\"text-align: right;\">\n",
       "      <th></th>\n",
       "      <th>transactionId</th>\n",
       "      <th>visitorId</th>\n",
       "      <th>date</th>\n",
       "      <th>revenue</th>\n",
       "      <th>group</th>\n",
       "    </tr>\n",
       "  </thead>\n",
       "  <tbody>\n",
       "    <tr>\n",
       "      <th>0</th>\n",
       "      <td>3667963787</td>\n",
       "      <td>3312258926</td>\n",
       "      <td>2019-08-15</td>\n",
       "      <td>1650</td>\n",
       "      <td>B</td>\n",
       "    </tr>\n",
       "    <tr>\n",
       "      <th>1</th>\n",
       "      <td>2804400009</td>\n",
       "      <td>3642806036</td>\n",
       "      <td>2019-08-15</td>\n",
       "      <td>730</td>\n",
       "      <td>B</td>\n",
       "    </tr>\n",
       "    <tr>\n",
       "      <th>2</th>\n",
       "      <td>3797467345</td>\n",
       "      <td>1196621759</td>\n",
       "      <td>2019-08-15</td>\n",
       "      <td>9759</td>\n",
       "      <td>B</td>\n",
       "    </tr>\n",
       "    <tr>\n",
       "      <th>3</th>\n",
       "      <td>2282983706</td>\n",
       "      <td>2322279887</td>\n",
       "      <td>2019-08-15</td>\n",
       "      <td>2308</td>\n",
       "      <td>B</td>\n",
       "    </tr>\n",
       "    <tr>\n",
       "      <th>4</th>\n",
       "      <td>182168103</td>\n",
       "      <td>935554773</td>\n",
       "      <td>2019-08-15</td>\n",
       "      <td>2210</td>\n",
       "      <td>B</td>\n",
       "    </tr>\n",
       "  </tbody>\n",
       "</table>\n",
       "</div>"
      ],
      "text/plain": [
       "   transactionId   visitorId       date  revenue group\n",
       "0  3667963787     3312258926 2019-08-15  1650     B   \n",
       "1  2804400009     3642806036 2019-08-15  730      B   \n",
       "2  3797467345     1196621759 2019-08-15  9759     B   \n",
       "3  2282983706     2322279887 2019-08-15  2308     B   \n",
       "4  182168103      935554773  2019-08-15  2210     B   "
      ]
     },
     "execution_count": 55,
     "metadata": {},
     "output_type": "execute_result"
    }
   ],
   "source": [
    "orders.head()"
   ]
  },
  {
   "cell_type": "code",
   "execution_count": 56,
   "metadata": {
    "scrolled": false
   },
   "outputs": [
    {
     "name": "stdout",
     "output_type": "stream",
     "text": [
      "        date  ordersPerDateA  revenuePerDateA  ordersPerDateB  \\\n",
      "0 2019-08-01  23              142779           17               \n",
      "1 2019-08-02  19              91602            23               \n",
      "2 2019-08-03  24              112473           14               \n",
      "3 2019-08-04  11              41176            14               \n",
      "4 2019-08-05  22              86383            21               \n",
      "\n",
      "   revenuePerDateB  ordersCummulativeA  revenueCummulativeA  \\\n",
      "0  59758            23                  142779                \n",
      "1  162043           42                  234381                \n",
      "2  67049            66                  346854                \n",
      "3  96890            77                  388030                \n",
      "4  89908            99                  474413                \n",
      "\n",
      "   ordersCummulativeB  revenueCummulativeB  visitorsPerDateA  \\\n",
      "0  17                  59758                719                \n",
      "1  40                  221801               619                \n",
      "2  54                  288850               507                \n",
      "3  68                  385740               717                \n",
      "4  89                  475648               756                \n",
      "\n",
      "   visitorsPerDateB  visitorsCummulativeA  visitorsCummulativeB  \n",
      "0  713               719                   713                   \n",
      "1  581               1338                  1294                  \n",
      "2  509               1845                  1803                  \n",
      "3  770               2562                  2573                  \n",
      "4  707               3318                  3280                  \n"
     ]
    }
   ],
   "source": [
    "visitorsADaily = visitors[visitors['group'] == 'A'][['date', 'visitors']]\n",
    "visitorsADaily.columns = ['date', 'visitorsPerDateA']\n",
    " \n",
    "visitorsACummulative = visitorsADaily.apply(\n",
    "    lambda x: visitorsADaily[visitorsADaily['date'] <= x['date']].agg(\n",
    "        {'date': 'max', 'visitorsPerDateA': 'sum'}\n",
    "    ),\n",
    "    axis=1,\n",
    ")\n",
    "visitorsACummulative.columns = ['date', 'visitorsCummulativeA']\n",
    " \n",
    "visitorsBDaily = visitors[visitors['group'] == 'B'][['date', 'visitors']]\n",
    "visitorsBDaily.columns = ['date', 'visitorsPerDateB']\n",
    " \n",
    "visitorsBCummulative = visitorsBDaily.apply(\n",
    "    lambda x: visitorsBDaily[visitorsBDaily['date'] <= x['date']].agg(\n",
    "        {'date': 'max', 'visitorsPerDateB': 'sum'}\n",
    "    ),\n",
    "    axis=1,\n",
    ")\n",
    "visitorsBCummulative.columns = ['date', 'visitorsCummulativeB']\n",
    " \n",
    "ordersADaily = (\n",
    "    orders[orders['group'] == 'A'][['date', 'transactionId', 'visitorId', 'revenue']]\n",
    "    .groupby('date', as_index=False)\n",
    "    .agg({'transactionId': pd.Series.nunique, 'revenue': 'sum'})\n",
    ")\n",
    "ordersADaily.columns = ['date', 'ordersPerDateA', 'revenuePerDateA']\n",
    " \n",
    "ordersACummulative = ordersADaily.apply(\n",
    "    lambda x: ordersADaily[ordersADaily['date'] <= x['date']].agg(\n",
    "        {'date': 'max', 'ordersPerDateA': 'sum', 'revenuePerDateA': 'sum'}\n",
    "    ),\n",
    "    axis=1,\n",
    ").sort_values(by=['date'])\n",
    "ordersACummulative.columns = [\n",
    "    'date',\n",
    "    'ordersCummulativeA',\n",
    "    'revenueCummulativeA',\n",
    "]\n",
    " \n",
    "ordersBDaily = (\n",
    "    orders[orders['group'] == 'B'][['date', 'transactionId', 'visitorId', 'revenue']]\n",
    "    .groupby('date', as_index=False)\n",
    "    .agg({'transactionId': pd.Series.nunique, 'revenue': 'sum'})\n",
    ")\n",
    "ordersBDaily.columns = ['date', 'ordersPerDateB', 'revenuePerDateB']\n",
    " \n",
    "ordersBCummulative = ordersBDaily.apply(\n",
    "    lambda x: ordersBDaily[ordersBDaily['date'] <= x['date']].agg(\n",
    "        {'date': 'max', 'ordersPerDateB': 'sum', 'revenuePerDateB': 'sum'}\n",
    "    ),\n",
    "    axis=1,\n",
    ").sort_values(by=['date'])\n",
    "ordersBCummulative.columns = [\n",
    "    'date',\n",
    "    'ordersCummulativeB',\n",
    "    'revenueCummulativeB',\n",
    "]\n",
    " \n",
    "data = (\n",
    "    ordersADaily.merge(\n",
    "        ordersBDaily, left_on='date', right_on='date', how='left'\n",
    "    )\n",
    "    .merge(ordersACummulative, left_on='date', right_on='date', how='left')\n",
    "    .merge(ordersBCummulative, left_on='date', right_on='date', how='left')\n",
    "    .merge(visitorsADaily, left_on='date', right_on='date', how='left')\n",
    "    .merge(visitorsBDaily, left_on='date', right_on='date', how='left')\n",
    "    .merge(visitorsACummulative, left_on='date', right_on='date', how='left')\n",
    "    .merge(visitorsBCummulative, left_on='date', right_on='date', how='left')\n",
    ")\n",
    " \n",
    "print(data.head(5)) "
   ]
  },
  {
   "cell_type": "markdown",
   "metadata": {},
   "source": [
    "Посмотрим на кол-во пользователей каждой из групп"
   ]
  },
  {
   "cell_type": "code",
   "execution_count": 79,
   "metadata": {},
   "outputs": [
    {
     "data": {
      "text/plain": [
       "18736"
      ]
     },
     "execution_count": 79,
     "metadata": {},
     "output_type": "execute_result"
    }
   ],
   "source": [
    "a = visitors[visitors['group'] == 'A']['visitors'].sum()\n",
    "a"
   ]
  },
  {
   "cell_type": "code",
   "execution_count": 80,
   "metadata": {},
   "outputs": [
    {
     "data": {
      "text/plain": [
       "18916"
      ]
     },
     "execution_count": 80,
     "metadata": {},
     "output_type": "execute_result"
    }
   ],
   "source": [
    "b = visitors[visitors['group'] == 'B']['visitors'].sum()\n",
    "b"
   ]
  },
  {
   "cell_type": "markdown",
   "metadata": {},
   "source": [
    "Создадим переменные ordersByUsersA и ordersByUsersB со столбцами ['visitorId', 'transactionId']. В них для пользователей, которые заказывали хотя бы 1 раз, укажем число совершённых заказов. \n"
   ]
  },
  {
   "cell_type": "code",
   "execution_count": 57,
   "metadata": {},
   "outputs": [],
   "source": [
    "ordersByUsersA = (\n",
    "    orders[orders['group'] == 'A']\n",
    "    .groupby('visitorId', as_index=False)\n",
    "    .agg({'transactionId': pd.Series.nunique})\n",
    ")\n",
    "ordersByUsersA.columns = ['userId', 'orders']\n",
    " \n",
    "ordersByUsersB = (\n",
    "    orders[orders['group'] == 'B']\n",
    "    .groupby('visitorId', as_index=False)\n",
    "    .agg({'transactionId': pd.Series.nunique})\n",
    ")\n",
    "ordersByUsersB.columns = ['userId', 'orders'] "
   ]
  },
  {
   "cell_type": "markdown",
   "metadata": {},
   "source": [
    "Объявим переменные sampleA и sampleB, в которых пользователям из разных групп будет соответствовать количество заказов. Тем, кто ничего не заказал, будут соответствовать нули."
   ]
  },
  {
   "cell_type": "code",
   "execution_count": 58,
   "metadata": {},
   "outputs": [
    {
     "name": "stdout",
     "output_type": "stream",
     "text": [
      "p-value: 0.011\n",
      "Относительное изменение метрики: 0.160\n"
     ]
    }
   ],
   "source": [
    "sampleA = pd.concat(\n",
    "    [\n",
    "        ordersByUsersA['orders'],\n",
    "        pd.Series(\n",
    "            0,\n",
    "            index=np.arange(\n",
    "                data['visitorsPerDateA'].sum() - len(ordersByUsersA['orders'])\n",
    "            ),\n",
    "            name='orders',\n",
    "        ),\n",
    "    ],\n",
    "    axis=0,\n",
    ")\n",
    " \n",
    "sampleB = pd.concat(\n",
    "    [\n",
    "        ordersByUsersB['orders'],\n",
    "        pd.Series(\n",
    "            0,\n",
    "            index=np.arange(\n",
    "                data['visitorsPerDateB'].sum() - len(ordersByUsersB['orders'])\n",
    "            ),\n",
    "            name='orders',\n",
    "        ),\n",
    "    ],\n",
    "    axis=0,\n",
    ")\n",
    " \n",
    "print(\"p-value: {0:.3f}\".format(stats.mannwhitneyu(sampleA, sampleB)[1]))\n",
    " \n",
    "print(\"Относительное изменение метрики: {0:.3f}\".format(sampleB.mean() / sampleA.mean() - 1))"
   ]
  },
  {
   "cell_type": "markdown",
   "metadata": {},
   "source": [
    "<b>Подвывод:</b> По «сырым» данным различия в конверсии групп A и B есть.\n",
    "Первое число — p-value = 0.017 и это меньше 0.05. Значит, нулевую гипотезу о том, что статистически значимых различий в среднем числе заказов между группами нет - отвергаем. Однако относительный проигрыш группы B равен 13.8% — второе число в выводе."
   ]
  },
  {
   "cell_type": "markdown",
   "metadata": {},
   "source": [
    "<b>Посчитаем статистическую значимость различий в среднем чеке заказа между группами по «сырым» данным</b>"
   ]
  },
  {
   "cell_type": "markdown",
   "metadata": {},
   "source": [
    "<p>Для того, чтобы рассчитать статистическую значимость различий в среднем чеке между группами - нужно передать критерию mannwhitneyu() данные о выручке с заказов. А также найдём относительные различия в среднем чеке между группами.</p>\n",
    "<p><b> Нулевая гипотеза:</b> \"Cтатистически значимых различий в средних чеках между группами нет\" </p>\n",
    "<b> Альтернативная гипотеза:</b> \"Cтатистически значимые различия есть.\""
   ]
  },
  {
   "cell_type": "code",
   "execution_count": 59,
   "metadata": {},
   "outputs": [
    {
     "name": "stdout",
     "output_type": "stream",
     "text": [
      "Значение p-value,  0.829\n",
      "Относительное изменение метрики: 0.287\n"
     ]
    }
   ],
   "source": [
    "print('Значение p-value, ', '{0:.3f}'.format(stats.mannwhitneyu(orders[orders['group']=='A']['revenue'], orders[orders['group']=='B']['revenue'])[1]))\n",
    "print('Относительное изменение метрики: {0:.3f}'.format(orders[orders['group']=='B']['revenue'].mean()/orders[orders['group']=='A']['revenue'].mean()-1))"
   ]
  },
  {
   "cell_type": "markdown",
   "metadata": {},
   "source": [
    "P-value = 0.729, что значительно больше 0.05. Следовательно, причин отвергать нулевую гипотезу и считать, что в среднем чеке есть различия - нет. Средний чек группы B выше среднего чека группы A"
   ]
  },
  {
   "cell_type": "markdown",
   "metadata": {},
   "source": [
    "<b>Посчитаем статистическую значимость различий в среднем количестве заказов на посетителя между группами по «очищенным» данным. </b>"
   ]
  },
  {
   "cell_type": "code",
   "execution_count": 60,
   "metadata": {},
   "outputs": [
    {
     "name": "stdout",
     "output_type": "stream",
     "text": [
      "937    148427295\n",
      "33     249864742\n",
      "58     611059232\n",
      "811    887908475\n",
      "632    888512513\n",
      "dtype: int64\n",
      "Всего необычных пользователей = 16\n"
     ]
    }
   ],
   "source": [
    "usersWithManyOrders = pd.concat([ordersByUsersA[ordersByUsersA['orders'] > 2]['userId'], ordersByUsersB[ordersByUsersB['orders'] > 2]['userId']], axis = 0)\n",
    "usersWithExpensiveOrders = orders[orders['revenue'] > 58233.2]['visitorId']\n",
    "abnormalUsers = pd.concat([usersWithManyOrders, usersWithExpensiveOrders], axis = 0).drop_duplicates().sort_values()\n",
    "print(abnormalUsers.head(5))\n",
    "print(\"Всего необычных пользователей =\" ,len(abnormalUsers)) "
   ]
  },
  {
   "cell_type": "code",
   "execution_count": 75,
   "metadata": {},
   "outputs": [
    {
     "data": {
      "text/plain": [
       "1.64"
      ]
     },
     "execution_count": 75,
     "metadata": {},
     "output_type": "execute_result"
    }
   ],
   "source": [
    "#относительные потери\n",
    "relativUsers = round(((len(abnormalUsers) / orders['visitorId'].nunique()) * 100), 2)\n",
    "relativUsers"
   ]
  },
  {
   "cell_type": "markdown",
   "metadata": {},
   "source": [
    "Потери пользователей после фильтрации в относительном выражении составили 1.64% "
   ]
  },
  {
   "cell_type": "markdown",
   "metadata": {},
   "source": [
    "Далее нужно узнать, как их действия повлияли на результаты теста. Посчитаем статистическую значимость различий в среднем количестве заказов между группами теста по очищенным данным:"
   ]
  },
  {
   "cell_type": "code",
   "execution_count": 62,
   "metadata": {},
   "outputs": [],
   "source": [
    "sampleAFiltered = pd.concat([ordersByUsersA[np.logical_not(ordersByUsersA['userId'].isin(abnormalUsers))]['orders'], \\\n",
    "                             pd.Series(0, index=np.arange(data['visitorsPerDateA'].sum() - len(ordersByUsersA['orders'])), \\\n",
    "                                       name='orders')],axis=0)\n",
    "\n",
    "sampleBFiltered = pd.concat([ordersByUsersB[np.logical_not(ordersByUsersB['userId'].isin(abnormalUsers))]['orders'], \\\n",
    "                             pd.Series(0, index=np.arange(data['visitorsPerDateB'].sum() - len(ordersByUsersB['orders'])), \\\n",
    "                                       name='orders')],axis=0)"
   ]
  },
  {
   "cell_type": "markdown",
   "metadata": {},
   "source": [
    "Дальше нужно применить статистический критерий Манна-Уитни к полученным выборкам.\n",
    "\n",
    "<p><b>Нулевая гипотеза: </b>\"Статистически значимых различий в конверсии между группами нет\"<p>\n",
    "<b>Альтернативная гипотеза:</b> \"Cтатистически значимые различия есть.\""
   ]
  },
  {
   "cell_type": "code",
   "execution_count": 63,
   "metadata": {},
   "outputs": [
    {
     "name": "stdout",
     "output_type": "stream",
     "text": [
      "alpha = 0.05\n",
      "p-value = 0.007\n",
      "Относительный показатель 'B' и 'A' = 0.189\n"
     ]
    }
   ],
   "source": [
    "print(\"alpha =\",0.05)\n",
    "print(\"p-value = {0:.3f}\".format(stats.mannwhitneyu(sampleAFiltered, sampleBFiltered, alternative = 'two-sided')[1]))\n",
    "print(\"Относительный показатель 'B' и 'A' = {0:.3f}\".format(sampleBFiltered.mean()/sampleAFiltered.mean()-1)) "
   ]
  },
  {
   "cell_type": "markdown",
   "metadata": {},
   "source": [
    "<b>Подвывод:</b> p-value = 0.01 меньше 0.05. Следовательно, нулевую гипотезу о том, что статистически значимых различий в конверсии между группами нет - отвергаем. А также это означает: и по «очищенным» данным различия в конверсии групп A и B есть. А относительный выигрыш группы \"B\" над \"A\" равен 17,4% (выше, чем с «сырыми» данными - 13.8%)"
   ]
  },
  {
   "cell_type": "markdown",
   "metadata": {},
   "source": [
    "</b>Посчитаем статистическую значимость различий в среднем чеке заказа между группами по «очищенным» данным. </b>"
   ]
  },
  {
   "cell_type": "markdown",
   "metadata": {},
   "source": [
    "<b>Нулевая гипотеза:</b> \"Статистически значимых различий в средних чеках между группами нет\" \n",
    "<p><b>Альтернативная гипотеза: </b>\"Статистически значимые различия есть.\"</p>"
   ]
  },
  {
   "cell_type": "code",
   "execution_count": 64,
   "metadata": {},
   "outputs": [
    {
     "name": "stdout",
     "output_type": "stream",
     "text": [
      "alpha = 0.05\n",
      "p-value = 0.788\n",
      "Относительный показатель 'B' и 'A' = -0.032\n"
     ]
    }
   ],
   "source": [
    "print(\"alpha =\",0.05)\n",
    "print(\"p-value = {0:.3f}\".format(stats.mannwhitneyu(\n",
    "    orders[np.logical_and(\n",
    "        orders['group']=='A',\n",
    "        np.logical_not(orders['visitorId'].isin(abnormalUsers)))]['revenue'],\n",
    "    orders[np.logical_and(\n",
    "        orders['group']=='B',\n",
    "        np.logical_not(orders['visitorId'].isin(abnormalUsers)))]['revenue'], alternative = 'two-sided')[1]))\n",
    "\n",
    "print(\"Относительный показатель 'B' и 'A' = {0:.3f}\".format(\n",
    "    orders[np.logical_and(orders['group']=='B',np.logical_not(orders['visitorId'].isin(abnormalUsers)))]['revenue'].mean()/\n",
    "    orders[np.logical_and(\n",
    "        orders['group']=='A',\n",
    "        np.logical_not(orders['visitorId'].isin(abnormalUsers)))]['revenue'].mean() - 1)) "
   ]
  },
  {
   "cell_type": "markdown",
   "metadata": {},
   "source": [
    "P-value значительно больше 0.05.Следовательно, причин отвергать нулевую гипотезу и считать, что в среднем чеке есть различия - тоже нет. А средний чек группы B оказался незначительно и на 2% ниже среднего чека группы A, в то время как по \"сырым\" данным, он был больше на целых 26% - и всё это из-за одного того же аномального заказа на 1,3 млн "
   ]
  },
  {
   "cell_type": "markdown",
   "metadata": {},
   "source": [
    "<b>В результате тестирования выявлено:</b>\n",
    "\n",
    "Получилось, что и по \"сырым\" и по \"очищенным\" данным отличия в средних чеках групп A и B отстутствуют, и это несмотря на то, что средний чек группы B оказался незначительно и на 2% ниже среднего чека группы A, в то время как по \"сырым\" данным, он был больше на целых 26% - и всё это из-за одного того же аномального заказа на 1,3 млн. Всё это логично - аномальный заказ убрали и чеки сравнялись."
   ]
  },
  {
   "cell_type": "markdown",
   "metadata": {},
   "source": [
    "<b>Результаты тестирования довольно однозначны. По итогу можно смело принять решение остановить тестирование и констатировать успех и победу группы B: группа B значительно эффективнее группы A, хоть по среднему чеку группы оказались примерно равны.<b>"
   ]
  }
 ],
 "metadata": {
  "ExecuteTimeLog": [
   {
    "duration": 45,
    "start_time": "2023-02-23T14:30:47.799Z"
   },
   {
    "duration": 1266,
    "start_time": "2023-02-23T14:30:51.321Z"
   },
   {
    "duration": 236,
    "start_time": "2023-02-23T14:30:52.589Z"
   },
   {
    "duration": 12,
    "start_time": "2023-02-23T14:30:52.827Z"
   },
   {
    "duration": 8,
    "start_time": "2023-02-23T14:34:03.038Z"
   },
   {
    "duration": 3,
    "start_time": "2023-02-23T14:34:22.036Z"
   },
   {
    "duration": 3,
    "start_time": "2023-02-23T14:34:26.218Z"
   },
   {
    "duration": 11,
    "start_time": "2023-02-23T14:35:39.898Z"
   },
   {
    "duration": 10,
    "start_time": "2023-02-23T14:36:10.585Z"
   },
   {
    "duration": 11,
    "start_time": "2023-02-23T14:36:18.194Z"
   },
   {
    "duration": 8,
    "start_time": "2023-02-23T14:36:21.294Z"
   },
   {
    "duration": 6,
    "start_time": "2023-02-23T14:37:57.379Z"
   },
   {
    "duration": 6,
    "start_time": "2023-02-23T14:38:15.425Z"
   },
   {
    "duration": 3,
    "start_time": "2023-02-23T14:40:03.739Z"
   },
   {
    "duration": 3,
    "start_time": "2023-02-23T14:40:08.980Z"
   },
   {
    "duration": 5,
    "start_time": "2023-02-23T14:45:01.816Z"
   },
   {
    "duration": 10,
    "start_time": "2023-02-23T14:45:53.325Z"
   },
   {
    "duration": 7,
    "start_time": "2023-02-23T14:46:24.835Z"
   },
   {
    "duration": 5,
    "start_time": "2023-02-23T14:46:48.448Z"
   },
   {
    "duration": 4,
    "start_time": "2023-02-23T14:48:32.892Z"
   },
   {
    "duration": 3,
    "start_time": "2023-02-23T14:48:35.212Z"
   },
   {
    "duration": 12,
    "start_time": "2023-02-23T14:57:37.765Z"
   },
   {
    "duration": 11,
    "start_time": "2023-02-23T14:59:39.946Z"
   },
   {
    "duration": 70,
    "start_time": "2023-02-23T15:07:31.216Z"
   },
   {
    "duration": 140,
    "start_time": "2023-02-23T15:13:09.030Z"
   },
   {
    "duration": 137,
    "start_time": "2023-02-23T15:14:06.382Z"
   },
   {
    "duration": 474,
    "start_time": "2023-02-23T15:26:17.692Z"
   },
   {
    "duration": 4,
    "start_time": "2023-02-23T15:26:25.451Z"
   },
   {
    "duration": 80,
    "start_time": "2023-02-23T15:26:25.457Z"
   },
   {
    "duration": 11,
    "start_time": "2023-02-23T15:26:25.539Z"
   },
   {
    "duration": 14,
    "start_time": "2023-02-23T15:26:25.552Z"
   },
   {
    "duration": 15,
    "start_time": "2023-02-23T15:26:25.569Z"
   },
   {
    "duration": 12,
    "start_time": "2023-02-23T15:26:25.586Z"
   },
   {
    "duration": 13,
    "start_time": "2023-02-23T15:26:25.600Z"
   },
   {
    "duration": 27,
    "start_time": "2023-02-23T15:26:25.615Z"
   },
   {
    "duration": 11,
    "start_time": "2023-02-23T15:26:25.643Z"
   },
   {
    "duration": 10,
    "start_time": "2023-02-23T15:26:25.656Z"
   },
   {
    "duration": 11,
    "start_time": "2023-02-23T15:26:25.668Z"
   },
   {
    "duration": 9,
    "start_time": "2023-02-23T15:26:25.681Z"
   },
   {
    "duration": 12,
    "start_time": "2023-02-23T15:26:25.692Z"
   },
   {
    "duration": 12,
    "start_time": "2023-02-23T15:26:25.706Z"
   },
   {
    "duration": 14,
    "start_time": "2023-02-23T15:26:25.720Z"
   },
   {
    "duration": 7,
    "start_time": "2023-02-23T15:26:25.735Z"
   },
   {
    "duration": 10,
    "start_time": "2023-02-23T15:26:25.744Z"
   },
   {
    "duration": 7,
    "start_time": "2023-02-23T15:26:25.756Z"
   },
   {
    "duration": 18,
    "start_time": "2023-02-23T15:26:25.764Z"
   },
   {
    "duration": 38,
    "start_time": "2023-02-23T15:26:25.784Z"
   },
   {
    "duration": 160,
    "start_time": "2023-02-23T15:26:25.824Z"
   },
   {
    "duration": 487,
    "start_time": "2023-02-23T15:26:25.986Z"
   },
   {
    "duration": 3,
    "start_time": "2023-02-23T15:27:46.976Z"
   },
   {
    "duration": 87,
    "start_time": "2023-02-23T15:27:46.981Z"
   },
   {
    "duration": 14,
    "start_time": "2023-02-23T15:27:47.071Z"
   },
   {
    "duration": 4,
    "start_time": "2023-02-23T15:27:47.088Z"
   },
   {
    "duration": 9,
    "start_time": "2023-02-23T15:27:47.094Z"
   },
   {
    "duration": 11,
    "start_time": "2023-02-23T15:27:47.105Z"
   },
   {
    "duration": 18,
    "start_time": "2023-02-23T15:27:47.118Z"
   },
   {
    "duration": 17,
    "start_time": "2023-02-23T15:27:47.139Z"
   },
   {
    "duration": 7,
    "start_time": "2023-02-23T15:27:47.158Z"
   },
   {
    "duration": 4,
    "start_time": "2023-02-23T15:27:47.167Z"
   },
   {
    "duration": 7,
    "start_time": "2023-02-23T15:27:47.173Z"
   },
   {
    "duration": 11,
    "start_time": "2023-02-23T15:27:47.182Z"
   },
   {
    "duration": 18,
    "start_time": "2023-02-23T15:27:47.195Z"
   },
   {
    "duration": 28,
    "start_time": "2023-02-23T15:27:47.215Z"
   },
   {
    "duration": 26,
    "start_time": "2023-02-23T15:27:47.246Z"
   },
   {
    "duration": 11,
    "start_time": "2023-02-23T15:27:47.274Z"
   },
   {
    "duration": 11,
    "start_time": "2023-02-23T15:27:47.287Z"
   },
   {
    "duration": 10,
    "start_time": "2023-02-23T15:27:47.300Z"
   },
   {
    "duration": 24,
    "start_time": "2023-02-23T15:27:47.312Z"
   },
   {
    "duration": 29,
    "start_time": "2023-02-23T15:27:47.339Z"
   },
   {
    "duration": 188,
    "start_time": "2023-02-23T15:27:47.371Z"
   },
   {
    "duration": 519,
    "start_time": "2023-02-23T15:27:47.560Z"
   },
   {
    "duration": 493,
    "start_time": "2023-02-23T15:31:48.702Z"
   },
   {
    "duration": 6,
    "start_time": "2023-02-23T15:35:44.906Z"
   },
   {
    "duration": 163,
    "start_time": "2023-02-23T15:35:53.384Z"
   },
   {
    "duration": 451,
    "start_time": "2023-02-23T15:36:02.799Z"
   },
   {
    "duration": 469,
    "start_time": "2023-02-23T15:36:32.641Z"
   },
   {
    "duration": 4,
    "start_time": "2023-02-23T15:37:06.388Z"
   },
   {
    "duration": 125,
    "start_time": "2023-02-23T15:37:06.395Z"
   },
   {
    "duration": 19,
    "start_time": "2023-02-23T15:37:06.522Z"
   },
   {
    "duration": 12,
    "start_time": "2023-02-23T15:37:06.544Z"
   },
   {
    "duration": 19,
    "start_time": "2023-02-23T15:37:06.559Z"
   },
   {
    "duration": 10,
    "start_time": "2023-02-23T15:37:06.580Z"
   },
   {
    "duration": 23,
    "start_time": "2023-02-23T15:37:06.592Z"
   },
   {
    "duration": 22,
    "start_time": "2023-02-23T15:37:06.617Z"
   },
   {
    "duration": 9,
    "start_time": "2023-02-23T15:37:06.641Z"
   },
   {
    "duration": 16,
    "start_time": "2023-02-23T15:37:06.652Z"
   },
   {
    "duration": 5,
    "start_time": "2023-02-23T15:37:06.671Z"
   },
   {
    "duration": 11,
    "start_time": "2023-02-23T15:37:06.678Z"
   },
   {
    "duration": 12,
    "start_time": "2023-02-23T15:37:06.691Z"
   },
   {
    "duration": 16,
    "start_time": "2023-02-23T15:37:06.705Z"
   },
   {
    "duration": 17,
    "start_time": "2023-02-23T15:37:06.723Z"
   },
   {
    "duration": 6,
    "start_time": "2023-02-23T15:37:06.743Z"
   },
   {
    "duration": 10,
    "start_time": "2023-02-23T15:37:06.751Z"
   },
   {
    "duration": 6,
    "start_time": "2023-02-23T15:37:06.763Z"
   },
   {
    "duration": 20,
    "start_time": "2023-02-23T15:37:06.771Z"
   },
   {
    "duration": 38,
    "start_time": "2023-02-23T15:37:06.793Z"
   },
   {
    "duration": 198,
    "start_time": "2023-02-23T15:37:06.833Z"
   },
   {
    "duration": 566,
    "start_time": "2023-02-23T15:37:07.034Z"
   },
   {
    "duration": 161,
    "start_time": "2023-02-23T15:37:21.052Z"
   },
   {
    "duration": 507,
    "start_time": "2023-02-23T15:37:22.700Z"
   },
   {
    "duration": 516,
    "start_time": "2023-02-23T15:37:42.374Z"
   },
   {
    "duration": 9,
    "start_time": "2023-02-23T16:03:55.387Z"
   },
   {
    "duration": 11,
    "start_time": "2023-02-23T16:22:17.687Z"
   },
   {
    "duration": 8,
    "start_time": "2023-02-23T16:25:42.170Z"
   },
   {
    "duration": 9,
    "start_time": "2023-02-23T16:25:50.159Z"
   },
   {
    "duration": 7,
    "start_time": "2023-02-23T16:26:02.421Z"
   },
   {
    "duration": 9,
    "start_time": "2023-02-23T16:26:10.038Z"
   },
   {
    "duration": 8,
    "start_time": "2023-02-23T16:39:23.678Z"
   },
   {
    "duration": 15,
    "start_time": "2023-02-23T16:39:41.648Z"
   },
   {
    "duration": 18,
    "start_time": "2023-02-23T16:51:46.862Z"
   },
   {
    "duration": 656,
    "start_time": "2023-02-23T16:55:21.544Z"
   },
   {
    "duration": 9,
    "start_time": "2023-02-23T16:55:34.121Z"
   },
   {
    "duration": 126,
    "start_time": "2023-02-23T16:55:34.140Z"
   },
   {
    "duration": 11,
    "start_time": "2023-02-23T16:55:34.269Z"
   },
   {
    "duration": 4,
    "start_time": "2023-02-23T16:55:34.282Z"
   },
   {
    "duration": 7,
    "start_time": "2023-02-23T16:55:34.288Z"
   },
   {
    "duration": 11,
    "start_time": "2023-02-23T16:55:34.297Z"
   },
   {
    "duration": 17,
    "start_time": "2023-02-23T16:55:34.309Z"
   },
   {
    "duration": 44,
    "start_time": "2023-02-23T16:55:34.328Z"
   },
   {
    "duration": 13,
    "start_time": "2023-02-23T16:55:34.373Z"
   },
   {
    "duration": 14,
    "start_time": "2023-02-23T16:55:34.390Z"
   },
   {
    "duration": 11,
    "start_time": "2023-02-23T16:55:34.408Z"
   },
   {
    "duration": 64,
    "start_time": "2023-02-23T16:55:34.421Z"
   },
   {
    "duration": 28,
    "start_time": "2023-02-23T16:55:34.487Z"
   },
   {
    "duration": 56,
    "start_time": "2023-02-23T16:55:34.517Z"
   },
   {
    "duration": 23,
    "start_time": "2023-02-23T16:55:34.575Z"
   },
   {
    "duration": 14,
    "start_time": "2023-02-23T16:55:34.600Z"
   },
   {
    "duration": 74,
    "start_time": "2023-02-23T16:55:34.616Z"
   },
   {
    "duration": 5,
    "start_time": "2023-02-23T16:55:34.693Z"
   },
   {
    "duration": 19,
    "start_time": "2023-02-23T16:55:34.700Z"
   },
   {
    "duration": 58,
    "start_time": "2023-02-23T16:55:34.724Z"
   },
   {
    "duration": 20,
    "start_time": "2023-02-23T16:55:34.784Z"
   },
   {
    "duration": 17,
    "start_time": "2023-02-23T16:55:34.806Z"
   },
   {
    "duration": 40,
    "start_time": "2023-02-23T16:55:34.825Z"
   },
   {
    "duration": 19,
    "start_time": "2023-02-23T16:55:34.867Z"
   },
   {
    "duration": 6,
    "start_time": "2023-02-23T16:55:34.887Z"
   },
   {
    "duration": 687,
    "start_time": "2023-02-23T16:55:34.895Z"
   },
   {
    "duration": 15,
    "start_time": "2023-02-23T16:56:33.940Z"
   },
   {
    "duration": 1324,
    "start_time": "2023-02-24T07:19:21.669Z"
   },
   {
    "duration": 247,
    "start_time": "2023-02-24T07:19:22.996Z"
   },
   {
    "duration": 11,
    "start_time": "2023-02-24T07:19:23.245Z"
   },
   {
    "duration": 8,
    "start_time": "2023-02-24T07:19:23.257Z"
   },
   {
    "duration": 11,
    "start_time": "2023-02-24T07:19:23.267Z"
   },
   {
    "duration": 13,
    "start_time": "2023-02-24T07:19:23.280Z"
   },
   {
    "duration": 11,
    "start_time": "2023-02-24T07:19:23.295Z"
   },
   {
    "duration": 425,
    "start_time": "2023-02-24T07:19:23.307Z"
   },
   {
    "duration": 0,
    "start_time": "2023-02-24T07:19:23.734Z"
   },
   {
    "duration": 0,
    "start_time": "2023-02-24T07:19:23.736Z"
   },
   {
    "duration": 0,
    "start_time": "2023-02-24T07:19:23.737Z"
   },
   {
    "duration": 0,
    "start_time": "2023-02-24T07:19:23.738Z"
   },
   {
    "duration": 0,
    "start_time": "2023-02-24T07:19:23.739Z"
   },
   {
    "duration": 0,
    "start_time": "2023-02-24T07:19:23.741Z"
   },
   {
    "duration": 0,
    "start_time": "2023-02-24T07:19:23.742Z"
   },
   {
    "duration": 0,
    "start_time": "2023-02-24T07:19:23.743Z"
   },
   {
    "duration": 0,
    "start_time": "2023-02-24T07:19:23.744Z"
   },
   {
    "duration": 0,
    "start_time": "2023-02-24T07:19:23.745Z"
   },
   {
    "duration": 0,
    "start_time": "2023-02-24T07:19:23.747Z"
   },
   {
    "duration": 0,
    "start_time": "2023-02-24T07:19:23.748Z"
   },
   {
    "duration": 0,
    "start_time": "2023-02-24T07:19:23.749Z"
   },
   {
    "duration": 0,
    "start_time": "2023-02-24T07:19:23.749Z"
   },
   {
    "duration": 0,
    "start_time": "2023-02-24T07:19:23.750Z"
   },
   {
    "duration": 0,
    "start_time": "2023-02-24T07:19:23.751Z"
   },
   {
    "duration": 0,
    "start_time": "2023-02-24T07:19:23.753Z"
   },
   {
    "duration": 0,
    "start_time": "2023-02-24T07:19:23.754Z"
   },
   {
    "duration": 0,
    "start_time": "2023-02-24T07:19:23.755Z"
   },
   {
    "duration": 3,
    "start_time": "2023-02-24T07:19:45.631Z"
   },
   {
    "duration": 85,
    "start_time": "2023-02-24T07:19:45.636Z"
   },
   {
    "duration": 10,
    "start_time": "2023-02-24T07:19:45.723Z"
   },
   {
    "duration": 5,
    "start_time": "2023-02-24T07:19:45.734Z"
   },
   {
    "duration": 6,
    "start_time": "2023-02-24T07:19:45.742Z"
   },
   {
    "duration": 9,
    "start_time": "2023-02-24T07:19:45.749Z"
   },
   {
    "duration": 11,
    "start_time": "2023-02-24T07:19:45.760Z"
   },
   {
    "duration": 302,
    "start_time": "2023-02-24T07:19:45.773Z"
   },
   {
    "duration": 0,
    "start_time": "2023-02-24T07:19:46.076Z"
   },
   {
    "duration": 0,
    "start_time": "2023-02-24T07:19:46.078Z"
   },
   {
    "duration": 0,
    "start_time": "2023-02-24T07:19:46.079Z"
   },
   {
    "duration": 0,
    "start_time": "2023-02-24T07:19:46.080Z"
   },
   {
    "duration": 0,
    "start_time": "2023-02-24T07:19:46.081Z"
   },
   {
    "duration": 0,
    "start_time": "2023-02-24T07:19:46.082Z"
   },
   {
    "duration": 0,
    "start_time": "2023-02-24T07:19:46.083Z"
   },
   {
    "duration": 0,
    "start_time": "2023-02-24T07:19:46.084Z"
   },
   {
    "duration": 0,
    "start_time": "2023-02-24T07:19:46.085Z"
   },
   {
    "duration": 0,
    "start_time": "2023-02-24T07:19:46.086Z"
   },
   {
    "duration": 0,
    "start_time": "2023-02-24T07:19:46.087Z"
   },
   {
    "duration": 0,
    "start_time": "2023-02-24T07:19:46.088Z"
   },
   {
    "duration": 0,
    "start_time": "2023-02-24T07:19:46.089Z"
   },
   {
    "duration": 0,
    "start_time": "2023-02-24T07:19:46.089Z"
   },
   {
    "duration": 0,
    "start_time": "2023-02-24T07:19:46.090Z"
   },
   {
    "duration": 0,
    "start_time": "2023-02-24T07:19:46.091Z"
   },
   {
    "duration": 0,
    "start_time": "2023-02-24T07:19:46.092Z"
   },
   {
    "duration": 0,
    "start_time": "2023-02-24T07:19:46.093Z"
   },
   {
    "duration": 0,
    "start_time": "2023-02-24T07:19:46.094Z"
   },
   {
    "duration": 276,
    "start_time": "2023-02-24T07:19:54.788Z"
   },
   {
    "duration": 281,
    "start_time": "2023-02-24T07:21:19.125Z"
   },
   {
    "duration": 4,
    "start_time": "2023-02-24T07:22:56.822Z"
   },
   {
    "duration": 81,
    "start_time": "2023-02-24T07:22:56.828Z"
   },
   {
    "duration": 10,
    "start_time": "2023-02-24T07:22:56.911Z"
   },
   {
    "duration": 31,
    "start_time": "2023-02-24T07:22:56.922Z"
   },
   {
    "duration": 20,
    "start_time": "2023-02-24T07:22:56.956Z"
   },
   {
    "duration": 34,
    "start_time": "2023-02-24T07:22:56.979Z"
   },
   {
    "duration": 20,
    "start_time": "2023-02-24T07:22:57.014Z"
   },
   {
    "duration": 322,
    "start_time": "2023-02-24T07:22:57.036Z"
   },
   {
    "duration": 0,
    "start_time": "2023-02-24T07:22:57.359Z"
   },
   {
    "duration": 0,
    "start_time": "2023-02-24T07:22:57.361Z"
   },
   {
    "duration": 0,
    "start_time": "2023-02-24T07:22:57.362Z"
   },
   {
    "duration": 0,
    "start_time": "2023-02-24T07:22:57.363Z"
   },
   {
    "duration": 0,
    "start_time": "2023-02-24T07:22:57.364Z"
   },
   {
    "duration": 0,
    "start_time": "2023-02-24T07:22:57.365Z"
   },
   {
    "duration": 0,
    "start_time": "2023-02-24T07:22:57.366Z"
   },
   {
    "duration": 0,
    "start_time": "2023-02-24T07:22:57.367Z"
   },
   {
    "duration": 0,
    "start_time": "2023-02-24T07:22:57.368Z"
   },
   {
    "duration": 0,
    "start_time": "2023-02-24T07:22:57.369Z"
   },
   {
    "duration": 0,
    "start_time": "2023-02-24T07:22:57.370Z"
   },
   {
    "duration": 0,
    "start_time": "2023-02-24T07:22:57.371Z"
   },
   {
    "duration": 0,
    "start_time": "2023-02-24T07:22:57.372Z"
   },
   {
    "duration": 0,
    "start_time": "2023-02-24T07:22:57.373Z"
   },
   {
    "duration": 0,
    "start_time": "2023-02-24T07:22:57.374Z"
   },
   {
    "duration": 0,
    "start_time": "2023-02-24T07:22:57.375Z"
   },
   {
    "duration": 0,
    "start_time": "2023-02-24T07:22:57.376Z"
   },
   {
    "duration": 0,
    "start_time": "2023-02-24T07:22:57.377Z"
   },
   {
    "duration": 0,
    "start_time": "2023-02-24T07:22:57.378Z"
   },
   {
    "duration": 261,
    "start_time": "2023-02-24T07:23:00.854Z"
   },
   {
    "duration": 296,
    "start_time": "2023-02-24T07:23:42.645Z"
   },
   {
    "duration": 292,
    "start_time": "2023-02-24T07:23:56.275Z"
   },
   {
    "duration": 10,
    "start_time": "2023-02-24T07:24:10.780Z"
   },
   {
    "duration": 4,
    "start_time": "2023-02-24T07:24:42.284Z"
   },
   {
    "duration": 83,
    "start_time": "2023-02-24T07:24:42.291Z"
   },
   {
    "duration": 10,
    "start_time": "2023-02-24T07:24:42.376Z"
   },
   {
    "duration": 4,
    "start_time": "2023-02-24T07:24:42.388Z"
   },
   {
    "duration": 7,
    "start_time": "2023-02-24T07:24:42.394Z"
   },
   {
    "duration": 8,
    "start_time": "2023-02-24T07:24:42.403Z"
   },
   {
    "duration": 11,
    "start_time": "2023-02-24T07:24:42.413Z"
   },
   {
    "duration": 6,
    "start_time": "2023-02-24T07:24:42.425Z"
   },
   {
    "duration": 5,
    "start_time": "2023-02-24T07:24:42.432Z"
   },
   {
    "duration": 5,
    "start_time": "2023-02-24T07:24:42.438Z"
   },
   {
    "duration": 7,
    "start_time": "2023-02-24T07:24:42.445Z"
   },
   {
    "duration": 4,
    "start_time": "2023-02-24T07:24:42.453Z"
   },
   {
    "duration": 38,
    "start_time": "2023-02-24T07:24:42.459Z"
   },
   {
    "duration": 9,
    "start_time": "2023-02-24T07:24:42.500Z"
   },
   {
    "duration": 10,
    "start_time": "2023-02-24T07:24:42.511Z"
   },
   {
    "duration": 6,
    "start_time": "2023-02-24T07:24:42.522Z"
   },
   {
    "duration": 7,
    "start_time": "2023-02-24T07:24:42.529Z"
   },
   {
    "duration": 6,
    "start_time": "2023-02-24T07:24:42.537Z"
   },
   {
    "duration": 14,
    "start_time": "2023-02-24T07:24:42.544Z"
   },
   {
    "duration": 37,
    "start_time": "2023-02-24T07:24:42.559Z"
   },
   {
    "duration": 8,
    "start_time": "2023-02-24T07:24:42.598Z"
   },
   {
    "duration": 10,
    "start_time": "2023-02-24T07:24:42.608Z"
   },
   {
    "duration": 12,
    "start_time": "2023-02-24T07:24:42.620Z"
   },
   {
    "duration": 15,
    "start_time": "2023-02-24T07:24:42.634Z"
   },
   {
    "duration": 3,
    "start_time": "2023-02-24T07:24:42.651Z"
   },
   {
    "duration": 482,
    "start_time": "2023-02-24T07:24:42.656Z"
   },
   {
    "duration": 469,
    "start_time": "2023-02-24T07:24:56.725Z"
   },
   {
    "duration": 289,
    "start_time": "2023-02-24T07:25:50.085Z"
   },
   {
    "duration": 305,
    "start_time": "2023-02-24T07:26:07.410Z"
   },
   {
    "duration": 299,
    "start_time": "2023-02-24T07:26:16.759Z"
   },
   {
    "duration": 3,
    "start_time": "2023-02-24T07:26:21.220Z"
   },
   {
    "duration": 83,
    "start_time": "2023-02-24T07:26:21.226Z"
   },
   {
    "duration": 11,
    "start_time": "2023-02-24T07:26:21.310Z"
   },
   {
    "duration": 6,
    "start_time": "2023-02-24T07:26:21.322Z"
   },
   {
    "duration": 7,
    "start_time": "2023-02-24T07:26:21.330Z"
   },
   {
    "duration": 12,
    "start_time": "2023-02-24T07:26:21.338Z"
   },
   {
    "duration": 10,
    "start_time": "2023-02-24T07:26:21.351Z"
   },
   {
    "duration": 290,
    "start_time": "2023-02-24T07:26:21.363Z"
   },
   {
    "duration": 0,
    "start_time": "2023-02-24T07:26:21.655Z"
   },
   {
    "duration": 0,
    "start_time": "2023-02-24T07:26:21.657Z"
   },
   {
    "duration": 0,
    "start_time": "2023-02-24T07:26:21.658Z"
   },
   {
    "duration": 1,
    "start_time": "2023-02-24T07:26:21.659Z"
   },
   {
    "duration": 0,
    "start_time": "2023-02-24T07:26:21.661Z"
   },
   {
    "duration": 0,
    "start_time": "2023-02-24T07:26:21.662Z"
   },
   {
    "duration": 0,
    "start_time": "2023-02-24T07:26:21.664Z"
   },
   {
    "duration": 0,
    "start_time": "2023-02-24T07:26:21.665Z"
   },
   {
    "duration": 0,
    "start_time": "2023-02-24T07:26:21.666Z"
   },
   {
    "duration": 0,
    "start_time": "2023-02-24T07:26:21.668Z"
   },
   {
    "duration": 0,
    "start_time": "2023-02-24T07:26:21.669Z"
   },
   {
    "duration": 0,
    "start_time": "2023-02-24T07:26:21.670Z"
   },
   {
    "duration": 0,
    "start_time": "2023-02-24T07:26:21.672Z"
   },
   {
    "duration": 0,
    "start_time": "2023-02-24T07:26:21.673Z"
   },
   {
    "duration": 0,
    "start_time": "2023-02-24T07:26:21.675Z"
   },
   {
    "duration": 0,
    "start_time": "2023-02-24T07:26:21.676Z"
   },
   {
    "duration": 0,
    "start_time": "2023-02-24T07:26:21.678Z"
   },
   {
    "duration": 0,
    "start_time": "2023-02-24T07:26:21.680Z"
   },
   {
    "duration": 0,
    "start_time": "2023-02-24T07:26:21.681Z"
   },
   {
    "duration": 253,
    "start_time": "2023-02-24T07:26:26.763Z"
   },
   {
    "duration": 14,
    "start_time": "2023-02-24T07:29:45.153Z"
   },
   {
    "duration": 475,
    "start_time": "2023-02-24T07:30:10.687Z"
   },
   {
    "duration": 3,
    "start_time": "2023-02-24T07:30:58.806Z"
   },
   {
    "duration": 83,
    "start_time": "2023-02-24T07:30:59.632Z"
   },
   {
    "duration": 10,
    "start_time": "2023-02-24T07:31:00.226Z"
   },
   {
    "duration": 11,
    "start_time": "2023-02-24T07:31:09.268Z"
   },
   {
    "duration": 11,
    "start_time": "2023-02-24T07:31:20.225Z"
   },
   {
    "duration": 452,
    "start_time": "2023-02-24T07:31:30.076Z"
   },
   {
    "duration": 4,
    "start_time": "2023-02-24T07:31:36.408Z"
   },
   {
    "duration": 82,
    "start_time": "2023-02-24T07:31:36.414Z"
   },
   {
    "duration": 12,
    "start_time": "2023-02-24T07:31:36.498Z"
   },
   {
    "duration": 3,
    "start_time": "2023-02-24T07:31:36.512Z"
   },
   {
    "duration": 11,
    "start_time": "2023-02-24T07:31:36.518Z"
   },
   {
    "duration": 11,
    "start_time": "2023-02-24T07:31:36.531Z"
   },
   {
    "duration": 16,
    "start_time": "2023-02-24T07:31:36.544Z"
   },
   {
    "duration": 29,
    "start_time": "2023-02-24T07:31:36.562Z"
   },
   {
    "duration": 9,
    "start_time": "2023-02-24T07:31:36.593Z"
   },
   {
    "duration": 9,
    "start_time": "2023-02-24T07:31:36.604Z"
   },
   {
    "duration": 3,
    "start_time": "2023-02-24T07:31:36.614Z"
   },
   {
    "duration": 5,
    "start_time": "2023-02-24T07:31:36.619Z"
   },
   {
    "duration": 6,
    "start_time": "2023-02-24T07:31:36.625Z"
   },
   {
    "duration": 11,
    "start_time": "2023-02-24T07:31:36.633Z"
   },
   {
    "duration": 7,
    "start_time": "2023-02-24T07:31:36.645Z"
   },
   {
    "duration": 9,
    "start_time": "2023-02-24T07:31:36.653Z"
   },
   {
    "duration": 37,
    "start_time": "2023-02-24T07:31:36.663Z"
   },
   {
    "duration": 6,
    "start_time": "2023-02-24T07:31:36.702Z"
   },
   {
    "duration": 8,
    "start_time": "2023-02-24T07:31:36.709Z"
   },
   {
    "duration": 10,
    "start_time": "2023-02-24T07:31:36.718Z"
   },
   {
    "duration": 15,
    "start_time": "2023-02-24T07:31:36.729Z"
   },
   {
    "duration": 10,
    "start_time": "2023-02-24T07:31:36.745Z"
   },
   {
    "duration": 10,
    "start_time": "2023-02-24T07:31:36.756Z"
   },
   {
    "duration": 28,
    "start_time": "2023-02-24T07:31:36.768Z"
   },
   {
    "duration": 12,
    "start_time": "2023-02-24T07:31:36.797Z"
   },
   {
    "duration": 14,
    "start_time": "2023-02-24T07:31:36.811Z"
   },
   {
    "duration": 4,
    "start_time": "2023-02-24T07:31:36.826Z"
   },
   {
    "duration": 487,
    "start_time": "2023-02-24T07:31:36.831Z"
   },
   {
    "duration": 5,
    "start_time": "2023-02-24T07:45:30.174Z"
   },
   {
    "duration": 11,
    "start_time": "2023-02-24T07:45:41.249Z"
   },
   {
    "duration": 3,
    "start_time": "2023-02-24T07:46:36.512Z"
   },
   {
    "duration": 87,
    "start_time": "2023-02-24T07:46:36.518Z"
   },
   {
    "duration": 9,
    "start_time": "2023-02-24T07:46:36.606Z"
   },
   {
    "duration": 5,
    "start_time": "2023-02-24T07:46:36.616Z"
   },
   {
    "duration": 8,
    "start_time": "2023-02-24T07:46:36.623Z"
   },
   {
    "duration": 10,
    "start_time": "2023-02-24T07:46:36.632Z"
   },
   {
    "duration": 13,
    "start_time": "2023-02-24T07:46:36.643Z"
   },
   {
    "duration": 10,
    "start_time": "2023-02-24T07:46:36.657Z"
   },
   {
    "duration": 24,
    "start_time": "2023-02-24T07:46:36.668Z"
   },
   {
    "duration": 5,
    "start_time": "2023-02-24T07:46:36.693Z"
   },
   {
    "duration": 4,
    "start_time": "2023-02-24T07:46:36.699Z"
   },
   {
    "duration": 6,
    "start_time": "2023-02-24T07:46:36.704Z"
   },
   {
    "duration": 6,
    "start_time": "2023-02-24T07:46:36.711Z"
   },
   {
    "duration": 6,
    "start_time": "2023-02-24T07:46:36.721Z"
   },
   {
    "duration": 8,
    "start_time": "2023-02-24T07:46:36.729Z"
   },
   {
    "duration": 10,
    "start_time": "2023-02-24T07:46:36.739Z"
   },
   {
    "duration": 5,
    "start_time": "2023-02-24T07:46:36.750Z"
   },
   {
    "duration": 40,
    "start_time": "2023-02-24T07:46:36.756Z"
   },
   {
    "duration": 4,
    "start_time": "2023-02-24T07:46:36.798Z"
   },
   {
    "duration": 5,
    "start_time": "2023-02-24T07:46:36.804Z"
   },
   {
    "duration": 7,
    "start_time": "2023-02-24T07:46:36.811Z"
   },
   {
    "duration": 14,
    "start_time": "2023-02-24T07:46:36.819Z"
   },
   {
    "duration": 10,
    "start_time": "2023-02-24T07:46:36.835Z"
   },
   {
    "duration": 9,
    "start_time": "2023-02-24T07:46:36.846Z"
   },
   {
    "duration": 9,
    "start_time": "2023-02-24T07:46:36.856Z"
   },
   {
    "duration": 38,
    "start_time": "2023-02-24T07:46:36.866Z"
   },
   {
    "duration": 16,
    "start_time": "2023-02-24T07:46:36.905Z"
   },
   {
    "duration": 15,
    "start_time": "2023-02-24T07:46:36.923Z"
   },
   {
    "duration": 282,
    "start_time": "2023-02-24T07:46:36.940Z"
   },
   {
    "duration": 276,
    "start_time": "2023-02-24T07:46:41.596Z"
   },
   {
    "duration": 1379,
    "start_time": "2023-02-24T10:08:37.779Z"
   },
   {
    "duration": 193,
    "start_time": "2023-02-24T10:08:39.160Z"
   },
   {
    "duration": 13,
    "start_time": "2023-02-24T10:08:39.354Z"
   },
   {
    "duration": 11,
    "start_time": "2023-02-24T10:08:39.369Z"
   },
   {
    "duration": 11,
    "start_time": "2023-02-24T10:08:39.382Z"
   },
   {
    "duration": 13,
    "start_time": "2023-02-24T10:08:39.394Z"
   },
   {
    "duration": 12,
    "start_time": "2023-02-24T10:08:39.409Z"
   },
   {
    "duration": 18,
    "start_time": "2023-02-24T10:08:39.423Z"
   },
   {
    "duration": 22,
    "start_time": "2023-02-24T10:08:39.442Z"
   },
   {
    "duration": 11,
    "start_time": "2023-02-24T10:08:39.466Z"
   },
   {
    "duration": 9,
    "start_time": "2023-02-24T10:08:39.479Z"
   },
   {
    "duration": 11,
    "start_time": "2023-02-24T10:08:39.490Z"
   },
   {
    "duration": 17,
    "start_time": "2023-02-24T10:08:39.503Z"
   },
   {
    "duration": 4,
    "start_time": "2023-02-24T10:08:39.524Z"
   },
   {
    "duration": 13,
    "start_time": "2023-02-24T10:08:39.530Z"
   },
   {
    "duration": 18,
    "start_time": "2023-02-24T10:08:39.546Z"
   },
   {
    "duration": 12,
    "start_time": "2023-02-24T10:08:39.566Z"
   },
   {
    "duration": 25,
    "start_time": "2023-02-24T10:08:39.580Z"
   },
   {
    "duration": 12,
    "start_time": "2023-02-24T10:08:39.607Z"
   },
   {
    "duration": 30,
    "start_time": "2023-02-24T10:08:39.621Z"
   },
   {
    "duration": 12,
    "start_time": "2023-02-24T10:08:39.653Z"
   },
   {
    "duration": 18,
    "start_time": "2023-02-24T10:08:39.667Z"
   },
   {
    "duration": 12,
    "start_time": "2023-02-24T10:08:39.686Z"
   },
   {
    "duration": 13,
    "start_time": "2023-02-24T10:08:39.699Z"
   },
   {
    "duration": 12,
    "start_time": "2023-02-24T10:08:39.714Z"
   },
   {
    "duration": 14,
    "start_time": "2023-02-24T10:08:39.728Z"
   },
   {
    "duration": 20,
    "start_time": "2023-02-24T10:08:39.744Z"
   },
   {
    "duration": 33,
    "start_time": "2023-02-24T10:08:39.767Z"
   },
   {
    "duration": 309,
    "start_time": "2023-02-24T10:08:39.801Z"
   },
   {
    "duration": 282,
    "start_time": "2023-02-24T10:13:14.340Z"
   },
   {
    "duration": 229,
    "start_time": "2023-02-24T10:13:21.647Z"
   },
   {
    "duration": 191,
    "start_time": "2023-02-24T10:13:28.932Z"
   },
   {
    "duration": 5,
    "start_time": "2023-02-24T10:20:12.625Z"
   },
   {
    "duration": 10,
    "start_time": "2023-02-24T10:21:03.050Z"
   },
   {
    "duration": 10,
    "start_time": "2023-02-24T10:22:38.882Z"
   },
   {
    "duration": 8,
    "start_time": "2023-02-24T10:22:44.830Z"
   },
   {
    "duration": 16,
    "start_time": "2023-02-24T10:24:11.444Z"
   },
   {
    "duration": 19,
    "start_time": "2023-02-24T10:24:20.914Z"
   },
   {
    "duration": 4,
    "start_time": "2023-02-24T10:27:12.560Z"
   },
   {
    "duration": 4,
    "start_time": "2023-02-24T10:27:26.941Z"
   },
   {
    "duration": 242,
    "start_time": "2023-02-24T10:35:05.639Z"
   },
   {
    "duration": 208,
    "start_time": "2023-02-24T10:36:07.440Z"
   },
   {
    "duration": 256,
    "start_time": "2023-02-24T10:36:15.826Z"
   },
   {
    "duration": 208,
    "start_time": "2023-02-24T10:36:21.122Z"
   },
   {
    "duration": 355,
    "start_time": "2023-02-24T10:36:45.558Z"
   },
   {
    "duration": 273,
    "start_time": "2023-02-24T10:36:57.327Z"
   },
   {
    "duration": 228,
    "start_time": "2023-02-24T10:37:08.938Z"
   },
   {
    "duration": 207,
    "start_time": "2023-02-24T10:37:17.461Z"
   },
   {
    "duration": 337,
    "start_time": "2023-02-24T10:40:57.425Z"
   },
   {
    "duration": 231,
    "start_time": "2023-02-24T10:41:11.054Z"
   },
   {
    "duration": 262,
    "start_time": "2023-02-24T10:41:34.324Z"
   },
   {
    "duration": 276,
    "start_time": "2023-02-24T10:41:55.492Z"
   },
   {
    "duration": 269,
    "start_time": "2023-02-24T10:42:11.731Z"
   },
   {
    "duration": 291,
    "start_time": "2023-02-24T10:43:02.280Z"
   },
   {
    "duration": 343,
    "start_time": "2023-02-24T10:51:25.227Z"
   },
   {
    "duration": 333,
    "start_time": "2023-02-24T10:51:33.431Z"
   },
   {
    "duration": 322,
    "start_time": "2023-02-24T11:00:01.917Z"
   },
   {
    "duration": 242,
    "start_time": "2023-02-24T11:00:08.953Z"
   },
   {
    "duration": 327,
    "start_time": "2023-02-24T14:52:36.976Z"
   },
   {
    "duration": 278,
    "start_time": "2023-02-24T14:52:54.626Z"
   },
   {
    "duration": 8,
    "start_time": "2023-02-24T14:59:06.207Z"
   },
   {
    "duration": 127,
    "start_time": "2023-02-24T14:59:16.415Z"
   },
   {
    "duration": 131,
    "start_time": "2023-02-24T15:00:05.855Z"
   },
   {
    "duration": 149,
    "start_time": "2023-02-24T15:01:42.453Z"
   },
   {
    "duration": 43,
    "start_time": "2023-02-24T15:06:51.947Z"
   },
   {
    "duration": 5,
    "start_time": "2023-02-24T15:07:33.120Z"
   },
   {
    "duration": 6,
    "start_time": "2023-02-24T15:12:08.757Z"
   },
   {
    "duration": 167,
    "start_time": "2023-02-24T15:14:16.969Z"
   },
   {
    "duration": 143,
    "start_time": "2023-02-24T15:20:44.903Z"
   },
   {
    "duration": 4,
    "start_time": "2023-02-24T15:25:25.399Z"
   },
   {
    "duration": 8,
    "start_time": "2023-02-24T15:45:35.867Z"
   },
   {
    "duration": 8,
    "start_time": "2023-02-24T15:45:44.878Z"
   },
   {
    "duration": 209,
    "start_time": "2023-02-24T15:46:18.410Z"
   },
   {
    "duration": 212,
    "start_time": "2023-02-24T15:46:21.506Z"
   },
   {
    "duration": 46,
    "start_time": "2023-02-24T15:47:19.209Z"
   },
   {
    "duration": 28,
    "start_time": "2023-02-24T15:48:09.981Z"
   },
   {
    "duration": 28,
    "start_time": "2023-02-24T15:48:21.743Z"
   },
   {
    "duration": 154,
    "start_time": "2023-02-24T16:30:57.933Z"
   },
   {
    "duration": 46,
    "start_time": "2023-02-24T16:46:52.132Z"
   },
   {
    "duration": 12,
    "start_time": "2023-02-24T16:49:04.073Z"
   },
   {
    "duration": 9,
    "start_time": "2023-02-24T16:55:07.324Z"
   },
   {
    "duration": 8,
    "start_time": "2023-02-24T16:57:24.658Z"
   },
   {
    "duration": 20,
    "start_time": "2023-02-24T17:00:32.572Z"
   },
   {
    "duration": 14,
    "start_time": "2023-02-24T17:08:59.530Z"
   },
   {
    "duration": 1276,
    "start_time": "2023-02-25T09:30:28.226Z"
   },
   {
    "duration": 233,
    "start_time": "2023-02-25T09:30:29.503Z"
   },
   {
    "duration": 11,
    "start_time": "2023-02-25T09:30:29.738Z"
   },
   {
    "duration": 6,
    "start_time": "2023-02-25T09:30:29.750Z"
   },
   {
    "duration": 8,
    "start_time": "2023-02-25T09:30:29.757Z"
   },
   {
    "duration": 13,
    "start_time": "2023-02-25T09:30:29.766Z"
   },
   {
    "duration": 10,
    "start_time": "2023-02-25T09:30:29.780Z"
   },
   {
    "duration": 15,
    "start_time": "2023-02-25T09:30:29.791Z"
   },
   {
    "duration": 12,
    "start_time": "2023-02-25T09:30:29.807Z"
   },
   {
    "duration": 8,
    "start_time": "2023-02-25T09:30:29.820Z"
   },
   {
    "duration": 5,
    "start_time": "2023-02-25T09:30:29.829Z"
   },
   {
    "duration": 5,
    "start_time": "2023-02-25T09:30:29.835Z"
   },
   {
    "duration": 7,
    "start_time": "2023-02-25T09:30:29.842Z"
   },
   {
    "duration": 5,
    "start_time": "2023-02-25T09:30:29.852Z"
   },
   {
    "duration": 11,
    "start_time": "2023-02-25T09:30:29.859Z"
   },
   {
    "duration": 16,
    "start_time": "2023-02-25T09:30:29.871Z"
   },
   {
    "duration": 4,
    "start_time": "2023-02-25T09:30:29.904Z"
   },
   {
    "duration": 17,
    "start_time": "2023-02-25T09:30:29.909Z"
   },
   {
    "duration": 8,
    "start_time": "2023-02-25T09:30:29.927Z"
   },
   {
    "duration": 7,
    "start_time": "2023-02-25T09:30:29.936Z"
   },
   {
    "duration": 7,
    "start_time": "2023-02-25T09:30:29.944Z"
   },
   {
    "duration": 15,
    "start_time": "2023-02-25T09:30:29.953Z"
   },
   {
    "duration": 10,
    "start_time": "2023-02-25T09:30:29.969Z"
   },
   {
    "duration": 30,
    "start_time": "2023-02-25T09:30:29.980Z"
   },
   {
    "duration": 12,
    "start_time": "2023-02-25T09:30:30.012Z"
   },
   {
    "duration": 14,
    "start_time": "2023-02-25T09:30:30.026Z"
   },
   {
    "duration": 20,
    "start_time": "2023-02-25T09:30:30.042Z"
   },
   {
    "duration": 26,
    "start_time": "2023-02-25T09:30:30.063Z"
   },
   {
    "duration": 363,
    "start_time": "2023-02-25T09:30:30.091Z"
   },
   {
    "duration": 286,
    "start_time": "2023-02-25T09:30:30.456Z"
   },
   {
    "duration": 9,
    "start_time": "2023-02-25T09:30:30.744Z"
   },
   {
    "duration": 35,
    "start_time": "2023-02-25T09:30:30.755Z"
   },
   {
    "duration": 196,
    "start_time": "2023-02-25T09:30:30.792Z"
   },
   {
    "duration": 394,
    "start_time": "2023-02-25T09:30:30.990Z"
   },
   {
    "duration": 220,
    "start_time": "2023-02-25T09:30:31.386Z"
   },
   {
    "duration": 304,
    "start_time": "2023-02-25T09:30:31.608Z"
   },
   {
    "duration": 8,
    "start_time": "2023-02-25T09:30:31.914Z"
   },
   {
    "duration": 155,
    "start_time": "2023-02-25T09:30:31.924Z"
   },
   {
    "duration": 171,
    "start_time": "2023-02-25T09:30:32.081Z"
   },
   {
    "duration": 4,
    "start_time": "2023-02-25T09:30:32.254Z"
   },
   {
    "duration": 167,
    "start_time": "2023-02-25T09:30:32.261Z"
   },
   {
    "duration": 221,
    "start_time": "2023-02-25T09:30:32.429Z"
   },
   {
    "duration": 4,
    "start_time": "2023-02-25T09:30:32.651Z"
   },
   {
    "duration": 10,
    "start_time": "2023-02-25T09:30:32.657Z"
   },
   {
    "duration": 17,
    "start_time": "2023-02-25T09:30:32.668Z"
   },
   {
    "duration": 217,
    "start_time": "2023-02-25T09:30:32.687Z"
   },
   {
    "duration": 28,
    "start_time": "2023-02-25T09:30:32.906Z"
   },
   {
    "duration": 176,
    "start_time": "2023-02-25T09:30:32.935Z"
   },
   {
    "duration": 12,
    "start_time": "2023-02-25T09:30:33.113Z"
   },
   {
    "duration": 13,
    "start_time": "2023-02-25T09:30:33.127Z"
   },
   {
    "duration": 67,
    "start_time": "2023-02-25T09:30:33.142Z"
   },
   {
    "duration": 24,
    "start_time": "2023-02-25T09:30:33.211Z"
   },
   {
    "duration": 13,
    "start_time": "2023-02-25T09:30:33.237Z"
   },
   {
    "duration": 14,
    "start_time": "2023-02-25T09:32:16.339Z"
   },
   {
    "duration": 12,
    "start_time": "2023-02-25T09:32:24.526Z"
   },
   {
    "duration": 99,
    "start_time": "2023-02-25T09:33:02.639Z"
   },
   {
    "duration": 12,
    "start_time": "2023-02-25T09:33:29.912Z"
   },
   {
    "duration": 23,
    "start_time": "2023-02-25T09:41:14.203Z"
   },
   {
    "duration": 17,
    "start_time": "2023-02-25T09:44:02.649Z"
   },
   {
    "duration": 73,
    "start_time": "2023-02-25T10:18:19.128Z"
   },
   {
    "duration": 4,
    "start_time": "2023-02-25T10:41:29.638Z"
   },
   {
    "duration": 4,
    "start_time": "2023-02-25T10:43:57.859Z"
   },
   {
    "duration": 5,
    "start_time": "2023-02-25T10:44:08.305Z"
   },
   {
    "duration": 6,
    "start_time": "2023-02-25T10:46:58.107Z"
   },
   {
    "duration": 12,
    "start_time": "2023-02-25T10:47:09.840Z"
   },
   {
    "duration": 11,
    "start_time": "2023-02-25T10:47:20.217Z"
   },
   {
    "duration": 23,
    "start_time": "2023-02-25T10:48:41.951Z"
   },
   {
    "duration": 146,
    "start_time": "2023-02-25T10:52:48.422Z"
   },
   {
    "duration": 136,
    "start_time": "2023-02-25T10:52:56.018Z"
   },
   {
    "duration": 3,
    "start_time": "2023-02-25T10:59:09.835Z"
   },
   {
    "duration": 80,
    "start_time": "2023-02-25T10:59:09.840Z"
   },
   {
    "duration": 10,
    "start_time": "2023-02-25T10:59:09.922Z"
   },
   {
    "duration": 6,
    "start_time": "2023-02-25T10:59:09.934Z"
   },
   {
    "duration": 13,
    "start_time": "2023-02-25T10:59:09.941Z"
   },
   {
    "duration": 12,
    "start_time": "2023-02-25T10:59:09.955Z"
   },
   {
    "duration": 14,
    "start_time": "2023-02-25T10:59:09.968Z"
   },
   {
    "duration": 26,
    "start_time": "2023-02-25T10:59:09.984Z"
   },
   {
    "duration": 21,
    "start_time": "2023-02-25T10:59:10.013Z"
   },
   {
    "duration": 14,
    "start_time": "2023-02-25T10:59:10.036Z"
   },
   {
    "duration": 11,
    "start_time": "2023-02-25T10:59:10.052Z"
   },
   {
    "duration": 15,
    "start_time": "2023-02-25T10:59:10.065Z"
   },
   {
    "duration": 8,
    "start_time": "2023-02-25T10:59:10.081Z"
   },
   {
    "duration": 12,
    "start_time": "2023-02-25T10:59:10.091Z"
   },
   {
    "duration": 7,
    "start_time": "2023-02-25T10:59:10.105Z"
   },
   {
    "duration": 13,
    "start_time": "2023-02-25T10:59:10.114Z"
   },
   {
    "duration": 11,
    "start_time": "2023-02-25T10:59:10.128Z"
   },
   {
    "duration": 12,
    "start_time": "2023-02-25T10:59:10.141Z"
   },
   {
    "duration": 10,
    "start_time": "2023-02-25T10:59:10.154Z"
   },
   {
    "duration": 6,
    "start_time": "2023-02-25T10:59:10.165Z"
   },
   {
    "duration": 34,
    "start_time": "2023-02-25T10:59:10.173Z"
   },
   {
    "duration": 20,
    "start_time": "2023-02-25T10:59:10.210Z"
   },
   {
    "duration": 16,
    "start_time": "2023-02-25T10:59:10.231Z"
   },
   {
    "duration": 6,
    "start_time": "2023-02-25T10:59:10.251Z"
   },
   {
    "duration": 12,
    "start_time": "2023-02-25T10:59:10.259Z"
   },
   {
    "duration": 9,
    "start_time": "2023-02-25T10:59:10.273Z"
   },
   {
    "duration": 25,
    "start_time": "2023-02-25T10:59:10.284Z"
   },
   {
    "duration": 153,
    "start_time": "2023-02-25T10:59:10.311Z"
   },
   {
    "duration": 8,
    "start_time": "2023-02-25T10:59:10.467Z"
   },
   {
    "duration": 10,
    "start_time": "2023-02-25T10:59:10.477Z"
   },
   {
    "duration": 15,
    "start_time": "2023-02-25T10:59:10.504Z"
   },
   {
    "duration": 17,
    "start_time": "2023-02-25T10:59:10.521Z"
   },
   {
    "duration": 4,
    "start_time": "2023-02-25T10:59:10.540Z"
   },
   {
    "duration": 317,
    "start_time": "2023-02-25T10:59:10.545Z"
   },
   {
    "duration": 209,
    "start_time": "2023-02-25T10:59:10.863Z"
   },
   {
    "duration": 10,
    "start_time": "2023-02-25T10:59:11.074Z"
   },
   {
    "duration": 37,
    "start_time": "2023-02-25T10:59:11.085Z"
   },
   {
    "duration": 241,
    "start_time": "2023-02-25T10:59:11.124Z"
   },
   {
    "duration": 360,
    "start_time": "2023-02-25T10:59:11.367Z"
   },
   {
    "duration": 223,
    "start_time": "2023-02-25T10:59:11.728Z"
   },
   {
    "duration": 290,
    "start_time": "2023-02-25T10:59:11.953Z"
   },
   {
    "duration": 8,
    "start_time": "2023-02-25T10:59:12.244Z"
   },
   {
    "duration": 175,
    "start_time": "2023-02-25T10:59:12.254Z"
   },
   {
    "duration": 150,
    "start_time": "2023-02-25T10:59:12.431Z"
   },
   {
    "duration": 4,
    "start_time": "2023-02-25T10:59:12.583Z"
   },
   {
    "duration": 168,
    "start_time": "2023-02-25T10:59:12.588Z"
   },
   {
    "duration": 151,
    "start_time": "2023-02-25T10:59:12.757Z"
   },
   {
    "duration": 5,
    "start_time": "2023-02-25T10:59:12.909Z"
   },
   {
    "duration": 11,
    "start_time": "2023-02-25T10:59:12.916Z"
   },
   {
    "duration": 13,
    "start_time": "2023-02-25T10:59:12.928Z"
   },
   {
    "duration": 218,
    "start_time": "2023-02-25T10:59:12.943Z"
   },
   {
    "duration": 27,
    "start_time": "2023-02-25T10:59:13.163Z"
   },
   {
    "duration": 162,
    "start_time": "2023-02-25T10:59:13.191Z"
   },
   {
    "duration": 12,
    "start_time": "2023-02-25T10:59:13.355Z"
   },
   {
    "duration": 12,
    "start_time": "2023-02-25T10:59:13.370Z"
   },
   {
    "duration": 32,
    "start_time": "2023-02-25T10:59:13.384Z"
   },
   {
    "duration": 28,
    "start_time": "2023-02-25T10:59:13.418Z"
   },
   {
    "duration": 14,
    "start_time": "2023-02-25T10:59:13.448Z"
   },
   {
    "duration": 207,
    "start_time": "2023-02-25T11:08:47.956Z"
   },
   {
    "duration": 212,
    "start_time": "2023-02-25T11:09:11.148Z"
   },
   {
    "duration": 300,
    "start_time": "2023-02-25T11:09:17.768Z"
   },
   {
    "duration": 201,
    "start_time": "2023-02-25T11:10:18.791Z"
   },
   {
    "duration": 24,
    "start_time": "2023-02-25T11:13:35.593Z"
   },
   {
    "duration": 205,
    "start_time": "2023-02-25T11:13:42.658Z"
   },
   {
    "duration": 217,
    "start_time": "2023-02-25T11:19:03.493Z"
   },
   {
    "duration": 246,
    "start_time": "2023-02-25T11:19:34.746Z"
   },
   {
    "duration": 222,
    "start_time": "2023-02-25T11:35:59.090Z"
   },
   {
    "duration": 339,
    "start_time": "2023-02-25T11:37:03.102Z"
   },
   {
    "duration": 221,
    "start_time": "2023-02-25T11:38:54.790Z"
   },
   {
    "duration": 310,
    "start_time": "2023-02-25T11:39:01.258Z"
   },
   {
    "duration": 366,
    "start_time": "2023-02-25T11:40:47.488Z"
   },
   {
    "duration": 332,
    "start_time": "2023-02-25T11:43:51.961Z"
   },
   {
    "duration": 355,
    "start_time": "2023-02-25T11:44:00.395Z"
   },
   {
    "duration": 369,
    "start_time": "2023-02-25T11:44:15.588Z"
   },
   {
    "duration": 242,
    "start_time": "2023-02-25T14:05:35.560Z"
   },
   {
    "duration": 225,
    "start_time": "2023-02-25T14:14:35.583Z"
   },
   {
    "duration": 5,
    "start_time": "2023-02-25T14:22:40.045Z"
   },
   {
    "duration": 5,
    "start_time": "2023-02-25T14:22:50.622Z"
   },
   {
    "duration": 5,
    "start_time": "2023-02-25T14:27:09.119Z"
   },
   {
    "duration": 140,
    "start_time": "2023-02-25T14:28:46.652Z"
   },
   {
    "duration": 153,
    "start_time": "2023-02-25T14:31:07.807Z"
   },
   {
    "duration": 149,
    "start_time": "2023-02-25T14:31:22.211Z"
   },
   {
    "duration": 5,
    "start_time": "2023-02-25T14:48:48.394Z"
   },
   {
    "duration": 4,
    "start_time": "2023-02-25T14:49:02.056Z"
   },
   {
    "duration": 9,
    "start_time": "2023-02-25T14:49:16.825Z"
   },
   {
    "duration": 73,
    "start_time": "2023-02-25T15:22:32.397Z"
   },
   {
    "duration": 1100,
    "start_time": "2023-02-25T15:22:53.265Z"
   },
   {
    "duration": 11,
    "start_time": "2023-02-25T15:23:14.942Z"
   },
   {
    "duration": 9,
    "start_time": "2023-02-25T15:23:34.516Z"
   },
   {
    "duration": 4,
    "start_time": "2023-02-25T15:35:04.464Z"
   },
   {
    "duration": 88,
    "start_time": "2023-02-25T15:35:04.470Z"
   },
   {
    "duration": 14,
    "start_time": "2023-02-25T15:35:04.560Z"
   },
   {
    "duration": 8,
    "start_time": "2023-02-25T15:35:04.576Z"
   },
   {
    "duration": 7,
    "start_time": "2023-02-25T15:35:04.586Z"
   },
   {
    "duration": 10,
    "start_time": "2023-02-25T15:35:04.594Z"
   },
   {
    "duration": 13,
    "start_time": "2023-02-25T15:35:04.605Z"
   },
   {
    "duration": 20,
    "start_time": "2023-02-25T15:35:04.620Z"
   },
   {
    "duration": 20,
    "start_time": "2023-02-25T15:35:04.642Z"
   },
   {
    "duration": 10,
    "start_time": "2023-02-25T15:35:04.664Z"
   },
   {
    "duration": 13,
    "start_time": "2023-02-25T15:35:04.675Z"
   },
   {
    "duration": 6,
    "start_time": "2023-02-25T15:35:04.690Z"
   },
   {
    "duration": 6,
    "start_time": "2023-02-25T15:35:04.704Z"
   },
   {
    "duration": 5,
    "start_time": "2023-02-25T15:35:04.712Z"
   },
   {
    "duration": 10,
    "start_time": "2023-02-25T15:35:04.718Z"
   },
   {
    "duration": 24,
    "start_time": "2023-02-25T15:35:04.729Z"
   },
   {
    "duration": 9,
    "start_time": "2023-02-25T15:35:04.754Z"
   },
   {
    "duration": 16,
    "start_time": "2023-02-25T15:35:04.764Z"
   },
   {
    "duration": 8,
    "start_time": "2023-02-25T15:35:04.781Z"
   },
   {
    "duration": 4,
    "start_time": "2023-02-25T15:35:04.804Z"
   },
   {
    "duration": 9,
    "start_time": "2023-02-25T15:35:04.810Z"
   },
   {
    "duration": 17,
    "start_time": "2023-02-25T15:35:04.821Z"
   },
   {
    "duration": 20,
    "start_time": "2023-02-25T15:35:04.840Z"
   },
   {
    "duration": 7,
    "start_time": "2023-02-25T15:35:04.862Z"
   },
   {
    "duration": 14,
    "start_time": "2023-02-25T15:35:04.870Z"
   },
   {
    "duration": 6,
    "start_time": "2023-02-25T15:35:04.904Z"
   },
   {
    "duration": 16,
    "start_time": "2023-02-25T15:35:04.911Z"
   },
   {
    "duration": 168,
    "start_time": "2023-02-25T15:35:04.933Z"
   },
   {
    "duration": 8,
    "start_time": "2023-02-25T15:35:05.104Z"
   },
   {
    "duration": 12,
    "start_time": "2023-02-25T15:35:05.113Z"
   },
   {
    "duration": 15,
    "start_time": "2023-02-25T15:35:05.127Z"
   },
   {
    "duration": 17,
    "start_time": "2023-02-25T15:35:05.143Z"
   },
   {
    "duration": 4,
    "start_time": "2023-02-25T15:35:05.161Z"
   },
   {
    "duration": 348,
    "start_time": "2023-02-25T15:35:05.167Z"
   },
   {
    "duration": 262,
    "start_time": "2023-02-25T15:35:05.517Z"
   },
   {
    "duration": 10,
    "start_time": "2023-02-25T15:35:05.781Z"
   },
   {
    "duration": 21,
    "start_time": "2023-02-25T15:35:05.808Z"
   },
   {
    "duration": 263,
    "start_time": "2023-02-25T15:35:05.831Z"
   },
   {
    "duration": 365,
    "start_time": "2023-02-25T15:35:06.096Z"
   },
   {
    "duration": 272,
    "start_time": "2023-02-25T15:35:06.463Z"
   },
   {
    "duration": 20,
    "start_time": "2023-02-25T15:35:06.738Z"
   },
   {
    "duration": 0,
    "start_time": "2023-02-25T15:35:06.760Z"
   },
   {
    "duration": 0,
    "start_time": "2023-02-25T15:35:06.761Z"
   },
   {
    "duration": 0,
    "start_time": "2023-02-25T15:35:06.763Z"
   },
   {
    "duration": 0,
    "start_time": "2023-02-25T15:35:06.768Z"
   },
   {
    "duration": 0,
    "start_time": "2023-02-25T15:35:06.769Z"
   },
   {
    "duration": 0,
    "start_time": "2023-02-25T15:35:06.771Z"
   },
   {
    "duration": 0,
    "start_time": "2023-02-25T15:35:06.773Z"
   },
   {
    "duration": 0,
    "start_time": "2023-02-25T15:35:06.775Z"
   },
   {
    "duration": 0,
    "start_time": "2023-02-25T15:35:06.805Z"
   },
   {
    "duration": 0,
    "start_time": "2023-02-25T15:35:06.807Z"
   },
   {
    "duration": 0,
    "start_time": "2023-02-25T15:35:06.809Z"
   },
   {
    "duration": 0,
    "start_time": "2023-02-25T15:35:06.811Z"
   },
   {
    "duration": 0,
    "start_time": "2023-02-25T15:35:06.813Z"
   },
   {
    "duration": 0,
    "start_time": "2023-02-25T15:35:06.814Z"
   },
   {
    "duration": 0,
    "start_time": "2023-02-25T15:35:06.815Z"
   },
   {
    "duration": 0,
    "start_time": "2023-02-25T15:35:06.817Z"
   },
   {
    "duration": 0,
    "start_time": "2023-02-25T15:35:06.819Z"
   },
   {
    "duration": 0,
    "start_time": "2023-02-25T15:35:06.821Z"
   },
   {
    "duration": 0,
    "start_time": "2023-02-25T15:35:06.822Z"
   },
   {
    "duration": 69,
    "start_time": "2023-02-25T15:38:10.996Z"
   },
   {
    "duration": 15,
    "start_time": "2023-02-25T15:38:20.069Z"
   },
   {
    "duration": 3,
    "start_time": "2023-02-25T15:38:22.569Z"
   },
   {
    "duration": 5,
    "start_time": "2023-02-25T15:38:23.276Z"
   },
   {
    "duration": 8,
    "start_time": "2023-02-25T15:38:24.217Z"
   },
   {
    "duration": 12,
    "start_time": "2023-02-25T15:38:25.291Z"
   },
   {
    "duration": 100,
    "start_time": "2023-02-25T15:39:11.516Z"
   },
   {
    "duration": 77,
    "start_time": "2023-02-25T15:39:19.767Z"
   },
   {
    "duration": 4,
    "start_time": "2023-02-25T15:41:00.297Z"
   },
   {
    "duration": 76,
    "start_time": "2023-02-25T15:41:02.370Z"
   },
   {
    "duration": 4,
    "start_time": "2023-02-25T15:42:18.120Z"
   },
   {
    "duration": 85,
    "start_time": "2023-02-25T15:42:20.492Z"
   },
   {
    "duration": 77,
    "start_time": "2023-02-25T15:44:42.889Z"
   },
   {
    "duration": 3,
    "start_time": "2023-02-25T15:45:50.564Z"
   },
   {
    "duration": 90,
    "start_time": "2023-02-25T15:45:50.569Z"
   },
   {
    "duration": 10,
    "start_time": "2023-02-25T15:45:50.660Z"
   },
   {
    "duration": 11,
    "start_time": "2023-02-25T15:45:50.671Z"
   },
   {
    "duration": 9,
    "start_time": "2023-02-25T15:45:50.684Z"
   },
   {
    "duration": 9,
    "start_time": "2023-02-25T15:45:50.694Z"
   },
   {
    "duration": 19,
    "start_time": "2023-02-25T15:45:50.711Z"
   },
   {
    "duration": 12,
    "start_time": "2023-02-25T15:45:50.731Z"
   },
   {
    "duration": 13,
    "start_time": "2023-02-25T15:45:50.744Z"
   },
   {
    "duration": 8,
    "start_time": "2023-02-25T15:45:50.758Z"
   },
   {
    "duration": 10,
    "start_time": "2023-02-25T15:45:50.767Z"
   },
   {
    "duration": 18,
    "start_time": "2023-02-25T15:45:50.778Z"
   },
   {
    "duration": 22,
    "start_time": "2023-02-25T15:45:50.797Z"
   },
   {
    "duration": 16,
    "start_time": "2023-02-25T15:45:50.822Z"
   },
   {
    "duration": 10,
    "start_time": "2023-02-25T15:45:50.839Z"
   },
   {
    "duration": 13,
    "start_time": "2023-02-25T15:45:50.850Z"
   },
   {
    "duration": 16,
    "start_time": "2023-02-25T15:45:50.865Z"
   },
   {
    "duration": 18,
    "start_time": "2023-02-25T15:45:50.882Z"
   },
   {
    "duration": 20,
    "start_time": "2023-02-25T15:45:50.902Z"
   },
   {
    "duration": 11,
    "start_time": "2023-02-25T15:45:50.925Z"
   },
   {
    "duration": 11,
    "start_time": "2023-02-25T15:45:50.937Z"
   },
   {
    "duration": 17,
    "start_time": "2023-02-25T15:45:50.950Z"
   },
   {
    "duration": 11,
    "start_time": "2023-02-25T15:45:50.969Z"
   },
   {
    "duration": 16,
    "start_time": "2023-02-25T15:45:50.981Z"
   },
   {
    "duration": 27,
    "start_time": "2023-02-25T15:45:50.998Z"
   },
   {
    "duration": 9,
    "start_time": "2023-02-25T15:45:51.026Z"
   },
   {
    "duration": 15,
    "start_time": "2023-02-25T15:45:51.037Z"
   },
   {
    "duration": 164,
    "start_time": "2023-02-25T15:45:51.054Z"
   },
   {
    "duration": 7,
    "start_time": "2023-02-25T15:45:51.221Z"
   },
   {
    "duration": 15,
    "start_time": "2023-02-25T15:45:51.230Z"
   },
   {
    "duration": 16,
    "start_time": "2023-02-25T15:45:51.247Z"
   },
   {
    "duration": 16,
    "start_time": "2023-02-25T15:45:51.265Z"
   },
   {
    "duration": 4,
    "start_time": "2023-02-25T15:45:51.282Z"
   },
   {
    "duration": 306,
    "start_time": "2023-02-25T15:45:51.287Z"
   },
   {
    "duration": 236,
    "start_time": "2023-02-25T15:45:51.595Z"
   },
   {
    "duration": 9,
    "start_time": "2023-02-25T15:45:51.833Z"
   },
   {
    "duration": 18,
    "start_time": "2023-02-25T15:45:51.843Z"
   },
   {
    "duration": 215,
    "start_time": "2023-02-25T15:45:51.862Z"
   },
   {
    "duration": 366,
    "start_time": "2023-02-25T15:45:52.079Z"
   },
   {
    "duration": 246,
    "start_time": "2023-02-25T15:45:52.447Z"
   },
   {
    "duration": 21,
    "start_time": "2023-02-25T15:45:52.697Z"
   },
   {
    "duration": 0,
    "start_time": "2023-02-25T15:45:52.719Z"
   },
   {
    "duration": 0,
    "start_time": "2023-02-25T15:45:52.720Z"
   },
   {
    "duration": 0,
    "start_time": "2023-02-25T15:45:52.721Z"
   },
   {
    "duration": 0,
    "start_time": "2023-02-25T15:45:52.722Z"
   },
   {
    "duration": 0,
    "start_time": "2023-02-25T15:45:52.723Z"
   },
   {
    "duration": 0,
    "start_time": "2023-02-25T15:45:52.724Z"
   },
   {
    "duration": 0,
    "start_time": "2023-02-25T15:45:52.725Z"
   },
   {
    "duration": 0,
    "start_time": "2023-02-25T15:45:52.727Z"
   },
   {
    "duration": 0,
    "start_time": "2023-02-25T15:45:52.728Z"
   },
   {
    "duration": 0,
    "start_time": "2023-02-25T15:45:52.728Z"
   },
   {
    "duration": 0,
    "start_time": "2023-02-25T15:45:52.730Z"
   },
   {
    "duration": 0,
    "start_time": "2023-02-25T15:45:52.731Z"
   },
   {
    "duration": 0,
    "start_time": "2023-02-25T15:45:52.733Z"
   },
   {
    "duration": 0,
    "start_time": "2023-02-25T15:45:52.734Z"
   },
   {
    "duration": 0,
    "start_time": "2023-02-25T15:45:52.735Z"
   },
   {
    "duration": 0,
    "start_time": "2023-02-25T15:45:52.736Z"
   },
   {
    "duration": 0,
    "start_time": "2023-02-25T15:45:52.737Z"
   },
   {
    "duration": 0,
    "start_time": "2023-02-25T15:45:52.738Z"
   },
   {
    "duration": 0,
    "start_time": "2023-02-25T15:45:52.740Z"
   },
   {
    "duration": 1379,
    "start_time": "2023-02-26T16:11:39.793Z"
   },
   {
    "duration": 256,
    "start_time": "2023-02-26T16:11:41.174Z"
   },
   {
    "duration": 13,
    "start_time": "2023-02-26T16:11:41.432Z"
   },
   {
    "duration": 26,
    "start_time": "2023-02-26T16:11:41.447Z"
   },
   {
    "duration": 11,
    "start_time": "2023-02-26T16:11:41.476Z"
   },
   {
    "duration": 17,
    "start_time": "2023-02-26T16:11:41.488Z"
   },
   {
    "duration": 10,
    "start_time": "2023-02-26T16:11:41.507Z"
   },
   {
    "duration": 15,
    "start_time": "2023-02-26T16:11:41.519Z"
   },
   {
    "duration": 24,
    "start_time": "2023-02-26T16:11:41.537Z"
   },
   {
    "duration": 13,
    "start_time": "2023-02-26T16:11:41.565Z"
   },
   {
    "duration": 5,
    "start_time": "2023-02-26T16:11:41.580Z"
   },
   {
    "duration": 5,
    "start_time": "2023-02-26T16:11:41.586Z"
   },
   {
    "duration": 5,
    "start_time": "2023-02-26T16:11:41.593Z"
   },
   {
    "duration": 10,
    "start_time": "2023-02-26T16:11:41.600Z"
   },
   {
    "duration": 16,
    "start_time": "2023-02-26T16:11:41.612Z"
   },
   {
    "duration": 31,
    "start_time": "2023-02-26T16:11:41.630Z"
   },
   {
    "duration": 13,
    "start_time": "2023-02-26T16:11:41.667Z"
   },
   {
    "duration": 15,
    "start_time": "2023-02-26T16:11:41.682Z"
   },
   {
    "duration": 8,
    "start_time": "2023-02-26T16:11:41.699Z"
   },
   {
    "duration": 7,
    "start_time": "2023-02-26T16:11:41.708Z"
   },
   {
    "duration": 5,
    "start_time": "2023-02-26T16:11:41.717Z"
   },
   {
    "duration": 23,
    "start_time": "2023-02-26T16:11:41.753Z"
   },
   {
    "duration": 14,
    "start_time": "2023-02-26T16:11:41.777Z"
   },
   {
    "duration": 8,
    "start_time": "2023-02-26T16:11:41.793Z"
   },
   {
    "duration": 6,
    "start_time": "2023-02-26T16:11:41.802Z"
   },
   {
    "duration": 7,
    "start_time": "2023-02-26T16:11:41.810Z"
   },
   {
    "duration": 41,
    "start_time": "2023-02-26T16:11:41.819Z"
   },
   {
    "duration": 192,
    "start_time": "2023-02-26T16:11:41.866Z"
   },
   {
    "duration": 11,
    "start_time": "2023-02-26T16:11:42.059Z"
   },
   {
    "duration": 11,
    "start_time": "2023-02-26T16:11:42.072Z"
   },
   {
    "duration": 14,
    "start_time": "2023-02-26T16:11:42.085Z"
   },
   {
    "duration": 18,
    "start_time": "2023-02-26T16:11:42.101Z"
   },
   {
    "duration": 34,
    "start_time": "2023-02-26T16:11:42.121Z"
   },
   {
    "duration": 333,
    "start_time": "2023-02-26T16:11:42.160Z"
   },
   {
    "duration": 346,
    "start_time": "2023-02-26T16:11:42.495Z"
   },
   {
    "duration": 27,
    "start_time": "2023-02-26T16:11:42.843Z"
   },
   {
    "duration": 39,
    "start_time": "2023-02-26T16:11:42.872Z"
   },
   {
    "duration": 246,
    "start_time": "2023-02-26T16:11:42.913Z"
   },
   {
    "duration": 410,
    "start_time": "2023-02-26T16:11:43.162Z"
   },
   {
    "duration": 305,
    "start_time": "2023-02-26T16:11:43.574Z"
   },
   {
    "duration": 124,
    "start_time": "2023-02-26T16:11:43.881Z"
   },
   {
    "duration": 0,
    "start_time": "2023-02-26T16:11:44.007Z"
   },
   {
    "duration": 0,
    "start_time": "2023-02-26T16:11:44.008Z"
   },
   {
    "duration": 0,
    "start_time": "2023-02-26T16:11:44.009Z"
   },
   {
    "duration": 0,
    "start_time": "2023-02-26T16:11:44.010Z"
   },
   {
    "duration": 0,
    "start_time": "2023-02-26T16:11:44.011Z"
   },
   {
    "duration": 0,
    "start_time": "2023-02-26T16:11:44.013Z"
   },
   {
    "duration": 0,
    "start_time": "2023-02-26T16:11:44.014Z"
   },
   {
    "duration": 0,
    "start_time": "2023-02-26T16:11:44.016Z"
   },
   {
    "duration": 0,
    "start_time": "2023-02-26T16:11:44.017Z"
   },
   {
    "duration": 0,
    "start_time": "2023-02-26T16:11:44.019Z"
   },
   {
    "duration": 0,
    "start_time": "2023-02-26T16:11:44.020Z"
   },
   {
    "duration": 0,
    "start_time": "2023-02-26T16:11:44.022Z"
   },
   {
    "duration": 0,
    "start_time": "2023-02-26T16:11:44.050Z"
   },
   {
    "duration": 0,
    "start_time": "2023-02-26T16:11:44.051Z"
   },
   {
    "duration": 0,
    "start_time": "2023-02-26T16:11:44.053Z"
   },
   {
    "duration": 0,
    "start_time": "2023-02-26T16:11:44.054Z"
   },
   {
    "duration": 0,
    "start_time": "2023-02-26T16:11:44.058Z"
   },
   {
    "duration": 0,
    "start_time": "2023-02-26T16:11:44.059Z"
   },
   {
    "duration": 0,
    "start_time": "2023-02-26T16:11:44.064Z"
   },
   {
    "duration": 9,
    "start_time": "2023-02-26T16:54:35.829Z"
   },
   {
    "duration": 198,
    "start_time": "2023-02-26T16:54:35.841Z"
   },
   {
    "duration": 164,
    "start_time": "2023-02-26T16:54:36.041Z"
   },
   {
    "duration": 4,
    "start_time": "2023-02-26T16:54:36.208Z"
   },
   {
    "duration": 6,
    "start_time": "2023-02-26T16:54:36.214Z"
   },
   {
    "duration": 221,
    "start_time": "2023-02-26T16:54:36.221Z"
   },
   {
    "duration": 253,
    "start_time": "2023-02-26T16:54:36.443Z"
   },
   {
    "duration": 5,
    "start_time": "2023-02-26T16:54:36.698Z"
   },
   {
    "duration": 18,
    "start_time": "2023-02-26T16:54:36.705Z"
   },
   {
    "duration": 27,
    "start_time": "2023-02-26T16:54:36.726Z"
   },
   {
    "duration": 265,
    "start_time": "2023-02-26T16:54:36.757Z"
   },
   {
    "duration": 48,
    "start_time": "2023-02-26T16:54:37.026Z"
   },
   {
    "duration": 253,
    "start_time": "2023-02-26T16:54:37.076Z"
   },
   {
    "duration": 24,
    "start_time": "2023-02-26T16:54:37.330Z"
   },
   {
    "duration": 9,
    "start_time": "2023-02-26T16:54:37.355Z"
   },
   {
    "duration": 22,
    "start_time": "2023-02-26T16:54:37.369Z"
   },
   {
    "duration": 11,
    "start_time": "2023-02-26T16:54:37.393Z"
   },
   {
    "duration": 32,
    "start_time": "2023-02-26T16:54:37.406Z"
   },
   {
    "duration": 25,
    "start_time": "2023-02-26T16:54:37.440Z"
   },
   {
    "duration": 22,
    "start_time": "2023-02-26T16:59:24.487Z"
   },
   {
    "duration": 59,
    "start_time": "2023-02-26T17:42:54.184Z"
   },
   {
    "duration": 59,
    "start_time": "2023-02-26T17:47:45.543Z"
   },
   {
    "duration": 64,
    "start_time": "2023-02-27T06:16:56.083Z"
   },
   {
    "duration": 1407,
    "start_time": "2023-02-27T06:17:00.331Z"
   },
   {
    "duration": 240,
    "start_time": "2023-02-27T06:17:01.741Z"
   },
   {
    "duration": 15,
    "start_time": "2023-02-27T06:17:01.983Z"
   },
   {
    "duration": 34,
    "start_time": "2023-02-27T06:17:02.002Z"
   },
   {
    "duration": 35,
    "start_time": "2023-02-27T06:17:02.038Z"
   },
   {
    "duration": 35,
    "start_time": "2023-02-27T06:17:02.075Z"
   },
   {
    "duration": 30,
    "start_time": "2023-02-27T06:17:02.113Z"
   },
   {
    "duration": 59,
    "start_time": "2023-02-27T06:17:02.146Z"
   },
   {
    "duration": 60,
    "start_time": "2023-02-27T06:17:02.208Z"
   },
   {
    "duration": 16,
    "start_time": "2023-02-27T06:17:02.272Z"
   },
   {
    "duration": 48,
    "start_time": "2023-02-27T06:17:02.290Z"
   },
   {
    "duration": 51,
    "start_time": "2023-02-27T06:17:02.340Z"
   },
   {
    "duration": 21,
    "start_time": "2023-02-27T06:17:02.393Z"
   },
   {
    "duration": 42,
    "start_time": "2023-02-27T06:17:02.416Z"
   },
   {
    "duration": 30,
    "start_time": "2023-02-27T06:17:02.460Z"
   },
   {
    "duration": 48,
    "start_time": "2023-02-27T06:17:02.492Z"
   },
   {
    "duration": 49,
    "start_time": "2023-02-27T06:17:02.543Z"
   },
   {
    "duration": 39,
    "start_time": "2023-02-27T06:17:02.595Z"
   },
   {
    "duration": 17,
    "start_time": "2023-02-27T06:17:02.636Z"
   },
   {
    "duration": 58,
    "start_time": "2023-02-27T06:17:02.656Z"
   },
   {
    "duration": 17,
    "start_time": "2023-02-27T06:17:02.717Z"
   },
   {
    "duration": 36,
    "start_time": "2023-02-27T06:17:02.737Z"
   },
   {
    "duration": 55,
    "start_time": "2023-02-27T06:17:02.776Z"
   },
   {
    "duration": 34,
    "start_time": "2023-02-27T06:17:02.833Z"
   },
   {
    "duration": 24,
    "start_time": "2023-02-27T06:17:02.871Z"
   },
   {
    "duration": 35,
    "start_time": "2023-02-27T06:17:02.897Z"
   },
   {
    "duration": 28,
    "start_time": "2023-02-27T06:17:02.934Z"
   },
   {
    "duration": 57,
    "start_time": "2023-02-27T06:17:02.967Z"
   },
   {
    "duration": 194,
    "start_time": "2023-02-27T06:17:03.026Z"
   },
   {
    "duration": 17,
    "start_time": "2023-02-27T06:17:03.222Z"
   },
   {
    "duration": 21,
    "start_time": "2023-02-27T06:17:03.240Z"
   },
   {
    "duration": 36,
    "start_time": "2023-02-27T06:17:03.263Z"
   },
   {
    "duration": 31,
    "start_time": "2023-02-27T06:17:03.301Z"
   },
   {
    "duration": 28,
    "start_time": "2023-02-27T06:17:03.334Z"
   },
   {
    "duration": 361,
    "start_time": "2023-02-27T06:17:03.364Z"
   },
   {
    "duration": 371,
    "start_time": "2023-02-27T06:17:03.732Z"
   },
   {
    "duration": 11,
    "start_time": "2023-02-27T06:17:04.105Z"
   },
   {
    "duration": 33,
    "start_time": "2023-02-27T06:17:04.118Z"
   },
   {
    "duration": 265,
    "start_time": "2023-02-27T06:17:04.153Z"
   },
   {
    "duration": 412,
    "start_time": "2023-02-27T06:17:04.420Z"
   },
   {
    "duration": 291,
    "start_time": "2023-02-27T06:17:04.838Z"
   },
   {
    "duration": 89,
    "start_time": "2023-02-27T06:17:05.138Z"
   },
   {
    "duration": 0,
    "start_time": "2023-02-27T06:17:05.238Z"
   },
   {
    "duration": 0,
    "start_time": "2023-02-27T06:17:05.240Z"
   },
   {
    "duration": 0,
    "start_time": "2023-02-27T06:17:05.241Z"
   },
   {
    "duration": 1,
    "start_time": "2023-02-27T06:17:05.242Z"
   },
   {
    "duration": 0,
    "start_time": "2023-02-27T06:17:05.244Z"
   },
   {
    "duration": 0,
    "start_time": "2023-02-27T06:17:05.245Z"
   },
   {
    "duration": 0,
    "start_time": "2023-02-27T06:17:05.246Z"
   },
   {
    "duration": 0,
    "start_time": "2023-02-27T06:17:05.247Z"
   },
   {
    "duration": 0,
    "start_time": "2023-02-27T06:17:05.248Z"
   },
   {
    "duration": 0,
    "start_time": "2023-02-27T06:17:05.250Z"
   },
   {
    "duration": 0,
    "start_time": "2023-02-27T06:17:05.251Z"
   },
   {
    "duration": 0,
    "start_time": "2023-02-27T06:17:05.252Z"
   },
   {
    "duration": 0,
    "start_time": "2023-02-27T06:17:05.253Z"
   },
   {
    "duration": 0,
    "start_time": "2023-02-27T06:17:05.255Z"
   },
   {
    "duration": 0,
    "start_time": "2023-02-27T06:17:05.256Z"
   },
   {
    "duration": 0,
    "start_time": "2023-02-27T06:17:05.257Z"
   },
   {
    "duration": 0,
    "start_time": "2023-02-27T06:17:05.258Z"
   },
   {
    "duration": 0,
    "start_time": "2023-02-27T06:17:05.259Z"
   },
   {
    "duration": 0,
    "start_time": "2023-02-27T06:17:05.261Z"
   },
   {
    "duration": 8,
    "start_time": "2023-02-27T06:18:22.276Z"
   },
   {
    "duration": 9,
    "start_time": "2023-02-27T06:19:40.486Z"
   },
   {
    "duration": 18,
    "start_time": "2023-02-27T06:46:51.724Z"
   },
   {
    "duration": 8,
    "start_time": "2023-02-27T06:47:09.726Z"
   },
   {
    "duration": 161,
    "start_time": "2023-02-27T06:49:11.043Z"
   },
   {
    "duration": 151,
    "start_time": "2023-02-27T06:49:13.577Z"
   },
   {
    "duration": 14,
    "start_time": "2023-02-27T06:52:50.526Z"
   },
   {
    "duration": 8,
    "start_time": "2023-02-27T06:58:36.602Z"
   },
   {
    "duration": 123,
    "start_time": "2023-02-27T06:59:12.798Z"
   },
   {
    "duration": 147,
    "start_time": "2023-02-27T07:18:27.253Z"
   },
   {
    "duration": 245,
    "start_time": "2023-02-27T07:20:00.293Z"
   },
   {
    "duration": 176,
    "start_time": "2023-02-27T07:20:12.287Z"
   },
   {
    "duration": 29,
    "start_time": "2023-02-27T07:20:15.590Z"
   },
   {
    "duration": 62,
    "start_time": "2023-02-27T07:29:19.434Z"
   },
   {
    "duration": 131,
    "start_time": "2023-02-27T07:29:26.718Z"
   },
   {
    "duration": 49,
    "start_time": "2023-02-27T07:30:12.800Z"
   },
   {
    "duration": 4,
    "start_time": "2023-02-27T07:34:13.962Z"
   },
   {
    "duration": 18,
    "start_time": "2023-02-27T07:34:45.488Z"
   },
   {
    "duration": 207,
    "start_time": "2023-02-27T07:35:38.225Z"
   },
   {
    "duration": 356,
    "start_time": "2023-02-27T07:36:01.382Z"
   },
   {
    "duration": 1289,
    "start_time": "2023-02-27T09:42:01.033Z"
   },
   {
    "duration": 165,
    "start_time": "2023-02-27T09:42:02.325Z"
   },
   {
    "duration": 12,
    "start_time": "2023-02-27T09:42:02.492Z"
   },
   {
    "duration": 22,
    "start_time": "2023-02-27T09:42:02.506Z"
   },
   {
    "duration": 14,
    "start_time": "2023-02-27T09:42:02.530Z"
   },
   {
    "duration": 11,
    "start_time": "2023-02-27T09:42:02.545Z"
   },
   {
    "duration": 16,
    "start_time": "2023-02-27T09:42:02.557Z"
   },
   {
    "duration": 9,
    "start_time": "2023-02-27T09:42:02.574Z"
   },
   {
    "duration": 13,
    "start_time": "2023-02-27T09:42:02.585Z"
   },
   {
    "duration": 12,
    "start_time": "2023-02-27T09:42:02.600Z"
   },
   {
    "duration": 6,
    "start_time": "2023-02-27T09:42:02.613Z"
   },
   {
    "duration": 4,
    "start_time": "2023-02-27T09:42:02.621Z"
   },
   {
    "duration": 3,
    "start_time": "2023-02-27T09:42:02.627Z"
   },
   {
    "duration": 5,
    "start_time": "2023-02-27T09:42:02.633Z"
   },
   {
    "duration": 5,
    "start_time": "2023-02-27T09:42:02.639Z"
   },
   {
    "duration": 6,
    "start_time": "2023-02-27T09:42:02.645Z"
   },
   {
    "duration": 11,
    "start_time": "2023-02-27T09:42:02.653Z"
   },
   {
    "duration": 13,
    "start_time": "2023-02-27T09:42:02.666Z"
   },
   {
    "duration": 31,
    "start_time": "2023-02-27T09:42:02.680Z"
   },
   {
    "duration": 10,
    "start_time": "2023-02-27T09:42:02.713Z"
   },
   {
    "duration": 30,
    "start_time": "2023-02-27T09:42:02.724Z"
   },
   {
    "duration": 24,
    "start_time": "2023-02-27T09:42:02.756Z"
   },
   {
    "duration": 8,
    "start_time": "2023-02-27T09:42:02.781Z"
   },
   {
    "duration": 5,
    "start_time": "2023-02-27T09:42:02.790Z"
   },
   {
    "duration": 14,
    "start_time": "2023-02-27T09:42:02.796Z"
   },
   {
    "duration": 9,
    "start_time": "2023-02-27T09:42:02.811Z"
   },
   {
    "duration": 5,
    "start_time": "2023-02-27T09:42:02.821Z"
   },
   {
    "duration": 8,
    "start_time": "2023-02-27T09:42:02.827Z"
   },
   {
    "duration": 18,
    "start_time": "2023-02-27T09:42:02.836Z"
   },
   {
    "duration": 22,
    "start_time": "2023-02-27T09:42:02.855Z"
   },
   {
    "duration": 152,
    "start_time": "2023-02-27T09:42:02.879Z"
   },
   {
    "duration": 10,
    "start_time": "2023-02-27T09:42:03.032Z"
   },
   {
    "duration": 18,
    "start_time": "2023-02-27T09:42:03.043Z"
   },
   {
    "duration": 15,
    "start_time": "2023-02-27T09:42:03.063Z"
   },
   {
    "duration": 31,
    "start_time": "2023-02-27T09:42:03.080Z"
   },
   {
    "duration": 3,
    "start_time": "2023-02-27T09:42:03.113Z"
   },
   {
    "duration": 308,
    "start_time": "2023-02-27T09:42:03.117Z"
   },
   {
    "duration": 311,
    "start_time": "2023-02-27T09:42:03.426Z"
   },
   {
    "duration": 9,
    "start_time": "2023-02-27T09:42:03.738Z"
   },
   {
    "duration": 14,
    "start_time": "2023-02-27T09:42:03.749Z"
   },
   {
    "duration": 210,
    "start_time": "2023-02-27T09:42:03.766Z"
   },
   {
    "duration": 399,
    "start_time": "2023-02-27T09:42:03.977Z"
   },
   {
    "duration": 7,
    "start_time": "2023-02-27T09:42:04.378Z"
   },
   {
    "duration": 23,
    "start_time": "2023-02-27T09:42:04.387Z"
   },
   {
    "duration": 211,
    "start_time": "2023-02-27T09:42:04.411Z"
   },
   {
    "duration": 141,
    "start_time": "2023-02-27T09:42:04.623Z"
   },
   {
    "duration": 281,
    "start_time": "2023-02-27T09:42:04.766Z"
   },
   {
    "duration": 26,
    "start_time": "2023-02-27T09:42:05.049Z"
   },
   {
    "duration": 238,
    "start_time": "2023-02-27T09:42:05.077Z"
   },
   {
    "duration": 126,
    "start_time": "2023-02-27T09:42:05.317Z"
   },
   {
    "duration": 0,
    "start_time": "2023-02-27T09:42:05.445Z"
   },
   {
    "duration": 0,
    "start_time": "2023-02-27T09:42:05.458Z"
   },
   {
    "duration": 0,
    "start_time": "2023-02-27T09:42:05.459Z"
   },
   {
    "duration": 0,
    "start_time": "2023-02-27T09:42:05.460Z"
   },
   {
    "duration": 0,
    "start_time": "2023-02-27T09:42:05.461Z"
   },
   {
    "duration": 0,
    "start_time": "2023-02-27T09:42:05.462Z"
   },
   {
    "duration": 0,
    "start_time": "2023-02-27T09:42:05.463Z"
   },
   {
    "duration": 0,
    "start_time": "2023-02-27T09:42:05.464Z"
   },
   {
    "duration": 0,
    "start_time": "2023-02-27T09:42:05.465Z"
   },
   {
    "duration": 0,
    "start_time": "2023-02-27T09:42:05.467Z"
   },
   {
    "duration": 0,
    "start_time": "2023-02-27T09:42:05.468Z"
   },
   {
    "duration": 0,
    "start_time": "2023-02-27T09:42:05.468Z"
   },
   {
    "duration": 0,
    "start_time": "2023-02-27T09:42:05.469Z"
   },
   {
    "duration": 0,
    "start_time": "2023-02-27T09:42:05.470Z"
   },
   {
    "duration": 0,
    "start_time": "2023-02-27T09:42:05.471Z"
   },
   {
    "duration": 0,
    "start_time": "2023-02-27T09:42:05.472Z"
   },
   {
    "duration": 0,
    "start_time": "2023-02-27T09:42:05.473Z"
   },
   {
    "duration": 0,
    "start_time": "2023-02-27T09:42:05.474Z"
   },
   {
    "duration": 0,
    "start_time": "2023-02-27T09:42:05.474Z"
   },
   {
    "duration": 135,
    "start_time": "2023-02-27T10:19:24.682Z"
   },
   {
    "duration": 1056,
    "start_time": "2023-02-27T10:54:02.784Z"
   },
   {
    "duration": 4,
    "start_time": "2023-02-27T10:54:14.970Z"
   },
   {
    "duration": 66,
    "start_time": "2023-02-27T10:54:14.975Z"
   },
   {
    "duration": 10,
    "start_time": "2023-02-27T10:54:15.042Z"
   },
   {
    "duration": 6,
    "start_time": "2023-02-27T10:54:15.053Z"
   },
   {
    "duration": 9,
    "start_time": "2023-02-27T10:54:15.061Z"
   },
   {
    "duration": 11,
    "start_time": "2023-02-27T10:54:15.075Z"
   },
   {
    "duration": 10,
    "start_time": "2023-02-27T10:54:15.087Z"
   },
   {
    "duration": 13,
    "start_time": "2023-02-27T10:54:15.098Z"
   },
   {
    "duration": 32,
    "start_time": "2023-02-27T10:54:15.112Z"
   },
   {
    "duration": 10,
    "start_time": "2023-02-27T10:54:15.146Z"
   },
   {
    "duration": 6,
    "start_time": "2023-02-27T10:54:15.159Z"
   },
   {
    "duration": 11,
    "start_time": "2023-02-27T10:54:15.167Z"
   },
   {
    "duration": 4,
    "start_time": "2023-02-27T10:54:15.179Z"
   },
   {
    "duration": 6,
    "start_time": "2023-02-27T10:54:15.184Z"
   },
   {
    "duration": 8,
    "start_time": "2023-02-27T10:54:15.192Z"
   },
   {
    "duration": 22,
    "start_time": "2023-02-27T10:54:15.201Z"
   },
   {
    "duration": 12,
    "start_time": "2023-02-27T10:54:15.225Z"
   },
   {
    "duration": 24,
    "start_time": "2023-02-27T10:54:15.238Z"
   },
   {
    "duration": 13,
    "start_time": "2023-02-27T10:54:15.264Z"
   },
   {
    "duration": 14,
    "start_time": "2023-02-27T10:54:15.278Z"
   },
   {
    "duration": 12,
    "start_time": "2023-02-27T10:54:15.293Z"
   },
   {
    "duration": 28,
    "start_time": "2023-02-27T10:54:15.307Z"
   },
   {
    "duration": 13,
    "start_time": "2023-02-27T10:54:15.337Z"
   },
   {
    "duration": 17,
    "start_time": "2023-02-27T10:54:15.352Z"
   },
   {
    "duration": 18,
    "start_time": "2023-02-27T10:54:15.372Z"
   },
   {
    "duration": 25,
    "start_time": "2023-02-27T10:54:15.392Z"
   },
   {
    "duration": 23,
    "start_time": "2023-02-27T10:54:15.418Z"
   },
   {
    "duration": 11,
    "start_time": "2023-02-27T10:54:15.442Z"
   },
   {
    "duration": 8,
    "start_time": "2023-02-27T10:54:15.457Z"
   },
   {
    "duration": 11,
    "start_time": "2023-02-27T10:54:15.466Z"
   },
   {
    "duration": 150,
    "start_time": "2023-02-27T10:54:15.479Z"
   },
   {
    "duration": 8,
    "start_time": "2023-02-27T10:54:15.630Z"
   },
   {
    "duration": 12,
    "start_time": "2023-02-27T10:54:15.639Z"
   },
   {
    "duration": 16,
    "start_time": "2023-02-27T10:54:15.653Z"
   },
   {
    "duration": 53,
    "start_time": "2023-02-27T10:54:15.671Z"
   },
   {
    "duration": 4,
    "start_time": "2023-02-27T10:54:15.726Z"
   },
   {
    "duration": 311,
    "start_time": "2023-02-27T10:54:15.732Z"
   },
   {
    "duration": 221,
    "start_time": "2023-02-27T10:54:16.044Z"
   },
   {
    "duration": 9,
    "start_time": "2023-02-27T10:54:16.266Z"
   },
   {
    "duration": 40,
    "start_time": "2023-02-27T10:54:16.277Z"
   },
   {
    "duration": 218,
    "start_time": "2023-02-27T10:54:16.319Z"
   },
   {
    "duration": 337,
    "start_time": "2023-02-27T10:54:16.539Z"
   },
   {
    "duration": 921,
    "start_time": "2023-02-27T10:54:16.878Z"
   },
   {
    "duration": 0,
    "start_time": "2023-02-27T10:54:17.801Z"
   },
   {
    "duration": 0,
    "start_time": "2023-02-27T10:54:17.802Z"
   },
   {
    "duration": 0,
    "start_time": "2023-02-27T10:54:17.803Z"
   },
   {
    "duration": 0,
    "start_time": "2023-02-27T10:54:17.804Z"
   },
   {
    "duration": 0,
    "start_time": "2023-02-27T10:54:17.805Z"
   },
   {
    "duration": 0,
    "start_time": "2023-02-27T10:54:17.806Z"
   },
   {
    "duration": 0,
    "start_time": "2023-02-27T10:54:17.819Z"
   },
   {
    "duration": 0,
    "start_time": "2023-02-27T10:54:17.820Z"
   },
   {
    "duration": 0,
    "start_time": "2023-02-27T10:54:17.821Z"
   },
   {
    "duration": 0,
    "start_time": "2023-02-27T10:54:17.821Z"
   },
   {
    "duration": 0,
    "start_time": "2023-02-27T10:54:17.822Z"
   },
   {
    "duration": 1,
    "start_time": "2023-02-27T10:54:17.823Z"
   },
   {
    "duration": 0,
    "start_time": "2023-02-27T10:54:17.824Z"
   },
   {
    "duration": 0,
    "start_time": "2023-02-27T10:54:17.825Z"
   },
   {
    "duration": 0,
    "start_time": "2023-02-27T10:54:17.826Z"
   },
   {
    "duration": 0,
    "start_time": "2023-02-27T10:54:17.827Z"
   },
   {
    "duration": 0,
    "start_time": "2023-02-27T10:54:17.828Z"
   },
   {
    "duration": 0,
    "start_time": "2023-02-27T10:54:17.829Z"
   },
   {
    "duration": 0,
    "start_time": "2023-02-27T10:54:17.829Z"
   },
   {
    "duration": 0,
    "start_time": "2023-02-27T10:54:17.831Z"
   },
   {
    "duration": 0,
    "start_time": "2023-02-27T10:54:17.832Z"
   },
   {
    "duration": 0,
    "start_time": "2023-02-27T10:54:17.833Z"
   },
   {
    "duration": 0,
    "start_time": "2023-02-27T10:54:17.834Z"
   },
   {
    "duration": 0,
    "start_time": "2023-02-27T10:54:17.835Z"
   },
   {
    "duration": 0,
    "start_time": "2023-02-27T10:54:17.836Z"
   },
   {
    "duration": 0,
    "start_time": "2023-02-27T10:54:17.836Z"
   },
   {
    "duration": 0,
    "start_time": "2023-02-27T10:54:17.837Z"
   },
   {
    "duration": 0,
    "start_time": "2023-02-27T10:54:17.838Z"
   },
   {
    "duration": 941,
    "start_time": "2023-02-27T10:56:26.706Z"
   },
   {
    "duration": 143,
    "start_time": "2023-02-27T10:56:51.225Z"
   },
   {
    "duration": 216,
    "start_time": "2023-02-27T10:59:47.641Z"
   },
   {
    "duration": 256,
    "start_time": "2023-02-27T11:16:59.992Z"
   },
   {
    "duration": 255,
    "start_time": "2023-02-27T11:18:18.008Z"
   },
   {
    "duration": 204,
    "start_time": "2023-02-27T11:59:38.936Z"
   },
   {
    "duration": 290,
    "start_time": "2023-02-27T12:01:49.062Z"
   },
   {
    "duration": 13,
    "start_time": "2023-02-27T12:09:39.910Z"
   },
   {
    "duration": 863,
    "start_time": "2023-02-27T12:17:04.009Z"
   },
   {
    "duration": 235,
    "start_time": "2023-02-27T12:18:24.930Z"
   },
   {
    "duration": 365,
    "start_time": "2023-02-27T12:20:54.178Z"
   },
   {
    "duration": 352,
    "start_time": "2023-02-27T12:23:49.286Z"
   },
   {
    "duration": 355,
    "start_time": "2023-02-27T12:24:09.582Z"
   },
   {
    "duration": 316,
    "start_time": "2023-02-27T12:24:18.863Z"
   },
   {
    "duration": 326,
    "start_time": "2023-02-27T12:32:35.229Z"
   },
   {
    "duration": 5,
    "start_time": "2023-02-27T12:35:01.373Z"
   },
   {
    "duration": 8,
    "start_time": "2023-02-27T12:37:16.016Z"
   },
   {
    "duration": 9,
    "start_time": "2023-02-27T12:37:38.476Z"
   },
   {
    "duration": 132,
    "start_time": "2023-02-27T12:37:46.394Z"
   },
   {
    "duration": 132,
    "start_time": "2023-02-27T12:37:49.984Z"
   },
   {
    "duration": 5,
    "start_time": "2023-02-27T12:37:55.070Z"
   },
   {
    "duration": 5,
    "start_time": "2023-02-27T12:38:02.336Z"
   },
   {
    "duration": 7,
    "start_time": "2023-02-27T12:49:16.232Z"
   },
   {
    "duration": 216,
    "start_time": "2023-02-27T13:00:36.839Z"
   },
   {
    "duration": 139,
    "start_time": "2023-02-27T13:01:53.878Z"
   },
   {
    "duration": 24,
    "start_time": "2023-02-27T13:02:30.325Z"
   },
   {
    "duration": 8,
    "start_time": "2023-02-27T13:15:42.733Z"
   },
   {
    "duration": 9,
    "start_time": "2023-02-27T13:27:46.332Z"
   },
   {
    "duration": 10,
    "start_time": "2023-02-27T13:29:45.091Z"
   },
   {
    "duration": 1062,
    "start_time": "2023-02-27T13:34:13.926Z"
   },
   {
    "duration": 59,
    "start_time": "2023-02-27T13:34:14.989Z"
   },
   {
    "duration": 10,
    "start_time": "2023-02-27T13:34:15.050Z"
   },
   {
    "duration": 8,
    "start_time": "2023-02-27T13:34:15.061Z"
   },
   {
    "duration": 9,
    "start_time": "2023-02-27T13:34:15.071Z"
   },
   {
    "duration": 9,
    "start_time": "2023-02-27T13:34:15.082Z"
   },
   {
    "duration": 10,
    "start_time": "2023-02-27T13:34:15.093Z"
   },
   {
    "duration": 11,
    "start_time": "2023-02-27T13:34:15.105Z"
   },
   {
    "duration": 12,
    "start_time": "2023-02-27T13:34:15.117Z"
   },
   {
    "duration": 10,
    "start_time": "2023-02-27T13:34:15.130Z"
   },
   {
    "duration": 5,
    "start_time": "2023-02-27T13:34:15.141Z"
   },
   {
    "duration": 8,
    "start_time": "2023-02-27T13:34:15.147Z"
   },
   {
    "duration": 5,
    "start_time": "2023-02-27T13:34:15.157Z"
   },
   {
    "duration": 5,
    "start_time": "2023-02-27T13:34:15.164Z"
   },
   {
    "duration": 5,
    "start_time": "2023-02-27T13:34:15.170Z"
   },
   {
    "duration": 6,
    "start_time": "2023-02-27T13:34:15.176Z"
   },
   {
    "duration": 7,
    "start_time": "2023-02-27T13:34:15.209Z"
   },
   {
    "duration": 16,
    "start_time": "2023-02-27T13:34:15.217Z"
   },
   {
    "duration": 15,
    "start_time": "2023-02-27T13:34:15.234Z"
   },
   {
    "duration": 12,
    "start_time": "2023-02-27T13:34:15.251Z"
   },
   {
    "duration": 4,
    "start_time": "2023-02-27T13:34:15.265Z"
   },
   {
    "duration": 5,
    "start_time": "2023-02-27T13:34:15.271Z"
   },
   {
    "duration": 6,
    "start_time": "2023-02-27T13:34:15.277Z"
   },
   {
    "duration": 22,
    "start_time": "2023-02-27T13:34:15.285Z"
   },
   {
    "duration": 33,
    "start_time": "2023-02-27T13:34:15.308Z"
   },
   {
    "duration": 21,
    "start_time": "2023-02-27T13:34:15.342Z"
   },
   {
    "duration": 13,
    "start_time": "2023-02-27T13:34:15.364Z"
   },
   {
    "duration": 14,
    "start_time": "2023-02-27T13:34:15.379Z"
   },
   {
    "duration": 15,
    "start_time": "2023-02-27T13:34:15.394Z"
   },
   {
    "duration": 20,
    "start_time": "2023-02-27T13:34:15.410Z"
   },
   {
    "duration": 133,
    "start_time": "2023-02-27T13:34:15.431Z"
   },
   {
    "duration": 7,
    "start_time": "2023-02-27T13:34:15.565Z"
   },
   {
    "duration": 13,
    "start_time": "2023-02-27T13:34:15.573Z"
   },
   {
    "duration": 22,
    "start_time": "2023-02-27T13:34:15.588Z"
   },
   {
    "duration": 16,
    "start_time": "2023-02-27T13:34:15.611Z"
   },
   {
    "duration": 4,
    "start_time": "2023-02-27T13:34:15.628Z"
   },
   {
    "duration": 289,
    "start_time": "2023-02-27T13:34:15.633Z"
   },
   {
    "duration": 291,
    "start_time": "2023-02-27T13:34:15.924Z"
   },
   {
    "duration": 9,
    "start_time": "2023-02-27T13:34:16.216Z"
   },
   {
    "duration": 13,
    "start_time": "2023-02-27T13:34:16.226Z"
   },
   {
    "duration": 217,
    "start_time": "2023-02-27T13:34:16.242Z"
   },
   {
    "duration": 352,
    "start_time": "2023-02-27T13:34:16.460Z"
   },
   {
    "duration": 263,
    "start_time": "2023-02-27T13:34:16.813Z"
   },
   {
    "duration": 366,
    "start_time": "2023-02-27T13:34:17.077Z"
   },
   {
    "duration": 9,
    "start_time": "2023-02-27T13:34:17.445Z"
   },
   {
    "duration": 159,
    "start_time": "2023-02-27T13:34:17.455Z"
   },
   {
    "duration": 135,
    "start_time": "2023-02-27T13:34:17.616Z"
   },
   {
    "duration": 4,
    "start_time": "2023-02-27T13:34:17.753Z"
   },
   {
    "duration": 28,
    "start_time": "2023-02-27T13:34:17.758Z"
   },
   {
    "duration": 209,
    "start_time": "2023-02-27T13:34:17.788Z"
   },
   {
    "duration": 142,
    "start_time": "2023-02-27T13:34:17.999Z"
   },
   {
    "duration": 4,
    "start_time": "2023-02-27T13:34:18.143Z"
   },
   {
    "duration": 10,
    "start_time": "2023-02-27T13:34:18.148Z"
   },
   {
    "duration": 13,
    "start_time": "2023-02-27T13:34:18.159Z"
   },
   {
    "duration": 206,
    "start_time": "2023-02-27T13:34:18.173Z"
   },
   {
    "duration": 140,
    "start_time": "2023-02-27T13:34:18.381Z"
   },
   {
    "duration": 24,
    "start_time": "2023-02-27T13:34:18.523Z"
   },
   {
    "duration": 9,
    "start_time": "2023-02-27T13:34:18.548Z"
   },
   {
    "duration": 8,
    "start_time": "2023-02-27T13:34:18.558Z"
   },
   {
    "duration": 11,
    "start_time": "2023-02-27T13:34:18.567Z"
   },
   {
    "duration": 6,
    "start_time": "2023-02-27T13:34:18.580Z"
   },
   {
    "duration": 21,
    "start_time": "2023-02-27T13:34:18.610Z"
   },
   {
    "duration": 12,
    "start_time": "2023-02-27T13:34:18.632Z"
   },
   {
    "duration": 136,
    "start_time": "2023-02-27T13:39:49.418Z"
   },
   {
    "duration": 132,
    "start_time": "2023-02-27T13:56:55.263Z"
   },
   {
    "duration": 14,
    "start_time": "2023-02-27T13:57:25.482Z"
   },
   {
    "duration": 8,
    "start_time": "2023-02-27T13:58:11.075Z"
   },
   {
    "duration": 10,
    "start_time": "2023-02-27T14:01:04.373Z"
   },
   {
    "duration": 47,
    "start_time": "2023-02-27T14:06:37.296Z"
   },
   {
    "duration": 5,
    "start_time": "2023-02-27T14:06:43.597Z"
   },
   {
    "duration": 33,
    "start_time": "2023-02-27T14:08:19.146Z"
   },
   {
    "duration": 5,
    "start_time": "2023-02-27T14:08:34.192Z"
   },
   {
    "duration": 6,
    "start_time": "2023-02-27T14:08:38.596Z"
   },
   {
    "duration": 11,
    "start_time": "2023-02-27T14:08:39.051Z"
   },
   {
    "duration": 1146,
    "start_time": "2023-02-27T14:09:44.158Z"
   },
   {
    "duration": 70,
    "start_time": "2023-02-27T14:09:45.306Z"
   },
   {
    "duration": 11,
    "start_time": "2023-02-27T14:09:45.378Z"
   },
   {
    "duration": 3,
    "start_time": "2023-02-27T14:09:45.390Z"
   },
   {
    "duration": 12,
    "start_time": "2023-02-27T14:09:45.396Z"
   },
   {
    "duration": 23,
    "start_time": "2023-02-27T14:09:45.419Z"
   },
   {
    "duration": 12,
    "start_time": "2023-02-27T14:09:45.443Z"
   },
   {
    "duration": 9,
    "start_time": "2023-02-27T14:09:45.457Z"
   },
   {
    "duration": 14,
    "start_time": "2023-02-27T14:09:45.467Z"
   },
   {
    "duration": 14,
    "start_time": "2023-02-27T14:09:45.482Z"
   },
   {
    "duration": 29,
    "start_time": "2023-02-27T14:09:45.497Z"
   },
   {
    "duration": 18,
    "start_time": "2023-02-27T14:09:45.528Z"
   },
   {
    "duration": 3,
    "start_time": "2023-02-27T14:09:45.549Z"
   },
   {
    "duration": 3,
    "start_time": "2023-02-27T14:09:45.555Z"
   },
   {
    "duration": 6,
    "start_time": "2023-02-27T14:09:45.560Z"
   },
   {
    "duration": 5,
    "start_time": "2023-02-27T14:09:45.567Z"
   },
   {
    "duration": 10,
    "start_time": "2023-02-27T14:09:45.573Z"
   },
   {
    "duration": 20,
    "start_time": "2023-02-27T14:09:45.585Z"
   },
   {
    "duration": 16,
    "start_time": "2023-02-27T14:09:45.607Z"
   },
   {
    "duration": 24,
    "start_time": "2023-02-27T14:09:45.624Z"
   },
   {
    "duration": 7,
    "start_time": "2023-02-27T14:09:45.650Z"
   },
   {
    "duration": 6,
    "start_time": "2023-02-27T14:09:45.658Z"
   },
   {
    "duration": 4,
    "start_time": "2023-02-27T14:09:45.666Z"
   },
   {
    "duration": 4,
    "start_time": "2023-02-27T14:09:45.672Z"
   },
   {
    "duration": 13,
    "start_time": "2023-02-27T14:09:45.678Z"
   },
   {
    "duration": 41,
    "start_time": "2023-02-27T14:09:45.692Z"
   },
   {
    "duration": 14,
    "start_time": "2023-02-27T14:09:45.735Z"
   },
   {
    "duration": 10,
    "start_time": "2023-02-27T14:09:45.750Z"
   },
   {
    "duration": 5,
    "start_time": "2023-02-27T14:09:45.762Z"
   },
   {
    "duration": 7,
    "start_time": "2023-02-27T14:09:45.768Z"
   },
   {
    "duration": 11,
    "start_time": "2023-02-27T14:09:45.776Z"
   },
   {
    "duration": 170,
    "start_time": "2023-02-27T14:09:45.788Z"
   },
   {
    "duration": 7,
    "start_time": "2023-02-27T14:09:45.959Z"
   },
   {
    "duration": 20,
    "start_time": "2023-02-27T14:09:45.967Z"
   },
   {
    "duration": 11,
    "start_time": "2023-02-27T14:09:45.989Z"
   },
   {
    "duration": 35,
    "start_time": "2023-02-27T14:09:46.002Z"
   },
   {
    "duration": 6,
    "start_time": "2023-02-27T14:09:46.038Z"
   },
   {
    "duration": 309,
    "start_time": "2023-02-27T14:09:46.046Z"
   },
   {
    "duration": 352,
    "start_time": "2023-02-27T14:09:46.357Z"
   },
   {
    "duration": 12,
    "start_time": "2023-02-27T14:09:46.717Z"
   },
   {
    "duration": 29,
    "start_time": "2023-02-27T14:09:46.734Z"
   },
   {
    "duration": 279,
    "start_time": "2023-02-27T14:09:46.765Z"
   },
   {
    "duration": 350,
    "start_time": "2023-02-27T14:09:47.046Z"
   },
   {
    "duration": 278,
    "start_time": "2023-02-27T14:09:47.398Z"
   },
   {
    "duration": 374,
    "start_time": "2023-02-27T14:09:47.678Z"
   },
   {
    "duration": 9,
    "start_time": "2023-02-27T14:09:48.054Z"
   },
   {
    "duration": 150,
    "start_time": "2023-02-27T14:09:48.065Z"
   },
   {
    "duration": 166,
    "start_time": "2023-02-27T14:09:48.228Z"
   },
   {
    "duration": 4,
    "start_time": "2023-02-27T14:09:48.396Z"
   },
   {
    "duration": 29,
    "start_time": "2023-02-27T14:09:48.402Z"
   },
   {
    "duration": 246,
    "start_time": "2023-02-27T14:09:48.433Z"
   },
   {
    "duration": 162,
    "start_time": "2023-02-27T14:09:48.680Z"
   },
   {
    "duration": 4,
    "start_time": "2023-02-27T14:09:48.843Z"
   },
   {
    "duration": 9,
    "start_time": "2023-02-27T14:09:48.848Z"
   },
   {
    "duration": 11,
    "start_time": "2023-02-27T14:09:48.858Z"
   },
   {
    "duration": 242,
    "start_time": "2023-02-27T14:09:48.870Z"
   },
   {
    "duration": 150,
    "start_time": "2023-02-27T14:09:49.126Z"
   },
   {
    "duration": 50,
    "start_time": "2023-02-27T14:09:49.278Z"
   },
   {
    "duration": 12,
    "start_time": "2023-02-27T14:09:49.338Z"
   },
   {
    "duration": 8,
    "start_time": "2023-02-27T14:09:49.352Z"
   },
   {
    "duration": 9,
    "start_time": "2023-02-27T14:09:49.362Z"
   },
   {
    "duration": 7,
    "start_time": "2023-02-27T14:09:49.372Z"
   },
   {
    "duration": 50,
    "start_time": "2023-02-27T14:09:49.381Z"
   },
   {
    "duration": 18,
    "start_time": "2023-02-27T14:09:49.433Z"
   },
   {
    "duration": 1145,
    "start_time": "2023-02-28T09:32:48.865Z"
   },
   {
    "duration": 249,
    "start_time": "2023-02-28T09:32:50.012Z"
   },
   {
    "duration": 11,
    "start_time": "2023-02-28T09:32:50.263Z"
   },
   {
    "duration": 9,
    "start_time": "2023-02-28T09:32:50.276Z"
   },
   {
    "duration": 12,
    "start_time": "2023-02-28T09:32:50.286Z"
   },
   {
    "duration": 6,
    "start_time": "2023-02-28T09:32:50.300Z"
   },
   {
    "duration": 17,
    "start_time": "2023-02-28T09:32:50.307Z"
   },
   {
    "duration": 10,
    "start_time": "2023-02-28T09:32:50.326Z"
   },
   {
    "duration": 18,
    "start_time": "2023-02-28T09:32:50.338Z"
   },
   {
    "duration": 12,
    "start_time": "2023-02-28T09:32:50.358Z"
   },
   {
    "duration": 14,
    "start_time": "2023-02-28T09:32:50.371Z"
   },
   {
    "duration": 7,
    "start_time": "2023-02-28T09:32:50.386Z"
   },
   {
    "duration": 10,
    "start_time": "2023-02-28T09:32:50.394Z"
   },
   {
    "duration": 10,
    "start_time": "2023-02-28T09:32:50.406Z"
   },
   {
    "duration": 5,
    "start_time": "2023-02-28T09:32:50.417Z"
   },
   {
    "duration": 7,
    "start_time": "2023-02-28T09:32:50.424Z"
   },
   {
    "duration": 9,
    "start_time": "2023-02-28T09:32:50.433Z"
   },
   {
    "duration": 16,
    "start_time": "2023-02-28T09:32:50.444Z"
   },
   {
    "duration": 5,
    "start_time": "2023-02-28T09:32:50.462Z"
   },
   {
    "duration": 17,
    "start_time": "2023-02-28T09:32:50.468Z"
   },
   {
    "duration": 6,
    "start_time": "2023-02-28T09:32:50.503Z"
   },
   {
    "duration": 6,
    "start_time": "2023-02-28T09:32:50.511Z"
   },
   {
    "duration": 7,
    "start_time": "2023-02-28T09:32:50.518Z"
   },
   {
    "duration": 5,
    "start_time": "2023-02-28T09:32:50.527Z"
   },
   {
    "duration": 16,
    "start_time": "2023-02-28T09:32:50.534Z"
   },
   {
    "duration": 10,
    "start_time": "2023-02-28T09:32:50.552Z"
   },
   {
    "duration": 43,
    "start_time": "2023-02-28T09:32:50.564Z"
   },
   {
    "duration": 12,
    "start_time": "2023-02-28T09:32:50.611Z"
   },
   {
    "duration": 5,
    "start_time": "2023-02-28T09:32:50.625Z"
   },
   {
    "duration": 9,
    "start_time": "2023-02-28T09:32:50.632Z"
   },
   {
    "duration": 11,
    "start_time": "2023-02-28T09:32:50.642Z"
   },
   {
    "duration": 168,
    "start_time": "2023-02-28T09:32:50.654Z"
   },
   {
    "duration": 7,
    "start_time": "2023-02-28T09:32:50.824Z"
   },
   {
    "duration": 13,
    "start_time": "2023-02-28T09:32:50.832Z"
   },
   {
    "duration": 13,
    "start_time": "2023-02-28T09:32:50.847Z"
   },
   {
    "duration": 16,
    "start_time": "2023-02-28T09:32:50.861Z"
   },
   {
    "duration": 25,
    "start_time": "2023-02-28T09:32:50.879Z"
   },
   {
    "duration": 320,
    "start_time": "2023-02-28T09:32:50.906Z"
   },
   {
    "duration": 308,
    "start_time": "2023-02-28T09:32:51.228Z"
   },
   {
    "duration": 9,
    "start_time": "2023-02-28T09:32:51.538Z"
   },
   {
    "duration": 18,
    "start_time": "2023-02-28T09:32:51.549Z"
   },
   {
    "duration": 234,
    "start_time": "2023-02-28T09:32:51.569Z"
   },
   {
    "duration": 339,
    "start_time": "2023-02-28T09:32:51.805Z"
   },
   {
    "duration": 251,
    "start_time": "2023-02-28T09:32:52.146Z"
   },
   {
    "duration": 349,
    "start_time": "2023-02-28T09:32:52.399Z"
   },
   {
    "duration": 8,
    "start_time": "2023-02-28T09:32:52.750Z"
   },
   {
    "duration": 145,
    "start_time": "2023-02-28T09:32:52.759Z"
   },
   {
    "duration": 157,
    "start_time": "2023-02-28T09:32:52.906Z"
   },
   {
    "duration": 5,
    "start_time": "2023-02-28T09:32:53.065Z"
   },
   {
    "duration": 15,
    "start_time": "2023-02-28T09:32:53.071Z"
   },
   {
    "duration": 241,
    "start_time": "2023-02-28T09:32:53.088Z"
   },
   {
    "duration": 157,
    "start_time": "2023-02-28T09:32:53.331Z"
   },
   {
    "duration": 16,
    "start_time": "2023-02-28T09:32:53.489Z"
   },
   {
    "duration": 24,
    "start_time": "2023-02-28T09:32:53.507Z"
   },
   {
    "duration": 14,
    "start_time": "2023-02-28T09:32:53.533Z"
   },
   {
    "duration": 220,
    "start_time": "2023-02-28T09:32:53.548Z"
   },
   {
    "duration": 124,
    "start_time": "2023-02-28T09:32:53.770Z"
   },
   {
    "duration": 26,
    "start_time": "2023-02-28T09:32:53.904Z"
   },
   {
    "duration": 10,
    "start_time": "2023-02-28T09:32:53.932Z"
   },
   {
    "duration": 15,
    "start_time": "2023-02-28T09:32:53.944Z"
   },
   {
    "duration": 9,
    "start_time": "2023-02-28T09:32:53.961Z"
   },
   {
    "duration": 19,
    "start_time": "2023-02-28T09:32:53.971Z"
   },
   {
    "duration": 42,
    "start_time": "2023-02-28T09:32:53.991Z"
   },
   {
    "duration": 14,
    "start_time": "2023-02-28T09:32:54.035Z"
   },
   {
    "duration": 6,
    "start_time": "2023-02-28T09:33:20.877Z"
   },
   {
    "duration": 1236,
    "start_time": "2023-02-28T09:33:29.293Z"
   },
   {
    "duration": 76,
    "start_time": "2023-02-28T09:33:30.531Z"
   },
   {
    "duration": 14,
    "start_time": "2023-02-28T09:33:30.608Z"
   },
   {
    "duration": 22,
    "start_time": "2023-02-28T09:33:30.624Z"
   },
   {
    "duration": 22,
    "start_time": "2023-02-28T09:33:30.647Z"
   },
   {
    "duration": 39,
    "start_time": "2023-02-28T09:33:30.670Z"
   },
   {
    "duration": 42,
    "start_time": "2023-02-28T09:33:30.710Z"
   },
   {
    "duration": 33,
    "start_time": "2023-02-28T09:33:30.754Z"
   },
   {
    "duration": 52,
    "start_time": "2023-02-28T09:33:30.788Z"
   },
   {
    "duration": 36,
    "start_time": "2023-02-28T09:33:30.842Z"
   },
   {
    "duration": 39,
    "start_time": "2023-02-28T09:33:30.880Z"
   },
   {
    "duration": 39,
    "start_time": "2023-02-28T09:33:30.921Z"
   },
   {
    "duration": 15,
    "start_time": "2023-02-28T09:33:30.961Z"
   },
   {
    "duration": 31,
    "start_time": "2023-02-28T09:33:30.978Z"
   },
   {
    "duration": 25,
    "start_time": "2023-02-28T09:33:31.011Z"
   },
   {
    "duration": 28,
    "start_time": "2023-02-28T09:33:31.037Z"
   },
   {
    "duration": 43,
    "start_time": "2023-02-28T09:33:31.067Z"
   },
   {
    "duration": 41,
    "start_time": "2023-02-28T09:33:31.112Z"
   },
   {
    "duration": 19,
    "start_time": "2023-02-28T09:33:31.155Z"
   },
   {
    "duration": 31,
    "start_time": "2023-02-28T09:33:31.176Z"
   },
   {
    "duration": 31,
    "start_time": "2023-02-28T09:33:31.209Z"
   },
   {
    "duration": 24,
    "start_time": "2023-02-28T09:33:31.242Z"
   },
   {
    "duration": 13,
    "start_time": "2023-02-28T09:33:31.268Z"
   },
   {
    "duration": 25,
    "start_time": "2023-02-28T09:33:31.283Z"
   },
   {
    "duration": 20,
    "start_time": "2023-02-28T09:33:31.310Z"
   },
   {
    "duration": 11,
    "start_time": "2023-02-28T09:33:31.331Z"
   },
   {
    "duration": 17,
    "start_time": "2023-02-28T09:33:31.344Z"
   },
   {
    "duration": 38,
    "start_time": "2023-02-28T09:33:31.364Z"
   },
   {
    "duration": 28,
    "start_time": "2023-02-28T09:33:31.404Z"
   },
   {
    "duration": 17,
    "start_time": "2023-02-28T09:33:31.433Z"
   },
   {
    "duration": 30,
    "start_time": "2023-02-28T09:33:31.452Z"
   },
   {
    "duration": 164,
    "start_time": "2023-02-28T09:33:31.484Z"
   },
   {
    "duration": 7,
    "start_time": "2023-02-28T09:33:31.649Z"
   },
   {
    "duration": 23,
    "start_time": "2023-02-28T09:33:31.658Z"
   },
   {
    "duration": 31,
    "start_time": "2023-02-28T09:33:31.683Z"
   },
   {
    "duration": 32,
    "start_time": "2023-02-28T09:33:31.716Z"
   },
   {
    "duration": 4,
    "start_time": "2023-02-28T09:33:31.750Z"
   },
   {
    "duration": 329,
    "start_time": "2023-02-28T09:33:31.756Z"
   },
   {
    "duration": 311,
    "start_time": "2023-02-28T09:33:32.087Z"
   },
   {
    "duration": 10,
    "start_time": "2023-02-28T09:33:32.400Z"
   },
   {
    "duration": 27,
    "start_time": "2023-02-28T09:33:32.411Z"
   },
   {
    "duration": 226,
    "start_time": "2023-02-28T09:33:32.440Z"
   },
   {
    "duration": 362,
    "start_time": "2023-02-28T09:33:32.668Z"
   },
   {
    "duration": 256,
    "start_time": "2023-02-28T09:33:33.032Z"
   },
   {
    "duration": 345,
    "start_time": "2023-02-28T09:33:33.289Z"
   },
   {
    "duration": 8,
    "start_time": "2023-02-28T09:33:33.636Z"
   },
   {
    "duration": 138,
    "start_time": "2023-02-28T09:33:33.645Z"
   },
   {
    "duration": 167,
    "start_time": "2023-02-28T09:33:33.784Z"
   },
   {
    "duration": 4,
    "start_time": "2023-02-28T09:33:33.953Z"
   },
   {
    "duration": 18,
    "start_time": "2023-02-28T09:33:33.958Z"
   },
   {
    "duration": 227,
    "start_time": "2023-02-28T09:33:33.978Z"
   },
   {
    "duration": 154,
    "start_time": "2023-02-28T09:33:34.206Z"
   },
   {
    "duration": 5,
    "start_time": "2023-02-28T09:33:34.362Z"
   },
   {
    "duration": 31,
    "start_time": "2023-02-28T09:33:34.368Z"
   },
   {
    "duration": 23,
    "start_time": "2023-02-28T09:33:34.401Z"
   },
   {
    "duration": 213,
    "start_time": "2023-02-28T09:33:34.425Z"
   },
   {
    "duration": 139,
    "start_time": "2023-02-28T09:33:34.640Z"
   },
   {
    "duration": 38,
    "start_time": "2023-02-28T09:33:34.781Z"
   },
   {
    "duration": 10,
    "start_time": "2023-02-28T09:33:34.820Z"
   },
   {
    "duration": 24,
    "start_time": "2023-02-28T09:33:34.831Z"
   },
   {
    "duration": 30,
    "start_time": "2023-02-28T09:33:34.856Z"
   },
   {
    "duration": 21,
    "start_time": "2023-02-28T09:33:34.887Z"
   },
   {
    "duration": 53,
    "start_time": "2023-02-28T09:33:34.909Z"
   },
   {
    "duration": 14,
    "start_time": "2023-02-28T09:33:34.964Z"
   }
  ],
  "kernelspec": {
   "display_name": "Python 3 (ipykernel)",
   "language": "python",
   "name": "python3"
  },
  "language_info": {
   "codemirror_mode": {
    "name": "ipython",
    "version": 3
   },
   "file_extension": ".py",
   "mimetype": "text/x-python",
   "name": "python",
   "nbconvert_exporter": "python",
   "pygments_lexer": "ipython3",
   "version": "3.11.3"
  },
  "toc": {
   "base_numbering": 1,
   "nav_menu": {},
   "number_sections": true,
   "sideBar": true,
   "skip_h1_title": true,
   "title_cell": "Table of Contents",
   "title_sidebar": "Contents",
   "toc_cell": false,
   "toc_position": {
    "height": "calc(100% - 180px)",
    "left": "10px",
    "top": "150px",
    "width": "165px"
   },
   "toc_section_display": true,
   "toc_window_display": true
  }
 },
 "nbformat": 4,
 "nbformat_minor": 2
}

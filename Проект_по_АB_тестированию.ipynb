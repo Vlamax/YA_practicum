{
 "cells": [
  {
   "cell_type": "markdown",
   "id": "570e13fb",
   "metadata": {},
   "source": [
    "# A/B-тестирование"
   ]
  },
  {
   "cell_type": "markdown",
   "id": "a6d9077f",
   "metadata": {},
   "source": [
    "## Задача "
   ]
  },
  {
   "cell_type": "markdown",
   "id": "113fde3a",
   "metadata": {},
   "source": [
    "Провести оценку результатов A/B-теста. В нашем распоряжении есть датасет с действиями пользователей, техническое задание и несколько вспомогательных датасетов."
   ]
  },
  {
   "cell_type": "markdown",
   "id": "22bcb0bd",
   "metadata": {},
   "source": [
    "## Цель"
   ]
  },
  {
   "cell_type": "markdown",
   "id": "032ba2f9",
   "metadata": {},
   "source": [
    "Оценить корректность проведения теста и проанализировать его результаты:\n",
    "- удостовериться, что нет пересечений с конкурирующим тестом и нет пользователей, участвующих в двух группах теста одновременно;\n",
    "- проверить равномерность распределения пользователей по тестовым группам и правильность их формирования."
   ]
  },
  {
   "cell_type": "code",
   "execution_count": 1,
   "id": "24c4a1da",
   "metadata": {},
   "outputs": [
    {
     "name": "stdout",
     "output_type": "stream",
     "text": [
      "Requirement already satisfied: kaleido in d:\\games\\anaconda\\lib\\site-packages (0.2.1)Note: you may need to restart the kernel to use updated packages.\n",
      "\n"
     ]
    }
   ],
   "source": [
    "pip install -U kaleido"
   ]
  },
  {
   "cell_type": "code",
   "execution_count": 2,
   "id": "5e03acde",
   "metadata": {},
   "outputs": [],
   "source": [
    "# импортируем библиотеки, которые нам понадобятся в дальнейшем\n",
    "import warnings\n",
    "warnings.filterwarnings('ignore')\n",
    "warnings.simplefilter('ignore')\n",
    "import pandas as pd\n",
    "import numpy as np\n",
    "from IPython.display import display\n",
    "import warnings\n",
    "import scipy.stats as stats\n",
    "from datetime import datetime, timedelta\n",
    "import plotly.express as px\n",
    "from plotly import graph_objects as go\n",
    "from statsmodels.stats.weightstats import ztest as ztest\n",
    "pd.options.mode.chained_assignment = None"
   ]
  },
  {
   "cell_type": "code",
   "execution_count": 3,
   "id": "1b5e7c19",
   "metadata": {},
   "outputs": [],
   "source": [
    "try:\n",
    "    fa_events = pd.read_csv('/datasets/final_ab_events.csv', sep=',')\n",
    "    fa_participants = pd.read_csv('/datasets/final_ab_participants.csv', sep=',')\n",
    "    fa_new_users = pd.read_csv('/datasets/final_ab_new_users.csv', sep=',')\n",
    "    apm_events = pd.read_csv('/datasets/ab_project_marketing_events.csv', sep=',')\n",
    "except:  \n",
    "    fa_events = pd.read_csv(r'D:\\Python\\final_ab_events.csv', sep=',')\n",
    "    fa_participants = pd.read_csv(r'D:\\Python\\final_ab_participants.csv', sep=',')\n",
    "    fa_new_users = pd.read_csv(r'D:\\Python\\final_ab_new_users.csv', sep=',')\n",
    "    apm_events = pd.read_csv(r'D:\\Python\\ab_project_marketing_events.csv', sep=',')"
   ]
  },
  {
   "cell_type": "markdown",
   "id": "2ead0b44",
   "metadata": {},
   "source": [
    "## Предобработка данных"
   ]
  },
  {
   "cell_type": "code",
   "execution_count": 4,
   "id": "81674271",
   "metadata": {},
   "outputs": [],
   "source": [
    "# создадим функцию для удобства просмотра информации о датасетах\n",
    "def info_df(i):\n",
    "    display(i.head()),\n",
    "    i.info(),\n",
    "    display(i.describe()),\n",
    "    display(i.value_counts()),\n",
    "    print('Всего дубликатов: ', i.duplicated().sum()),\n",
    "    print('Всего пропусков: ', i.isna().sum())"
   ]
  },
  {
   "cell_type": "code",
   "execution_count": 5,
   "id": "460cc312",
   "metadata": {},
   "outputs": [
    {
     "data": {
      "text/html": [
       "<div>\n",
       "<style scoped>\n",
       "    .dataframe tbody tr th:only-of-type {\n",
       "        vertical-align: middle;\n",
       "    }\n",
       "\n",
       "    .dataframe tbody tr th {\n",
       "        vertical-align: top;\n",
       "    }\n",
       "\n",
       "    .dataframe thead th {\n",
       "        text-align: right;\n",
       "    }\n",
       "</style>\n",
       "<table border=\"1\" class=\"dataframe\">\n",
       "  <thead>\n",
       "    <tr style=\"text-align: right;\">\n",
       "      <th></th>\n",
       "      <th>user_id</th>\n",
       "      <th>event_dt</th>\n",
       "      <th>event_name</th>\n",
       "      <th>details</th>\n",
       "    </tr>\n",
       "  </thead>\n",
       "  <tbody>\n",
       "    <tr>\n",
       "      <th>0</th>\n",
       "      <td>E1BDDCE0DAFA2679</td>\n",
       "      <td>2020-12-07 20:22:03</td>\n",
       "      <td>purchase</td>\n",
       "      <td>99.99</td>\n",
       "    </tr>\n",
       "    <tr>\n",
       "      <th>1</th>\n",
       "      <td>7B6452F081F49504</td>\n",
       "      <td>2020-12-07 09:22:53</td>\n",
       "      <td>purchase</td>\n",
       "      <td>9.99</td>\n",
       "    </tr>\n",
       "    <tr>\n",
       "      <th>2</th>\n",
       "      <td>9CD9F34546DF254C</td>\n",
       "      <td>2020-12-07 12:59:29</td>\n",
       "      <td>purchase</td>\n",
       "      <td>4.99</td>\n",
       "    </tr>\n",
       "    <tr>\n",
       "      <th>3</th>\n",
       "      <td>96F27A054B191457</td>\n",
       "      <td>2020-12-07 04:02:40</td>\n",
       "      <td>purchase</td>\n",
       "      <td>4.99</td>\n",
       "    </tr>\n",
       "    <tr>\n",
       "      <th>4</th>\n",
       "      <td>1FD7660FDF94CA1F</td>\n",
       "      <td>2020-12-07 10:15:09</td>\n",
       "      <td>purchase</td>\n",
       "      <td>4.99</td>\n",
       "    </tr>\n",
       "  </tbody>\n",
       "</table>\n",
       "</div>"
      ],
      "text/plain": [
       "            user_id             event_dt event_name  details\n",
       "0  E1BDDCE0DAFA2679  2020-12-07 20:22:03   purchase    99.99\n",
       "1  7B6452F081F49504  2020-12-07 09:22:53   purchase     9.99\n",
       "2  9CD9F34546DF254C  2020-12-07 12:59:29   purchase     4.99\n",
       "3  96F27A054B191457  2020-12-07 04:02:40   purchase     4.99\n",
       "4  1FD7660FDF94CA1F  2020-12-07 10:15:09   purchase     4.99"
      ]
     },
     "metadata": {},
     "output_type": "display_data"
    },
    {
     "name": "stdout",
     "output_type": "stream",
     "text": [
      "<class 'pandas.core.frame.DataFrame'>\n",
      "RangeIndex: 440317 entries, 0 to 440316\n",
      "Data columns (total 4 columns):\n",
      " #   Column      Non-Null Count   Dtype  \n",
      "---  ------      --------------   -----  \n",
      " 0   user_id     440317 non-null  object \n",
      " 1   event_dt    440317 non-null  object \n",
      " 2   event_name  440317 non-null  object \n",
      " 3   details     62740 non-null   float64\n",
      "dtypes: float64(1), object(3)\n",
      "memory usage: 13.4+ MB\n"
     ]
    },
    {
     "data": {
      "text/html": [
       "<div>\n",
       "<style scoped>\n",
       "    .dataframe tbody tr th:only-of-type {\n",
       "        vertical-align: middle;\n",
       "    }\n",
       "\n",
       "    .dataframe tbody tr th {\n",
       "        vertical-align: top;\n",
       "    }\n",
       "\n",
       "    .dataframe thead th {\n",
       "        text-align: right;\n",
       "    }\n",
       "</style>\n",
       "<table border=\"1\" class=\"dataframe\">\n",
       "  <thead>\n",
       "    <tr style=\"text-align: right;\">\n",
       "      <th></th>\n",
       "      <th>details</th>\n",
       "    </tr>\n",
       "  </thead>\n",
       "  <tbody>\n",
       "    <tr>\n",
       "      <th>count</th>\n",
       "      <td>62740.000000</td>\n",
       "    </tr>\n",
       "    <tr>\n",
       "      <th>mean</th>\n",
       "      <td>23.877631</td>\n",
       "    </tr>\n",
       "    <tr>\n",
       "      <th>std</th>\n",
       "      <td>72.180465</td>\n",
       "    </tr>\n",
       "    <tr>\n",
       "      <th>min</th>\n",
       "      <td>4.990000</td>\n",
       "    </tr>\n",
       "    <tr>\n",
       "      <th>25%</th>\n",
       "      <td>4.990000</td>\n",
       "    </tr>\n",
       "    <tr>\n",
       "      <th>50%</th>\n",
       "      <td>4.990000</td>\n",
       "    </tr>\n",
       "    <tr>\n",
       "      <th>75%</th>\n",
       "      <td>9.990000</td>\n",
       "    </tr>\n",
       "    <tr>\n",
       "      <th>max</th>\n",
       "      <td>499.990000</td>\n",
       "    </tr>\n",
       "  </tbody>\n",
       "</table>\n",
       "</div>"
      ],
      "text/plain": [
       "            details\n",
       "count  62740.000000\n",
       "mean      23.877631\n",
       "std       72.180465\n",
       "min        4.990000\n",
       "25%        4.990000\n",
       "50%        4.990000\n",
       "75%        9.990000\n",
       "max      499.990000"
      ]
     },
     "metadata": {},
     "output_type": "display_data"
    },
    {
     "data": {
      "text/plain": [
       "user_id           event_dt             event_name  details\n",
       "000199F1887AE5E6  2020-12-14 09:56:09  purchase    4.99       1\n",
       "A9ED1B6A4C9AE26A  2020-12-29 12:26:50  purchase    4.99       1\n",
       "A9EE24521E7EACC1  2020-12-12 18:56:05  purchase    9.99       1\n",
       "                  2020-12-13 12:12:30  purchase    4.99       1\n",
       "                  2020-12-14 02:12:41  purchase    4.99       1\n",
       "                                                             ..\n",
       "53C62312FEE05432  2020-12-22 14:12:41  purchase    9.99       1\n",
       "                  2020-12-25 10:57:28  purchase    4.99       1\n",
       "                  2020-12-27 08:25:36  purchase    4.99       1\n",
       "53C7EB754EB9F9C4  2020-12-17 11:36:36  purchase    4.99       1\n",
       "FFF8FDBE2FE99C91  2020-12-23 02:40:19  purchase    4.99       1\n",
       "Length: 62740, dtype: int64"
      ]
     },
     "metadata": {},
     "output_type": "display_data"
    },
    {
     "name": "stdout",
     "output_type": "stream",
     "text": [
      "Всего дубликатов:  0\n",
      "Всего пропусков:  user_id            0\n",
      "event_dt           0\n",
      "event_name         0\n",
      "details       377577\n",
      "dtype: int64\n"
     ]
    }
   ],
   "source": [
    "info_df(fa_events)"
   ]
  },
  {
   "cell_type": "code",
   "execution_count": 6,
   "id": "e38aaa50",
   "metadata": {},
   "outputs": [
    {
     "data": {
      "text/html": [
       "<div>\n",
       "<style scoped>\n",
       "    .dataframe tbody tr th:only-of-type {\n",
       "        vertical-align: middle;\n",
       "    }\n",
       "\n",
       "    .dataframe tbody tr th {\n",
       "        vertical-align: top;\n",
       "    }\n",
       "\n",
       "    .dataframe thead th {\n",
       "        text-align: right;\n",
       "    }\n",
       "</style>\n",
       "<table border=\"1\" class=\"dataframe\">\n",
       "  <thead>\n",
       "    <tr style=\"text-align: right;\">\n",
       "      <th></th>\n",
       "      <th>user_id</th>\n",
       "      <th>group</th>\n",
       "      <th>ab_test</th>\n",
       "    </tr>\n",
       "  </thead>\n",
       "  <tbody>\n",
       "    <tr>\n",
       "      <th>0</th>\n",
       "      <td>D1ABA3E2887B6A73</td>\n",
       "      <td>A</td>\n",
       "      <td>recommender_system_test</td>\n",
       "    </tr>\n",
       "    <tr>\n",
       "      <th>1</th>\n",
       "      <td>A7A3664BD6242119</td>\n",
       "      <td>A</td>\n",
       "      <td>recommender_system_test</td>\n",
       "    </tr>\n",
       "    <tr>\n",
       "      <th>2</th>\n",
       "      <td>DABC14FDDFADD29E</td>\n",
       "      <td>A</td>\n",
       "      <td>recommender_system_test</td>\n",
       "    </tr>\n",
       "    <tr>\n",
       "      <th>3</th>\n",
       "      <td>04988C5DF189632E</td>\n",
       "      <td>A</td>\n",
       "      <td>recommender_system_test</td>\n",
       "    </tr>\n",
       "    <tr>\n",
       "      <th>4</th>\n",
       "      <td>482F14783456D21B</td>\n",
       "      <td>B</td>\n",
       "      <td>recommender_system_test</td>\n",
       "    </tr>\n",
       "  </tbody>\n",
       "</table>\n",
       "</div>"
      ],
      "text/plain": [
       "            user_id group                  ab_test\n",
       "0  D1ABA3E2887B6A73     A  recommender_system_test\n",
       "1  A7A3664BD6242119     A  recommender_system_test\n",
       "2  DABC14FDDFADD29E     A  recommender_system_test\n",
       "3  04988C5DF189632E     A  recommender_system_test\n",
       "4  482F14783456D21B     B  recommender_system_test"
      ]
     },
     "metadata": {},
     "output_type": "display_data"
    },
    {
     "name": "stdout",
     "output_type": "stream",
     "text": [
      "<class 'pandas.core.frame.DataFrame'>\n",
      "RangeIndex: 18268 entries, 0 to 18267\n",
      "Data columns (total 3 columns):\n",
      " #   Column   Non-Null Count  Dtype \n",
      "---  ------   --------------  ----- \n",
      " 0   user_id  18268 non-null  object\n",
      " 1   group    18268 non-null  object\n",
      " 2   ab_test  18268 non-null  object\n",
      "dtypes: object(3)\n",
      "memory usage: 428.3+ KB\n"
     ]
    },
    {
     "data": {
      "text/html": [
       "<div>\n",
       "<style scoped>\n",
       "    .dataframe tbody tr th:only-of-type {\n",
       "        vertical-align: middle;\n",
       "    }\n",
       "\n",
       "    .dataframe tbody tr th {\n",
       "        vertical-align: top;\n",
       "    }\n",
       "\n",
       "    .dataframe thead th {\n",
       "        text-align: right;\n",
       "    }\n",
       "</style>\n",
       "<table border=\"1\" class=\"dataframe\">\n",
       "  <thead>\n",
       "    <tr style=\"text-align: right;\">\n",
       "      <th></th>\n",
       "      <th>user_id</th>\n",
       "      <th>group</th>\n",
       "      <th>ab_test</th>\n",
       "    </tr>\n",
       "  </thead>\n",
       "  <tbody>\n",
       "    <tr>\n",
       "      <th>count</th>\n",
       "      <td>18268</td>\n",
       "      <td>18268</td>\n",
       "      <td>18268</td>\n",
       "    </tr>\n",
       "    <tr>\n",
       "      <th>unique</th>\n",
       "      <td>16666</td>\n",
       "      <td>2</td>\n",
       "      <td>2</td>\n",
       "    </tr>\n",
       "    <tr>\n",
       "      <th>top</th>\n",
       "      <td>0FDFDA0B2DEC2D91</td>\n",
       "      <td>A</td>\n",
       "      <td>interface_eu_test</td>\n",
       "    </tr>\n",
       "    <tr>\n",
       "      <th>freq</th>\n",
       "      <td>2</td>\n",
       "      <td>9655</td>\n",
       "      <td>11567</td>\n",
       "    </tr>\n",
       "  </tbody>\n",
       "</table>\n",
       "</div>"
      ],
      "text/plain": [
       "                 user_id  group            ab_test\n",
       "count              18268  18268              18268\n",
       "unique             16666      2                  2\n",
       "top     0FDFDA0B2DEC2D91      A  interface_eu_test\n",
       "freq                   2   9655              11567"
      ]
     },
     "metadata": {},
     "output_type": "display_data"
    },
    {
     "data": {
      "text/plain": [
       "user_id           group  ab_test                \n",
       "0002CE61FF2C4011  A      interface_eu_test          1\n",
       "AA302D044EB2BED4  B      recommender_system_test    1\n",
       "AA55A2BDAE39BECC  B      recommender_system_test    1\n",
       "AA559B5A4F3F5E61  A      recommender_system_test    1\n",
       "AA49424D3F80982D  A      interface_eu_test          1\n",
       "                                                   ..\n",
       "564A51795FD96FEA  A      interface_eu_test          1\n",
       "564B9FE4D8A7B2BA  B      interface_eu_test          1\n",
       "564F31145C1EEDB4  A      interface_eu_test          1\n",
       "5650B53B91DC98BB  A      interface_eu_test          1\n",
       "FFF58BC33966EB51  B      interface_eu_test          1\n",
       "Length: 18268, dtype: int64"
      ]
     },
     "metadata": {},
     "output_type": "display_data"
    },
    {
     "name": "stdout",
     "output_type": "stream",
     "text": [
      "Всего дубликатов:  0\n",
      "Всего пропусков:  user_id    0\n",
      "group      0\n",
      "ab_test    0\n",
      "dtype: int64\n"
     ]
    }
   ],
   "source": [
    "info_df(fa_participants)"
   ]
  },
  {
   "cell_type": "code",
   "execution_count": 7,
   "id": "ce11f67b",
   "metadata": {},
   "outputs": [
    {
     "data": {
      "text/html": [
       "<div>\n",
       "<style scoped>\n",
       "    .dataframe tbody tr th:only-of-type {\n",
       "        vertical-align: middle;\n",
       "    }\n",
       "\n",
       "    .dataframe tbody tr th {\n",
       "        vertical-align: top;\n",
       "    }\n",
       "\n",
       "    .dataframe thead th {\n",
       "        text-align: right;\n",
       "    }\n",
       "</style>\n",
       "<table border=\"1\" class=\"dataframe\">\n",
       "  <thead>\n",
       "    <tr style=\"text-align: right;\">\n",
       "      <th></th>\n",
       "      <th>user_id</th>\n",
       "      <th>first_date</th>\n",
       "      <th>region</th>\n",
       "      <th>device</th>\n",
       "    </tr>\n",
       "  </thead>\n",
       "  <tbody>\n",
       "    <tr>\n",
       "      <th>0</th>\n",
       "      <td>D72A72121175D8BE</td>\n",
       "      <td>2020-12-07</td>\n",
       "      <td>EU</td>\n",
       "      <td>PC</td>\n",
       "    </tr>\n",
       "    <tr>\n",
       "      <th>1</th>\n",
       "      <td>F1C668619DFE6E65</td>\n",
       "      <td>2020-12-07</td>\n",
       "      <td>N.America</td>\n",
       "      <td>Android</td>\n",
       "    </tr>\n",
       "    <tr>\n",
       "      <th>2</th>\n",
       "      <td>2E1BF1D4C37EA01F</td>\n",
       "      <td>2020-12-07</td>\n",
       "      <td>EU</td>\n",
       "      <td>PC</td>\n",
       "    </tr>\n",
       "    <tr>\n",
       "      <th>3</th>\n",
       "      <td>50734A22C0C63768</td>\n",
       "      <td>2020-12-07</td>\n",
       "      <td>EU</td>\n",
       "      <td>iPhone</td>\n",
       "    </tr>\n",
       "    <tr>\n",
       "      <th>4</th>\n",
       "      <td>E1BDDCE0DAFA2679</td>\n",
       "      <td>2020-12-07</td>\n",
       "      <td>N.America</td>\n",
       "      <td>iPhone</td>\n",
       "    </tr>\n",
       "  </tbody>\n",
       "</table>\n",
       "</div>"
      ],
      "text/plain": [
       "            user_id  first_date     region   device\n",
       "0  D72A72121175D8BE  2020-12-07         EU       PC\n",
       "1  F1C668619DFE6E65  2020-12-07  N.America  Android\n",
       "2  2E1BF1D4C37EA01F  2020-12-07         EU       PC\n",
       "3  50734A22C0C63768  2020-12-07         EU   iPhone\n",
       "4  E1BDDCE0DAFA2679  2020-12-07  N.America   iPhone"
      ]
     },
     "metadata": {},
     "output_type": "display_data"
    },
    {
     "name": "stdout",
     "output_type": "stream",
     "text": [
      "<class 'pandas.core.frame.DataFrame'>\n",
      "RangeIndex: 61733 entries, 0 to 61732\n",
      "Data columns (total 4 columns):\n",
      " #   Column      Non-Null Count  Dtype \n",
      "---  ------      --------------  ----- \n",
      " 0   user_id     61733 non-null  object\n",
      " 1   first_date  61733 non-null  object\n",
      " 2   region      61733 non-null  object\n",
      " 3   device      61733 non-null  object\n",
      "dtypes: object(4)\n",
      "memory usage: 1.9+ MB\n"
     ]
    },
    {
     "data": {
      "text/html": [
       "<div>\n",
       "<style scoped>\n",
       "    .dataframe tbody tr th:only-of-type {\n",
       "        vertical-align: middle;\n",
       "    }\n",
       "\n",
       "    .dataframe tbody tr th {\n",
       "        vertical-align: top;\n",
       "    }\n",
       "\n",
       "    .dataframe thead th {\n",
       "        text-align: right;\n",
       "    }\n",
       "</style>\n",
       "<table border=\"1\" class=\"dataframe\">\n",
       "  <thead>\n",
       "    <tr style=\"text-align: right;\">\n",
       "      <th></th>\n",
       "      <th>user_id</th>\n",
       "      <th>first_date</th>\n",
       "      <th>region</th>\n",
       "      <th>device</th>\n",
       "    </tr>\n",
       "  </thead>\n",
       "  <tbody>\n",
       "    <tr>\n",
       "      <th>count</th>\n",
       "      <td>61733</td>\n",
       "      <td>61733</td>\n",
       "      <td>61733</td>\n",
       "      <td>61733</td>\n",
       "    </tr>\n",
       "    <tr>\n",
       "      <th>unique</th>\n",
       "      <td>61733</td>\n",
       "      <td>17</td>\n",
       "      <td>4</td>\n",
       "      <td>4</td>\n",
       "    </tr>\n",
       "    <tr>\n",
       "      <th>top</th>\n",
       "      <td>D72A72121175D8BE</td>\n",
       "      <td>2020-12-21</td>\n",
       "      <td>EU</td>\n",
       "      <td>Android</td>\n",
       "    </tr>\n",
       "    <tr>\n",
       "      <th>freq</th>\n",
       "      <td>1</td>\n",
       "      <td>6290</td>\n",
       "      <td>46270</td>\n",
       "      <td>27520</td>\n",
       "    </tr>\n",
       "  </tbody>\n",
       "</table>\n",
       "</div>"
      ],
      "text/plain": [
       "                 user_id  first_date region   device\n",
       "count              61733       61733  61733    61733\n",
       "unique             61733          17      4        4\n",
       "top     D72A72121175D8BE  2020-12-21     EU  Android\n",
       "freq                   1        6290  46270    27520"
      ]
     },
     "metadata": {},
     "output_type": "display_data"
    },
    {
     "data": {
      "text/plain": [
       "user_id           first_date  region     device \n",
       "0001710F4DDB1D1B  2020-12-14  EU         Android    1\n",
       "AA1FF3A07635117C  2020-12-11  EU         PC         1\n",
       "AA4281556A9ECA98  2020-12-09  EU         Mac        1\n",
       "AA43F0C37A670E3B  2020-12-09  EU         Mac        1\n",
       "AA47A433929EE0CD  2020-12-20  N.America  Android    1\n",
       "                                                   ..\n",
       "5543CE8C1906370E  2020-12-15  CIS        iPhone     1\n",
       "5545492A601FE695  2020-12-09  EU         iPhone     1\n",
       "5545992A45085197  2020-12-11  APAC       PC         1\n",
       "554644904BBE54A7  2020-12-12  EU         iPhone     1\n",
       "FFFFE36C0F6E92DF  2020-12-22  N.America  Mac        1\n",
       "Length: 61733, dtype: int64"
      ]
     },
     "metadata": {},
     "output_type": "display_data"
    },
    {
     "name": "stdout",
     "output_type": "stream",
     "text": [
      "Всего дубликатов:  0\n",
      "Всего пропусков:  user_id       0\n",
      "first_date    0\n",
      "region        0\n",
      "device        0\n",
      "dtype: int64\n"
     ]
    }
   ],
   "source": [
    "info_df(fa_new_users)"
   ]
  },
  {
   "cell_type": "code",
   "execution_count": 8,
   "id": "23aca37b",
   "metadata": {},
   "outputs": [
    {
     "data": {
      "text/html": [
       "<div>\n",
       "<style scoped>\n",
       "    .dataframe tbody tr th:only-of-type {\n",
       "        vertical-align: middle;\n",
       "    }\n",
       "\n",
       "    .dataframe tbody tr th {\n",
       "        vertical-align: top;\n",
       "    }\n",
       "\n",
       "    .dataframe thead th {\n",
       "        text-align: right;\n",
       "    }\n",
       "</style>\n",
       "<table border=\"1\" class=\"dataframe\">\n",
       "  <thead>\n",
       "    <tr style=\"text-align: right;\">\n",
       "      <th></th>\n",
       "      <th>name</th>\n",
       "      <th>regions</th>\n",
       "      <th>start_dt</th>\n",
       "      <th>finish_dt</th>\n",
       "    </tr>\n",
       "  </thead>\n",
       "  <tbody>\n",
       "    <tr>\n",
       "      <th>0</th>\n",
       "      <td>Christmas&amp;New Year Promo</td>\n",
       "      <td>EU, N.America</td>\n",
       "      <td>2020-12-25</td>\n",
       "      <td>2021-01-03</td>\n",
       "    </tr>\n",
       "    <tr>\n",
       "      <th>1</th>\n",
       "      <td>St. Valentine's Day Giveaway</td>\n",
       "      <td>EU, CIS, APAC, N.America</td>\n",
       "      <td>2020-02-14</td>\n",
       "      <td>2020-02-16</td>\n",
       "    </tr>\n",
       "    <tr>\n",
       "      <th>2</th>\n",
       "      <td>St. Patric's Day Promo</td>\n",
       "      <td>EU, N.America</td>\n",
       "      <td>2020-03-17</td>\n",
       "      <td>2020-03-19</td>\n",
       "    </tr>\n",
       "    <tr>\n",
       "      <th>3</th>\n",
       "      <td>Easter Promo</td>\n",
       "      <td>EU, CIS, APAC, N.America</td>\n",
       "      <td>2020-04-12</td>\n",
       "      <td>2020-04-19</td>\n",
       "    </tr>\n",
       "    <tr>\n",
       "      <th>4</th>\n",
       "      <td>4th of July Promo</td>\n",
       "      <td>N.America</td>\n",
       "      <td>2020-07-04</td>\n",
       "      <td>2020-07-11</td>\n",
       "    </tr>\n",
       "  </tbody>\n",
       "</table>\n",
       "</div>"
      ],
      "text/plain": [
       "                           name                   regions    start_dt  \\\n",
       "0      Christmas&New Year Promo             EU, N.America  2020-12-25   \n",
       "1  St. Valentine's Day Giveaway  EU, CIS, APAC, N.America  2020-02-14   \n",
       "2        St. Patric's Day Promo             EU, N.America  2020-03-17   \n",
       "3                  Easter Promo  EU, CIS, APAC, N.America  2020-04-12   \n",
       "4             4th of July Promo                 N.America  2020-07-04   \n",
       "\n",
       "    finish_dt  \n",
       "0  2021-01-03  \n",
       "1  2020-02-16  \n",
       "2  2020-03-19  \n",
       "3  2020-04-19  \n",
       "4  2020-07-11  "
      ]
     },
     "metadata": {},
     "output_type": "display_data"
    },
    {
     "name": "stdout",
     "output_type": "stream",
     "text": [
      "<class 'pandas.core.frame.DataFrame'>\n",
      "RangeIndex: 14 entries, 0 to 13\n",
      "Data columns (total 4 columns):\n",
      " #   Column     Non-Null Count  Dtype \n",
      "---  ------     --------------  ----- \n",
      " 0   name       14 non-null     object\n",
      " 1   regions    14 non-null     object\n",
      " 2   start_dt   14 non-null     object\n",
      " 3   finish_dt  14 non-null     object\n",
      "dtypes: object(4)\n",
      "memory usage: 580.0+ bytes\n"
     ]
    },
    {
     "data": {
      "text/html": [
       "<div>\n",
       "<style scoped>\n",
       "    .dataframe tbody tr th:only-of-type {\n",
       "        vertical-align: middle;\n",
       "    }\n",
       "\n",
       "    .dataframe tbody tr th {\n",
       "        vertical-align: top;\n",
       "    }\n",
       "\n",
       "    .dataframe thead th {\n",
       "        text-align: right;\n",
       "    }\n",
       "</style>\n",
       "<table border=\"1\" class=\"dataframe\">\n",
       "  <thead>\n",
       "    <tr style=\"text-align: right;\">\n",
       "      <th></th>\n",
       "      <th>name</th>\n",
       "      <th>regions</th>\n",
       "      <th>start_dt</th>\n",
       "      <th>finish_dt</th>\n",
       "    </tr>\n",
       "  </thead>\n",
       "  <tbody>\n",
       "    <tr>\n",
       "      <th>count</th>\n",
       "      <td>14</td>\n",
       "      <td>14</td>\n",
       "      <td>14</td>\n",
       "      <td>14</td>\n",
       "    </tr>\n",
       "    <tr>\n",
       "      <th>unique</th>\n",
       "      <td>14</td>\n",
       "      <td>6</td>\n",
       "      <td>14</td>\n",
       "      <td>14</td>\n",
       "    </tr>\n",
       "    <tr>\n",
       "      <th>top</th>\n",
       "      <td>Christmas&amp;New Year Promo</td>\n",
       "      <td>APAC</td>\n",
       "      <td>2020-12-25</td>\n",
       "      <td>2021-01-03</td>\n",
       "    </tr>\n",
       "    <tr>\n",
       "      <th>freq</th>\n",
       "      <td>1</td>\n",
       "      <td>4</td>\n",
       "      <td>1</td>\n",
       "      <td>1</td>\n",
       "    </tr>\n",
       "  </tbody>\n",
       "</table>\n",
       "</div>"
      ],
      "text/plain": [
       "                            name regions    start_dt   finish_dt\n",
       "count                         14      14          14          14\n",
       "unique                        14       6          14          14\n",
       "top     Christmas&New Year Promo    APAC  2020-12-25  2021-01-03\n",
       "freq                           1       4           1           1"
      ]
     },
     "metadata": {},
     "output_type": "display_data"
    },
    {
     "data": {
      "text/plain": [
       "name                              regions                   start_dt    finish_dt \n",
       "4th of July Promo                 N.America                 2020-07-04  2020-07-11    1\n",
       "Black Friday Ads Campaign         EU, CIS, APAC, N.America  2020-11-26  2020-12-01    1\n",
       "CIS New Year Gift Lottery         CIS                       2020-12-30  2021-01-07    1\n",
       "Chinese Moon Festival             APAC                      2020-10-01  2020-10-07    1\n",
       "Chinese New Year Promo            APAC                      2020-01-25  2020-02-07    1\n",
       "Christmas&New Year Promo          EU, N.America             2020-12-25  2021-01-03    1\n",
       "Dragon Boat Festival Giveaway     APAC                      2020-06-25  2020-07-01    1\n",
       "Easter Promo                      EU, CIS, APAC, N.America  2020-04-12  2020-04-19    1\n",
       "International Women's Day Promo   EU, CIS, APAC             2020-03-08  2020-03-10    1\n",
       "Labor day (May 1st) Ads Campaign  EU, CIS, APAC             2020-05-01  2020-05-03    1\n",
       "Single's Day Gift Promo           APAC                      2020-11-11  2020-11-12    1\n",
       "St. Patric's Day Promo            EU, N.America             2020-03-17  2020-03-19    1\n",
       "St. Valentine's Day Giveaway      EU, CIS, APAC, N.America  2020-02-14  2020-02-16    1\n",
       "Victory Day CIS (May 9th) Event   CIS                       2020-05-09  2020-05-11    1\n",
       "dtype: int64"
      ]
     },
     "metadata": {},
     "output_type": "display_data"
    },
    {
     "name": "stdout",
     "output_type": "stream",
     "text": [
      "Всего дубликатов:  0\n",
      "Всего пропусков:  name         0\n",
      "regions      0\n",
      "start_dt     0\n",
      "finish_dt    0\n",
      "dtype: int64\n"
     ]
    }
   ],
   "source": [
    "info_df(apm_events)"
   ]
  },
  {
   "cell_type": "markdown",
   "id": "3cec880c",
   "metadata": {},
   "source": [
    "**Подвывод:**\n",
    "\n",
    "- Cтолбцы с датой нужно привести к нужному типу datetime\n",
    "- Cтолбец details датасета fa_events содержит в себе множество пропусков\n",
    "- Дубликаты в данных не выявлены"
   ]
  },
  {
   "cell_type": "code",
   "execution_count": 9,
   "id": "c78960b9",
   "metadata": {},
   "outputs": [
    {
     "data": {
      "text/plain": [
       "4.99      46362\n",
       "9.99       9530\n",
       "99.99      5631\n",
       "499.99     1217\n",
       "Name: details, dtype: int64"
      ]
     },
     "execution_count": 9,
     "metadata": {},
     "output_type": "execute_result"
    }
   ],
   "source": [
    "# посмотрим, что именно в столбце с пропусками \n",
    "fa_events['details'].value_counts()"
   ]
  },
  {
   "cell_type": "markdown",
   "id": "12754acd",
   "metadata": {},
   "source": [
    "В столбце с пропусками обнаружены детали покупок, которые не несут в себе важной информации для исследования, поэтому на них не будем акцентировать внимание, т.к. некоторые покупки могут быть и без дополнительной информации и, следовательно, там и будет пропуск в этом столбце "
   ]
  },
  {
   "cell_type": "code",
   "execution_count": 10,
   "id": "0782b6ec",
   "metadata": {},
   "outputs": [],
   "source": [
    "# Cтолбцы с датой нужно приведем к нужному типу datetime\n",
    "apm_events['start_dt'] = pd.to_datetime(apm_events['start_dt'])\n",
    "apm_events['finish_dt'] = pd.to_datetime(apm_events['finish_dt'])\n",
    "fa_new_users['first_date'] = pd.to_datetime(fa_new_users['first_date'])\n",
    "fa_events['event_dt'] = pd.to_datetime(fa_events['event_dt'])"
   ]
  },
  {
   "cell_type": "code",
   "execution_count": 11,
   "id": "b356674a",
   "metadata": {},
   "outputs": [
    {
     "data": {
      "text/html": [
       "<div>\n",
       "<style scoped>\n",
       "    .dataframe tbody tr th:only-of-type {\n",
       "        vertical-align: middle;\n",
       "    }\n",
       "\n",
       "    .dataframe tbody tr th {\n",
       "        vertical-align: top;\n",
       "    }\n",
       "\n",
       "    .dataframe thead th {\n",
       "        text-align: right;\n",
       "    }\n",
       "</style>\n",
       "<table border=\"1\" class=\"dataframe\">\n",
       "  <thead>\n",
       "    <tr style=\"text-align: right;\">\n",
       "      <th></th>\n",
       "      <th>user_id</th>\n",
       "      <th>group</th>\n",
       "      <th>ab_test</th>\n",
       "    </tr>\n",
       "  </thead>\n",
       "  <tbody>\n",
       "    <tr>\n",
       "      <th>0</th>\n",
       "      <td>D1ABA3E2887B6A73</td>\n",
       "      <td>A</td>\n",
       "      <td>recommender_system_test</td>\n",
       "    </tr>\n",
       "    <tr>\n",
       "      <th>1</th>\n",
       "      <td>A7A3664BD6242119</td>\n",
       "      <td>A</td>\n",
       "      <td>recommender_system_test</td>\n",
       "    </tr>\n",
       "    <tr>\n",
       "      <th>2</th>\n",
       "      <td>DABC14FDDFADD29E</td>\n",
       "      <td>A</td>\n",
       "      <td>recommender_system_test</td>\n",
       "    </tr>\n",
       "    <tr>\n",
       "      <th>3</th>\n",
       "      <td>04988C5DF189632E</td>\n",
       "      <td>A</td>\n",
       "      <td>recommender_system_test</td>\n",
       "    </tr>\n",
       "    <tr>\n",
       "      <th>4</th>\n",
       "      <td>482F14783456D21B</td>\n",
       "      <td>B</td>\n",
       "      <td>recommender_system_test</td>\n",
       "    </tr>\n",
       "  </tbody>\n",
       "</table>\n",
       "</div>"
      ],
      "text/plain": [
       "            user_id group                  ab_test\n",
       "0  D1ABA3E2887B6A73     A  recommender_system_test\n",
       "1  A7A3664BD6242119     A  recommender_system_test\n",
       "2  DABC14FDDFADD29E     A  recommender_system_test\n",
       "3  04988C5DF189632E     A  recommender_system_test\n",
       "4  482F14783456D21B     B  recommender_system_test"
      ]
     },
     "execution_count": 11,
     "metadata": {},
     "output_type": "execute_result"
    }
   ],
   "source": [
    "fa_participants.head()"
   ]
  },
  {
   "cell_type": "markdown",
   "id": "8329b767",
   "metadata": {},
   "source": [
    "## Оценим корректность проведения теста"
   ]
  },
  {
   "cell_type": "code",
   "execution_count": 12,
   "id": "994fa92d",
   "metadata": {},
   "outputs": [
    {
     "data": {
      "text/html": [
       "<div>\n",
       "<style scoped>\n",
       "    .dataframe tbody tr th:only-of-type {\n",
       "        vertical-align: middle;\n",
       "    }\n",
       "\n",
       "    .dataframe tbody tr th {\n",
       "        vertical-align: top;\n",
       "    }\n",
       "\n",
       "    .dataframe thead th {\n",
       "        text-align: right;\n",
       "    }\n",
       "</style>\n",
       "<table border=\"1\" class=\"dataframe\">\n",
       "  <thead>\n",
       "    <tr style=\"text-align: right;\">\n",
       "      <th></th>\n",
       "      <th>user_id</th>\n",
       "      <th>group</th>\n",
       "      <th>ab_test</th>\n",
       "    </tr>\n",
       "  </thead>\n",
       "  <tbody>\n",
       "    <tr>\n",
       "      <th>0</th>\n",
       "      <td>D1ABA3E2887B6A73</td>\n",
       "      <td>A</td>\n",
       "      <td>recommender_system_test</td>\n",
       "    </tr>\n",
       "    <tr>\n",
       "      <th>1</th>\n",
       "      <td>A7A3664BD6242119</td>\n",
       "      <td>A</td>\n",
       "      <td>recommender_system_test</td>\n",
       "    </tr>\n",
       "    <tr>\n",
       "      <th>2</th>\n",
       "      <td>DABC14FDDFADD29E</td>\n",
       "      <td>A</td>\n",
       "      <td>recommender_system_test</td>\n",
       "    </tr>\n",
       "    <tr>\n",
       "      <th>3</th>\n",
       "      <td>04988C5DF189632E</td>\n",
       "      <td>A</td>\n",
       "      <td>recommender_system_test</td>\n",
       "    </tr>\n",
       "    <tr>\n",
       "      <th>4</th>\n",
       "      <td>482F14783456D21B</td>\n",
       "      <td>B</td>\n",
       "      <td>recommender_system_test</td>\n",
       "    </tr>\n",
       "    <tr>\n",
       "      <th>...</th>\n",
       "      <td>...</td>\n",
       "      <td>...</td>\n",
       "      <td>...</td>\n",
       "    </tr>\n",
       "    <tr>\n",
       "      <th>18263</th>\n",
       "      <td>1D302F8688B91781</td>\n",
       "      <td>B</td>\n",
       "      <td>interface_eu_test</td>\n",
       "    </tr>\n",
       "    <tr>\n",
       "      <th>18264</th>\n",
       "      <td>3DE51B726983B657</td>\n",
       "      <td>A</td>\n",
       "      <td>interface_eu_test</td>\n",
       "    </tr>\n",
       "    <tr>\n",
       "      <th>18265</th>\n",
       "      <td>F501F79D332BE86C</td>\n",
       "      <td>A</td>\n",
       "      <td>interface_eu_test</td>\n",
       "    </tr>\n",
       "    <tr>\n",
       "      <th>18266</th>\n",
       "      <td>63FBE257B05F2245</td>\n",
       "      <td>A</td>\n",
       "      <td>interface_eu_test</td>\n",
       "    </tr>\n",
       "    <tr>\n",
       "      <th>18267</th>\n",
       "      <td>79F9ABFB029CF724</td>\n",
       "      <td>B</td>\n",
       "      <td>interface_eu_test</td>\n",
       "    </tr>\n",
       "  </tbody>\n",
       "</table>\n",
       "<p>18268 rows × 3 columns</p>\n",
       "</div>"
      ],
      "text/plain": [
       "                user_id group                  ab_test\n",
       "0      D1ABA3E2887B6A73     A  recommender_system_test\n",
       "1      A7A3664BD6242119     A  recommender_system_test\n",
       "2      DABC14FDDFADD29E     A  recommender_system_test\n",
       "3      04988C5DF189632E     A  recommender_system_test\n",
       "4      482F14783456D21B     B  recommender_system_test\n",
       "...                 ...   ...                      ...\n",
       "18263  1D302F8688B91781     B        interface_eu_test\n",
       "18264  3DE51B726983B657     A        interface_eu_test\n",
       "18265  F501F79D332BE86C     A        interface_eu_test\n",
       "18266  63FBE257B05F2245     A        interface_eu_test\n",
       "18267  79F9ABFB029CF724     B        interface_eu_test\n",
       "\n",
       "[18268 rows x 3 columns]"
      ]
     },
     "execution_count": 12,
     "metadata": {},
     "output_type": "execute_result"
    }
   ],
   "source": [
    "fa_participants"
   ]
  },
  {
   "cell_type": "code",
   "execution_count": 13,
   "id": "9bd6042b",
   "metadata": {},
   "outputs": [
    {
     "data": {
      "text/plain": [
       "interface_eu_test          11567\n",
       "recommender_system_test     6701\n",
       "Name: ab_test, dtype: int64"
      ]
     },
     "execution_count": 13,
     "metadata": {},
     "output_type": "execute_result"
    }
   ],
   "source": [
    "# посмотрим распределение тестов \n",
    "fa_participants['ab_test'].value_counts()"
   ]
  },
  {
   "cell_type": "code",
   "execution_count": 14,
   "id": "456faf66",
   "metadata": {},
   "outputs": [
    {
     "name": "stdout",
     "output_type": "stream",
     "text": [
      "Всего уникальных участников теста:  16666\n"
     ]
    }
   ],
   "source": [
    "# Посмотрим кол-во участников\n",
    "n = fa_participants['user_id'].nunique()\n",
    "print('Всего уникальных участников теста: ', n)"
   ]
  },
  {
   "cell_type": "code",
   "execution_count": 15,
   "id": "f784672c",
   "metadata": {},
   "outputs": [],
   "source": [
    "recommender_system_test = fa_participants.query('ab_test == \"recommender_system_test\"')"
   ]
  },
  {
   "cell_type": "code",
   "execution_count": 16,
   "id": "c8ac5d42",
   "metadata": {},
   "outputs": [
    {
     "data": {
      "text/plain": [
       "recommender_system_test    6701\n",
       "Name: ab_test, dtype: int64"
      ]
     },
     "execution_count": 16,
     "metadata": {},
     "output_type": "execute_result"
    }
   ],
   "source": [
    "recommender_system_test['ab_test'].value_counts()"
   ]
  },
  {
   "cell_type": "code",
   "execution_count": 17,
   "id": "5f0ba678",
   "metadata": {},
   "outputs": [
    {
     "name": "stdout",
     "output_type": "stream",
     "text": [
      "Всего участников теста recommender_system_test:  6701\n"
     ]
    }
   ],
   "source": [
    "# Посмотрим кол-во участников\n",
    "n_system_test = recommender_system_test['user_id'].nunique()\n",
    "print('Всего участников теста recommender_system_test: ', n_system_test)"
   ]
  },
  {
   "cell_type": "markdown",
   "id": "da200c32",
   "metadata": {},
   "source": [
    "В задании у нас ожидаемое количество участников теста: 6000. Получилось немного больше, но это некритично. "
   ]
  },
  {
   "cell_type": "code",
   "execution_count": 18,
   "id": "ca05defc",
   "metadata": {},
   "outputs": [
    {
     "name": "stdout",
     "output_type": "stream",
     "text": [
      "Посмотрим на максимальную дату, зарегистрировавшихся пользователей:  2020-12-23 00:00:00\n"
     ]
    }
   ],
   "source": [
    "max_date = fa_new_users['first_date'].max()\n",
    "print('Посмотрим на максимальную дату, зарегистрировавшихся пользователей: ', max_date)"
   ]
  },
  {
   "cell_type": "code",
   "execution_count": 19,
   "id": "021ca8f1",
   "metadata": {
    "scrolled": true
   },
   "outputs": [
    {
     "data": {
      "text/html": [
       "<div>\n",
       "<style scoped>\n",
       "    .dataframe tbody tr th:only-of-type {\n",
       "        vertical-align: middle;\n",
       "    }\n",
       "\n",
       "    .dataframe tbody tr th {\n",
       "        vertical-align: top;\n",
       "    }\n",
       "\n",
       "    .dataframe thead th {\n",
       "        text-align: right;\n",
       "    }\n",
       "</style>\n",
       "<table border=\"1\" class=\"dataframe\">\n",
       "  <thead>\n",
       "    <tr style=\"text-align: right;\">\n",
       "      <th></th>\n",
       "      <th>user_id</th>\n",
       "      <th>group</th>\n",
       "      <th>ab_test</th>\n",
       "    </tr>\n",
       "  </thead>\n",
       "  <tbody>\n",
       "    <tr>\n",
       "      <th>0</th>\n",
       "      <td>D1ABA3E2887B6A73</td>\n",
       "      <td>A</td>\n",
       "      <td>recommender_system_test</td>\n",
       "    </tr>\n",
       "    <tr>\n",
       "      <th>1</th>\n",
       "      <td>A7A3664BD6242119</td>\n",
       "      <td>A</td>\n",
       "      <td>recommender_system_test</td>\n",
       "    </tr>\n",
       "    <tr>\n",
       "      <th>2</th>\n",
       "      <td>DABC14FDDFADD29E</td>\n",
       "      <td>A</td>\n",
       "      <td>recommender_system_test</td>\n",
       "    </tr>\n",
       "    <tr>\n",
       "      <th>3</th>\n",
       "      <td>04988C5DF189632E</td>\n",
       "      <td>A</td>\n",
       "      <td>recommender_system_test</td>\n",
       "    </tr>\n",
       "    <tr>\n",
       "      <th>4</th>\n",
       "      <td>482F14783456D21B</td>\n",
       "      <td>B</td>\n",
       "      <td>recommender_system_test</td>\n",
       "    </tr>\n",
       "    <tr>\n",
       "      <th>...</th>\n",
       "      <td>...</td>\n",
       "      <td>...</td>\n",
       "      <td>...</td>\n",
       "    </tr>\n",
       "    <tr>\n",
       "      <th>6696</th>\n",
       "      <td>053FB26D6D49EDDC</td>\n",
       "      <td>A</td>\n",
       "      <td>recommender_system_test</td>\n",
       "    </tr>\n",
       "    <tr>\n",
       "      <th>6697</th>\n",
       "      <td>9D263B8EF15CF188</td>\n",
       "      <td>B</td>\n",
       "      <td>recommender_system_test</td>\n",
       "    </tr>\n",
       "    <tr>\n",
       "      <th>6698</th>\n",
       "      <td>F2FBBA33F37DEC46</td>\n",
       "      <td>A</td>\n",
       "      <td>recommender_system_test</td>\n",
       "    </tr>\n",
       "    <tr>\n",
       "      <th>6699</th>\n",
       "      <td>29C92313A98B1176</td>\n",
       "      <td>B</td>\n",
       "      <td>recommender_system_test</td>\n",
       "    </tr>\n",
       "    <tr>\n",
       "      <th>6700</th>\n",
       "      <td>6715343AFBA285AE</td>\n",
       "      <td>B</td>\n",
       "      <td>recommender_system_test</td>\n",
       "    </tr>\n",
       "  </tbody>\n",
       "</table>\n",
       "<p>6701 rows × 3 columns</p>\n",
       "</div>"
      ],
      "text/plain": [
       "               user_id group                  ab_test\n",
       "0     D1ABA3E2887B6A73     A  recommender_system_test\n",
       "1     A7A3664BD6242119     A  recommender_system_test\n",
       "2     DABC14FDDFADD29E     A  recommender_system_test\n",
       "3     04988C5DF189632E     A  recommender_system_test\n",
       "4     482F14783456D21B     B  recommender_system_test\n",
       "...                ...   ...                      ...\n",
       "6696  053FB26D6D49EDDC     A  recommender_system_test\n",
       "6697  9D263B8EF15CF188     B  recommender_system_test\n",
       "6698  F2FBBA33F37DEC46     A  recommender_system_test\n",
       "6699  29C92313A98B1176     B  recommender_system_test\n",
       "6700  6715343AFBA285AE     B  recommender_system_test\n",
       "\n",
       "[6701 rows x 3 columns]"
      ]
     },
     "execution_count": 19,
     "metadata": {},
     "output_type": "execute_result"
    }
   ],
   "source": [
    "rec_sys_test = fa_participants.query('ab_test == \"recommender_system_test\"')\n",
    "rec_sys_test"
   ]
  },
  {
   "cell_type": "code",
   "execution_count": 20,
   "id": "5dac3164",
   "metadata": {},
   "outputs": [
    {
     "data": {
      "text/html": [
       "<div>\n",
       "<style scoped>\n",
       "    .dataframe tbody tr th:only-of-type {\n",
       "        vertical-align: middle;\n",
       "    }\n",
       "\n",
       "    .dataframe tbody tr th {\n",
       "        vertical-align: top;\n",
       "    }\n",
       "\n",
       "    .dataframe thead th {\n",
       "        text-align: right;\n",
       "    }\n",
       "</style>\n",
       "<table border=\"1\" class=\"dataframe\">\n",
       "  <thead>\n",
       "    <tr style=\"text-align: right;\">\n",
       "      <th></th>\n",
       "      <th>user_id</th>\n",
       "      <th>group</th>\n",
       "      <th>ab_test</th>\n",
       "      <th>first_date</th>\n",
       "      <th>region</th>\n",
       "      <th>device</th>\n",
       "    </tr>\n",
       "  </thead>\n",
       "  <tbody>\n",
       "    <tr>\n",
       "      <th>0</th>\n",
       "      <td>D1ABA3E2887B6A73</td>\n",
       "      <td>A</td>\n",
       "      <td>recommender_system_test</td>\n",
       "      <td>2020-12-07</td>\n",
       "      <td>EU</td>\n",
       "      <td>PC</td>\n",
       "    </tr>\n",
       "    <tr>\n",
       "      <th>1</th>\n",
       "      <td>A7A3664BD6242119</td>\n",
       "      <td>A</td>\n",
       "      <td>recommender_system_test</td>\n",
       "      <td>2020-12-20</td>\n",
       "      <td>EU</td>\n",
       "      <td>iPhone</td>\n",
       "    </tr>\n",
       "    <tr>\n",
       "      <th>2</th>\n",
       "      <td>DABC14FDDFADD29E</td>\n",
       "      <td>A</td>\n",
       "      <td>recommender_system_test</td>\n",
       "      <td>2020-12-08</td>\n",
       "      <td>EU</td>\n",
       "      <td>Mac</td>\n",
       "    </tr>\n",
       "    <tr>\n",
       "      <th>3</th>\n",
       "      <td>04988C5DF189632E</td>\n",
       "      <td>A</td>\n",
       "      <td>recommender_system_test</td>\n",
       "      <td>2020-12-14</td>\n",
       "      <td>EU</td>\n",
       "      <td>iPhone</td>\n",
       "    </tr>\n",
       "    <tr>\n",
       "      <th>4</th>\n",
       "      <td>482F14783456D21B</td>\n",
       "      <td>B</td>\n",
       "      <td>recommender_system_test</td>\n",
       "      <td>2020-12-14</td>\n",
       "      <td>EU</td>\n",
       "      <td>PC</td>\n",
       "    </tr>\n",
       "    <tr>\n",
       "      <th>...</th>\n",
       "      <td>...</td>\n",
       "      <td>...</td>\n",
       "      <td>...</td>\n",
       "      <td>...</td>\n",
       "      <td>...</td>\n",
       "      <td>...</td>\n",
       "    </tr>\n",
       "    <tr>\n",
       "      <th>6696</th>\n",
       "      <td>053FB26D6D49EDDC</td>\n",
       "      <td>A</td>\n",
       "      <td>recommender_system_test</td>\n",
       "      <td>2020-12-10</td>\n",
       "      <td>N.America</td>\n",
       "      <td>Android</td>\n",
       "    </tr>\n",
       "    <tr>\n",
       "      <th>6697</th>\n",
       "      <td>9D263B8EF15CF188</td>\n",
       "      <td>B</td>\n",
       "      <td>recommender_system_test</td>\n",
       "      <td>2020-12-16</td>\n",
       "      <td>N.America</td>\n",
       "      <td>Mac</td>\n",
       "    </tr>\n",
       "    <tr>\n",
       "      <th>6698</th>\n",
       "      <td>F2FBBA33F37DEC46</td>\n",
       "      <td>A</td>\n",
       "      <td>recommender_system_test</td>\n",
       "      <td>2020-12-18</td>\n",
       "      <td>APAC</td>\n",
       "      <td>Mac</td>\n",
       "    </tr>\n",
       "    <tr>\n",
       "      <th>6699</th>\n",
       "      <td>29C92313A98B1176</td>\n",
       "      <td>B</td>\n",
       "      <td>recommender_system_test</td>\n",
       "      <td>2020-12-07</td>\n",
       "      <td>APAC</td>\n",
       "      <td>Android</td>\n",
       "    </tr>\n",
       "    <tr>\n",
       "      <th>6700</th>\n",
       "      <td>6715343AFBA285AE</td>\n",
       "      <td>B</td>\n",
       "      <td>recommender_system_test</td>\n",
       "      <td>2020-12-07</td>\n",
       "      <td>CIS</td>\n",
       "      <td>Android</td>\n",
       "    </tr>\n",
       "  </tbody>\n",
       "</table>\n",
       "<p>6701 rows × 6 columns</p>\n",
       "</div>"
      ],
      "text/plain": [
       "               user_id group                  ab_test first_date     region  \\\n",
       "0     D1ABA3E2887B6A73     A  recommender_system_test 2020-12-07         EU   \n",
       "1     A7A3664BD6242119     A  recommender_system_test 2020-12-20         EU   \n",
       "2     DABC14FDDFADD29E     A  recommender_system_test 2020-12-08         EU   \n",
       "3     04988C5DF189632E     A  recommender_system_test 2020-12-14         EU   \n",
       "4     482F14783456D21B     B  recommender_system_test 2020-12-14         EU   \n",
       "...                ...   ...                      ...        ...        ...   \n",
       "6696  053FB26D6D49EDDC     A  recommender_system_test 2020-12-10  N.America   \n",
       "6697  9D263B8EF15CF188     B  recommender_system_test 2020-12-16  N.America   \n",
       "6698  F2FBBA33F37DEC46     A  recommender_system_test 2020-12-18       APAC   \n",
       "6699  29C92313A98B1176     B  recommender_system_test 2020-12-07       APAC   \n",
       "6700  6715343AFBA285AE     B  recommender_system_test 2020-12-07        CIS   \n",
       "\n",
       "       device  \n",
       "0          PC  \n",
       "1      iPhone  \n",
       "2         Mac  \n",
       "3      iPhone  \n",
       "4          PC  \n",
       "...       ...  \n",
       "6696  Android  \n",
       "6697      Mac  \n",
       "6698      Mac  \n",
       "6699  Android  \n",
       "6700  Android  \n",
       "\n",
       "[6701 rows x 6 columns]"
      ]
     },
     "execution_count": 20,
     "metadata": {},
     "output_type": "execute_result"
    }
   ],
   "source": [
    "for_max_date = rec_sys_test.merge(fa_new_users, how='left', on='user_id')\n",
    "for_max_date"
   ]
  },
  {
   "cell_type": "code",
   "execution_count": 21,
   "id": "59b86958",
   "metadata": {},
   "outputs": [
    {
     "data": {
      "text/plain": [
       "Timestamp('2020-12-21 00:00:00')"
      ]
     },
     "execution_count": 21,
     "metadata": {},
     "output_type": "execute_result"
    }
   ],
   "source": [
    "new_max_date = for_max_date['first_date'].max()\n",
    "new_max_date"
   ]
  },
  {
   "cell_type": "code",
   "execution_count": 22,
   "id": "c949d995",
   "metadata": {},
   "outputs": [
    {
     "name": "stdout",
     "output_type": "stream",
     "text": [
      "Посмотрим на максимальную дату, зарегистрировавшихся пользователей теста \"recommender_system_test\":  2020-12-21 00:00:00\n"
     ]
    }
   ],
   "source": [
    "print('Посмотрим на максимальную дату, зарегистрировавшихся пользователей теста \"recommender_system_test\": ', new_max_date)"
   ]
  },
  {
   "cell_type": "markdown",
   "id": "ba755027",
   "metadata": {},
   "source": [
    "Максимальная дата зарегистрировавшихся пользователей теста совпадает с ТЗ - здесь все нормально"
   ]
  },
  {
   "cell_type": "code",
   "execution_count": 23,
   "id": "edbe41ce",
   "metadata": {},
   "outputs": [
    {
     "data": {
      "text/html": [
       "<div>\n",
       "<style scoped>\n",
       "    .dataframe tbody tr th:only-of-type {\n",
       "        vertical-align: middle;\n",
       "    }\n",
       "\n",
       "    .dataframe tbody tr th {\n",
       "        vertical-align: top;\n",
       "    }\n",
       "\n",
       "    .dataframe thead th {\n",
       "        text-align: right;\n",
       "    }\n",
       "</style>\n",
       "<table border=\"1\" class=\"dataframe\">\n",
       "  <thead>\n",
       "    <tr style=\"text-align: right;\">\n",
       "      <th></th>\n",
       "      <th>user_id</th>\n",
       "      <th>first_date</th>\n",
       "      <th>region</th>\n",
       "      <th>device</th>\n",
       "    </tr>\n",
       "  </thead>\n",
       "  <tbody>\n",
       "    <tr>\n",
       "      <th>0</th>\n",
       "      <td>D72A72121175D8BE</td>\n",
       "      <td>2020-12-07</td>\n",
       "      <td>EU</td>\n",
       "      <td>PC</td>\n",
       "    </tr>\n",
       "    <tr>\n",
       "      <th>13</th>\n",
       "      <td>E6DE857AFBDC6102</td>\n",
       "      <td>2020-12-07</td>\n",
       "      <td>EU</td>\n",
       "      <td>PC</td>\n",
       "    </tr>\n",
       "    <tr>\n",
       "      <th>20</th>\n",
       "      <td>DD4352CDCF8C3D57</td>\n",
       "      <td>2020-12-07</td>\n",
       "      <td>EU</td>\n",
       "      <td>Android</td>\n",
       "    </tr>\n",
       "    <tr>\n",
       "      <th>23</th>\n",
       "      <td>831887FE7F2D6CBA</td>\n",
       "      <td>2020-12-07</td>\n",
       "      <td>EU</td>\n",
       "      <td>Android</td>\n",
       "    </tr>\n",
       "    <tr>\n",
       "      <th>39</th>\n",
       "      <td>4CB179C7F847320B</td>\n",
       "      <td>2020-12-07</td>\n",
       "      <td>EU</td>\n",
       "      <td>iPhone</td>\n",
       "    </tr>\n",
       "  </tbody>\n",
       "</table>\n",
       "</div>"
      ],
      "text/plain": [
       "             user_id first_date region   device\n",
       "0   D72A72121175D8BE 2020-12-07     EU       PC\n",
       "13  E6DE857AFBDC6102 2020-12-07     EU       PC\n",
       "20  DD4352CDCF8C3D57 2020-12-07     EU  Android\n",
       "23  831887FE7F2D6CBA 2020-12-07     EU  Android\n",
       "39  4CB179C7F847320B 2020-12-07     EU   iPhone"
      ]
     },
     "execution_count": 23,
     "metadata": {},
     "output_type": "execute_result"
    }
   ],
   "source": [
    "# выделим необходимыe данные для дальнейшего исследования\n",
    "for_abtest = fa_new_users[fa_new_users['user_id'].isin(fa_participants.query('ab_test == \"recommender_system_test\"')['user_id'])]\n",
    "for_abtest.head()"
   ]
  },
  {
   "cell_type": "code",
   "execution_count": 24,
   "id": "bb10def5",
   "metadata": {},
   "outputs": [
    {
     "name": "stdout",
     "output_type": "stream",
     "text": [
      "Дата начала набора новых пользователей для теста:  2020-12-07 00:00:00\n"
     ]
    }
   ],
   "source": [
    "begin_test = for_abtest['first_date'].min()\n",
    "print('Дата начала набора новых пользователей для теста: ', begin_test)"
   ]
  },
  {
   "cell_type": "markdown",
   "id": "3b22f4ec",
   "metadata": {},
   "source": [
    "Теперь все даты сходятся - дата запуска: 2020-12-07 и дата остановки набора новых пользователей: 2020-12-21 "
   ]
  },
  {
   "cell_type": "code",
   "execution_count": 25,
   "id": "5a875a3a",
   "metadata": {},
   "outputs": [
    {
     "name": "stdout",
     "output_type": "stream",
     "text": [
      "Дата последнего события:  2020-12-30 23:36:33\n"
     ]
    }
   ],
   "source": [
    "last = fa_events['event_dt'].max()\n",
    "print('Дата последнего события: ', last)"
   ]
  },
  {
   "cell_type": "markdown",
   "id": "8d24f5ce",
   "metadata": {},
   "source": [
    "По ТЗ дата остановки: 2021-01-04"
   ]
  },
  {
   "cell_type": "markdown",
   "id": "b89909ef",
   "metadata": {},
   "source": [
    "Далее нужно узнать, что в тест должно быть отобрано 15% новых пользователей из региона EU"
   ]
  },
  {
   "cell_type": "code",
   "execution_count": 28,
   "id": "823ae980",
   "metadata": {},
   "outputs": [
    {
     "data": {
      "text/plain": [
       "EU           6351\n",
       "N.America     223\n",
       "APAC           72\n",
       "CIS            55\n",
       "Name: region, dtype: int64"
      ]
     },
     "execution_count": 28,
     "metadata": {},
     "output_type": "execute_result"
    }
   ],
   "source": [
    "for_abtest['region'].value_counts()"
   ]
  },
  {
   "cell_type": "code",
   "execution_count": null,
   "id": "7c9af4dc",
   "metadata": {},
   "outputs": [],
   "source": [
    "percent = round((for_abtest.query('region == \"EU\"')['region'].count()/new_max_date.query('region == \"EU\"')['region'].count())*100, 2)\n",
    "print('Всего пользователей из EU региона в процентах:', percent)"
   ]
  },
  {
   "cell_type": "markdown",
   "id": "99152e48",
   "metadata": {},
   "source": [
    "Здесь все совпадает с данными из ТЗ"
   ]
  },
  {
   "cell_type": "markdown",
   "id": "4679d98e",
   "metadata": {},
   "source": [
    "## Время проведения теста"
   ]
  },
  {
   "cell_type": "markdown",
   "id": "1216c030",
   "metadata": {},
   "source": [
    "Убедимся, что время не совпадает с маркетинговыми и другими активностями."
   ]
  },
  {
   "cell_type": "code",
   "execution_count": null,
   "id": "24a0eb3b",
   "metadata": {},
   "outputs": [],
   "source": [
    "apm_events.query('\"2020-12-07\" < start_dt < \"2021-01-04\"')"
   ]
  },
  {
   "cell_type": "markdown",
   "id": "aaba03c6",
   "metadata": {},
   "source": [
    "В период проведения теста проходят 2 акции: \n",
    "- Christmas&New Year Promo - может оказать существенное влияние, потому что она затрагивает период проведения теста и идет с 25 декабря по 3 января и куда более информативно - это регион, в котором она проходит - EU, который преобладает в тесте;\n",
    "- CIS New Year Gift Lottery - окажет малозаметное влияние, так как регион ее проведения CIS и процент пользователей из этого региона, участвовавших в тесте, совсем незначительный"
   ]
  },
  {
   "cell_type": "markdown",
   "id": "ff38c7f2",
   "metadata": {},
   "source": [
    "## Аудитория теста"
   ]
  },
  {
   "cell_type": "markdown",
   "id": "28711def",
   "metadata": {},
   "source": [
    "Здесь удостоверимся, что нет пересечений с конкурирующим тестом и нет пользователей, участвующих в двух группах теста одновременно. Проверим равномерность распределения по тестовым группам и правильность их формирования."
   ]
  },
  {
   "cell_type": "code",
   "execution_count": null,
   "id": "b581f50b",
   "metadata": {},
   "outputs": [],
   "source": [
    "# определим есть ли пользователи, входящие в оба теста сразу\n",
    "n_ab_test = fa_participants.groupby('user_id').agg({'ab_test': 'nunique'}).sort_values(by = 'ab_test', ascending = False).reset_index()\n",
    "bi = n_ab_test[n_ab_test['ab_test'] == 2]\n",
    "b = len(bi)\n",
    "print('Всего пользователей в обоих тестах одновременно:', b)"
   ]
  },
  {
   "cell_type": "code",
   "execution_count": null,
   "id": "f6214607",
   "metadata": {},
   "outputs": [],
   "source": [
    "# посмотрим, в каких группах состоят полшьзователи\n",
    "nusers_in_tests = bi['user_id']\n",
    "nusers_in_tests = fa_participants.query('user_id in @nusers_in_tests').reset_index(drop=True)\n",
    "nusers_in_tests.groupby(['ab_test', 'group']).agg({'user_id': 'nunique'})"
   ]
  },
  {
   "cell_type": "code",
   "execution_count": null,
   "id": "dd7c7a2a",
   "metadata": {},
   "outputs": [],
   "source": [
    "# посмотрим равномерно ли распределены пользователи в группе В\n",
    "ob_normal_B = fa_participants[fa_participants['user_id'].duplicated()].query('group == \"B\"')['user_id']\n",
    "(fa_participants[fa_participants['user_id'].isin(ob_normal_B)].query('ab_test == \"recommender_system_test\"')['group'].value_counts())"
   ]
  },
  {
   "cell_type": "markdown",
   "id": "abb48e8e",
   "metadata": {},
   "source": [
    "В итоге мы увидели, что распределение пользователей группы B теста interface_eu_test в тесте recommender_system_test довольно равномерное. "
   ]
  },
  {
   "cell_type": "code",
   "execution_count": null,
   "id": "afd2d297",
   "metadata": {
    "scrolled": true
   },
   "outputs": [],
   "source": [
    "# теперь перепроверим присутствуют ли пользователи, входящие в обе группы А и В \n",
    "fa_participants.query('ab_test == \"recommender_system_test\"')['user_id'].duplicated().sum()"
   ]
  },
  {
   "cell_type": "markdown",
   "id": "1447e58b",
   "metadata": {},
   "source": [
    "Для дальнейшей работы стоит объединить датасеты"
   ]
  },
  {
   "cell_type": "code",
   "execution_count": null,
   "id": "8a8aa638",
   "metadata": {},
   "outputs": [],
   "source": [
    "for_abtest_users = for_abtest.merge(fa_participants.query('ab_test == \"recommender_system_test\"'), on='user_id')\n",
    "display(for_abtest_users.user_id.nunique())\n"
   ]
  },
  {
   "cell_type": "code",
   "execution_count": null,
   "id": "b22d4a11",
   "metadata": {},
   "outputs": [],
   "source": [
    "for_abtest_users = for_abtest_users.merge(fa_events, how='left', on='user_id')\n",
    "display(for_abtest_users.nunique())"
   ]
  },
  {
   "cell_type": "markdown",
   "id": "724cd26c",
   "metadata": {},
   "source": [
    "Теперь нужно отфильтровать таблицу и обозначить дни, которые нам понадобятся в дальнейшем"
   ]
  },
  {
   "cell_type": "code",
   "execution_count": null,
   "id": "ba539278",
   "metadata": {},
   "outputs": [],
   "source": [
    "horizon_days = 14\n",
    "observation_date = datetime(2021, 1, 4).date()\n",
    "last_suitable_acquisition_date = observation_date - timedelta(days = horizon_days - 1)"
   ]
  },
  {
   "cell_type": "code",
   "execution_count": null,
   "id": "68a40b68",
   "metadata": {},
   "outputs": [],
   "source": [
    "registration_test = for_abtest_users\n",
    "for_abtest_users = for_abtest_users.query('event_dt <= @last_suitable_acquisition_date')\n",
    "display(for_abtest_users.user_id.nunique())"
   ]
  },
  {
   "cell_type": "code",
   "execution_count": null,
   "id": "cb9ea6a2",
   "metadata": {},
   "outputs": [],
   "source": [
    "for_abtest_users['lifetime'] = (for_abtest_users['event_dt'] - for_abtest_users['first_date']).dt.days\n",
    "for_abtest_users = for_abtest_users.query('lifetime < 14')\n",
    "display(for_abtest_users.user_id.nunique())"
   ]
  },
  {
   "cell_type": "markdown",
   "id": "5b1b0d2f",
   "metadata": {},
   "source": [
    "## Исследовательский анализ данных"
   ]
  },
  {
   "cell_type": "markdown",
   "id": "19f029fc",
   "metadata": {},
   "source": [
    "### Кол-во событий на пользователя в выборках"
   ]
  },
  {
   "cell_type": "code",
   "execution_count": null,
   "id": "ea336f16",
   "metadata": {},
   "outputs": [],
   "source": [
    "registration_test.head()"
   ]
  },
  {
   "cell_type": "code",
   "execution_count": null,
   "id": "9f659ac7",
   "metadata": {},
   "outputs": [],
   "source": [
    "# сделаем срез пользователей, которые прошли регистрацию\n",
    "after_registration_test = registration_test[registration_test['event_dt'].isna()]\n",
    "after_registration_test = (registration_test.groupby(['first_date','group'], as_index=False)['user_id'].nunique()\n",
    "                            .rename(columns={'user_id':'n_users'}))\n",
    "after_registration_test"
   ]
  },
  {
   "cell_type": "markdown",
   "id": "67b16b6f",
   "metadata": {},
   "source": [
    "Теперь посмотрим кол-во событий по пользователями и событиям  "
   ]
  },
  {
   "cell_type": "code",
   "execution_count": null,
   "id": "84c68049",
   "metadata": {},
   "outputs": [],
   "source": [
    "u_with_events = (for_abtest_users.groupby(['user_id', 'event_name'], as_index=False)['region'].count()\n",
    "                              .rename(columns={'region':'n_events'})\n",
    "                              .merge(for_abtest_users[['user_id', 'group']], on='user_id')\n",
    "                              .drop_duplicates())\n",
    "u_with_events.head()"
   ]
  },
  {
   "cell_type": "markdown",
   "id": "92819b8d",
   "metadata": {},
   "source": [
    "Посмотрим кол-во событий по группам"
   ]
  },
  {
   "cell_type": "code",
   "execution_count": null,
   "id": "d670d3bc",
   "metadata": {
    "scrolled": true
   },
   "outputs": [],
   "source": [
    "u_with_events_gruppen = (u_with_events.groupby(['group', 'event_name'], as_index=False)['n_events'].agg('sum'))\n",
    "u_with_events_gruppen['event_with_users'] = 0\n",
    "u_with_events_gruppen"
   ]
  },
  {
   "cell_type": "markdown",
   "id": "7a3a75cc",
   "metadata": {},
   "source": [
    "Посмотрим кол-во оставшихся в тесте пользователей в группах А и В"
   ]
  },
  {
   "cell_type": "code",
   "execution_count": null,
   "id": "aba5c554",
   "metadata": {
    "scrolled": true
   },
   "outputs": [],
   "source": [
    "a = for_abtest_users.query('group == \"A\"')['user_id'].nunique()\n",
    "b = for_abtest_users.query('group == \"B\"')['user_id'].nunique()\n",
    "print('Всего пользователей из группы а:',a)\n",
    "print('Всего пользователей из группы b:',b)"
   ]
  },
  {
   "cell_type": "markdown",
   "id": "62c82b13",
   "metadata": {},
   "source": [
    "Далее нужно определить кол-во событий на одного пользователя "
   ]
  },
  {
   "cell_type": "code",
   "execution_count": null,
   "id": "246809f6",
   "metadata": {},
   "outputs": [],
   "source": [
    "a2 = u_with_events_gruppen.loc[u_with_events_gruppen['group'] == 'A', 'event_with_users'] = (u_with_events_gruppen['n_events'] / a)\n",
    "\n",
    "b2 = u_with_events_gruppen.loc[u_with_events_gruppen['group'] == 'B', 'event_with_users'] = (u_with_events_gruppen['n_events'] / b)"
   ]
  },
  {
   "cell_type": "code",
   "execution_count": null,
   "id": "e5ac359f",
   "metadata": {},
   "outputs": [],
   "source": [
    "u_with_events_gruppen"
   ]
  },
  {
   "cell_type": "code",
   "execution_count": null,
   "id": "cabd7119",
   "metadata": {},
   "outputs": [],
   "source": [
    "# посмотрим наглядно это на графике\n",
    "fig = px.box(u_with_events, x=\"event_name\", y=\"n_events\", color=\"group\",\n",
    "             title=\"Количество событий на одного пользователя\" \n",
    "             )\n",
    "fig.update_xaxes(title_text='Событие')\n",
    "fig.update_yaxes(title_text='Кол-во событий')\n",
    "fig.show()"
   ]
  },
  {
   "cell_type": "markdown",
   "id": "66eba40a",
   "metadata": {},
   "source": [
    "По графику можно заключить, что среднее кол-во событий на одного клиента практически не различается между группами \n"
   ]
  },
  {
   "cell_type": "markdown",
   "id": "c51b0d25",
   "metadata": {},
   "source": [
    "### Распределение числа событий в выборках по дням"
   ]
  },
  {
   "cell_type": "code",
   "execution_count": null,
   "id": "25bcea21",
   "metadata": {},
   "outputs": [],
   "source": [
    "for_abtest_users.head()"
   ]
  },
  {
   "cell_type": "code",
   "execution_count": null,
   "id": "41a907d9",
   "metadata": {},
   "outputs": [],
   "source": [
    "for_abtest_users.info()"
   ]
  },
  {
   "cell_type": "code",
   "execution_count": null,
   "id": "54f7e365",
   "metadata": {},
   "outputs": [],
   "source": [
    "# оставим в столбце event_dt только даты\n",
    "for_abtest_users['event_dt'] = for_abtest_users['event_dt'].dt.date\n",
    "for_abtest_users.head()"
   ]
  },
  {
   "cell_type": "code",
   "execution_count": null,
   "id": "ce696035",
   "metadata": {},
   "outputs": [],
   "source": [
    "for_abtest_users.info()"
   ]
  },
  {
   "cell_type": "code",
   "execution_count": null,
   "id": "35f53992",
   "metadata": {},
   "outputs": [],
   "source": [
    "for_abtest_users['event_dt'] = pd.to_datetime(for_abtest_users['event_dt'])"
   ]
  },
  {
   "cell_type": "code",
   "execution_count": null,
   "id": "98353e62",
   "metadata": {},
   "outputs": [],
   "source": [
    "\n",
    "dt_with_event = (for_abtest_users.groupby(['event_dt', 'group'], as_index=False)['user_id'].count().rename(columns={'user_id':'n_events'}))\n",
    "dt_with_event.head()"
   ]
  },
  {
   "cell_type": "code",
   "execution_count": null,
   "id": "c49b6bee",
   "metadata": {},
   "outputs": [],
   "source": [
    "# посмотрим это все на графике\n",
    "fig = px.bar(dt_with_event, x='event_dt', y='n_events', color='group', \n",
    "             title='Распределение числа событий в выборках по дням' \n",
    "             )\n",
    "fig.update_xaxes(title_text='Дата')\n",
    "fig.update_yaxes(title_text='Кол-во событий')\n",
    "\n",
    "fig.show()"
   ]
  },
  {
   "cell_type": "markdown",
   "id": "6fc3ad47",
   "metadata": {},
   "source": [
    "По графику видно:\n",
    "- Пик событий 21 декабря и в основном это у группы А;\n",
    "- Группа В превосходит группу А только 7 и 9 декабря, а в оставшиеся дни группа А уверенно опережала группу В по кол-ву событий;\n",
    "- Начиная c 14 декабря можно наблюдать резкий рост кол-ва событий у группы А."
   ]
  },
  {
   "cell_type": "markdown",
   "id": "ff8714c3",
   "metadata": {},
   "source": [
    "Посмотрим на динамику набора пользователей - возможно удастся выявить взаимосвязь и выяснить, от чего произошел столь сильный скачок 14 декабря"
   ]
  },
  {
   "cell_type": "code",
   "execution_count": null,
   "id": "32082a0c",
   "metadata": {},
   "outputs": [],
   "source": [
    "registrations_users = (for_abtest_users.groupby(['event_dt', 'group'], as_index=False)['user_id'].nunique().rename(columns={'user_id':'n_users'}))\n",
    "registrations_users.head()"
   ]
  },
  {
   "cell_type": "code",
   "execution_count": null,
   "id": "e4017620",
   "metadata": {},
   "outputs": [],
   "source": [
    "fig = px.bar(registrations_users, x='event_dt', y='n_users', color='group', \n",
    "             title='Динамика набора пользователей по дням'\n",
    "             )\n",
    "fig.update_xaxes(title_text='Дата')\n",
    "fig.update_yaxes(title_text='Кол-во пользователей')\n",
    "\n",
    "fig.show()"
   ]
  },
  {
   "cell_type": "markdown",
   "id": "7d253196",
   "metadata": {},
   "source": [
    "Вот и удалось выявить взаимосвязь - 14 декабря также произошел резкий скачок в наборе новых пользователей и, следовательно, они совершали какие-либо действия(события). Тем самым это зеркально отразилось и на графике в предыдущем пункте исследования"
   ]
  },
  {
   "cell_type": "markdown",
   "id": "584fcdd4",
   "metadata": {},
   "source": [
    "### Kонверсия в воронке в выборках на разных этапах"
   ]
  },
  {
   "cell_type": "code",
   "execution_count": null,
   "id": "63ca3144",
   "metadata": {},
   "outputs": [],
   "source": [
    "# создадим переменные для иллюстрации воронки\n",
    "funl_for_grA = for_abtest_users[for_abtest_users['group']==\"A\"].groupby('event_name').agg({'event_name':'count', 'user_id':'nunique'})\n",
    "funl_for_grA.columns = ['n_event','n_user']\n",
    "funl_for_grA = funl_for_grA.sort_values(by = 'n_event', ascending = False).reset_index().reindex([0,1,3,2])\n",
    "funl_for_grA\n"
   ]
  },
  {
   "cell_type": "code",
   "execution_count": null,
   "id": "3a5915d7",
   "metadata": {},
   "outputs": [],
   "source": [
    "funl_for_grB = for_abtest_users[for_abtest_users['group']==\"B\"].groupby('event_name').agg({'event_name':'count', 'user_id':'nunique'})\n",
    "funl_for_grB.columns = ['n_event','n_user']\n",
    "funl_for_grB = funl_for_grB.sort_values(by = 'n_event', ascending = False).reset_index()\n",
    "funl_for_grB"
   ]
  },
  {
   "cell_type": "markdown",
   "id": "9b499dec",
   "metadata": {},
   "source": [
    "Построим воронку конверсий в выборках на разных этапах"
   ]
  },
  {
   "cell_type": "code",
   "execution_count": null,
   "id": "bd0c3ce4",
   "metadata": {},
   "outputs": [],
   "source": [
    "fig = go.Figure()\n",
    "\n",
    "fig.add_trace(go.Funnel(\n",
    "    name = 'A',\n",
    "    y = funl_for_grA['event_name'],\n",
    "    x = funl_for_grA['n_user'],\n",
    "    textinfo = \"value+percent initial\"))\n",
    "\n",
    "fig.add_trace(go.Funnel(\n",
    "    name = 'B',\n",
    "    orientation = \"h\",\n",
    "    y = funl_for_grB['event_name'],\n",
    "    x = funl_for_grB['n_user'],\n",
    "    textposition = \"inside\",\n",
    "    textinfo = \"value+percent previous\"))\n",
    "\n",
    "\n",
    "fig.update_layout(title_text = 'Bоронкa конверсий в выборках на разных этапах')\n",
    "fig.show()"
   ]
  },
  {
   "cell_type": "markdown",
   "id": "775562aa",
   "metadata": {},
   "source": [
    "- Наибольшая просадка коверсии между login и product_page уровнями - (-35% у группы А и -44% у группы В). \n",
    "- До покупки доходят 30% пользователей группы А и 28% пользователей группы В. \n",
    "- Наименьшая разница в конверсии между product_cart и purchase - (разница в 2% у группы А, у группы В разница и вовсе отсутствует), это свидетельствует о том, что пользователи предпочитают после добавления товара в корзину практически всегда его покупать. "
   ]
  },
  {
   "cell_type": "markdown",
   "id": "f65e068c",
   "metadata": {},
   "source": [
    "### Оценка результата A/B-тестирования"
   ]
  },
  {
   "cell_type": "code",
   "execution_count": null,
   "id": "987bd86b",
   "metadata": {},
   "outputs": [],
   "source": [
    "for_abtest_users.head()"
   ]
  },
  {
   "cell_type": "code",
   "execution_count": null,
   "id": "5a5947bf",
   "metadata": {},
   "outputs": [],
   "source": [
    "#создадим датасет по столбцам 'lifetime', 'group', 'event_name' и с кол-вом событий\n",
    "n_events_lifetime = (for_abtest_users.groupby(['lifetime', 'group', 'event_name'], as_index=False)['user_id'].count()\n",
    "                  .rename(columns={'user_id':'n_events'}))\n",
    "n_events_lifetime.head()"
   ]
  },
  {
   "cell_type": "markdown",
   "id": "e19621b7",
   "metadata": {},
   "source": [
    "Дальше нужно создать датафрейм со страницей выбора товара и расчетом совокупной суммы событий"
   ]
  },
  {
   "cell_type": "code",
   "execution_count": null,
   "id": "a11319ee",
   "metadata": {},
   "outputs": [],
   "source": [
    "prod_page = n_events_lifetime.query('event_name == \"product_page\"')\n",
    "prod_page['cumsum_n_events'] = prod_page.groupby('group')['n_events'].cumsum()\n",
    "prod_page.head()\n"
   ]
  },
  {
   "cell_type": "code",
   "execution_count": null,
   "id": "bf933156",
   "metadata": {},
   "outputs": [],
   "source": [
    "# расчитаем кол-во событий за 14 дней лайфтайма\n",
    "prod_page_A = round((prod_page.iloc[-2]['cumsum_n_events'] - prod_page.iloc[0]['cumsum_n_events']) / prod_page.iloc[0]['cumsum_n_events'], 2) \n",
    "prod_page_A\n"
   ]
  },
  {
   "cell_type": "code",
   "execution_count": null,
   "id": "69a476d0",
   "metadata": {},
   "outputs": [],
   "source": [
    "# делаем тоже самое для второй группы\n",
    "prod_page_B = round((prod_page.iloc[-1]['cumsum_n_events'] - prod_page.iloc[1]['cumsum_n_events']) / prod_page.iloc[1]['cumsum_n_events'], 2) \n",
    "prod_page_B"
   ]
  },
  {
   "cell_type": "markdown",
   "id": "32e850c4",
   "metadata": {},
   "source": [
    "Теперь проделаем тоже самое с другим событием - \"добавлением товара в корзину\" "
   ]
  },
  {
   "cell_type": "code",
   "execution_count": null,
   "id": "c8ff6cdf",
   "metadata": {},
   "outputs": [],
   "source": [
    "prod_cart = n_events_lifetime.query('event_name == \"product_cart\"')\n",
    "prod_cart['cumsum_n_events'] = prod_cart.groupby('group')['n_events'].cumsum()\n",
    "prod_cart.head()"
   ]
  },
  {
   "cell_type": "code",
   "execution_count": null,
   "id": "c59bf3d8",
   "metadata": {},
   "outputs": [],
   "source": [
    "# расчитаем кол-во событий за 14 дней лайфтайма\n",
    "prod_cart_A = round((prod_cart.iloc[-2]['cumsum_n_events'] - prod_cart.iloc[0]['cumsum_n_events']) / prod_cart.iloc[0]['cumsum_n_events'], 2) \n",
    "prod_cart_A\n"
   ]
  },
  {
   "cell_type": "code",
   "execution_count": null,
   "id": "8e912aff",
   "metadata": {},
   "outputs": [],
   "source": [
    "# делаем тоже самое для второй группы\n",
    "prod_cart_B = round((prod_cart.iloc[-1]['cumsum_n_events'] - prod_cart.iloc[1]['cumsum_n_events']) / prod_cart.iloc[1]['cumsum_n_events'], 2) \n",
    "prod_cart_B"
   ]
  },
  {
   "cell_type": "markdown",
   "id": "723381bf",
   "metadata": {},
   "source": [
    "Дальше проделаем тоже самое с другим событием - \"покупки\""
   ]
  },
  {
   "cell_type": "code",
   "execution_count": null,
   "id": "2cdd1383",
   "metadata": {},
   "outputs": [],
   "source": [
    "purchase_page = n_events_lifetime.query('event_name == \"purchase\"')\n",
    "purchase_page['cumsum_n_events'] = purchase_page.groupby('group')['n_events'].cumsum()\n",
    "purchase_page.head()"
   ]
  },
  {
   "cell_type": "code",
   "execution_count": null,
   "id": "54e69480",
   "metadata": {},
   "outputs": [],
   "source": [
    "# расчитаем кол-во событий за 14 дней лайфтайма\n",
    "purchase_page_A = round((purchase_page.iloc[-2]['cumsum_n_events'] - purchase_page.iloc[0]['cumsum_n_events']) / purchase_page.iloc[0]['cumsum_n_events'], 2) \n",
    "purchase_page_A\n"
   ]
  },
  {
   "cell_type": "code",
   "execution_count": null,
   "id": "24b98930",
   "metadata": {},
   "outputs": [],
   "source": [
    "# делаем тоже самое для второй группы\n",
    "purchase_page_B = round((purchase_page.iloc[-1]['cumsum_n_events'] - purchase_page.iloc[1]['cumsum_n_events']) / purchase_page.iloc[1]['cumsum_n_events'], 2) \n",
    "purchase_page_B"
   ]
  },
  {
   "cell_type": "markdown",
   "id": "b40e2304",
   "metadata": {},
   "source": [
    "**Подвывод:**В целом за 2 недели лайфтайма у пользователей группы А наблюдается больший рост, чем у группы В:\n",
    "\n",
    "- Просмотр страницы товара с момента регистрации пользователя: А - рост на 13%; B - рост на 20%\n",
    "- Добавление товара в корзину: А - на 16%; B - на 27%\n",
    "- Покупка товара: А - на 8%; B - на 12%"
   ]
  },
  {
   "cell_type": "markdown",
   "id": "3a8bf849",
   "metadata": {},
   "source": [
    "## Проверка статистической разницы долей z-критерием."
   ]
  },
  {
   "cell_type": "markdown",
   "id": "8cd18387",
   "metadata": {},
   "source": [
    "Нулевая гипотеза: Доли значений метрик в группах равны\n",
    "<p>\n",
    "Альтернативная гипотеза: Доли значений метрик в группах не равны"
   ]
  },
  {
   "cell_type": "markdown",
   "id": "4573678e",
   "metadata": {},
   "source": [
    "Критический уровень значимости: 0.05. Здесь лучше применить поправку Бонферрони, т.к. один ложноположительный результат может стать проблемой. С поправкой альфа будет равна 0.05 / 3 = 0.016"
   ]
  },
  {
   "cell_type": "markdown",
   "id": "f49835a8",
   "metadata": {},
   "source": [
    "Из-за того, что кол-во пользователей в группах различно, то нужно проверять z-критерием кол-во событий на одного пользователя."
   ]
  },
  {
   "cell_type": "code",
   "execution_count": null,
   "id": "0e39c7c4",
   "metadata": {},
   "outputs": [],
   "source": [
    "alpha = round(0.05 / 3, 3) \n",
    "alpha"
   ]
  },
  {
   "cell_type": "code",
   "execution_count": null,
   "id": "5a346c92",
   "metadata": {},
   "outputs": [],
   "source": [
    "#сделаем срез по кол-ву событий в группах и днях жизни\n",
    "quantity_u = (for_abtest_users.groupby(['lifetime','group'], as_index=False)['user_id'].nunique().rename(columns={'user_id':'n_users'}))\n",
    "quantity_u"
   ]
  },
  {
   "cell_type": "code",
   "execution_count": null,
   "id": "f9be5e8d",
   "metadata": {},
   "outputs": [],
   "source": [
    "#события по странице с товаром\n",
    "prod_page2 = prod_page.merge(quantity_u, on=['lifetime', 'group'])\n",
    "prod_page2['event_with_u'] = prod_page2['n_events'] / prod_page2['n_users']\n",
    "prod_page2.head()"
   ]
  },
  {
   "cell_type": "code",
   "execution_count": null,
   "id": "2a48610d",
   "metadata": {},
   "outputs": [],
   "source": [
    "#события по странице с добавлением в корзину товара\n",
    "prod_cart2 = prod_cart.merge(quantity_u, on=['lifetime', 'group'])\n",
    "prod_cart2['event_with_u'] = prod_cart2['n_events'] / prod_cart2['n_users']\n",
    "prod_cart2.head()"
   ]
  },
  {
   "cell_type": "code",
   "execution_count": null,
   "id": "375ef028",
   "metadata": {
    "scrolled": true
   },
   "outputs": [],
   "source": [
    "#события покупки\n",
    "purchase_page2 = purchase_page.merge(quantity_u, on=['lifetime', 'group'])\n",
    "purchase_page2['event_with_u'] = purchase_page2['n_events'] / purchase_page2['n_users']\n",
    "purchase_page2.head()"
   ]
  },
  {
   "cell_type": "code",
   "execution_count": null,
   "id": "8467922c",
   "metadata": {},
   "outputs": [],
   "source": [
    "# посмотрим на средние значения срезов\n",
    "print('события по странице с товаром')\n",
    "display(prod_page2.groupby('group')['event_with_u'].mean())\n",
    "print('Тип события добавление товара в корзину')\n",
    "display(prod_cart2.groupby('group')['event_with_u'].mean())\n",
    "print('Тип события покупка')\n",
    "display(purchase_page2.groupby('group')['event_with_u'].mean())"
   ]
  },
  {
   "cell_type": "markdown",
   "id": "0a7f717a",
   "metadata": {},
   "source": [
    "Выделяется разница у значений события по странице с товаром, остальные группы по оставшимся событиям по этим показателям практически не отличаются"
   ]
  },
  {
   "cell_type": "code",
   "execution_count": null,
   "id": "17189d8f",
   "metadata": {},
   "outputs": [],
   "source": [
    "# создадим функцию для расчета z-test\n",
    "def z_test(i):\n",
    "    z_test = ztest(i.query('group == \"A\"')['event_with_u'], \n",
    "                   i.query('group == \"B\"')['event_with_u'], value=0)[1]\n",
    "    print(\"p-value:\", z_test)\n",
    "    if (z_test < alpha):\n",
    "        print('Отвергаем нулевую гипотезу')  \n",
    "    else:\n",
    "        print('Не получилось отвергнуть нулевую гипотезу')\n",
    "        "
   ]
  },
  {
   "cell_type": "code",
   "execution_count": null,
   "id": "38fbfa44",
   "metadata": {},
   "outputs": [],
   "source": [
    "z_test(prod_page2)"
   ]
  },
  {
   "cell_type": "code",
   "execution_count": null,
   "id": "0f41bdbc",
   "metadata": {},
   "outputs": [],
   "source": [
    "z_test(prod_cart2)"
   ]
  },
  {
   "cell_type": "code",
   "execution_count": null,
   "id": "6b785a9e",
   "metadata": {},
   "outputs": [],
   "source": [
    "z_test(purchase_page2)"
   ]
  },
  {
   "cell_type": "markdown",
   "id": "494803a2",
   "metadata": {},
   "source": [
    "Ожидаемо получилось, что только у данных групп по стадии просмотра страницы товара p-value оказался меньше, чем альфа. Следовательно, для долей этой метрики - есть значимая разница. Для двух остальных метрик p-value меньше альфы и, следовательно, между долями нет значимой разницы."
   ]
  },
  {
   "cell_type": "markdown",
   "id": "24aaaa4f",
   "metadata": {},
   "source": [
    "## Выводы"
   ]
  },
  {
   "cell_type": "markdown",
   "id": "5fcd35d3",
   "metadata": {},
   "source": [
    "После проведения оценки результатов A/B-теста можно сказать следующее:\n",
    "- на этапе предобработки данных: привели столбцы с датой к нужному типу datetime; дубликаты в данных не были выявлены;\n",
    "- выяснили, что всего уникальных участников теста:  16666;\n",
    "- в задании у нас ожидаемое количество участников теста: 6000, но после обработки данных получилось немного больше(6701), но это некритично. А вот уже после дальнейшего анализа выяснилось, что группа А существенно больше (а: 2747; b: 928);\n",
    "- выяснили, что во время проведения теста шла акция - Christmas&New Year Promo, которая могла оказать существенное влияние, потому что она затрагивает период проведения теста;\n",
    "- построив график \"Распределение числа событий в выборках по дням\", выяснили, что: Пик событий 21 декабря и в основном это у группы А; Группа В превосходит группу А только 7 и 9 декабря, а в оставшиеся дни группа А уверенно опережала группу В по кол-ву событий; Начиная c 14 декабря можно наблюдать резкий рост кол-ва событий у группы А;\n",
    "- сделав воронкa конверсий в выборках на разных этапах, выяснили: Наибольшая просадка коверсии между login и product_page уровнями - (-35% у группы А и -44% у группы В); До покупки доходят 30% пользователей группы А и 28% пользователей группы В; Наименьшая разница в конверсии между product_cart и purchase - (разница в 2% у группы А, у группы В разница и вовсе отсутствует), это свидетельствует о том, что пользователи предпочитают после добавления товара в корзину практически всегда его покупать;\n",
    "- изучив 2 недели лайфтайма пользователей данных выборок выяснили, что у группы А наблюдается больший рост, чем у группы В: Просмотр страницы товара с момента регистрации пользователя: А - рост на 13%; B - рост на 20%; Добавление товара в корзину: А - на 16%; B - на 27%; Покупка товара: А - на 8%; B - на 12%;\n",
    "- провели тест \"поправку Бонферрони\" и установили, что: только у данных групп по стадии просмотра страницы товара p-value оказался меньше, чем альфа. Следовательно, для долей этой метрики - есть значимая разница. Для двух остальных метрик p-value меньше альфы и, следовательно, между долями нет значимой разницы."
   ]
  },
  {
   "cell_type": "markdown",
   "id": "f35036d8",
   "metadata": {},
   "source": [
    "**По итогу можно заключить, что нельзя доверять данным этого теста. Множество фактов, которые мы привели в исследовании об этом говорит.** "
   ]
  },
  {
   "cell_type": "markdown",
   "id": "75282a31",
   "metadata": {},
   "source": [
    "Я считаю, что тест засчитывать ни в коем случае нельзя и нужно проводить заново. Следует постараться сделать:\n",
    "- группы максимально равными по кол-ву участников в них;\n",
    "- выбрать такие дни проведения теста, чтобы во время них не было акций, которые могли бы исказить результаты;\n",
    "- чтобы пользователи не участвовали в обоих тестах одновременно;\n",
    "- соблюдать остальные правила корректного проведения теста."
   ]
  },
  {
   "cell_type": "code",
   "execution_count": null,
   "id": "31f525df",
   "metadata": {},
   "outputs": [],
   "source": []
  }
 ],
 "metadata": {
  "ExecuteTimeLog": [
   {
    "duration": 8066,
    "start_time": "2023-05-05T21:00:29.814Z"
   },
   {
    "duration": 885,
    "start_time": "2023-05-05T21:00:37.882Z"
   },
   {
    "duration": 504,
    "start_time": "2023-05-05T21:00:38.769Z"
   },
   {
    "duration": 3,
    "start_time": "2023-05-05T21:00:39.275Z"
   },
   {
    "duration": 826,
    "start_time": "2023-05-05T21:00:39.279Z"
   },
   {
    "duration": 76,
    "start_time": "2023-05-05T21:00:40.106Z"
   },
   {
    "duration": 215,
    "start_time": "2023-05-05T21:00:40.183Z"
   },
   {
    "duration": 37,
    "start_time": "2023-05-05T21:00:40.400Z"
   },
   {
    "duration": 164,
    "start_time": "2023-05-05T21:00:40.438Z"
   },
   {
    "duration": 7,
    "start_time": "2023-05-05T21:00:40.605Z"
   },
   {
    "duration": 28,
    "start_time": "2023-05-05T21:00:40.614Z"
   },
   {
    "duration": 8,
    "start_time": "2023-05-05T21:00:40.643Z"
   },
   {
    "duration": 9,
    "start_time": "2023-05-05T21:00:40.652Z"
   },
   {
    "duration": 9,
    "start_time": "2023-05-05T21:00:40.663Z"
   },
   {
    "duration": 6,
    "start_time": "2023-05-05T21:00:40.674Z"
   },
   {
    "duration": 6,
    "start_time": "2023-05-05T21:00:40.682Z"
   },
   {
    "duration": 10,
    "start_time": "2023-05-05T21:00:40.690Z"
   },
   {
    "duration": 15,
    "start_time": "2023-05-05T21:00:40.701Z"
   },
   {
    "duration": 20,
    "start_time": "2023-05-05T21:00:40.718Z"
   },
   {
    "duration": 4,
    "start_time": "2023-05-05T21:00:40.739Z"
   },
   {
    "duration": 31,
    "start_time": "2023-05-05T21:00:40.745Z"
   },
   {
    "duration": 10,
    "start_time": "2023-05-05T21:00:40.777Z"
   },
   {
    "duration": 20,
    "start_time": "2023-05-05T21:00:40.789Z"
   },
   {
    "duration": 28,
    "start_time": "2023-05-05T21:00:40.810Z"
   },
   {
    "duration": 10,
    "start_time": "2023-05-05T21:00:40.839Z"
   },
   {
    "duration": 44,
    "start_time": "2023-05-05T21:00:40.851Z"
   },
   {
    "duration": 17,
    "start_time": "2023-05-05T21:00:40.897Z"
   },
   {
    "duration": 15,
    "start_time": "2023-05-05T21:00:40.919Z"
   },
   {
    "duration": 12,
    "start_time": "2023-05-05T21:00:40.936Z"
   },
   {
    "duration": 37,
    "start_time": "2023-05-05T21:00:40.950Z"
   },
   {
    "duration": 147,
    "start_time": "2023-05-05T21:00:40.989Z"
   },
   {
    "duration": 4,
    "start_time": "2023-05-05T21:00:41.137Z"
   },
   {
    "duration": 27,
    "start_time": "2023-05-05T21:00:41.143Z"
   },
   {
    "duration": 12,
    "start_time": "2023-05-05T21:00:41.171Z"
   },
   {
    "duration": 11,
    "start_time": "2023-05-05T21:00:41.184Z"
   },
   {
    "duration": 36,
    "start_time": "2023-05-05T21:00:41.197Z"
   },
   {
    "duration": 45,
    "start_time": "2023-05-05T21:00:41.234Z"
   },
   {
    "duration": 11,
    "start_time": "2023-05-05T21:00:41.281Z"
   },
   {
    "duration": 12,
    "start_time": "2023-05-05T21:00:41.294Z"
   },
   {
    "duration": 5,
    "start_time": "2023-05-05T21:00:41.308Z"
   },
   {
    "duration": 14,
    "start_time": "2023-05-05T21:00:41.314Z"
   },
   {
    "duration": 891,
    "start_time": "2023-05-05T21:00:41.329Z"
   },
   {
    "duration": 11,
    "start_time": "2023-05-05T21:00:42.222Z"
   },
   {
    "duration": 39,
    "start_time": "2023-05-05T21:00:42.234Z"
   },
   {
    "duration": 14,
    "start_time": "2023-05-05T21:00:42.275Z"
   },
   {
    "duration": 18,
    "start_time": "2023-05-05T21:00:42.291Z"
   },
   {
    "duration": 6,
    "start_time": "2023-05-05T21:00:42.311Z"
   },
   {
    "duration": 65,
    "start_time": "2023-05-05T21:00:42.319Z"
   },
   {
    "duration": 92,
    "start_time": "2023-05-05T21:00:42.386Z"
   },
   {
    "duration": 17,
    "start_time": "2023-05-05T21:00:42.479Z"
   },
   {
    "duration": 13,
    "start_time": "2023-05-05T21:00:42.497Z"
   },
   {
    "duration": 13,
    "start_time": "2023-05-05T21:00:42.511Z"
   },
   {
    "duration": 10,
    "start_time": "2023-05-05T21:00:42.525Z"
   },
   {
    "duration": 47,
    "start_time": "2023-05-05T21:00:42.537Z"
   },
   {
    "duration": 28,
    "start_time": "2023-05-05T21:00:42.586Z"
   },
   {
    "duration": 8,
    "start_time": "2023-05-05T21:00:42.616Z"
   },
   {
    "duration": 11,
    "start_time": "2023-05-05T21:00:42.625Z"
   },
   {
    "duration": 24,
    "start_time": "2023-05-05T21:00:42.638Z"
   },
   {
    "duration": 16,
    "start_time": "2023-05-05T21:00:42.664Z"
   },
   {
    "duration": 13,
    "start_time": "2023-05-05T21:00:42.682Z"
   },
   {
    "duration": 16,
    "start_time": "2023-05-05T21:00:42.696Z"
   },
   {
    "duration": 23,
    "start_time": "2023-05-05T21:00:42.714Z"
   },
   {
    "duration": 9,
    "start_time": "2023-05-05T21:00:42.738Z"
   },
   {
    "duration": 5,
    "start_time": "2023-05-05T21:00:42.749Z"
   },
   {
    "duration": 18,
    "start_time": "2023-05-05T21:00:42.755Z"
   },
   {
    "duration": 12,
    "start_time": "2023-05-05T21:00:42.775Z"
   },
   {
    "duration": 19,
    "start_time": "2023-05-05T21:00:42.788Z"
   },
   {
    "duration": 14,
    "start_time": "2023-05-05T21:00:42.809Z"
   },
   {
    "duration": 31,
    "start_time": "2023-05-05T21:00:42.825Z"
   },
   {
    "duration": 3,
    "start_time": "2023-05-05T21:00:42.858Z"
   },
   {
    "duration": 17,
    "start_time": "2023-05-05T21:00:42.863Z"
   },
   {
    "duration": 18,
    "start_time": "2023-05-05T21:00:42.881Z"
   },
   {
    "duration": 14,
    "start_time": "2023-05-05T21:00:42.900Z"
   },
   {
    "duration": 19,
    "start_time": "2023-05-05T21:03:50.083Z"
   },
   {
    "duration": 12164,
    "start_time": "2023-05-06T08:54:49.311Z"
   },
   {
    "duration": 1027,
    "start_time": "2023-05-06T08:55:01.477Z"
   },
   {
    "duration": 2268,
    "start_time": "2023-05-06T08:55:02.509Z"
   },
   {
    "duration": 567,
    "start_time": "2023-05-06T08:55:04.779Z"
   },
   {
    "duration": 1715,
    "start_time": "2023-05-06T08:55:05.349Z"
   },
   {
    "duration": 110,
    "start_time": "2023-05-06T08:55:07.065Z"
   },
   {
    "duration": 301,
    "start_time": "2023-05-06T08:55:07.176Z"
   },
   {
    "duration": 61,
    "start_time": "2023-05-06T08:55:07.478Z"
   },
   {
    "duration": 148,
    "start_time": "2023-05-06T08:55:07.542Z"
   },
   {
    "duration": 21,
    "start_time": "2023-05-06T08:55:07.692Z"
   },
   {
    "duration": 20,
    "start_time": "2023-05-06T08:55:07.719Z"
   },
   {
    "duration": 36,
    "start_time": "2023-05-06T08:55:07.741Z"
   },
   {
    "duration": 47,
    "start_time": "2023-05-06T08:55:07.779Z"
   },
   {
    "duration": 17,
    "start_time": "2023-05-06T08:55:07.830Z"
   },
   {
    "duration": 17,
    "start_time": "2023-05-06T08:55:07.849Z"
   },
   {
    "duration": 15,
    "start_time": "2023-05-06T08:55:07.867Z"
   },
   {
    "duration": 47,
    "start_time": "2023-05-06T08:55:07.888Z"
   },
   {
    "duration": 15,
    "start_time": "2023-05-06T08:55:07.937Z"
   },
   {
    "duration": 45,
    "start_time": "2023-05-06T08:55:07.954Z"
   },
   {
    "duration": 6,
    "start_time": "2023-05-06T08:55:08.000Z"
   },
   {
    "duration": 28,
    "start_time": "2023-05-06T08:55:08.009Z"
   },
   {
    "duration": 25,
    "start_time": "2023-05-06T08:55:08.038Z"
   },
   {
    "duration": 24,
    "start_time": "2023-05-06T08:55:08.065Z"
   },
   {
    "duration": 50,
    "start_time": "2023-05-06T08:55:08.094Z"
   },
   {
    "duration": 26,
    "start_time": "2023-05-06T08:55:08.146Z"
   },
   {
    "duration": 46,
    "start_time": "2023-05-06T08:55:08.174Z"
   },
   {
    "duration": 15,
    "start_time": "2023-05-06T08:55:08.221Z"
   },
   {
    "duration": 30,
    "start_time": "2023-05-06T08:55:08.237Z"
   },
   {
    "duration": 13,
    "start_time": "2023-05-06T08:55:08.268Z"
   },
   {
    "duration": 57,
    "start_time": "2023-05-06T08:55:08.283Z"
   },
   {
    "duration": 177,
    "start_time": "2023-05-06T08:55:08.341Z"
   },
   {
    "duration": 2,
    "start_time": "2023-05-06T08:55:08.520Z"
   },
   {
    "duration": 43,
    "start_time": "2023-05-06T08:55:08.524Z"
   },
   {
    "duration": 18,
    "start_time": "2023-05-06T08:55:08.569Z"
   },
   {
    "duration": 38,
    "start_time": "2023-05-06T08:55:08.590Z"
   },
   {
    "duration": 34,
    "start_time": "2023-05-06T08:55:08.630Z"
   },
   {
    "duration": 55,
    "start_time": "2023-05-06T08:55:08.667Z"
   },
   {
    "duration": 16,
    "start_time": "2023-05-06T08:55:08.724Z"
   },
   {
    "duration": 21,
    "start_time": "2023-05-06T08:55:08.742Z"
   },
   {
    "duration": 36,
    "start_time": "2023-05-06T08:55:08.765Z"
   },
   {
    "duration": 39,
    "start_time": "2023-05-06T08:55:08.809Z"
   },
   {
    "duration": 580,
    "start_time": "2023-05-06T08:55:08.850Z"
   },
   {
    "duration": 70,
    "start_time": "2023-05-06T08:55:09.432Z"
   },
   {
    "duration": 30,
    "start_time": "2023-05-06T08:55:09.507Z"
   },
   {
    "duration": 66,
    "start_time": "2023-05-06T08:55:09.540Z"
   },
   {
    "duration": 58,
    "start_time": "2023-05-06T08:55:09.608Z"
   },
   {
    "duration": 51,
    "start_time": "2023-05-06T08:55:09.667Z"
   },
   {
    "duration": 41,
    "start_time": "2023-05-06T08:55:09.720Z"
   },
   {
    "duration": 96,
    "start_time": "2023-05-06T08:55:09.767Z"
   },
   {
    "duration": 47,
    "start_time": "2023-05-06T08:55:09.866Z"
   },
   {
    "duration": 21,
    "start_time": "2023-05-06T08:55:09.917Z"
   },
   {
    "duration": 14,
    "start_time": "2023-05-06T08:55:09.941Z"
   },
   {
    "duration": 21,
    "start_time": "2023-05-06T08:55:09.957Z"
   },
   {
    "duration": 61,
    "start_time": "2023-05-06T08:55:09.980Z"
   },
   {
    "duration": 84,
    "start_time": "2023-05-06T08:55:10.043Z"
   },
   {
    "duration": 12,
    "start_time": "2023-05-06T08:55:10.129Z"
   },
   {
    "duration": 27,
    "start_time": "2023-05-06T08:55:10.143Z"
   },
   {
    "duration": 59,
    "start_time": "2023-05-06T08:55:10.173Z"
   },
   {
    "duration": 31,
    "start_time": "2023-05-06T08:55:10.233Z"
   },
   {
    "duration": 66,
    "start_time": "2023-05-06T08:55:10.266Z"
   },
   {
    "duration": 34,
    "start_time": "2023-05-06T08:55:10.333Z"
   },
   {
    "duration": 56,
    "start_time": "2023-05-06T08:55:10.368Z"
   },
   {
    "duration": 28,
    "start_time": "2023-05-06T08:55:10.425Z"
   },
   {
    "duration": 27,
    "start_time": "2023-05-06T08:55:10.454Z"
   },
   {
    "duration": 60,
    "start_time": "2023-05-06T08:55:10.483Z"
   },
   {
    "duration": 16,
    "start_time": "2023-05-06T08:55:10.545Z"
   },
   {
    "duration": 34,
    "start_time": "2023-05-06T08:55:10.564Z"
   },
   {
    "duration": 42,
    "start_time": "2023-05-06T08:55:10.600Z"
   },
   {
    "duration": 39,
    "start_time": "2023-05-06T08:55:10.645Z"
   },
   {
    "duration": 42,
    "start_time": "2023-05-06T08:55:10.690Z"
   },
   {
    "duration": 34,
    "start_time": "2023-05-06T08:55:10.734Z"
   },
   {
    "duration": 54,
    "start_time": "2023-05-06T08:55:10.769Z"
   },
   {
    "duration": 24,
    "start_time": "2023-05-06T08:55:10.824Z"
   },
   {
    "duration": 6,
    "start_time": "2023-05-06T09:02:58.967Z"
   },
   {
    "duration": 10,
    "start_time": "2023-05-06T09:03:13.328Z"
   },
   {
    "duration": 9,
    "start_time": "2023-05-06T09:10:45.522Z"
   },
   {
    "duration": 16,
    "start_time": "2023-05-06T09:12:01.184Z"
   },
   {
    "duration": 17,
    "start_time": "2023-05-06T09:12:48.682Z"
   },
   {
    "duration": 15,
    "start_time": "2023-05-06T09:13:22.725Z"
   },
   {
    "duration": 43,
    "start_time": "2023-05-06T09:14:46.499Z"
   },
   {
    "duration": 127,
    "start_time": "2023-05-06T09:15:32.375Z"
   },
   {
    "duration": 8,
    "start_time": "2023-05-06T09:15:37.788Z"
   },
   {
    "duration": 4,
    "start_time": "2023-05-06T09:15:43.835Z"
   },
   {
    "duration": 12,
    "start_time": "2023-05-06T09:17:35.417Z"
   },
   {
    "duration": 64,
    "start_time": "2023-05-06T09:18:34.381Z"
   },
   {
    "duration": 8,
    "start_time": "2023-05-06T09:19:27.509Z"
   },
   {
    "duration": 4,
    "start_time": "2023-05-06T09:20:33.335Z"
   },
   {
    "duration": 4,
    "start_time": "2023-05-06T09:21:38.376Z"
   },
   {
    "duration": 16,
    "start_time": "2023-05-06T09:26:51.986Z"
   },
   {
    "duration": 4,
    "start_time": "2023-05-06T09:27:01.484Z"
   },
   {
    "duration": 5,
    "start_time": "2023-05-06T09:27:13.240Z"
   },
   {
    "duration": 22,
    "start_time": "2023-05-06T10:00:57.307Z"
   },
   {
    "duration": 20,
    "start_time": "2023-05-06T10:01:40.810Z"
   },
   {
    "duration": 74,
    "start_time": "2023-05-06T10:04:04.812Z"
   },
   {
    "duration": 7986,
    "start_time": "2023-05-07T00:30:30.712Z"
   },
   {
    "duration": 860,
    "start_time": "2023-05-07T00:30:38.700Z"
   },
   {
    "duration": 557,
    "start_time": "2023-05-07T00:30:39.562Z"
   },
   {
    "duration": 3,
    "start_time": "2023-05-07T00:30:40.121Z"
   },
   {
    "duration": 1021,
    "start_time": "2023-05-07T00:30:40.126Z"
   },
   {
    "duration": 73,
    "start_time": "2023-05-07T00:30:41.148Z"
   },
   {
    "duration": 244,
    "start_time": "2023-05-07T00:30:41.222Z"
   },
   {
    "duration": 31,
    "start_time": "2023-05-07T00:30:41.467Z"
   },
   {
    "duration": 7,
    "start_time": "2023-05-07T00:30:41.499Z"
   },
   {
    "duration": 110,
    "start_time": "2023-05-07T00:30:41.538Z"
   },
   {
    "duration": 6,
    "start_time": "2023-05-07T00:30:41.650Z"
   },
   {
    "duration": 17,
    "start_time": "2023-05-07T00:30:41.657Z"
   },
   {
    "duration": 17,
    "start_time": "2023-05-07T00:30:41.676Z"
   },
   {
    "duration": 18,
    "start_time": "2023-05-07T00:30:41.695Z"
   },
   {
    "duration": 15,
    "start_time": "2023-05-07T00:30:41.714Z"
   },
   {
    "duration": 27,
    "start_time": "2023-05-07T00:30:41.731Z"
   },
   {
    "duration": 15,
    "start_time": "2023-05-07T00:30:41.759Z"
   },
   {
    "duration": 27,
    "start_time": "2023-05-07T00:30:41.776Z"
   },
   {
    "duration": 34,
    "start_time": "2023-05-07T00:30:41.804Z"
   },
   {
    "duration": 43,
    "start_time": "2023-05-07T00:30:41.839Z"
   },
   {
    "duration": 3,
    "start_time": "2023-05-07T00:30:41.884Z"
   },
   {
    "duration": 28,
    "start_time": "2023-05-07T00:30:41.889Z"
   },
   {
    "duration": 42,
    "start_time": "2023-05-07T00:30:41.918Z"
   },
   {
    "duration": 21,
    "start_time": "2023-05-07T00:30:41.961Z"
   },
   {
    "duration": 11,
    "start_time": "2023-05-07T00:30:41.984Z"
   },
   {
    "duration": 92,
    "start_time": "2023-05-07T00:30:41.996Z"
   },
   {
    "duration": 0,
    "start_time": "2023-05-07T00:30:42.091Z"
   },
   {
    "duration": 0,
    "start_time": "2023-05-07T00:30:42.093Z"
   },
   {
    "duration": 0,
    "start_time": "2023-05-07T00:30:42.094Z"
   },
   {
    "duration": 0,
    "start_time": "2023-05-07T00:30:42.096Z"
   },
   {
    "duration": 0,
    "start_time": "2023-05-07T00:30:42.097Z"
   },
   {
    "duration": 0,
    "start_time": "2023-05-07T00:30:42.098Z"
   },
   {
    "duration": 0,
    "start_time": "2023-05-07T00:30:42.100Z"
   },
   {
    "duration": 0,
    "start_time": "2023-05-07T00:30:42.101Z"
   },
   {
    "duration": 0,
    "start_time": "2023-05-07T00:30:42.103Z"
   },
   {
    "duration": 0,
    "start_time": "2023-05-07T00:30:42.104Z"
   },
   {
    "duration": 0,
    "start_time": "2023-05-07T00:30:42.105Z"
   },
   {
    "duration": 1,
    "start_time": "2023-05-07T00:30:42.106Z"
   },
   {
    "duration": 0,
    "start_time": "2023-05-07T00:30:42.108Z"
   },
   {
    "duration": 0,
    "start_time": "2023-05-07T00:30:42.109Z"
   },
   {
    "duration": 0,
    "start_time": "2023-05-07T00:30:42.134Z"
   },
   {
    "duration": 0,
    "start_time": "2023-05-07T00:30:42.135Z"
   },
   {
    "duration": 0,
    "start_time": "2023-05-07T00:30:42.136Z"
   },
   {
    "duration": 0,
    "start_time": "2023-05-07T00:30:42.136Z"
   },
   {
    "duration": 0,
    "start_time": "2023-05-07T00:30:42.137Z"
   },
   {
    "duration": 0,
    "start_time": "2023-05-07T00:30:42.138Z"
   },
   {
    "duration": 0,
    "start_time": "2023-05-07T00:30:42.144Z"
   },
   {
    "duration": 0,
    "start_time": "2023-05-07T00:30:42.145Z"
   },
   {
    "duration": 0,
    "start_time": "2023-05-07T00:30:42.146Z"
   },
   {
    "duration": 0,
    "start_time": "2023-05-07T00:30:42.147Z"
   },
   {
    "duration": 0,
    "start_time": "2023-05-07T00:30:42.148Z"
   },
   {
    "duration": 0,
    "start_time": "2023-05-07T00:30:42.149Z"
   },
   {
    "duration": 0,
    "start_time": "2023-05-07T00:30:42.149Z"
   },
   {
    "duration": 0,
    "start_time": "2023-05-07T00:30:42.151Z"
   },
   {
    "duration": 0,
    "start_time": "2023-05-07T00:30:42.152Z"
   },
   {
    "duration": 0,
    "start_time": "2023-05-07T00:30:42.153Z"
   },
   {
    "duration": 0,
    "start_time": "2023-05-07T00:30:42.154Z"
   },
   {
    "duration": 0,
    "start_time": "2023-05-07T00:30:42.155Z"
   },
   {
    "duration": 0,
    "start_time": "2023-05-07T00:30:42.156Z"
   },
   {
    "duration": 0,
    "start_time": "2023-05-07T00:30:42.157Z"
   },
   {
    "duration": 0,
    "start_time": "2023-05-07T00:30:42.158Z"
   },
   {
    "duration": 0,
    "start_time": "2023-05-07T00:30:42.159Z"
   },
   {
    "duration": 0,
    "start_time": "2023-05-07T00:30:42.160Z"
   },
   {
    "duration": 0,
    "start_time": "2023-05-07T00:30:42.161Z"
   },
   {
    "duration": 0,
    "start_time": "2023-05-07T00:30:42.162Z"
   },
   {
    "duration": 0,
    "start_time": "2023-05-07T00:30:42.163Z"
   },
   {
    "duration": 0,
    "start_time": "2023-05-07T00:30:42.163Z"
   },
   {
    "duration": 0,
    "start_time": "2023-05-07T00:30:42.164Z"
   },
   {
    "duration": 0,
    "start_time": "2023-05-07T00:30:42.166Z"
   },
   {
    "duration": 0,
    "start_time": "2023-05-07T00:30:42.167Z"
   },
   {
    "duration": 0,
    "start_time": "2023-05-07T00:30:42.168Z"
   },
   {
    "duration": 0,
    "start_time": "2023-05-07T00:30:42.169Z"
   },
   {
    "duration": 0,
    "start_time": "2023-05-07T00:30:42.170Z"
   },
   {
    "duration": 0,
    "start_time": "2023-05-07T00:30:42.171Z"
   },
   {
    "duration": 0,
    "start_time": "2023-05-07T00:30:42.171Z"
   },
   {
    "duration": 0,
    "start_time": "2023-05-07T00:30:42.172Z"
   },
   {
    "duration": 0,
    "start_time": "2023-05-07T00:30:42.173Z"
   },
   {
    "duration": 0,
    "start_time": "2023-05-07T00:30:42.174Z"
   },
   {
    "duration": 0,
    "start_time": "2023-05-07T00:30:42.175Z"
   }
  ],
  "kernelspec": {
   "display_name": "Python 3 (ipykernel)",
   "language": "python",
   "name": "python3"
  },
  "language_info": {
   "codemirror_mode": {
    "name": "ipython",
    "version": 3
   },
   "file_extension": ".py",
   "mimetype": "text/x-python",
   "name": "python",
   "nbconvert_exporter": "python",
   "pygments_lexer": "ipython3",
   "version": "3.11.3"
  },
  "toc": {
   "base_numbering": 1,
   "nav_menu": {},
   "number_sections": true,
   "sideBar": true,
   "skip_h1_title": true,
   "title_cell": "Table of Contents",
   "title_sidebar": "Contents",
   "toc_cell": false,
   "toc_position": {},
   "toc_section_display": true,
   "toc_window_display": true
  }
 },
 "nbformat": 4,
 "nbformat_minor": 5
}
